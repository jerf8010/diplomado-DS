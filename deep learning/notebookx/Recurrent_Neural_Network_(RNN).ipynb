{
  "nbformat": 4,
  "nbformat_minor": 0,
  "metadata": {
    "colab": {
      "name": "Recurrent Neural Network (RNN).ipynb",
      "provenance": []
    },
    "kernelspec": {
      "name": "python3",
      "display_name": "Python 3"
    },
    "language_info": {
      "name": "python"
    },
    "accelerator": "GPU"
  },
  "cells": [
    {
      "cell_type": "code",
      "execution_count": 2,
      "metadata": {
        "id": "36cAs8l8cRTD"
      },
      "outputs": [],
      "source": [
        "# importación de librerias y dependencias\n",
        "import tensorflow as tf\n",
        "from tensorflow.keras.models import Sequential\n",
        "from tensorflow.keras.layers import Dense, Dropout, LSTM\n",
        "from tensorflow.compat.v1.keras.layers import CuDNNLSTM"
      ]
    },
    {
      "cell_type": "code",
      "source": [
        "# Carga de datos\n",
        "mnist = tf.keras.datasets.mnist\n",
        "(X_train, y_train), (X_test, y_test) = mnist.load_data()"
      ],
      "metadata": {
        "colab": {
          "base_uri": "https://localhost:8080/"
        },
        "id": "VEzFRxQvcXsh",
        "outputId": "a825f148-b24b-4973-db35-d8db154233a8"
      },
      "execution_count": 3,
      "outputs": [
        {
          "output_type": "stream",
          "name": "stdout",
          "text": [
            "Downloading data from https://storage.googleapis.com/tensorflow/tf-keras-datasets/mnist.npz\n",
            "11493376/11490434 [==============================] - 0s 0us/step\n",
            "11501568/11490434 [==============================] - 0s 0us/step\n"
          ]
        }
      ]
    },
    {
      "cell_type": "code",
      "source": [
        "print(X_train.shape)\n",
        "print(X_train[0].shape)\n",
        "# Se tienen 60000 imagenes de entrenamiento de tamaño 28x28"
      ],
      "metadata": {
        "colab": {
          "base_uri": "https://localhost:8080/"
        },
        "id": "5GcPOEnqcXvy",
        "outputId": "8961bca9-7c02-4fa3-aabc-ee0ec9d12205"
      },
      "execution_count": 4,
      "outputs": [
        {
          "output_type": "stream",
          "name": "stdout",
          "text": [
            "(60000, 28, 28)\n",
            "(28, 28)\n"
          ]
        }
      ]
    },
    {
      "cell_type": "code",
      "source": [
        "X_train = X_train / 255.\n",
        "X_test = X_test / 255."
      ],
      "metadata": {
        "id": "jS2MKr6Kgl2H"
      },
      "execution_count": 5,
      "outputs": []
    },
    {
      "cell_type": "code",
      "source": [
        "model = Sequential() # Iniciamos el modelo\n",
        "\n",
        "model.add(CuDNNLSTM(128, input_shape = (X_train.shape[1:]),  return_sequences = True)) # La primera capa es LSTM\n",
        "model.add(Dropout(0.2)) # Desactivamos el 20% de las neuronas\n",
        "\n",
        "model.add(CuDNNLSTM(182)) # Capa LSTM\n",
        "model.add(Dropout(0.2)) # Desactivamos el 20% de las neuronas\n",
        "\n",
        "model.add(Dense(32, activation = 'relu')) # Capa densa\n",
        "model.add(Dropout(0.2)) #Desactivamos el 20% de las neuronas\n",
        "\n",
        "model.add(Dense(10, activation = 'softmax')) # Capa de salida con función softmax"
      ],
      "metadata": {
        "id": "R9kJdjyJcXyw"
      },
      "execution_count": 6,
      "outputs": []
    },
    {
      "cell_type": "code",
      "source": [
        "opt = tf.keras.optimizers.Adam(lr = 1e-3, decay = 1e-5) # Definimos el optimizador a usar\n",
        "model.compile(loss = 'sparse_categorical_crossentropy',\n",
        "              optimizer = opt,\n",
        "              metrics = ['accuracy']) #Compilamos el modelo"
      ],
      "metadata": {
        "colab": {
          "base_uri": "https://localhost:8080/"
        },
        "id": "jcO2m_jpcX1r",
        "outputId": "0618050f-a6f1-4185-94ca-c3e192b12602"
      },
      "execution_count": 7,
      "outputs": [
        {
          "output_type": "stream",
          "name": "stderr",
          "text": [
            "/usr/local/lib/python3.7/dist-packages/keras/optimizer_v2/adam.py:105: UserWarning: The `lr` argument is deprecated, use `learning_rate` instead.\n",
            "  super(Adam, self).__init__(name, **kwargs)\n"
          ]
        }
      ]
    },
    {
      "cell_type": "code",
      "source": [
        "# Entrenamiento del modelo\n",
        "model.fit(X_train, y_train, epochs = 3, validation_data = (X_test, y_test))"
      ],
      "metadata": {
        "colab": {
          "base_uri": "https://localhost:8080/"
        },
        "id": "X0FKXZKzcX4m",
        "outputId": "1d72a29b-46b7-4dcb-d697-3b6c7c76a3f2"
      },
      "execution_count": 8,
      "outputs": [
        {
          "output_type": "stream",
          "name": "stdout",
          "text": [
            "Epoch 1/3\n",
            "1875/1875 [==============================] - 54s 26ms/step - loss: 0.3862 - accuracy: 0.8813 - val_loss: 0.1139 - val_accuracy: 0.9654\n",
            "Epoch 2/3\n",
            "1875/1875 [==============================] - 48s 26ms/step - loss: 0.1204 - accuracy: 0.9671 - val_loss: 0.0728 - val_accuracy: 0.9788\n",
            "Epoch 3/3\n",
            "1875/1875 [==============================] - 48s 25ms/step - loss: 0.0785 - accuracy: 0.9796 - val_loss: 0.0619 - val_accuracy: 0.9816\n"
          ]
        },
        {
          "output_type": "execute_result",
          "data": {
            "text/plain": [
              "<keras.callbacks.History at 0x7f86104ad710>"
            ]
          },
          "metadata": {},
          "execution_count": 8
        }
      ]
    }
  ]
}