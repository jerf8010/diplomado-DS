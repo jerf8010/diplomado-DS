{
  "nbformat": 4,
  "nbformat_minor": 0,
  "metadata": {
    "colab": {
      "name": "Tensores.ipynb",
      "provenance": []
    },
    "kernelspec": {
      "name": "python3",
      "display_name": "Python 3"
    },
    "language_info": {
      "name": "python"
    }
  },
  "cells": [
    {
      "cell_type": "code",
      "execution_count": 1,
      "metadata": {
        "id": "wMjlzQwWwPJr"
      },
      "outputs": [],
      "source": [
        "import numpy as np\n"
      ]
    },
    {
      "cell_type": "markdown",
      "source": [
        "Escalar (tensor 0D)"
      ],
      "metadata": {
        "id": "virSdkPR05Sf"
      }
    },
    {
      "cell_type": "code",
      "source": [
        "x=np.array(23) #Vector con un elemento \n",
        "x"
      ],
      "metadata": {
        "colab": {
          "base_uri": "https://localhost:8080/"
        },
        "id": "XJNqepSQxF3o",
        "outputId": "875ff65c-474c-4302-ad53-fd25e76823f7"
      },
      "execution_count": 2,
      "outputs": [
        {
          "output_type": "execute_result",
          "data": {
            "text/plain": [
              "array(23)"
            ]
          },
          "metadata": {},
          "execution_count": 2
        }
      ]
    },
    {
      "cell_type": "code",
      "source": [
        "x.ndim"
      ],
      "metadata": {
        "colab": {
          "base_uri": "https://localhost:8080/"
        },
        "id": "iTDDjV9my-Sk",
        "outputId": "cb10d9ec-3449-486f-a7d5-65f7e0098186"
      },
      "execution_count": 3,
      "outputs": [
        {
          "output_type": "execute_result",
          "data": {
            "text/plain": [
              "0"
            ]
          },
          "metadata": {},
          "execution_count": 3
        }
      ]
    },
    {
      "cell_type": "markdown",
      "source": [
        "Vector (tensor 1D)"
      ],
      "metadata": {
        "id": "7hh-ByQzxY5r"
      }
    },
    {
      "cell_type": "code",
      "source": [
        "x=np.array([12,24,36,48]) #Vector con varios elementos\n",
        "x\n"
      ],
      "metadata": {
        "colab": {
          "base_uri": "https://localhost:8080/"
        },
        "id": "hpyhB27wxsbl",
        "outputId": "47c59e8a-9d9e-4bf7-8b69-d30e8ed394a8"
      },
      "execution_count": 4,
      "outputs": [
        {
          "output_type": "execute_result",
          "data": {
            "text/plain": [
              "array([12, 24, 36, 48])"
            ]
          },
          "metadata": {},
          "execution_count": 4
        }
      ]
    },
    {
      "cell_type": "code",
      "source": [
        "x.ndim"
      ],
      "metadata": {
        "colab": {
          "base_uri": "https://localhost:8080/"
        },
        "id": "7z_KzZayyyvi",
        "outputId": "b1b708ee-57f0-4630-9e45-22909c9e8247"
      },
      "execution_count": 5,
      "outputs": [
        {
          "output_type": "execute_result",
          "data": {
            "text/plain": [
              "1"
            ]
          },
          "metadata": {},
          "execution_count": 5
        }
      ]
    },
    {
      "cell_type": "markdown",
      "source": [
        "Matriz (tensor 2D)"
      ],
      "metadata": {
        "id": "A6M31c7R2YiH"
      }
    },
    {
      "cell_type": "code",
      "source": [
        "z = np.array([[5,78,24,1], [1,2,3,4], [4,6,7,8]])\n",
        "z\n"
      ],
      "metadata": {
        "colab": {
          "base_uri": "https://localhost:8080/"
        },
        "id": "8QFHTqx02fg2",
        "outputId": "f24e1d42-1c31-4db5-8124-b37b2039fc8a"
      },
      "execution_count": 6,
      "outputs": [
        {
          "output_type": "execute_result",
          "data": {
            "text/plain": [
              "array([[ 5, 78, 24,  1],\n",
              "       [ 1,  2,  3,  4],\n",
              "       [ 4,  6,  7,  8]])"
            ]
          },
          "metadata": {},
          "execution_count": 6
        }
      ]
    },
    {
      "cell_type": "code",
      "source": [
        "z.ndim"
      ],
      "metadata": {
        "colab": {
          "base_uri": "https://localhost:8080/"
        },
        "id": "k4ItrhOe20-_",
        "outputId": "8b7804ba-2e56-464f-96ad-5d5ed39cb5ac"
      },
      "execution_count": 7,
      "outputs": [
        {
          "output_type": "execute_result",
          "data": {
            "text/plain": [
              "2"
            ]
          },
          "metadata": {},
          "execution_count": 7
        }
      ]
    },
    {
      "cell_type": "markdown",
      "source": [
        "Tensores 3D"
      ],
      "metadata": {
        "id": "aN6dthZ258Y0"
      }
    },
    {
      "cell_type": "code",
      "source": [
        " q = np.random.randn(3,4,2) # Creamos de forma aleatoria una matriz de matrices\n",
        " q"
      ],
      "metadata": {
        "colab": {
          "base_uri": "https://localhost:8080/"
        },
        "id": "yoXt-XYe3EGP",
        "outputId": "ea9b8b8c-3e14-430a-b22a-7208cef87ec7"
      },
      "execution_count": 8,
      "outputs": [
        {
          "output_type": "execute_result",
          "data": {
            "text/plain": [
              "array([[[-1.07120357,  2.14034136],\n",
              "        [ 1.79960727,  0.91060995],\n",
              "        [-0.77691485, -0.24986309],\n",
              "        [-0.3685973 , -0.29235503]],\n",
              "\n",
              "       [[-0.63063802,  2.95974854],\n",
              "        [ 1.08931797, -0.38573205],\n",
              "        [ 0.46346374,  0.86522236],\n",
              "        [-1.66340574,  0.41329666]],\n",
              "\n",
              "       [[ 0.44159164,  0.08391042],\n",
              "        [ 0.35886973, -1.94435216],\n",
              "        [-0.16498786, -1.43549155],\n",
              "        [ 0.95642629,  0.40329861]]])"
            ]
          },
          "metadata": {},
          "execution_count": 8
        }
      ]
    },
    {
      "cell_type": "code",
      "source": [
        "q.ndim"
      ],
      "metadata": {
        "colab": {
          "base_uri": "https://localhost:8080/"
        },
        "id": "JvrblkgV4EaG",
        "outputId": "6f633b98-7b1d-4329-d38a-1d99ef5575a3"
      },
      "execution_count": 9,
      "outputs": [
        {
          "output_type": "execute_result",
          "data": {
            "text/plain": [
              "3"
            ]
          },
          "metadata": {},
          "execution_count": 9
        }
      ]
    },
    {
      "cell_type": "code",
      "source": [
        ""
      ],
      "metadata": {
        "id": "-GYXa6bh4Xqk"
      },
      "execution_count": null,
      "outputs": []
    }
  ]
}