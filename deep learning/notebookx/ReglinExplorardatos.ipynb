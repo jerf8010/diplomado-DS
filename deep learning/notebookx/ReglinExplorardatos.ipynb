{
  "nbformat": 4,
  "nbformat_minor": 0,
  "metadata": {
    "colab": {
      "name": "ReglinExplorardatos.ipynb",
      "provenance": []
    },
    "kernelspec": {
      "name": "python3",
      "display_name": "Python 3"
    },
    "language_info": {
      "name": "python"
    }
  },
  "cells": [
    {
      "cell_type": "code",
      "execution_count": 1,
      "metadata": {
        "id": "DeN7jT6Lzcf6"
      },
      "outputs": [],
      "source": [
        "import matplotlib.pyplot as plt\n",
        "from pandas import read_csv\n",
        "import os"
      ]
    },
    {
      "cell_type": "code",
      "source": [
        "# Cargar datos\n",
        "data_path = os.path.join(os.getcwd(), \"/content/blood-pressure1.txt\")\n",
        "dataset = read_csv(data_path, delim_whitespace=True)"
      ],
      "metadata": {
        "id": "CIPU4LAlzjz5"
      },
      "execution_count": 3,
      "outputs": []
    },
    {
      "cell_type": "code",
      "source": [
        "dataset = dataset.drop(['ID', 'One'], axis=1)"
      ],
      "metadata": {
        "id": "cebCrLTXz24b"
      },
      "execution_count": 4,
      "outputs": []
    },
    {
      "cell_type": "code",
      "source": [
        "%matplotlib inline\n",
        "dataset.plot.scatter(x='Age', y='Pressure')\n",
        "\n",
        "# Ahora, asumiremos que ya sabemos la hipótesis y parece una línea recta \n",
        "h = lambda x: 84 + 1.24 * x\n",
        "\n",
        "# ahora agreguemos esta línea a la gráfica\n",
        "ages = range(18, 85)\n",
        "estimated = []\n",
        "\n",
        "for i in ages:\n",
        "    estimated.append(h(i))\n",
        "\n",
        "plt.plot(ages, estimated, 'b');"
      ],
      "metadata": {
        "colab": {
          "base_uri": "https://localhost:8080/",
          "height": 279
        },
        "id": "T4nGggEQKVMJ",
        "outputId": "61e9f8de-b4e0-4668-891f-dddfe23e8b39"
      },
      "execution_count": 7,
      "outputs": [
        {
          "output_type": "display_data",
          "data": {
            "text/plain": [
              "<Figure size 432x288 with 1 Axes>"
            ],
            "image/png": "[encoded data removed]"
          },
          "metadata": {
            "needs_background": "light"
          }
        }
      ]
    },
    {
      "cell_type": "markdown",
      "source": [
        "Por ejemplo, nuestra hipótesis predice que para alguien que tiene 48 años, su presión arterial debería ser de \n",
        "h\n",
        "(\n",
        "48\n",
        ")\n",
        "=\n",
        "84\n",
        "+\n",
        "1.24\n",
        "∗\n",
        "48\n",
        "=\n",
        "143\n",
        "m\n",
        "m\n",
        "H\n",
        "g\n",
        "; sin embargo, en nuestra muestra de entrenamiento, tenemos el valor de \n",
        "130\n",
        "m\n",
        "m\n",
        "H\n",
        "g\n",
        ". Por lo tanto, el error es \n",
        "(\n",
        "143\n",
        "−\n",
        "130\n",
        ")\n",
        "2\n",
        "=\n",
        "169\n",
        ". Ahora necesitamos calcular este error en cada entrada en nuestro set de data de entrenamiento"
      ],
      "metadata": {
        "id": "GyDko_Lcs8dB"
      }
    },
    {
      "cell_type": "code",
      "source": [
        "import numpy as np\n",
        "# Calculemos el costo para la hipótesis de arriba\n",
        "\n",
        "h = lambda x, theta_0, theta_1: theta_0 + theta_1 * x\n",
        "\n",
        "def cost(X, y, t0, t1):\n",
        "    m = len(X) # número de elementos de entrenamiento\n",
        "    c = np.power(np.subtract(h(X, t0, t1), y), 2) #subtract(dferencia de dos arreglos)\n",
        "    return (1 / (2 * m)) * sum(c)\n",
        "\n",
        "X = dataset.values[:, 0]\n",
        "y = dataset.values[:, 1]\n",
        "print('J(Theta) = %2.2f' % cost(X, y, 84, 1.24))"
      ],
      "metadata": {
        "colab": {
          "base_uri": "https://localhost:8080/"
        },
        "id": "QpCe_p4xtCkX",
        "outputId": "40d7d1b5-bdde-444e-8402-aa7951e466f0"
      },
      "execution_count": 6,
      "outputs": [
        {
          "output_type": "stream",
          "name": "stdout",
          "text": [
            "J(Theta) = 151.38\n"
          ]
        }
      ]
    }
  ]
}