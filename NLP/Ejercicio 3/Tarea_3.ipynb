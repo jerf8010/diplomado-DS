{
  "nbformat": 4,
  "nbformat_minor": 0,
  "metadata": {
    "colab": {
      "name": "Tarea 3.ipynb",
      "provenance": [],
      "collapsed_sections": []
    },
    "kernelspec": {
      "name": "python3",
      "display_name": "Python 3"
    },
    "language_info": {
      "name": "python"
    }
  },
  "cells": [
    {
      "cell_type": "code",
      "execution_count": 1,
      "metadata": {
        "id": "gRtDvUFAvMoe"
      },
      "outputs": [],
      "source": [
        "with open('ElRamoAzul.txt', 'r') as f:\n",
        "    ramoazul = f.read()"
      ]
    },
    {
      "cell_type": "code",
      "source": [
        "import nltk\n",
        "nltk.download('punkt')"
      ],
      "metadata": {
        "colab": {
          "base_uri": "https://localhost:8080/"
        },
        "id": "pofz-o3swjLn",
        "outputId": "f0271b2b-5ece-4117-da0b-6ff118231d91"
      },
      "execution_count": 5,
      "outputs": [
        {
          "output_type": "stream",
          "name": "stdout",
          "text": [
            "[nltk_data] Downloading package punkt to /root/nltk_data...\n",
            "[nltk_data]   Unzipping tokenizers/punkt.zip.\n"
          ]
        },
        {
          "output_type": "execute_result",
          "data": {
            "text/plain": [
              "True"
            ]
          },
          "metadata": {},
          "execution_count": 5
        }
      ]
    },
    {
      "cell_type": "markdown",
      "source": [
        "A) ¿Cuántas palabras hay en el texto"
      ],
      "metadata": {
        "id": "hqdz4dCexjoL"
      }
    },
    {
      "cell_type": "code",
      "source": [
        "len(nltk.word_tokenize(ramoazul))"
      ],
      "metadata": {
        "colab": {
          "base_uri": "https://localhost:8080/"
        },
        "id": "gWBLlYPFwKq4",
        "outputId": "6999187f-e02e-4c92-a4ab-eda2b165aab8"
      },
      "execution_count": 6,
      "outputs": [
        {
          "output_type": "execute_result",
          "data": {
            "text/plain": [
              "996"
            ]
          },
          "metadata": {},
          "execution_count": 6
        }
      ]
    },
    {
      "cell_type": "markdown",
      "source": [
        "B) ¿Cuántas palabras diferentes existen?"
      ],
      "metadata": {
        "id": "JmuwUElJxnvC"
      }
    },
    {
      "cell_type": "code",
      "source": [
        "len(set(nltk.word_tokenize(ramoazul)))"
      ],
      "metadata": {
        "colab": {
          "base_uri": "https://localhost:8080/"
        },
        "id": "a8XE5z2PwKtY",
        "outputId": "970df2cd-8ea4-4eaa-9db6-f77e1bc11564"
      },
      "execution_count": 7,
      "outputs": [
        {
          "output_type": "execute_result",
          "data": {
            "text/plain": [
              "477"
            ]
          },
          "metadata": {},
          "execution_count": 7
        }
      ]
    },
    {
      "cell_type": "markdown",
      "source": [
        "C) ¿Qué cantidad de sustantivos, adjetivos y verbos posee el texto?"
      ],
      "metadata": {
        "id": "YTCh9lFHzsFc"
      }
    },
    {
      "cell_type": "code",
      "source": [
        "import requests\n",
        "\n",
        "# Archivo a ser enviado\n",
        "files = {'file': open('ElRamoAzul.txt', 'rb')}\n",
        "\n",
        "# Parámetros\n",
        "params = {'outf': 'tagged', 'format': 'json'}\n",
        "# params = {'outf': 'dep', 'format': 'json'}\n",
        "\n",
        "# Enviar petición\n",
        "url = \"http://www.corpus.unam.mx/servicio-freeling/analyze.php\"\n",
        "r = requests.post(url, files=files, params=params)\n",
        "try:\n",
        "    # Convertir de formato json\n",
        "    obj = r.json()\n",
        "\n",
        "    # Ejemplo, obtener todos los lemas\n",
        "    sustantives = 0\n",
        "    verbos = 0\n",
        "    adjetivos = 0\n",
        "    for sentence in obj:\n",
        "        for word in sentence:\n",
        "            if word['tag'][0] == 'N':\n",
        "              sustantives = sustantives + 1\n",
        "            elif word['tag'][0] == 'V':\n",
        "              verbos = verbos + 1\n",
        "            elif word['tag'][0] == 'A':\n",
        "              adjetivos = adjetivos + 1\n",
        "    print('Número de sustantivos: ', sustantives)\n",
        "    print('Número de verbos: ', verbos)\n",
        "    print('Número de adjetivos: ', adjetivos)\n",
        "except:\n",
        "    import traceback\n",
        "    print( traceback.format_exc() )"
      ],
      "metadata": {
        "colab": {
          "base_uri": "https://localhost:8080/"
        },
        "id": "fpPbw6CTwKvs",
        "outputId": "d428a4ae-31a3-479c-b84f-011114128141"
      },
      "execution_count": 15,
      "outputs": [
        {
          "output_type": "stream",
          "name": "stdout",
          "text": [
            "Número de sustantivos:  182\n",
            "Número de verbos:  184\n",
            "Número de adjetivos:  50\n"
          ]
        }
      ]
    },
    {
      "cell_type": "code",
      "source": [
        ""
      ],
      "metadata": {
        "id": "PVdqYvmlwKxx"
      },
      "execution_count": null,
      "outputs": []
    },
    {
      "cell_type": "code",
      "source": [
        ""
      ],
      "metadata": {
        "id": "pfqp4NXtwKz6"
      },
      "execution_count": null,
      "outputs": []
    },
    {
      "cell_type": "code",
      "source": [
        ""
      ],
      "metadata": {
        "id": "pVZnHrIIwK2P"
      },
      "execution_count": null,
      "outputs": []
    },
    {
      "cell_type": "code",
      "source": [
        ""
      ],
      "metadata": {
        "id": "N0qQnDyrwK4J"
      },
      "execution_count": null,
      "outputs": []
    }
  ]
}