{
 "cells": [
  {
   "cell_type": "markdown",
   "metadata": {},
   "source": [
    "# WordNet"
   ]
  },
  {
   "cell_type": "code",
   "execution_count": 1,
   "metadata": {},
   "outputs": [],
   "source": [
    "# Ya instalamos paquetes NLTK usando nltk.download(). Uno de los paquetes fue WordNet.\n",
    "# Documentación: https://www.nltk.org/howto/wordnet.html\n",
    "\n",
    "from nltk.corpus import wordnet as wn"
   ]
  },
  {
   "cell_type": "code",
   "execution_count": 2,
   "metadata": {},
   "outputs": [
    {
     "data": {
      "text/plain": [
       "[Synset('dog.n.01'),\n",
       " Synset('frump.n.01'),\n",
       " Synset('dog.n.03'),\n",
       " Synset('cad.n.01'),\n",
       " Synset('frank.n.02'),\n",
       " Synset('pawl.n.01'),\n",
       " Synset('andiron.n.01'),\n",
       " Synset('chase.v.01')]"
      ]
     },
     "execution_count": 2,
     "metadata": {},
     "output_type": "execute_result"
    }
   ],
   "source": [
    "# Para conocer todos los synset de una palabra se usa\n",
    "syn = wn.synsets('dog')\n",
    "syn"
   ]
  },
  {
   "cell_type": "code",
   "execution_count": 3,
   "metadata": {},
   "outputs": [
    {
     "name": "stdout",
     "output_type": "stream",
     "text": [
      "a member of the genus Canis (probably descended from the common wolf) that has been domesticated by man since prehistoric times; occurs in many breeds\n",
      "['the dog barked all night']\n"
     ]
    }
   ],
   "source": [
    "# Obtener definiciones y ejemplos para una palabra (un synset en particular)\n",
    "print( wn.synset('dog.n.01').definition() )\n",
    "\n",
    "print( wn.synset('dog.n.01').examples() )"
   ]
  },
  {
   "cell_type": "code",
   "execution_count": 13,
   "metadata": {},
   "outputs": [
    {
     "name": "stdout",
     "output_type": "stream",
     "text": [
      "the branch of information science that deals with natural language information\n",
      "large Old World boas\n"
     ]
    }
   ],
   "source": [
    "# Incluye muchas definiciones\n",
    "syn = wn.synsets(\"NLP\")\n",
    "print( syn[0].definition() )\n",
    "\n",
    "syn = wn.synsets(\"Python\")\n",
    "print( syn[0].definition() )"
   ]
  },
  {
   "cell_type": "markdown",
   "metadata": {},
   "source": [
    "<p> La función tiene un argumento <em>POS</em> opcional que le permite restringir la parte gramatical de la palabra. Las partes del discurso son: <code>NOUN, ADJ, VERB y ADV</code>. Un synset se identifica con un nombre de 3 partes de la forma: <code>word.pos.nn</code></p>"
   ]
  },
  {
   "cell_type": "code",
   "execution_count": 17,
   "metadata": {},
   "outputs": [
    {
     "data": {
      "text/plain": [
       "[Synset('chase.v.01')]"
      ]
     },
     "execution_count": 17,
     "metadata": {},
     "output_type": "execute_result"
    }
   ],
   "source": [
    "wn.synsets('dog', pos= wn.VERB)"
   ]
  },
  {
   "cell_type": "code",
   "execution_count": 18,
   "metadata": {},
   "outputs": [
    {
     "data": {
      "text/plain": [
       "[Lemma('dog.n.01.dog'),\n",
       " Lemma('dog.n.01.domestic_dog'),\n",
       " Lemma('dog.n.01.Canis_familiaris')]"
      ]
     },
     "execution_count": 18,
     "metadata": {},
     "output_type": "execute_result"
    }
   ],
   "source": [
    "# Obteniendo los lemmas\n",
    "wn.synset('dog.n.01').lemmas()"
   ]
  },
  {
   "cell_type": "code",
   "execution_count": 19,
   "metadata": {},
   "outputs": [
    {
     "data": {
      "text/plain": [
       "['dog', 'domestic_dog', 'Canis_familiaris']"
      ]
     },
     "execution_count": 19,
     "metadata": {},
     "output_type": "execute_result"
    }
   ],
   "source": [
    "[str(lemma.name()) for lemma in wn.synset('dog.n.01').lemmas()]"
   ]
  },
  {
   "cell_type": "code",
   "execution_count": 22,
   "metadata": {},
   "outputs": [
    {
     "name": "stderr",
     "output_type": "stream",
     "text": [
      "[nltk_data] Downloading package omw to\n",
      "[nltk_data]     C:\\Users\\luiso\\AppData\\Roaming\\nltk_data...\n",
      "[nltk_data]   Unzipping corpora\\omw.zip.\n"
     ]
    },
    {
     "data": {
      "text/plain": [
       "['als',\n",
       " 'arb',\n",
       " 'bul',\n",
       " 'cat',\n",
       " 'cmn',\n",
       " 'dan',\n",
       " 'ell',\n",
       " 'eng',\n",
       " 'eus',\n",
       " 'fas',\n",
       " 'fin',\n",
       " 'fra',\n",
       " 'glg',\n",
       " 'heb',\n",
       " 'hrv',\n",
       " 'ind',\n",
       " 'ita',\n",
       " 'jpn',\n",
       " 'nld',\n",
       " 'nno',\n",
       " 'nob',\n",
       " 'pol',\n",
       " 'por',\n",
       " 'qcn',\n",
       " 'slv',\n",
       " 'spa',\n",
       " 'swe',\n",
       " 'tha',\n",
       " 'zsm']"
      ]
     },
     "execution_count": 22,
     "metadata": {},
     "output_type": "execute_result"
    }
   ],
   "source": [
    "import nltk\n",
    "nltk.download('omw')\n",
    "\n",
    "# WordNet permiten acceso a otras lenguas\n",
    "sorted(wn.langs())"
   ]
  },
  {
   "cell_type": "code",
   "execution_count": 63,
   "metadata": {},
   "outputs": [
    {
     "data": {
      "text/plain": [
       "[Synset('car.n.01'), Synset('decree.n.01'), Synset('mystery_play.n.01')]"
      ]
     },
     "execution_count": 63,
     "metadata": {},
     "output_type": "execute_result"
    }
   ],
   "source": [
    "# Para hacer consultas sobre una palabra específica.\n",
    "wn.synsets(b'auto'.decode('utf-8'), lang='spa')"
   ]
  },
  {
   "cell_type": "code",
   "execution_count": 28,
   "metadata": {},
   "outputs": [
    {
     "data": {
      "text/plain": [
       "['auto', 'automóvil', 'carro', 'coche', 'máquina', 'turismo', 'vehículo']"
      ]
     },
     "execution_count": 28,
     "metadata": {},
     "output_type": "execute_result"
    }
   ],
   "source": [
    "# Sobre el sysnset devuelto se pueden hacer consultas\n",
    "wn.synset('car.n.01').lemma_names('spa')"
   ]
  },
  {
   "cell_type": "code",
   "execution_count": 31,
   "metadata": {},
   "outputs": [
    {
     "data": {
      "text/plain": [
       "[Lemma('dog.n.01.can'), Lemma('dog.n.01.perro')]"
      ]
     },
     "execution_count": 31,
     "metadata": {},
     "output_type": "execute_result"
    }
   ],
   "source": [
    "sorted(wn.synset('dog.n.01').lemmas('spa'))"
   ]
  },
  {
   "cell_type": "code",
   "execution_count": 38,
   "metadata": {},
   "outputs": [
    {
     "data": {
      "text/plain": [
       "28647"
      ]
     },
     "execution_count": 38,
     "metadata": {},
     "output_type": "execute_result"
    }
   ],
   "source": [
    "# Para saber cuántos lemmas de sustantivos en español tiene wordnet\n",
    "len( list( wn.all_lemma_names(pos='n', lang='spa') ))"
   ]
  },
  {
   "cell_type": "markdown",
   "metadata": {},
   "source": [
    "<ul>\n",
    "    <li><b>Synset:</b> conjunto de sinónimos que comparten un significado común.</li>\n",
    "    <li><b>Hiperónimos:</b> palabra cuyo significado engloba el de otra u otras. Es una manera más general de referirse a algo.</li>\n",
    "    <li><b>Hipónimos:</b> son palabras cuyo significado es específico y acotado. Es una forma específica de referirse a un concepto. Los hipónimos se pueden englobar en un hiperónimo, es decir, palabras que engloban un concepto más amplio.</li>\n",
    "    <li><b>Holónimo:</b> palabra cuyo significado mantiene, respecto del de otra, la misma relación que el todo respecto de la parte.</li>\n",
    "</ul>\n",
    "\n",
    "Ejemplos:\n",
    "<ul>\n",
    "    <li>flor (hiperónimo), rosa, jazmín, tulipán (hipónimos)</li>\n",
    "    <li>deporte (hiperónimo), fútbol, tenis, montañismo, natación (hipónimos)</li>\n",
    "    <li>Flor es el holónimo de cáliz, corola, pistilo o estambre</li>\n",
    "</ul>"
   ]
  },
  {
   "cell_type": "code",
   "execution_count": 39,
   "metadata": {},
   "outputs": [
    {
     "data": {
      "text/plain": [
       "[Synset('canine.n.02'), Synset('domestic_animal.n.01')]"
      ]
     },
     "execution_count": 39,
     "metadata": {},
     "output_type": "execute_result"
    }
   ],
   "source": [
    "# Hiperónimos\n",
    "dog = wn.synset('dog.n.01')\n",
    "dog.hypernyms()"
   ]
  },
  {
   "cell_type": "code",
   "execution_count": 40,
   "metadata": {},
   "outputs": [
    {
     "data": {
      "text/plain": [
       "[Synset('basenji.n.01'),\n",
       " Synset('corgi.n.01'),\n",
       " Synset('cur.n.01'),\n",
       " Synset('dalmatian.n.02'),\n",
       " Synset('great_pyrenees.n.01'),\n",
       " Synset('griffon.n.02'),\n",
       " Synset('hunting_dog.n.01'),\n",
       " Synset('lapdog.n.01'),\n",
       " Synset('leonberg.n.01'),\n",
       " Synset('mexican_hairless.n.01'),\n",
       " Synset('newfoundland.n.01'),\n",
       " Synset('pooch.n.01'),\n",
       " Synset('poodle.n.01'),\n",
       " Synset('pug.n.01'),\n",
       " Synset('puppy.n.01'),\n",
       " Synset('spitz.n.01'),\n",
       " Synset('toy_dog.n.01'),\n",
       " Synset('working_dog.n.01')]"
      ]
     },
     "execution_count": 40,
     "metadata": {},
     "output_type": "execute_result"
    }
   ],
   "source": [
    "# Hipónimos\n",
    "dog.hyponyms()"
   ]
  },
  {
   "cell_type": "code",
   "execution_count": 41,
   "metadata": {},
   "outputs": [
    {
     "data": {
      "text/plain": [
       "[Synset('canis.n.01'), Synset('pack.n.06')]"
      ]
     },
     "execution_count": 41,
     "metadata": {},
     "output_type": "execute_result"
    }
   ],
   "source": [
    "# Holónimos\n",
    "dog.member_holonyms()"
   ]
  },
  {
   "cell_type": "code",
   "execution_count": 42,
   "metadata": {},
   "outputs": [
    {
     "data": {
      "text/plain": [
       "[Synset('entity.n.01')]"
      ]
     },
     "execution_count": 42,
     "metadata": {},
     "output_type": "execute_result"
    }
   ],
   "source": [
    "# Obtiene los hiperónimos más importantes de este synset \n",
    "dog.root_hypernyms()"
   ]
  },
  {
   "cell_type": "code",
   "execution_count": 43,
   "metadata": {},
   "outputs": [
    {
     "data": {
      "text/plain": [
       "[Synset('carnivore.n.01')]"
      ]
     },
     "execution_count": 43,
     "metadata": {},
     "output_type": "execute_result"
    }
   ],
   "source": [
    "# lowest_common_hypernyms() método utilizado para localizar el hiperónimo más bajo que comparten dos palabras determinadas \n",
    "wn.synset('dog.n.01').lowest_common_hypernyms(wn.synset('cat.n.01'))"
   ]
  },
  {
   "cell_type": "code",
   "execution_count": 44,
   "metadata": {},
   "outputs": [
    {
     "ename": "AttributeError",
     "evalue": "'Synset' object has no attribute 'antonyms'",
     "output_type": "error",
     "traceback": [
      "\u001b[1;31m---------------------------------------------------------------------------\u001b[0m",
      "\u001b[1;31mAttributeError\u001b[0m                            Traceback (most recent call last)",
      "\u001b[1;32m<ipython-input-44-9ba8e2f8b8f0>\u001b[0m in \u001b[0;36m<module>\u001b[1;34m\u001b[0m\n\u001b[0;32m      1\u001b[0m \u001b[1;31m# Algunas relaciones están definidas por WordNet solo sobre Lemmas\u001b[0m\u001b[1;33m\u001b[0m\u001b[1;33m\u001b[0m\u001b[1;33m\u001b[0m\u001b[0m\n\u001b[0;32m      2\u001b[0m \u001b[0mgood\u001b[0m \u001b[1;33m=\u001b[0m \u001b[0mwn\u001b[0m\u001b[1;33m.\u001b[0m\u001b[0msynset\u001b[0m\u001b[1;33m(\u001b[0m\u001b[1;34m'good.a.01'\u001b[0m\u001b[1;33m)\u001b[0m\u001b[1;33m\u001b[0m\u001b[1;33m\u001b[0m\u001b[0m\n\u001b[1;32m----> 3\u001b[1;33m \u001b[0mgood\u001b[0m\u001b[1;33m.\u001b[0m\u001b[0mantonyms\u001b[0m\u001b[1;33m(\u001b[0m\u001b[1;33m)\u001b[0m\u001b[1;33m\u001b[0m\u001b[1;33m\u001b[0m\u001b[0m\n\u001b[0m\u001b[0;32m      4\u001b[0m \u001b[1;31m# Cada synset contiene uno o más lemas, que representan un sentido específico de una palabra específica.\u001b[0m\u001b[1;33m\u001b[0m\u001b[1;33m\u001b[0m\u001b[1;33m\u001b[0m\u001b[0m\n",
      "\u001b[1;31mAttributeError\u001b[0m: 'Synset' object has no attribute 'antonyms'"
     ]
    }
   ],
   "source": [
    "# Algunas relaciones están definidas por WordNet solo sobre Lemmas\n",
    "good = wn.synset('good.a.01')\n",
    "good.antonyms()"
   ]
  },
  {
   "cell_type": "code",
   "execution_count": 45,
   "metadata": {},
   "outputs": [
    {
     "data": {
      "text/plain": [
       "[Lemma('bad.a.01.bad')]"
      ]
     },
     "execution_count": 45,
     "metadata": {},
     "output_type": "execute_result"
    }
   ],
   "source": [
    "# Cada synset contiene uno o más lemas, que representan un sentido específico de una palabra específica\n",
    "good.lemmas()[0].antonyms()\n",
    "\n",
    "# Nota: Las relaciones que se definen actualmente de esta manera son: antonyms, derivationally_related_forms and pertainyms"
   ]
  },
  {
   "cell_type": "code",
   "execution_count": 52,
   "metadata": {},
   "outputs": [
    {
     "name": "stdout",
     "output_type": "stream",
     "text": [
      "['large', 'big', 'big']\n"
     ]
    }
   ],
   "source": [
    "# Obtener los antónimos de las palabras. \n",
    "# Antes de agregarlos a una lista, todo lo que tienes que hacer es verificar si cada lemma es un antónimo o no\n",
    "\n",
    "antonyms = []\n",
    "for syn in wn.synsets(\"small\"):\n",
    "    for l in syn.lemmas():\n",
    "        if l.antonyms():\n",
    "            antonyms.append(l.antonyms()[0].name())\n",
    "\n",
    "print(antonyms)"
   ]
  },
  {
   "cell_type": "markdown",
   "metadata": {},
   "source": [
    "<b>synset1.path_similarity(synset2)</b>\n",
    "<ul>\n",
    "    <li>Devuelve un puntaje que indica qué tan similares son los sentidos de dos palabras, según el camino más corto que conecta los sentidos en la taxonomía is-a (hiperónimo / hipónimo).</li>\n",
    "    <li>El puntaje está en el rango de 0 a 1.</li>\n",
    "</ul>"
   ]
  },
  {
   "cell_type": "code",
   "execution_count": 46,
   "metadata": {},
   "outputs": [
    {
     "data": {
      "text/plain": [
       "0.2"
      ]
     },
     "execution_count": 46,
     "metadata": {},
     "output_type": "execute_result"
    }
   ],
   "source": [
    "dog = wn.synset('dog.n.01')\n",
    "cat = wn.synset('cat.n.01')\n",
    "dog.path_similarity(cat)"
   ]
  },
  {
   "cell_type": "code",
   "execution_count": 47,
   "metadata": {},
   "outputs": [
    {
     "data": {
      "text/plain": [
       "0.14285714285714285"
      ]
     },
     "execution_count": 47,
     "metadata": {},
     "output_type": "execute_result"
    }
   ],
   "source": [
    "hit = wn.synset('hit.v.01')\n",
    "slap = wn.synset('slap.v.01')\n",
    "wn.path_similarity(hit, slap)"
   ]
  },
  {
   "cell_type": "markdown",
   "metadata": {},
   "source": [
    "<b>synset1.lch_similarity(synset2)</b>\n",
    "<ul>\n",
    "    <li><b>Similitud Leacock-Chodorow:</b> Devuelve una puntuación que denota qué tan parecidos son los sentidos de dos palabras, en función del camino más corto que conecta los sentidos (como anteriormente) y la profundidad máxima de la taxonomía en la que se producen los sentidos.</li>\n",
    "    <li>La relación se da como <code>-log(p/2d)</code> donde <code>p</code> es la longitud de la ruta más corta y <code>d</code> la profundidad de la taxonomía.</li>\n",
    "</ul>"
   ]
  },
  {
   "cell_type": "code",
   "execution_count": 48,
   "metadata": {},
   "outputs": [
    {
     "data": {
      "text/plain": [
       "2.0281482472922856"
      ]
     },
     "execution_count": 48,
     "metadata": {},
     "output_type": "execute_result"
    }
   ],
   "source": [
    "dog.lch_similarity(cat)"
   ]
  },
  {
   "cell_type": "code",
   "execution_count": 50,
   "metadata": {},
   "outputs": [
    {
     "data": {
      "text/plain": [
       "1.3121863889661687"
      ]
     },
     "execution_count": 50,
     "metadata": {},
     "output_type": "execute_result"
    }
   ],
   "source": [
    "wn.lch_similarity(hit, slap)"
   ]
  },
  {
   "cell_type": "code",
   "execution_count": 51,
   "metadata": {},
   "outputs": [
    {
     "name": "stdout",
     "output_type": "stream",
     "text": [
      "Synset('entity.n.01')\n",
      "Synset('physical_entity.n.01')\n",
      "Synset('abstraction.n.06')\n",
      "Synset('thing.n.12')\n",
      "Synset('object.n.01')\n",
      "Synset('whole.n.02')\n",
      "Synset('congener.n.03')\n",
      "Synset('living_thing.n.01')\n",
      "Synset('organism.n.01')\n",
      "Synset('benthos.n.02')\n"
     ]
    }
   ],
   "source": [
    "# Iterando sobre todos los synsets de sustantivos\n",
    "for synset in list(wn.all_synsets('n'))[:10]:\n",
    "    print(synset)"
   ]
  },
  {
   "cell_type": "markdown",
   "metadata": {},
   "source": [
    "### Ejercicio 1\n",
    "\n",
    "Comprobar la similaridad entre 20 pares tomados de: <em>A validated translation of the original Miller-Charles (Miller and Charles, 1998) and WordSimilarity-353 (Finkelstein et al., 2001) in Spanish, Romanian, and Arabic. (August 10, 2009)</em>. A partir de la similaridad dada con WordNet en inglés y en español."
   ]
  },
  {
   "cell_type": "code",
   "execution_count": 4,
   "metadata": {},
   "outputs": [],
   "source": [
    "import pandas as pd\n",
    "\n",
    "mc = pd.read_csv('CLSR-EK/MC30.csv',delimiter=';',encoding='utf-8')"
   ]
  },
  {
   "cell_type": "code",
   "execution_count": 5,
   "metadata": {},
   "outputs": [
    {
     "data": {
      "text/html": [
       "<div>\n",
       "<style scoped>\n",
       "    .dataframe tbody tr th:only-of-type {\n",
       "        vertical-align: middle;\n",
       "    }\n",
       "\n",
       "    .dataframe tbody tr th {\n",
       "        vertical-align: top;\n",
       "    }\n",
       "\n",
       "    .dataframe thead th {\n",
       "        text-align: right;\n",
       "    }\n",
       "</style>\n",
       "<table border=\"1\" class=\"dataframe\">\n",
       "  <thead>\n",
       "    <tr style=\"text-align: right;\">\n",
       "      <th></th>\n",
       "      <th>EN.1</th>\n",
       "      <th>EN.2</th>\n",
       "      <th>RO.1</th>\n",
       "      <th>RO.2</th>\n",
       "      <th>AR.1</th>\n",
       "      <th>AR.2</th>\n",
       "      <th>ES.1</th>\n",
       "      <th>ES.2</th>\n",
       "      <th>score</th>\n",
       "    </tr>\n",
       "  </thead>\n",
       "  <tbody>\n",
       "    <tr>\n",
       "      <td>0</td>\n",
       "      <td>asylum</td>\n",
       "      <td>madhouse</td>\n",
       "      <td>azil</td>\n",
       "      <td>sanatoriu</td>\n",
       "      <td>ملجأ</td>\n",
       "      <td>مأوى</td>\n",
       "      <td>asilo</td>\n",
       "      <td>manicomio</td>\n",
       "      <td>3.61</td>\n",
       "    </tr>\n",
       "    <tr>\n",
       "      <td>1</td>\n",
       "      <td>bird</td>\n",
       "      <td>cock</td>\n",
       "      <td>pasăre</td>\n",
       "      <td>cocoş</td>\n",
       "      <td>طير</td>\n",
       "      <td>ديك</td>\n",
       "      <td>pajaro</td>\n",
       "      <td>gallo</td>\n",
       "      <td>3.05</td>\n",
       "    </tr>\n",
       "    <tr>\n",
       "      <td>2</td>\n",
       "      <td>bird</td>\n",
       "      <td>crane</td>\n",
       "      <td>pasăre</td>\n",
       "      <td>cocor</td>\n",
       "      <td>طائر</td>\n",
       "      <td>كركي</td>\n",
       "      <td>pajaro</td>\n",
       "      <td>grulla</td>\n",
       "      <td>2.97</td>\n",
       "    </tr>\n",
       "    <tr>\n",
       "      <td>3</td>\n",
       "      <td>boy</td>\n",
       "      <td>lad</td>\n",
       "      <td>băiat</td>\n",
       "      <td>fecior</td>\n",
       "      <td>ولد</td>\n",
       "      <td>صبي</td>\n",
       "      <td>chico</td>\n",
       "      <td>muchacho</td>\n",
       "      <td>3.76</td>\n",
       "    </tr>\n",
       "    <tr>\n",
       "      <td>4</td>\n",
       "      <td>brother</td>\n",
       "      <td>monk</td>\n",
       "      <td>frate</td>\n",
       "      <td>călugăr</td>\n",
       "      <td>شقيق</td>\n",
       "      <td>راهب</td>\n",
       "      <td>hermano</td>\n",
       "      <td>monje</td>\n",
       "      <td>2.82</td>\n",
       "    </tr>\n",
       "    <tr>\n",
       "      <td>5</td>\n",
       "      <td>car</td>\n",
       "      <td>automobile</td>\n",
       "      <td>maşină</td>\n",
       "      <td>automobil</td>\n",
       "      <td>سيارة</td>\n",
       "      <td>عربه</td>\n",
       "      <td>coche</td>\n",
       "      <td>automovil</td>\n",
       "      <td>3.92</td>\n",
       "    </tr>\n",
       "    <tr>\n",
       "      <td>6</td>\n",
       "      <td>cemetery</td>\n",
       "      <td>woodland</td>\n",
       "      <td>cimitir</td>\n",
       "      <td>împădurire</td>\n",
       "      <td>مقبرة</td>\n",
       "      <td>غابة</td>\n",
       "      <td>cementerio</td>\n",
       "      <td>bosque</td>\n",
       "      <td>0.95</td>\n",
       "    </tr>\n",
       "    <tr>\n",
       "      <td>7</td>\n",
       "      <td>chord</td>\n",
       "      <td>smile</td>\n",
       "      <td>coardă</td>\n",
       "      <td>zâmbet</td>\n",
       "      <td>وتر</td>\n",
       "      <td>ابتسامة</td>\n",
       "      <td>acorde</td>\n",
       "      <td>sonrisa</td>\n",
       "      <td>0.13</td>\n",
       "    </tr>\n",
       "    <tr>\n",
       "      <td>8</td>\n",
       "      <td>coast</td>\n",
       "      <td>forest</td>\n",
       "      <td>ţărm</td>\n",
       "      <td>pădure</td>\n",
       "      <td>ساحل</td>\n",
       "      <td>غابة</td>\n",
       "      <td>costa</td>\n",
       "      <td>bosque</td>\n",
       "      <td>0.42</td>\n",
       "    </tr>\n",
       "    <tr>\n",
       "      <td>9</td>\n",
       "      <td>coast</td>\n",
       "      <td>hill</td>\n",
       "      <td>ţărm</td>\n",
       "      <td>deal</td>\n",
       "      <td>ساحل</td>\n",
       "      <td>تل</td>\n",
       "      <td>costa</td>\n",
       "      <td>colina</td>\n",
       "      <td>0.87</td>\n",
       "    </tr>\n",
       "    <tr>\n",
       "      <td>10</td>\n",
       "      <td>coast</td>\n",
       "      <td>shore</td>\n",
       "      <td>ţărm</td>\n",
       "      <td>mal</td>\n",
       "      <td>ساحل</td>\n",
       "      <td>شاطئ</td>\n",
       "      <td>costa</td>\n",
       "      <td>orilla</td>\n",
       "      <td>3.70</td>\n",
       "    </tr>\n",
       "    <tr>\n",
       "      <td>11</td>\n",
       "      <td>crane</td>\n",
       "      <td>implement</td>\n",
       "      <td>macara</td>\n",
       "      <td>unealtă</td>\n",
       "      <td>رافعة</td>\n",
       "      <td>تنفيذ</td>\n",
       "      <td>grua</td>\n",
       "      <td>implemento</td>\n",
       "      <td>1.68</td>\n",
       "    </tr>\n",
       "    <tr>\n",
       "      <td>12</td>\n",
       "      <td>food</td>\n",
       "      <td>fruit</td>\n",
       "      <td>mâncare</td>\n",
       "      <td>fruct</td>\n",
       "      <td>طعام</td>\n",
       "      <td>فاكهه</td>\n",
       "      <td>comida</td>\n",
       "      <td>fruta</td>\n",
       "      <td>3.08</td>\n",
       "    </tr>\n",
       "    <tr>\n",
       "      <td>13</td>\n",
       "      <td>food</td>\n",
       "      <td>rooster</td>\n",
       "      <td>mâncare</td>\n",
       "      <td>cocoş</td>\n",
       "      <td>طعام</td>\n",
       "      <td>ديك</td>\n",
       "      <td>comida</td>\n",
       "      <td>gallo</td>\n",
       "      <td>0.89</td>\n",
       "    </tr>\n",
       "    <tr>\n",
       "      <td>14</td>\n",
       "      <td>forest</td>\n",
       "      <td>graveyard</td>\n",
       "      <td>pădure</td>\n",
       "      <td>cimitir</td>\n",
       "      <td>غابة</td>\n",
       "      <td>مقبرة</td>\n",
       "      <td>forestales</td>\n",
       "      <td>cementerio</td>\n",
       "      <td>0.84</td>\n",
       "    </tr>\n",
       "    <tr>\n",
       "      <td>15</td>\n",
       "      <td>furnace</td>\n",
       "      <td>stove</td>\n",
       "      <td>sobă</td>\n",
       "      <td>cuptor</td>\n",
       "      <td>فرن</td>\n",
       "      <td>موقد</td>\n",
       "      <td>horno</td>\n",
       "      <td>estufa</td>\n",
       "      <td>3.11</td>\n",
       "    </tr>\n",
       "    <tr>\n",
       "      <td>16</td>\n",
       "      <td>gem</td>\n",
       "      <td>jewel</td>\n",
       "      <td>nestemată</td>\n",
       "      <td>bijuterie</td>\n",
       "      <td>جوهرة</td>\n",
       "      <td>حلية</td>\n",
       "      <td>gema</td>\n",
       "      <td>joya</td>\n",
       "      <td>3.84</td>\n",
       "    </tr>\n",
       "    <tr>\n",
       "      <td>17</td>\n",
       "      <td>glass</td>\n",
       "      <td>magician</td>\n",
       "      <td>sticlă</td>\n",
       "      <td>magician</td>\n",
       "      <td>زجاج</td>\n",
       "      <td>ساحر</td>\n",
       "      <td>vidrio</td>\n",
       "      <td>mago</td>\n",
       "      <td>0.11</td>\n",
       "    </tr>\n",
       "    <tr>\n",
       "      <td>18</td>\n",
       "      <td>journey</td>\n",
       "      <td>car</td>\n",
       "      <td>călătorie</td>\n",
       "      <td>maşină</td>\n",
       "      <td>رحلة</td>\n",
       "      <td>سيارة</td>\n",
       "      <td>coche</td>\n",
       "      <td>viaje</td>\n",
       "      <td>1.16</td>\n",
       "    </tr>\n",
       "    <tr>\n",
       "      <td>19</td>\n",
       "      <td>journey</td>\n",
       "      <td>voyage</td>\n",
       "      <td>călătorie</td>\n",
       "      <td>voiaj</td>\n",
       "      <td>سفر</td>\n",
       "      <td>رحلة</td>\n",
       "      <td>viaje</td>\n",
       "      <td>pasaje</td>\n",
       "      <td>3.84</td>\n",
       "    </tr>\n",
       "    <tr>\n",
       "      <td>20</td>\n",
       "      <td>lad</td>\n",
       "      <td>brother</td>\n",
       "      <td>fecior</td>\n",
       "      <td>frate</td>\n",
       "      <td>صبي</td>\n",
       "      <td>شقيق</td>\n",
       "      <td>hermano</td>\n",
       "      <td>muchacho</td>\n",
       "      <td>1.66</td>\n",
       "    </tr>\n",
       "    <tr>\n",
       "      <td>21</td>\n",
       "      <td>lad</td>\n",
       "      <td>wizard</td>\n",
       "      <td>fecior</td>\n",
       "      <td>vrăjitor</td>\n",
       "      <td>صبي</td>\n",
       "      <td>منجم</td>\n",
       "      <td>muchacho</td>\n",
       "      <td>hechicero</td>\n",
       "      <td>0.42</td>\n",
       "    </tr>\n",
       "    <tr>\n",
       "      <td>22</td>\n",
       "      <td>magician</td>\n",
       "      <td>wizard</td>\n",
       "      <td>magician</td>\n",
       "      <td>vrăjitor</td>\n",
       "      <td>ساحر</td>\n",
       "      <td>منجم</td>\n",
       "      <td>mago</td>\n",
       "      <td>hechicero</td>\n",
       "      <td>3.50</td>\n",
       "    </tr>\n",
       "    <tr>\n",
       "      <td>23</td>\n",
       "      <td>midday</td>\n",
       "      <td>noon</td>\n",
       "      <td>amiază</td>\n",
       "      <td>prânz</td>\n",
       "      <td>ظهيرة</td>\n",
       "      <td>ظهر</td>\n",
       "      <td>mediodia</td>\n",
       "      <td>mediodia</td>\n",
       "      <td>3.42</td>\n",
       "    </tr>\n",
       "    <tr>\n",
       "      <td>24</td>\n",
       "      <td>monk</td>\n",
       "      <td>oracle</td>\n",
       "      <td>călugăr</td>\n",
       "      <td>oracol</td>\n",
       "      <td>راهب</td>\n",
       "      <td>حكيم</td>\n",
       "      <td>monje</td>\n",
       "      <td>oraculo</td>\n",
       "      <td>1.10</td>\n",
       "    </tr>\n",
       "    <tr>\n",
       "      <td>25</td>\n",
       "      <td>monk</td>\n",
       "      <td>slave</td>\n",
       "      <td>călugăr</td>\n",
       "      <td>sclav</td>\n",
       "      <td>راهب</td>\n",
       "      <td>عبد</td>\n",
       "      <td>monje</td>\n",
       "      <td>esclavo</td>\n",
       "      <td>0.55</td>\n",
       "    </tr>\n",
       "    <tr>\n",
       "      <td>26</td>\n",
       "      <td>noon</td>\n",
       "      <td>string</td>\n",
       "      <td>prânz</td>\n",
       "      <td>şir</td>\n",
       "      <td>ظهر</td>\n",
       "      <td>خيط</td>\n",
       "      <td>mediodia</td>\n",
       "      <td>cuerda</td>\n",
       "      <td>0.08</td>\n",
       "    </tr>\n",
       "    <tr>\n",
       "      <td>27</td>\n",
       "      <td>rooster</td>\n",
       "      <td>voyage</td>\n",
       "      <td>cocoş</td>\n",
       "      <td>voiaj</td>\n",
       "      <td>ديك</td>\n",
       "      <td>رحلة</td>\n",
       "      <td>gallo</td>\n",
       "      <td>viaje</td>\n",
       "      <td>0.08</td>\n",
       "    </tr>\n",
       "    <tr>\n",
       "      <td>28</td>\n",
       "      <td>shore</td>\n",
       "      <td>woodland</td>\n",
       "      <td>mal</td>\n",
       "      <td>împădurire</td>\n",
       "      <td>شاطئ</td>\n",
       "      <td>غابة</td>\n",
       "      <td>orilla</td>\n",
       "      <td>bosque</td>\n",
       "      <td>0.63</td>\n",
       "    </tr>\n",
       "    <tr>\n",
       "      <td>29</td>\n",
       "      <td>tool</td>\n",
       "      <td>implement</td>\n",
       "      <td>instrument</td>\n",
       "      <td>unealtă</td>\n",
       "      <td>أداة</td>\n",
       "      <td>تنفيذ</td>\n",
       "      <td>herramienta</td>\n",
       "      <td>implementar</td>\n",
       "      <td>2.95</td>\n",
       "    </tr>\n",
       "  </tbody>\n",
       "</table>\n",
       "</div>"
      ],
      "text/plain": [
       "        EN.1        EN.2        RO.1        RO.2   AR.1     AR.2         ES.1  \\\n",
       "0     asylum    madhouse        azil   sanatoriu   ملجأ     مأوى        asilo   \n",
       "1       bird        cock      pasăre       cocoş    طير      ديك       pajaro   \n",
       "2       bird       crane      pasăre       cocor   طائر     كركي       pajaro   \n",
       "3        boy         lad       băiat      fecior    ولد      صبي        chico   \n",
       "4    brother        monk       frate     călugăr   شقيق     راهب      hermano   \n",
       "5        car  automobile      maşină   automobil  سيارة     عربه        coche   \n",
       "6   cemetery    woodland     cimitir  împădurire  مقبرة     غابة   cementerio   \n",
       "7      chord       smile      coardă      zâmbet    وتر  ابتسامة       acorde   \n",
       "8      coast      forest        ţărm      pădure   ساحل     غابة        costa   \n",
       "9      coast        hill        ţărm        deal   ساحل       تل        costa   \n",
       "10     coast       shore        ţărm         mal   ساحل     شاطئ        costa   \n",
       "11     crane   implement      macara     unealtă  رافعة    تنفيذ         grua   \n",
       "12      food       fruit     mâncare       fruct   طعام    فاكهه       comida   \n",
       "13      food     rooster     mâncare       cocoş   طعام      ديك       comida   \n",
       "14    forest   graveyard      pădure     cimitir   غابة    مقبرة   forestales   \n",
       "15   furnace       stove        sobă      cuptor    فرن     موقد        horno   \n",
       "16       gem       jewel   nestemată   bijuterie  جوهرة     حلية         gema   \n",
       "17     glass    magician      sticlă    magician   زجاج     ساحر       vidrio   \n",
       "18   journey         car   călătorie      maşină   رحلة    سيارة        coche   \n",
       "19   journey      voyage   călătorie       voiaj    سفر     رحلة        viaje   \n",
       "20       lad     brother      fecior       frate    صبي     شقيق      hermano   \n",
       "21       lad      wizard      fecior    vrăjitor    صبي     منجم     muchacho   \n",
       "22  magician      wizard    magician    vrăjitor   ساحر     منجم         mago   \n",
       "23    midday        noon      amiază       prânz  ظهيرة      ظهر     mediodia   \n",
       "24      monk      oracle     călugăr      oracol   راهب     حكيم        monje   \n",
       "25      monk       slave     călugăr       sclav   راهب      عبد        monje   \n",
       "26      noon      string       prânz         şir    ظهر      خيط     mediodia   \n",
       "27   rooster      voyage       cocoş       voiaj    ديك     رحلة        gallo   \n",
       "28     shore    woodland         mal  împădurire   شاطئ     غابة       orilla   \n",
       "29      tool   implement  instrument     unealtă   أداة    تنفيذ  herramienta   \n",
       "\n",
       "           ES.2  score  \n",
       "0     manicomio   3.61  \n",
       "1         gallo   3.05  \n",
       "2        grulla   2.97  \n",
       "3      muchacho   3.76  \n",
       "4         monje   2.82  \n",
       "5     automovil   3.92  \n",
       "6        bosque   0.95  \n",
       "7       sonrisa   0.13  \n",
       "8        bosque   0.42  \n",
       "9        colina   0.87  \n",
       "10       orilla   3.70  \n",
       "11   implemento   1.68  \n",
       "12        fruta   3.08  \n",
       "13        gallo   0.89  \n",
       "14   cementerio   0.84  \n",
       "15       estufa   3.11  \n",
       "16         joya   3.84  \n",
       "17         mago   0.11  \n",
       "18        viaje   1.16  \n",
       "19       pasaje   3.84  \n",
       "20     muchacho   1.66  \n",
       "21    hechicero   0.42  \n",
       "22    hechicero   3.50  \n",
       "23     mediodia   3.42  \n",
       "24      oraculo   1.10  \n",
       "25      esclavo   0.55  \n",
       "26       cuerda   0.08  \n",
       "27        viaje   0.08  \n",
       "28       bosque   0.63  \n",
       "29  implementar   2.95  "
      ]
     },
     "execution_count": 5,
     "metadata": {},
     "output_type": "execute_result"
    }
   ],
   "source": [
    "mc"
   ]
  },
  {
   "cell_type": "code",
   "execution_count": null,
   "metadata": {},
   "outputs": [],
   "source": []
  },
  {
   "cell_type": "code",
   "execution_count": null,
   "metadata": {},
   "outputs": [],
   "source": []
  },
  {
   "cell_type": "markdown",
   "metadata": {},
   "source": [
    "# Word embedding"
   ]
  },
  {
   "cell_type": "code",
   "execution_count": 6,
   "metadata": {},
   "outputs": [],
   "source": [
    "import gensim\n",
    "from gensim.models import Word2Vec as w2v"
   ]
  },
  {
   "cell_type": "markdown",
   "metadata": {},
   "source": [
    "<p><b>Parámetros del método <a href=\"https://radimrehurek.com/gensim/models/word2vec.html\">Word2Vec</a>:</b></p>\n",
    "\n",
    "Info de más parámetros <a href=\"https://github.com/RaRe-Technologies/gensim/blob/develop/gensim/models/word2vec.py\">aquí</a>\n",
    "\n",
    "<ul>\n",
    "    <li><em>sentences</em>: iterable de iterables. Una lista de listas de tokens.</li>\n",
    "    <li><em>min_count</em>: int. Ignora todas las palabras con una frecuencia absoluta total menor que esta. - (2, 100)</li>\n",
    "    <li><em>window</em>: int. Distancia máxima entre la palabra actual y la predicha dentro de una oración. P.ej. palabras de ventana a la izquierda y palabras de ventana a la izquierda de nuestro objetivo. - (2, 10)</li>\n",
    "    <li><em>size</em>: int. Dimensionalidad de los vectores de características. - (50, 300)</li>\n",
    "    <li><em>sg</em>: {0, 1}. Algoritmo de entrenamiento: 1 para skip-gram; de lo contrario CBOW.</li>\n",
    "    <li><em>negative</em>: int. Si> 0, se usará un muestreo negativo, el int para negativo especifica cuántas \"palabras irrelevantes\" se deben dibujar (generalmente entre 5-20). Si se establece en 0, no se utiliza ningún muestreo negativo. </li>\n",
    "    <li><em>workers</em>: int. Utilice estos subprocesos de trabajo para entrenar el modelo (= entrenamiento más rápido con máquinas multinúcleo).</li>\n",
    "    <li><em>alpha</em>: float. La tasa de aprendizaje inicial - (0.01, 0.05)</li>\n",
    "    <li><em>max_vocab_size</em>: int. Limita la RAM durante la construcción de vocabulario; si hay más palabras únicas que esta, elimine las poco frecuentes. Cada 10 millones de tipos de palabras necesitan aproximadamente 1 GB de RAM. Establezca None para no tener límite.</li>\n",
    "    <li><em>max_final_vocab</em>: int. Limita el vocabulario a un tamaño de vocabulario de destino seleccionando automáticamente un min_count coincidente. Si el min_count especificado es mayor que el min_count calculado, se utilizará el min_count especificado. Establezca None si no es necesario.</li>\n",
    "    <li><em>sample</em>: float. El umbral para configurar qué palabras de mayor frecuencia se muestrean aleatoriamente, el rango útil es (0, 1e-5).</li>\n",
    "</ul>"
   ]
  },
  {
   "cell_type": "code",
   "execution_count": 7,
   "metadata": {},
   "outputs": [
    {
     "name": "stdout",
     "output_type": "stream",
     "text": [
      "Cosine similarity between 'alice' and 'wonderland' - CBOW :  0.998773\n",
      "Cosine similarity between 'alice' and 'machines' - CBOW :  0.89459646\n",
      "Cosine similarity between 'alice' and 'wonderland' - Skip Gram :  0.8740499\n",
      "Cosine similarity between 'alice' and 'machines' - Skip Gram :  0.86160994\n"
     ]
    }
   ],
   "source": [
    "from nltk.tokenize import sent_tokenize, word_tokenize\n",
    "import warnings\n",
    "warnings.filterwarnings(action = 'ignore')\n",
    "\n",
    "#  Reads ‘alice.txt’ file\n",
    "sample = open(\"alice.txt\", encoding=\"utf8\")\n",
    "s = sample.read()\n",
    "\n",
    "# Replaces escape character with space\n",
    "f = s.replace(\"\\n\", \" \")\n",
    "\n",
    "data = []\n",
    "# iterate through each sentence in the file\n",
    "for i in sent_tokenize(f):\n",
    "    temp = []\n",
    "    \n",
    "    # tokenize the sentence into words\n",
    "    for j in word_tokenize(i):\n",
    "        temp.append(j.lower())\n",
    "\n",
    "    data.append(temp)\n",
    "\n",
    "# Create CBOW model\n",
    "model1 = w2v(data, min_count = 1, size = 100, window = 5)\n",
    "# Print results\n",
    "print(\"Cosine similarity between 'alice' and 'wonderland' - CBOW : \", model1.similarity('alice', 'wonderland'))\n",
    "print(\"Cosine similarity between 'alice' and 'machines' - CBOW : \", model1.similarity('alice', 'machines'))\n",
    "\n",
    "# Create Skip Gram model\n",
    "model2 = w2v(data, min_count = 1, size = 100, window = 5, sg = 1)\n",
    "# Print results\n",
    "print(\"Cosine similarity between 'alice' and 'wonderland' - Skip Gram : \", model2.similarity('alice', 'wonderland'))\n",
    "print(\"Cosine similarity between 'alice' and 'machines' - Skip Gram : \", model2.similarity('alice', 'machines'))"
   ]
  },
  {
   "cell_type": "markdown",
   "metadata": {},
   "source": [
    "La salida indica las similitudes de coseno entre los vectores de palabras \"alicia\", \"país de las maravillas\" y \"máquinas\" para diferentes modelos. Una tarea interesante podría ser cambiar los valores de los parámetros de \"size\" y \"window\" para observar las variaciones en las similitudes del coseno.\n",
    "\n",
    "Puedes oberservar y estudiar otro caso de estudio: \"The Simpsons\", <a href=\"https://www.kaggle.com/pierremegret/gensim-word2vec-tutorial\">aquí</a>. "
   ]
  },
  {
   "cell_type": "markdown",
   "metadata": {},
   "source": [
    "#### Descargando vectores pre-calculados\n",
    "\n",
    "<p>Métodos de generación de word embeddings, los cuales usaremos sus vectores pre-calculados:</p>\n",
    "<ul>\n",
    "    <li><a href=\"https://code.google.com/archive/p/word2vec/\">Word2Vec</a></li>\n",
    "    <li><a href=\"https://fasttext.cc/docs/en/english-vectors.html\">FastText</a></li>\n",
    "    <li><a href=\"https://nlp.stanford.edu/projects/glove/\">GloVe</a></li>\n",
    "</ul>"
   ]
  },
  {
   "cell_type": "code",
   "execution_count": 5,
   "metadata": {},
   "outputs": [],
   "source": [
    "# https://radimrehurek.com/gensim/models/keyedvectors.html\n",
    "from gensim.models import KeyedVectors\n",
    "\n",
    "path_w2v = \"Word2Vec/GoogleNews-vectors-negative300.bin\"\n",
    "path_ftt = \"fasttext/crawl-300d-2M.vec\"\n",
    "\n",
    "word2v_model = KeyedVectors.load_word2vec_format(path_w2v, binary=True)  # C binary format\n",
    "ftt_model = KeyedVectors.load_word2vec_format(path_ftt, binary=False)  # C text format"
   ]
  },
  {
   "cell_type": "code",
   "execution_count": 6,
   "metadata": {},
   "outputs": [
    {
     "name": "stdout",
     "output_type": "stream",
     "text": [
      "0.76640123\n",
      "0.7459396\n"
     ]
    }
   ],
   "source": [
    "print(word2v_model.similarity('woman', 'man'))\n",
    "print(ftt_model.similarity('woman', 'man'))"
   ]
  },
  {
   "cell_type": "markdown",
   "metadata": {},
   "source": [
    "\n",
    "most_similar(positive=None, negative=None, topn=10, clip_start=0, clip_end=None, restrict_vocab=None, indexer=None)\n",
    "\n",
    "    Find the top-N most similar keys. Positive keys contribute positively towards the similarity, negative keys negatively.\n",
    "\n",
    "    This method computes cosine similarity between a simple mean of the projection weight vectors of the given keys and the vectors for each key in the model. The method corresponds to the word-analogy and distance scripts in the original word2vec implementation.\n",
    "\n",
    "    Parameters\n",
    "\n",
    "            positive (list of (str or int or ndarray), optional) – List of keys that contribute positively.\n",
    "\n",
    "            negative (list of (str or int or ndarray), optional) – List of keys that contribute negatively.\n",
    "\n",
    "            topn (int or None, optional) – Number of top-N similar keys to return, when topn is int. When topn is None, then similarities for all keys are returned.\n",
    "\n",
    "            clip_start (int) – Start clipping index.\n",
    "\n",
    "            clip_end (int) – End clipping index.\n",
    "\n",
    "            restrict_vocab (int, optional) – Optional integer which limits the range of vectors which are searched for most-similar values. For example, restrict_vocab=10000 would only check the first 10000 key vectors in the vocabulary order. (This may be meaningful if you’ve sorted the vocabulary by descending frequency.) If specified, overrides any values of clip_start or clip_end.\n",
    "\n",
    "    Returns\n",
    "\n",
    "        When topn is int, a sequence of (key, similarity) is returned. When topn is None, then similarities for all keys are returned as a one-dimensional numpy array with the size of the vocabulary.\n",
    "    Return type\n",
    "\n",
    "        list of (str, float) or numpy.array\n",
    "\n"
   ]
  },
  {
   "cell_type": "code",
   "execution_count": 21,
   "metadata": {},
   "outputs": [
    {
     "name": "stdout",
     "output_type": "stream",
     "text": [
      "[('queen', 0.7118192911148071), ('monarch', 0.6189674139022827), ('princess', 0.5902431607246399), ('crown_prince', 0.5499460697174072), ('prince', 0.5377321243286133), ('kings', 0.5236844420433044), ('Queen_Consort', 0.5235945582389832), ('queens', 0.5181134343147278), ('sultan', 0.5098593235015869), ('monarchy', 0.5087411999702454)]\n",
      "[('queen', 0.7385457754135132)]\n"
     ]
    }
   ],
   "source": [
    "# Check the \"most similar words\", using the default \"cosine similarity\" measure.\n",
    "print( word2v_model.most_similar(positive=['woman', 'king'],negative=['man']) )\n",
    "\n",
    "print( ftt_model.most_similar(positive=['woman', 'king'],negative=['man'], topn=1) )"
   ]
  },
  {
   "cell_type": "code",
   "execution_count": 10,
   "metadata": {},
   "outputs": [
    {
     "name": "stdout",
     "output_type": "stream",
     "text": [
      "cereal\n",
      "cereal\n"
     ]
    },
    {
     "name": "stderr",
     "output_type": "stream",
     "text": [
      "C:\\ProgramData\\Anaconda3\\lib\\site-packages\\gensim\\models\\keyedvectors.py:877: FutureWarning: arrays to stack must be passed as a \"sequence\" type such as list or tuple. Support for non-sequence iterables such as generators is deprecated as of NumPy 1.16 and will raise an error in the future.\n",
      "  vectors = vstack(self.word_vec(word, use_norm=True) for word in used_words).astype(REAL)\n"
     ]
    }
   ],
   "source": [
    "# ¿Qué clave de la lista dada no va con las demás? \n",
    "print( word2v_model.doesnt_match(\"breakfast cereal dinner lunch\".split()) )\n",
    "print( ftt_model.doesnt_match(\"breakfast cereal dinner lunch\".split()) )"
   ]
  },
  {
   "cell_type": "code",
   "execution_count": 14,
   "metadata": {},
   "outputs": [
    {
     "data": {
      "text/plain": [
       "(300,)"
      ]
     },
     "execution_count": 14,
     "metadata": {},
     "output_type": "execute_result"
    }
   ],
   "source": [
    "# access vector for one word\n",
    "vector = word2v_model['computer'] # numpy vector of a word\n",
    "vector.shape"
   ]
  },
  {
   "cell_type": "code",
   "execution_count": 20,
   "metadata": {},
   "outputs": [
    {
     "data": {
      "text/plain": [
       "(2.2813313673465077, 2.7611959059192004)"
      ]
     },
     "execution_count": 20,
     "metadata": {},
     "output_type": "execute_result"
    }
   ],
   "source": [
    "# Compute the Word Mover’s Distance between two documents.\n",
    "sentence_obama = 'Obama speaks to the media in Illinois'.lower().split()\n",
    "sentence_president = 'The president greets the press in Chicago'.lower().split()\n",
    "\n",
    "similarity_w2v = word2v_model.wmdistance(sentence_obama, sentence_president)\n",
    "similarity_ftt = ftt_model.wmdistance(sentence_obama, sentence_president)\n",
    "\n",
    "similarity_w2v, similarity_ftt"
   ]
  },
  {
   "cell_type": "markdown",
   "metadata": {},
   "source": [
    "### Ejercicio 2\n",
    "\n",
    "Comprobar la similaridad entre 20 pares tomados de: <em>A validated translation of the original Miller-Charles (Miller and Charles, 1998) and WordSimilarity-353 (Finkelstein et al., 2001) in Spanish, Romanian, and Arabic. (August 10, 2009)</em> Probar con los tres vectores mencionados: word2vec, fastTex."
   ]
  },
  {
   "cell_type": "code",
   "execution_count": 1,
   "metadata": {},
   "outputs": [],
   "source": [
    "import pandas as pd\n",
    "\n",
    "mc = pd.read_csv('CLSR-EK/MC30.csv',delimiter=';',encoding='utf-8')"
   ]
  },
  {
   "cell_type": "code",
   "execution_count": null,
   "metadata": {},
   "outputs": [],
   "source": []
  },
  {
   "cell_type": "markdown",
   "metadata": {},
   "source": [
    "# <a href=\"https://radimrehurek.com/gensim/models/doc2vec.html\">Doc2Vec</a>\n",
    "\n",
    "## Análisis de sentimientos Movie Reviews con Doc2vec\n",
    "\n",
    "Descarga de corpus Movie reviews, <a href=\"http://ai.stanford.edu/~amaas/data/sentiment/\">aquí</a>"
   ]
  },
  {
   "cell_type": "markdown",
   "metadata": {},
   "source": [
    "#### Leemos y preparamos el corpus"
   ]
  },
  {
   "cell_type": "code",
   "execution_count": 7,
   "metadata": {},
   "outputs": [
    {
     "name": "stdout",
     "output_type": "stream",
     "text": [
      "Train: 25000\n",
      "Test: 25000\n"
     ]
    }
   ],
   "source": [
    "from glob import glob\n",
    "import gensim\n",
    "import numpy as np\n",
    "import re\n",
    "from gensim.models.doc2vec import Doc2Vec, TaggedDocument\n",
    "\n",
    "def read_txt_files(files):\n",
    "    files_list=[]\n",
    "    for i,file_path in enumerate(files):\n",
    "        with open(file_path,'r', encoding='utf8') as infile:\n",
    "            files_list.append(infile.read().encode('utf-8'))\n",
    "    return files_list\n",
    "\n",
    "def cleanText(corpus):\n",
    "    corpus = [str(z).replace('<br />', ' ') for z in corpus]\n",
    "    #treat punctuation as individual words\n",
    "    punctuation = '(?:[.,\\/!$%?¿?!¡\\^&\\*;:{}=><\\-_`~()”“\"\\|])'\n",
    "    corpus = [re.sub(r\" +\", \" \", re.sub(r\"\\t\", \" \", re.sub(r\"\\n+\", \"\\n\", re.sub(punctuation, \" \",z)))) for z in corpus]\n",
    "    corpus = [z.split() for z in corpus]\n",
    "    return corpus\n",
    "\n",
    "#leemos el corpus de entrenamiento\n",
    "train_path_pos='Movie_Review/aclImdb/train/pos/'\n",
    "train_path_neg='Movie_Review/aclImdb/train/neg/'\n",
    "\n",
    "pos_reviews=read_txt_files( glob(train_path_pos+'*.txt') )\n",
    "neg_reviews=read_txt_files( glob(train_path_neg+'*.txt') )\n",
    "\n",
    "x_train=np.concatenate((pos_reviews, neg_reviews))\n",
    "#usamos 1 para sentimiento positivo, 0 para negativo\n",
    "y_train = np.concatenate((np.ones(len(pos_reviews)), np.zeros(len(neg_reviews))))\n",
    "\n",
    "#leemos el corpus de prueba\n",
    "test_path_pos='Movie_Review/aclImdb/test/pos/'\n",
    "test_path_neg='Movie_Review/aclImdb/test/neg/'\n",
    "\n",
    "pos_reviews_test=read_txt_files( glob(test_path_pos+'*.txt') )\n",
    "neg_reviews_test=read_txt_files( glob(test_path_neg+'*.txt') )\n",
    "\n",
    "x_test=np.concatenate((pos_reviews_test, neg_reviews_test))\n",
    "#usamos 1 para sentimiento positivo, 0 para negativo\n",
    "y_test = np.concatenate((np.ones(len(pos_reviews_test)), np.zeros(len(neg_reviews_test))))\n",
    "\n",
    "print ('Train:', len(x_train))\n",
    "print ('Test:', len(x_test))\n",
    "\n",
    "#realizamos un pre-procesamiento básico\n",
    "x_train = cleanText(x_train)\n",
    "x_test = cleanText(x_test)"
   ]
  },
  {
   "cell_type": "markdown",
   "metadata": {},
   "source": [
    "#### Entrenamos el Doc2vec con el conjunto de entrenamiento"
   ]
  },
  {
   "cell_type": "code",
   "execution_count": 8,
   "metadata": {},
   "outputs": [
    {
     "name": "stdout",
     "output_type": "stream",
     "text": [
      "iteration normal 0\n",
      "iteration normal 1\n",
      "iteration normal 2\n",
      "iteration normal 3\n",
      "iteration normal 4\n",
      "iteration normal 5\n",
      "iteration normal 6\n",
      "iteration normal 7\n",
      "iteration normal 8\n",
      "iteration normal 9\n"
     ]
    }
   ],
   "source": [
    "from nltk.tokenize import word_tokenize\n",
    "from gensim.models.doc2vec import TaggedLineDocument\n",
    "#La implementación de Doc2Vec de Gensim requiere que cada documento / párrafo tenga una etiqueta asociada.\n",
    "#Hacemos esto usando el método TaggedDocument. \n",
    "\n",
    "x_train_tagged = [TaggedDocument(doc, [i]) for i, doc in enumerate(x_train)]\n",
    "x_test_tagged = [TaggedDocument(doc, [i]) for i, doc in enumerate(x_test)]\n",
    "\n",
    "vec_size = 300\n",
    "model_dm = Doc2Vec(vector_size=300, alpha=0.025, min_alpha=0.00025, min_count=1, dm =1)\n",
    "model_dm.build_vocab(x_train_tagged)\n",
    "\n",
    "model_dbow = Doc2Vec(vector_size=300, alpha=0.025, min_alpha=0.00025, min_count=1, dm =0)\n",
    "model_dbow.build_vocab(x_train_tagged)\n",
    "\n",
    "for epoch in range(10):\n",
    "    print('iteration normal {0}'.format(epoch))\n",
    "    model_dm.train(x_train_tagged, total_examples=model_dm.corpus_count, epochs=model_dm.epochs)\n",
    "    # decrease the learning rate\n",
    "    model_dm.alpha -= 0.0002\n",
    "    # fix the learning rate, no decay\n",
    "    model_dm.min_alpha = model_dm.alpha\n",
    "    \n",
    "    model_dbow.train(x_train_tagged, total_examples=model_dbow.corpus_count, epochs=model_dbow.epochs)\n",
    "    # decrease the learning rate\n",
    "    model_dbow.alpha -= 0.0002\n",
    "    # fix the learning rate, no decay\n",
    "    model_dbow.min_alpha = model_dbow.alpha"
   ]
  },
  {
   "cell_type": "markdown",
   "metadata": {},
   "source": [
    "#### Obtener vectores del conjunto de entrenamiento y de prueba"
   ]
  },
  {
   "cell_type": "code",
   "execution_count": 9,
   "metadata": {},
   "outputs": [
    {
     "name": "stdout",
     "output_type": "stream",
     "text": [
      "Train shape: (25000, 600)\n",
      "Test shape: (25000, 600)\n"
     ]
    }
   ],
   "source": [
    "def getVecs(model, corpus, size):\n",
    "    vecs = [np.array(model[i]).reshape((1, size)) for i,z in enumerate(corpus)]\n",
    "    return np.concatenate(vecs)\n",
    "\n",
    "#model\n",
    "train_vecs_dm = getVecs(model_dm, x_train, vec_size)\n",
    "train_vecs_dbow = getVecs(model_dbow, x_train, vec_size)\n",
    "train_vecs = np.hstack((train_vecs_dm, train_vecs_dbow))\n",
    "\n",
    "test_vecs_dbow = [model_dbow.infer_vector(doc.words, alpha=0.05) for doc in x_test_tagged]\n",
    "test_vecs_dm = [model_dm.infer_vector(doc.words, alpha=0.05) for doc in x_test_tagged]\n",
    "test_vecs = np.hstack((test_vecs_dm, test_vecs_dbow))\n",
    "\n",
    "print ('Train shape:',train_vecs.shape)\n",
    "print ('Test shape:',test_vecs.shape)"
   ]
  },
  {
   "cell_type": "markdown",
   "metadata": {},
   "source": [
    "#### Entrenamos y evaluamos el clasificador sobre los vectores obtenidos"
   ]
  },
  {
   "cell_type": "code",
   "execution_count": 10,
   "metadata": {},
   "outputs": [
    {
     "name": "stderr",
     "output_type": "stream",
     "text": [
      "C:\\ProgramData\\Anaconda3\\lib\\site-packages\\sklearn\\linear_model\\logistic.py:432: FutureWarning: Default solver will be changed to 'lbfgs' in 0.22. Specify a solver to silence this warning.\n",
      "  FutureWarning)\n"
     ]
    },
    {
     "name": "stdout",
     "output_type": "stream",
     "text": [
      "Test Accuracy: 0.74\n"
     ]
    }
   ],
   "source": [
    "from sklearn.linear_model import LogisticRegression\n",
    "lr = LogisticRegression()\n",
    "lr.fit(train_vecs, y_train)\n",
    "print ('Test Accuracy: %.2f'%lr.score(test_vecs, y_test))"
   ]
  },
  {
   "cell_type": "markdown",
   "metadata": {},
   "source": [
    "### Construimos vector de documentos a partir de vectores de palabras: Word2Vec y fasttext"
   ]
  },
  {
   "cell_type": "code",
   "execution_count": 11,
   "metadata": {},
   "outputs": [],
   "source": [
    "def buildWordVector(text, size, model):\n",
    "    vec = np.zeros(size).reshape((1, size))\n",
    "    count = 0.\n",
    "    for word in text:\n",
    "        try:\n",
    "            vec += model[word].reshape((1, size))\n",
    "            count += 1.\n",
    "        except KeyError:\n",
    "            continue\n",
    "    if count != 0:\n",
    "        vec /= count\n",
    "    return vec"
   ]
  },
  {
   "cell_type": "code",
   "execution_count": 12,
   "metadata": {},
   "outputs": [
    {
     "name": "stderr",
     "output_type": "stream",
     "text": [
      "C:\\ProgramData\\Anaconda3\\lib\\site-packages\\sklearn\\linear_model\\logistic.py:432: FutureWarning: Default solver will be changed to 'lbfgs' in 0.22. Specify a solver to silence this warning.\n",
      "  FutureWarning)\n"
     ]
    },
    {
     "name": "stdout",
     "output_type": "stream",
     "text": [
      "Test Accuracy: 0.50\n"
     ]
    }
   ],
   "source": [
    "from sklearn.preprocessing import scale\n",
    "\n",
    "n_dim = 300\n",
    "\n",
    "train_vecs = np.concatenate([buildWordVector(z, n_dim, word2v_model) for z in x_train])\n",
    "test_vecs = np.concatenate([buildWordVector(z, n_dim, word2v_model) for z in x_test])\n",
    "\n",
    "train_vecs = scale(train_vecs)\n",
    "lr = LogisticRegression()\n",
    "lr.fit(train_vecs, y_train)\n",
    "print ('Test Accuracy: %.2f'%lr.score(test_vecs, y_test))"
   ]
  },
  {
   "cell_type": "code",
   "execution_count": 13,
   "metadata": {},
   "outputs": [
    {
     "name": "stderr",
     "output_type": "stream",
     "text": [
      "C:\\ProgramData\\Anaconda3\\lib\\site-packages\\sklearn\\linear_model\\logistic.py:432: FutureWarning: Default solver will be changed to 'lbfgs' in 0.22. Specify a solver to silence this warning.\n",
      "  FutureWarning)\n"
     ]
    },
    {
     "name": "stdout",
     "output_type": "stream",
     "text": [
      "Test Accuracy: 0.75\n"
     ]
    }
   ],
   "source": [
    "from sklearn.preprocessing import scale\n",
    "\n",
    "n_dim = 300\n",
    "\n",
    "train_vecs = np.concatenate([buildWordVector(z, n_dim, ftt_model) for z in x_train])\n",
    "test_vecs = np.concatenate([buildWordVector(z, n_dim, ftt_model) for z in x_test])\n",
    "\n",
    "train_vecs = scale(train_vecs)\n",
    "lr = LogisticRegression()\n",
    "lr.fit(train_vecs, y_train)\n",
    "print ('Test Accuracy: %.2f'%lr.score(test_vecs, y_test))"
   ]
  },
  {
   "cell_type": "code",
   "execution_count": null,
   "metadata": {},
   "outputs": [],
   "source": []
  },
  {
   "cell_type": "markdown",
   "metadata": {},
   "source": [
    "# PCA"
   ]
  },
  {
   "cell_type": "markdown",
   "metadata": {},
   "source": [
    "Instalación de mglearn en Anaconda\n",
    "<code>conda install pip</code>\n",
    "<code>pip install mglearn</code>"
   ]
  },
  {
   "cell_type": "code",
   "execution_count": 25,
   "metadata": {},
   "outputs": [],
   "source": [
    "import sklearn\n",
    "\n",
    "# Librerías que nos ayuda para graficar las datas\n",
    "import mglearn\n",
    "import matplotlib.pyplot as plt\n",
    "\n",
    "# Set de datos de cancer, son estudios de 30 características para decir si un tumor es benigno o maligno\n",
    "from sklearn.datasets import load_breast_cancer\n",
    "from sklearn.decomposition import PCA\n",
    "\n",
    "# En el editor de Jupyter nos permite ver las gráficas dentro del editor\n",
    "%matplotlib inline"
   ]
  },
  {
   "cell_type": "code",
   "execution_count": 5,
   "metadata": {},
   "outputs": [
    {
     "data": {
      "image/png": "[encoded data removed]",
      "text/plain": [
       "<Figure size 720x720 with 4 Axes>"
      ]
     },
     "metadata": {
      "needs_background": "light"
     },
     "output_type": "display_data"
    }
   ],
   "source": [
    "# ¿Qués hace PCA?\n",
    "mglearn.plots.plot_pca_illustration()\n",
    "\n",
    "# 1. Encuentre el eje para el componente 1 y el 2 (el C1 es el eje de mayor varianza y el C2 es ortogonal al eje del C1)\n",
    "# 2. Rota la data horizontal, restando el promedio a cada dato, centrando el set de datos en el eje 0\n",
    "# 3. Grafica una línea recta, donde el eje horizontal es el componente 1 y el 2do eje serían las características de la gráfica 1\n",
    "# 4. Le suma al promdio restado para hacer la rotación.\n",
    "# Concluyendo con una gráfica que tiene la misma dirección a la data original, la diferencia es que no hay tanto ruido"
   ]
  },
  {
   "cell_type": "code",
   "execution_count": 27,
   "metadata": {},
   "outputs": [
    {
     "data": {
      "text/plain": [
       "array(['mean radius', 'mean texture', 'mean perimeter', 'mean area',\n",
       "       'mean smoothness', 'mean compactness', 'mean concavity',\n",
       "       'mean concave points', 'mean symmetry', 'mean fractal dimension',\n",
       "       'radius error', 'texture error', 'perimeter error', 'area error',\n",
       "       'smoothness error', 'compactness error', 'concavity error',\n",
       "       'concave points error', 'symmetry error',\n",
       "       'fractal dimension error', 'worst radius', 'worst texture',\n",
       "       'worst perimeter', 'worst area', 'worst smoothness',\n",
       "       'worst compactness', 'worst concavity', 'worst concave points',\n",
       "       'worst symmetry', 'worst fractal dimension'], dtype='<U23')"
      ]
     },
     "execution_count": 27,
     "metadata": {},
     "output_type": "execute_result"
    }
   ],
   "source": [
    "# Cargamos los datos\n",
    "cancer = load_breast_cancer()\n",
    "# Mostrar los nombres de las características\n",
    "cancer.feature_names"
   ]
  },
  {
   "cell_type": "code",
   "execution_count": 7,
   "metadata": {},
   "outputs": [
    {
     "data": {
      "text/plain": [
       "(30,)"
      ]
     },
     "execution_count": 7,
     "metadata": {},
     "output_type": "execute_result"
    }
   ],
   "source": [
    "cancer.feature_names.shape"
   ]
  },
  {
   "cell_type": "code",
   "execution_count": 8,
   "metadata": {},
   "outputs": [
    {
     "data": {
      "text/plain": [
       "PCA(copy=True, iterated_power='auto', n_components=2, random_state=None,\n",
       "    svd_solver='auto', tol=0.0, whiten=False)"
      ]
     },
     "execution_count": 8,
     "metadata": {},
     "output_type": "execute_result"
    }
   ],
   "source": [
    "pca = PCA(n_components=2) # 2 componentes = 2 dimensiones (mediciones vs características)\n",
    "pca.fit(cancer.data) # Para entrenar el PCA con los datos"
   ]
  },
  {
   "cell_type": "code",
   "execution_count": 9,
   "metadata": {},
   "outputs": [],
   "source": [
    "# Para transformar los datos\n",
    "transformada = pca.transform(cancer.data)"
   ]
  },
  {
   "cell_type": "code",
   "execution_count": 10,
   "metadata": {},
   "outputs": [
    {
     "name": "stdout",
     "output_type": "stream",
     "text": [
      "(569, 30)\n",
      "(569, 2)\n"
     ]
    }
   ],
   "source": [
    "print(cancer.data.shape)\n",
    "print(transformada.shape)"
   ]
  },
  {
   "cell_type": "code",
   "execution_count": 11,
   "metadata": {},
   "outputs": [
    {
     "data": {
      "text/plain": [
       "Text(0, 0.5, 'PCA 2')"
      ]
     },
     "execution_count": 11,
     "metadata": {},
     "output_type": "execute_result"
    },
    {
     "data": {
      "image/png": "[encoded data removed]",
      "text/plain": [
       "<Figure size 432x288 with 1 Axes>"
      ]
     },
     "metadata": {
      "needs_background": "light"
     },
     "output_type": "display_data"
    }
   ],
   "source": [
    "mglearn.discrete_scatter(transformada[:,0],transformada[:,1], cancer.target)\n",
    "plt.legend(cancer.target_names,loc='best')\n",
    "plt.xlabel('PCA 1')\n",
    "plt.ylabel('PCA 2')"
   ]
  },
  {
   "cell_type": "markdown",
   "metadata": {},
   "source": [
    "Se puede visualizar una abstracción de los datos. En el que se refleja un comportamiento en la información. Todos los tumores benignos se agrupan a la izquierda, y gran parte de los tumores malignos al lado derecho."
   ]
  },
  {
   "cell_type": "code",
   "execution_count": 12,
   "metadata": {},
   "outputs": [
    {
     "data": {
      "text/plain": [
       "Text(0, 0.5, 'PCA 2')"
      ]
     },
     "execution_count": 12,
     "metadata": {},
     "output_type": "execute_result"
    },
    {
     "data": {
      "image/png": "[encoded data removed]",
      "text/plain": [
       "<Figure size 432x288 with 1 Axes>"
      ]
     },
     "metadata": {
      "needs_background": "light"
     },
     "output_type": "display_data"
    }
   ],
   "source": [
    "# Las mediciones de los datos, se transforman a una escala similar en el rango 0-1.\n",
    "# Ayuda a no estar manejando valores muy pequeños contra valores muy grandes\n",
    "from sklearn.preprocessing import MinMaxScaler\n",
    "\n",
    "escala = MinMaxScaler()\n",
    "escala.fit(cancer.data)\n",
    "escalada = escala.transform(cancer.data)\n",
    "\n",
    "pca.fit(escalada)\n",
    "transformada = pca.transform(escalada)\n",
    "\n",
    "mglearn.discrete_scatter(transformada[:,0],transformada[:,1], cancer.target)\n",
    "plt.legend(cancer.target_names,loc='best')\n",
    "plt.gca()\n",
    "plt.xlabel('PCA 1')\n",
    "plt.ylabel('PCA 2')"
   ]
  },
  {
   "cell_type": "markdown",
   "metadata": {},
   "source": [
    "Es la misma data, pero escalada en rangos menores. Y se pueden vizualizar mejor las correlaciones antes observadas. En este sentido se puede decir que esta data si nos sirve para hacer predicciones; y que si a un algoritmo lo alimentamos con la data original o con la data ya transformada con PCA, en el caso del entrenamiento."
   ]
  },
  {
   "cell_type": "code",
   "execution_count": 14,
   "metadata": {},
   "outputs": [
    {
     "data": {
      "text/plain": [
       "array([[1.799e+01, 1.038e+01, 1.228e+02, ..., 2.654e-01, 4.601e-01,\n",
       "        1.189e-01],\n",
       "       [2.057e+01, 1.777e+01, 1.329e+02, ..., 1.860e-01, 2.750e-01,\n",
       "        8.902e-02],\n",
       "       [1.969e+01, 2.125e+01, 1.300e+02, ..., 2.430e-01, 3.613e-01,\n",
       "        8.758e-02],\n",
       "       ...,\n",
       "       [1.660e+01, 2.808e+01, 1.083e+02, ..., 1.418e-01, 2.218e-01,\n",
       "        7.820e-02],\n",
       "       [2.060e+01, 2.933e+01, 1.401e+02, ..., 2.650e-01, 4.087e-01,\n",
       "        1.240e-01],\n",
       "       [7.760e+00, 2.454e+01, 4.792e+01, ..., 0.000e+00, 2.871e-01,\n",
       "        7.039e-02]])"
      ]
     },
     "execution_count": 14,
     "metadata": {},
     "output_type": "execute_result"
    }
   ],
   "source": [
    "cancer.data # Ver la data no escalada, rangos de diferentes escalas"
   ]
  },
  {
   "cell_type": "code",
   "execution_count": 13,
   "metadata": {},
   "outputs": [
    {
     "data": {
      "text/plain": [
       "array([[0.52103744, 0.0226581 , 0.54598853, ..., 0.91202749, 0.59846245,\n",
       "        0.41886396],\n",
       "       [0.64314449, 0.27257355, 0.61578329, ..., 0.63917526, 0.23358959,\n",
       "        0.22287813],\n",
       "       [0.60149557, 0.3902604 , 0.59574321, ..., 0.83505155, 0.40370589,\n",
       "        0.21343303],\n",
       "       ...,\n",
       "       [0.45525108, 0.62123774, 0.44578813, ..., 0.48728522, 0.12872068,\n",
       "        0.1519087 ],\n",
       "       [0.64456434, 0.66351031, 0.66553797, ..., 0.91065292, 0.49714173,\n",
       "        0.45231536],\n",
       "       [0.03686876, 0.50152181, 0.02853984, ..., 0.        , 0.25744136,\n",
       "        0.10068215]])"
      ]
     },
     "execution_count": 13,
     "metadata": {},
     "output_type": "execute_result"
    }
   ],
   "source": [
    "escalada # Ver la data escalada los valores en rango 0-1"
   ]
  },
  {
   "cell_type": "code",
   "execution_count": null,
   "metadata": {},
   "outputs": [],
   "source": []
  },
  {
   "cell_type": "markdown",
   "metadata": {},
   "source": [
    "## Caso Cluster de palabras\n",
    "\n",
    "Descarga de lista de palabras, <a href=\"https://www.enchantedlearning.com/wordlist/\">aquí</a>\n",
    "<ul>\n",
    "    <li>Food</li>\n",
    "    <li>Sports</li>\n",
    "    <li>Weather</li>\n",
    "</ul>"
   ]
  },
  {
   "cell_type": "code",
   "execution_count": 90,
   "metadata": {},
   "outputs": [],
   "source": [
    "import numpy as np\n",
    "from pandas import DataFrame\n",
    "from sklearn.preprocessing import StandardScaler\n",
    "from sklearn.decomposition import PCA\n",
    "\n",
    "import matplotlib.pyplot as plt\n",
    "%matplotlib inline"
   ]
  },
  {
   "cell_type": "code",
   "execution_count": 95,
   "metadata": {},
   "outputs": [],
   "source": [
    "with open('words/food_words.txt', 'r') as infile:\n",
    "    food_words = infile.readlines()\n",
    "with open('words/sports_words.txt', 'r') as infile:\n",
    "    sports_words = infile.readlines()\n",
    "with open('words/weather_words.txt', 'r') as infile:\n",
    "    weather_words = infile.readlines()\n",
    "    \n",
    "def getWordVecs(words, model):\n",
    "    vecs = []\n",
    "    for word in words:\n",
    "        word = word.replace('\\n', '')\n",
    "        try:\n",
    "            vecs.append(model[word].reshape((1,300)))\n",
    "        except KeyError:\n",
    "            continue\n",
    "    vecs = np.concatenate(vecs)\n",
    "    return vecs\n",
    "\n",
    "food_w2v = getWordVecs(food_words, word2v_model)\n",
    "sports_w2v = getWordVecs(sports_words, word2v_model)\n",
    "weather_w2v = getWordVecs(weather_words, word2v_model)\n",
    "\n",
    "food_ftt = getWordVecs(food_words, ftt_model)\n",
    "sports_ftt = getWordVecs(sports_words, ftt_model)\n",
    "weather_ftt = getWordVecs(weather_words, ftt_model)"
   ]
  },
  {
   "cell_type": "markdown",
   "metadata": {},
   "source": [
    "### Visualización de clusters\n",
    "#### word2vec"
   ]
  },
  {
   "cell_type": "code",
   "execution_count": 96,
   "metadata": {},
   "outputs": [
    {
     "data": {
      "image/png": "[encoded data removed]",
      "text/plain": [
       "<Figure size 576x576 with 1 Axes>"
      ]
     },
     "metadata": {
      "needs_background": "light"
     },
     "output_type": "display_data"
    }
   ],
   "source": [
    "df = DataFrame( np.concatenate((food_w2v, sports_w2v, weather_w2v)) )\n",
    "\n",
    "# normalizamos los datos\n",
    "x = StandardScaler().fit_transform(df)\n",
    "\n",
    "pca = PCA(n_components=2)\n",
    "principalComponents = pca.fit_transform(x)\n",
    "principalDf = pd.DataFrame(\n",
    "    data = principalComponents,\n",
    "    columns = ['principal component 1', 'principal component 2']\n",
    ")\n",
    "target =  DataFrame(\n",
    "    data = ['food']*len(food_w2v) + ['sports']*len(sports_w2v) + ['weather']*len(weather_w2v),\n",
    "    columns = ['target']\n",
    ")\n",
    "finalDf = pd.concat([principalDf, target], axis = 1)\n",
    "\n",
    "fig = plt.figure(figsize = (8,8))\n",
    "ax = fig.add_subplot(1,1,1) \n",
    "ax.set_xlabel('Principal Component 1', fontsize = 15)\n",
    "ax.set_ylabel('Principal Component 2', fontsize = 15)\n",
    "ax.set_title('2 component PCA', fontsize = 20)\n",
    "targets = ['food', 'sports', 'weather']\n",
    "colors = ['r', 'g', 'b']\n",
    "for target, color in zip(targets,colors):\n",
    "    indicesToKeep = finalDf['target'] == target\n",
    "    ax.scatter(\n",
    "        finalDf.loc[indicesToKeep, 'principal component 1'],\n",
    "        finalDf.loc[indicesToKeep, 'principal component 2'],\n",
    "        c = color,\n",
    "        s = 50\n",
    "    )\n",
    "ax.legend(targets)\n",
    "ax.grid()"
   ]
  },
  {
   "cell_type": "markdown",
   "metadata": {},
   "source": [
    "### Visualización de clusters\n",
    "#### fasttext"
   ]
  },
  {
   "cell_type": "code",
   "execution_count": 93,
   "metadata": {},
   "outputs": [
    {
     "data": {
      "image/png": "[encoded data removed]",
      "text/plain": [
       "<Figure size 576x576 with 1 Axes>"
      ]
     },
     "metadata": {
      "needs_background": "light"
     },
     "output_type": "display_data"
    }
   ],
   "source": [
    "df = DataFrame( np.concatenate((food_ftt, sports_ftt, weather_ftt)) )\n",
    "\n",
    "# normalizamos los datos\n",
    "x = StandardScaler().fit_transform(df)\n",
    "\n",
    "pca = PCA(n_components=2)\n",
    "principalComponents = pca.fit_transform(x)\n",
    "principalDf = pd.DataFrame(\n",
    "    data = principalComponents,\n",
    "    columns = ['principal component 1', 'principal component 2']\n",
    ")\n",
    "target =  DataFrame(\n",
    "    data = ['food']*len(food_ftt) + ['sports']*len(sports_ftt) + ['weather']*len(weather_ftt),\n",
    "    columns = ['target']\n",
    ")\n",
    "finalDf = pd.concat([principalDf, target], axis = 1)\n",
    "\n",
    "fig = plt.figure(figsize = (8,8))\n",
    "ax = fig.add_subplot(1,1,1) \n",
    "ax.set_xlabel('Principal Component 1', fontsize = 15)\n",
    "ax.set_ylabel('Principal Component 2', fontsize = 15)\n",
    "ax.set_title('2 component PCA', fontsize = 20)\n",
    "targets = ['food', 'sports', 'weather']\n",
    "colors = ['r', 'g', 'b']\n",
    "for target, color in zip(targets,colors):\n",
    "    indicesToKeep = finalDf['target'] == target\n",
    "    ax.scatter(\n",
    "        finalDf.loc[indicesToKeep, 'principal component 1'],\n",
    "        finalDf.loc[indicesToKeep, 'principal component 2'],\n",
    "        c = color,\n",
    "        s = 50\n",
    "    )\n",
    "ax.legend(targets)\n",
    "ax.grid()"
   ]
  },
  {
   "cell_type": "code",
   "execution_count": null,
   "metadata": {},
   "outputs": [],
   "source": []
  },
  {
   "cell_type": "markdown",
   "metadata": {},
   "source": [
    "### Estudiar Caso de Estudio: alquiler de vivienda\n",
    "\n",
    "<p>Imaginemos que queremos predecir los precios de alquiler de vivienda del mercado. Al recopilar información de diversas fuentes tendremos en cuenta variables como tipo de vivienda, tamaño de vivienda, antigüedad, servicios, habitaciones, con/sin jardín, con/sin piscina, con/sin muebles  pero también podemos tener en cuenta la distancia al centro, si hay colegio en las cercanías, o supermercados, si es un entorno ruidoso, si tiene autopistas en las cercanías, la “seguridad del barrio”, si se aceptan mascotas, tiene wifi, tiene garaje, trastero… y seguir y seguir sumando variables.</p>\n",
    "<p>Utilizaremos un archivo csv de entrada, en el cual decidíamos si convenía alquilar o comprar casa dadas 9 dimensiones. En este ejemplo:</p>\n",
    "<ul>\n",
    "    <li>normalizamos los datos de entrada,</li>\n",
    "    <li>aplicamos PCA</li>\n",
    "    <li>y veremos que con 5 de las nuevas dimensiones (y descartando 4) obtendremos</li>\n",
    "    <ul>\n",
    "        <li>hasta un 85% de variación y</li>\n",
    "        <li>buenas predicciones.</li>\n",
    "    </ul>\n",
    "    <li>Realizaremos 2 gráficas:</li>\n",
    "    <ul>\n",
    "        <li>una con el acumulado de variabilidad explicada y</li>\n",
    "        <li>una gráfica 2D, en donde el eje X e Y serán los 2 primero componentes principales obtenidos por PCA.</li>\n",
    "    </ul>\n",
    "</ul>\n",
    "\n",
    "<p>Y veremos cómo los resultados “comprar ó alquilar” tienen bastante buena separación en 2 dimensiones.</p>"
   ]
  },
  {
   "cell_type": "code",
   "execution_count": 18,
   "metadata": {},
   "outputs": [
    {
     "name": "stdout",
     "output_type": "stream",
     "text": [
      "     ingresos  gastos_comunes  pago_coche  gastos_otros  ahorros  vivienda  \\\n",
      "192      4653            1024         447           703    16952    392957   \n",
      "193      3390             881         194           584    34601    304112   \n",
      "194      2969             623          72           620    29663    289205   \n",
      "195      4169            1292          48           333    28503    239872   \n",
      "196      4054            1095         371           440    22183    223971   \n",
      "197      3831             690         352           488    10723    363120   \n",
      "198      3961            1030         270           475    21880    280421   \n",
      "199      3184             955         276           684    35565    388025   \n",
      "200      3334             867         369           652    19985    376892   \n",
      "201      3988            1157         105           382    11980    257580   \n",
      "\n",
      "     estado_civil  hijos  trabajo  comprar  \n",
      "192             0      0        3        0  \n",
      "193             2      2        5        0  \n",
      "194             2      2        6        0  \n",
      "195             2      1        7        1  \n",
      "196             1      0        3        0  \n",
      "197             0      0        2        0  \n",
      "198             2      3        8        0  \n",
      "199             1      3        8        0  \n",
      "200             1      2        5        0  \n",
      "201             0      0        4        0  \n",
      "shape of X_pca (202, 9)\n",
      "[0.29913557 0.23294923 0.11711241 0.10685622 0.09635279 0.05629866\n",
      " 0.04145579 0.03017819 0.01966115]\n",
      "suma: 0.8524062117714309\n"
     ]
    },
    {
     "data": {
      "image/png": "[encoded data removed]",
      "text/plain": [
       "<Figure size 1152x648 with 1 Axes>"
      ]
     },
     "metadata": {},
     "output_type": "display_data"
    },
    {
     "data": {
      "image/png": "[encoded data removed]",
      "text/plain": [
       "<Figure size 504x360 with 1 Axes>"
      ]
     },
     "metadata": {},
     "output_type": "display_data"
    }
   ],
   "source": [
    "# Ejercicios tomado de https://www.aprendemachinelearning.com/comprende-principal-component-analysis/\n",
    "\n",
    "# importamos librerías\n",
    "import pandas as pd\n",
    "import numpy as np\n",
    "import matplotlib.pyplot as plt\n",
    "%matplotlib inline\n",
    "plt.rcParams['figure.figsize'] = (16, 9)\n",
    "plt.style.use('ggplot')\n",
    "from sklearn.decomposition import PCA\n",
    "from sklearn.preprocessing import StandardScaler\n",
    " \n",
    "# cargamos los datos de entrada\n",
    "dataframe = pd.read_csv(r\"comprar_alquilar.csv\")\n",
    "print(dataframe.tail(10))\n",
    " \n",
    "# normalizamos los datos\n",
    "scaler = StandardScaler()\n",
    "df = dataframe.drop(['comprar'], axis=1) # quito la variable dependiente \"Y\"\n",
    "scaler.fit(df) # calculo la media para poder hacer la transformacion\n",
    "X_scaled = scaler.transform(df)# Ahora si, escalo los datos y los normalizo\n",
    " \n",
    "# Instanciamos objeto PCA y aplicamos\n",
    "pca=PCA(n_components=9) # Otra opción es instanciar pca sólo con dimensiones nuevas hasta obtener un mínimo\n",
    "pca.fit(X_scaled) # obtener los componentes principales\n",
    "X_pca=pca.transform(X_scaled) # convertimos nuestros datos con las nuevas dimensiones de PCA\n",
    " \n",
    "print(\"shape of X_pca\", X_pca.shape)\n",
    "expl = pca.explained_variance_ratio_\n",
    "print(expl)\n",
    "print('suma:',sum(expl[0:5]))\n",
    "#Vemos que con 5 componentes tenemos algo mas del 85% de varianza explicada\n",
    " \n",
    "#graficamos el acumulado de varianza explicada en las nuevas dimensiones\n",
    "plt.plot(np.cumsum(pca.explained_variance_ratio_))\n",
    "plt.xlabel('number of components')\n",
    "plt.ylabel('cumulative explained variance')\n",
    "plt.show()\n",
    " \n",
    "#graficamos en 2 Dimensiones, tomando los 2 primeros componentes principales\n",
    "Xax=X_pca[:,0]\n",
    "Yax=X_pca[:,1]\n",
    "labels=dataframe['comprar'].values\n",
    "cdict={0:'red',1:'green'}\n",
    "labl={0:'Alquilar',1:'Comprar'}\n",
    "marker={0:'*',1:'o'}\n",
    "alpha={0:.3, 1:.5}\n",
    "fig,ax=plt.subplots(figsize=(7,5))\n",
    "fig.patch.set_facecolor('white')\n",
    "for l in np.unique(labels):\n",
    "    ix=np.where(labels==l)\n",
    "    ax.scatter(Xax[ix],Yax[ix],c=cdict[l],label=labl[l],s=40,marker=marker[l],alpha=alpha[l])\n",
    " \n",
    "plt.xlabel(\"First Principal Component\",fontsize=14)\n",
    "plt.ylabel(\"Second Principal Component\",fontsize=14)\n",
    "plt.legend()\n",
    "plt.show()"
   ]
  },
  {
   "cell_type": "code",
   "execution_count": null,
   "metadata": {},
   "outputs": [],
   "source": []
  }
 ],
 "metadata": {
  "kernelspec": {
   "display_name": "Python 3",
   "language": "python",
   "name": "python3"
  },
  "language_info": {
   "codemirror_mode": {
    "name": "ipython",
    "version": 3
   },
   "file_extension": ".py",
   "mimetype": "text/x-python",
   "name": "python",
   "nbconvert_exporter": "python",
   "pygments_lexer": "ipython3",
   "version": "3.7.4"
  }
 },
 "nbformat": 4,
 "nbformat_minor": 2
}
