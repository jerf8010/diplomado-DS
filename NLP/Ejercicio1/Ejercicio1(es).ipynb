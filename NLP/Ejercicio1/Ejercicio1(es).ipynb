{
  "cells": [
    {
      "cell_type": "markdown",
      "metadata": {
        "id": "C4eUtEA3oJUX"
      },
      "source": [
        "## Trabajando con texto"
      ]
    },
    {
      "cell_type": "code",
      "execution_count": null,
      "metadata": {
        "id": "jhd3czTcoJUh",
        "colab": {
          "base_uri": "https://localhost:8080/",
          "height": 55
        },
        "outputId": "82586846-6521-4600-e790-1f03dac1426d"
      },
      "outputs": [
        {
          "output_type": "execute_result",
          "data": {
            "text/plain": [
              "'\"Por mi raza hablará el espíritu\" significa la convicción de la UNAM de que \"la raza elaborará una cultura de tendencias nuevas, de esencia espiritual y libres\", explicó Vasconcelos al presentar la propuesta.'"
            ],
            "application/vnd.google.colaboratory.intrinsic+json": {
              "type": "string"
            }
          },
          "metadata": {},
          "execution_count": 1
        }
      ],
      "source": [
        "text1 = '''\"Por mi raza hablará el espíritu\" significa la convicción de la UNAM de que \"la raza elaborará una cultura de tendencias nuevas, de esencia espiritual y libres\", explicó Vasconcelos al presentar la propuesta.'''\n",
        "text1"
      ]
    },
    {
      "cell_type": "code",
      "execution_count": null,
      "metadata": {
        "id": "mDu0Q9YIoJUk",
        "colab": {
          "base_uri": "https://localhost:8080/"
        },
        "outputId": "3ec37399-3d76-4c39-9a26-3b9edc55dfbf"
      },
      "outputs": [
        {
          "output_type": "execute_result",
          "data": {
            "text/plain": [
              "208"
            ]
          },
          "metadata": {},
          "execution_count": 2
        }
      ],
      "source": [
        "len(text1) # La longitud de texto1"
      ]
    },
    {
      "cell_type": "code",
      "execution_count": null,
      "metadata": {
        "id": "VcFkxo6EoJUm",
        "colab": {
          "base_uri": "https://localhost:8080/"
        },
        "outputId": "20088b6e-6f90-4925-d352-bf7e74db1d23"
      },
      "outputs": [
        {
          "output_type": "execute_result",
          "data": {
            "text/plain": [
              "33"
            ]
          },
          "metadata": {},
          "execution_count": 3
        }
      ],
      "source": [
        "text2 = text1.split(' ') # Retorna la list de palabras en texto2, separando por ' '.\n",
        "\n",
        "len(text2)"
      ]
    },
    {
      "cell_type": "code",
      "execution_count": null,
      "metadata": {
        "id": "dOVITSS2oJUm",
        "colab": {
          "base_uri": "https://localhost:8080/"
        },
        "outputId": "11b008a1-5ac5-45c8-83c3-a832b16b03e9"
      },
      "outputs": [
        {
          "output_type": "execute_result",
          "data": {
            "text/plain": [
              "['\"Por',\n",
              " 'mi',\n",
              " 'raza',\n",
              " 'hablará',\n",
              " 'el',\n",
              " 'espíritu\"',\n",
              " 'significa',\n",
              " 'la',\n",
              " 'convicción',\n",
              " 'de',\n",
              " 'la',\n",
              " 'UNAM',\n",
              " 'de',\n",
              " 'que',\n",
              " '\"la',\n",
              " 'raza',\n",
              " 'elaborará',\n",
              " 'una',\n",
              " 'cultura',\n",
              " 'de',\n",
              " 'tendencias',\n",
              " 'nuevas,',\n",
              " 'de',\n",
              " 'esencia',\n",
              " 'espiritual',\n",
              " 'y',\n",
              " 'libres\",',\n",
              " 'explicó',\n",
              " 'Vasconcelos',\n",
              " 'al',\n",
              " 'presentar',\n",
              " 'la',\n",
              " 'propuesta.']"
            ]
          },
          "metadata": {},
          "execution_count": 4
        }
      ],
      "source": [
        "text2"
      ]
    },
    {
      "cell_type": "markdown",
      "metadata": {
        "id": "dp7W6bn1oJUm"
      },
      "source": [
        "## Funciones de comparación de palabras\n",
        "<ul>\n",
        "    <li>s.startswith(t)</li>\n",
        "    <li>s.endswith(t)</li>\n",
        "    <li>t in s</li>\n",
        "    <li>s.isupper()</li>\n",
        "    <li>s.islower()</li>\n",
        "    <li>s.istitle()()</li>\n",
        "    <li>s.isalpha()</li>\n",
        "    <li>s.isdigit()</li>\n",
        "    <li>s.isalnum()</li>\n",
        "</ul>\n",
        "\n",
        "## Operaciones de cadena\n",
        "<ul>\n",
        "    <li>s.upper()</li>\n",
        "    <li>s.lower()</li>\n",
        "    <li>s.titlecase()</li>\n",
        "    <li>s.split(t)</li>\n",
        "    <li>s.splitlines()</li>\n",
        "    <li>s.join(t)</li>\n",
        "    <li>s.strip()</li>\n",
        "    <li>s.rstrip()</li>\n",
        "    <li>s.find(t)</li>\n",
        "    <li>s.rfind(t)</li>\n",
        "    <li>s.replace(u, v)</li>\n",
        "</ul>\n",
        "\n",
        "\n",
        "<a>https://www.w3schools.com/python/python_ref_string.asp</a> <br>\n",
        "<a>https://www.programiz.com/python-programming/methods/string</a>"
      ]
    },
    {
      "cell_type": "markdown",
      "metadata": {
        "id": "c757kfS0oJUo"
      },
      "source": [
        "### Buscando palabras específicas"
      ]
    },
    {
      "cell_type": "code",
      "execution_count": null,
      "metadata": {
        "id": "eTAPFl4OoJUp",
        "colab": {
          "base_uri": "https://localhost:8080/"
        },
        "outputId": "2cb83c47-a271-4c1f-ebb5-27c686df9e46"
      },
      "outputs": [
        {
          "output_type": "execute_result",
          "data": {
            "text/plain": [
              "['hablará',\n",
              " 'espíritu\"',\n",
              " 'significa',\n",
              " 'convicción',\n",
              " 'elaborará',\n",
              " 'cultura',\n",
              " 'tendencias',\n",
              " 'nuevas,',\n",
              " 'esencia',\n",
              " 'espiritual',\n",
              " 'libres\",',\n",
              " 'explicó',\n",
              " 'Vasconcelos',\n",
              " 'presentar',\n",
              " 'propuesta.']"
            ]
          },
          "metadata": {},
          "execution_count": 5
        }
      ],
      "source": [
        "[w for w in text2 if len(w) > 5] # Palabras que tienen mas de 5 letras en texto2"
      ]
    },
    {
      "cell_type": "code",
      "execution_count": null,
      "metadata": {
        "id": "QYlW-2uAoJUp",
        "colab": {
          "base_uri": "https://localhost:8080/"
        },
        "outputId": "94be2551-f15b-41a4-dbba-a605437643ce"
      },
      "outputs": [
        {
          "output_type": "execute_result",
          "data": {
            "text/plain": [
              "['\"Por', 'Vasconcelos']"
            ]
          },
          "metadata": {},
          "execution_count": 6
        }
      ],
      "source": [
        "[w for w in text2 if w.istitle()] # Palabras con la primera letra en mayúsculas en texto2"
      ]
    },
    {
      "cell_type": "code",
      "execution_count": null,
      "metadata": {
        "id": "FbLPXV4BoJUp",
        "colab": {
          "base_uri": "https://localhost:8080/"
        },
        "outputId": "46bcff7f-70f3-4acf-e2de-b0b242b17584"
      },
      "outputs": [
        {
          "output_type": "execute_result",
          "data": {
            "text/plain": [
              "['tendencias', 'Vasconcelos']"
            ]
          },
          "metadata": {},
          "execution_count": 7
        }
      ],
      "source": [
        "[w for w in text2 if w.endswith('s')] # Palabras en texto2 que terminan en 's'"
      ]
    },
    {
      "cell_type": "markdown",
      "metadata": {
        "id": "gTb1y27KoJUr"
      },
      "source": [
        "¿Por qué no toma la palabra <b>nuevas</b> o <b>libres</b>?"
      ]
    },
    {
      "cell_type": "code",
      "execution_count": null,
      "metadata": {
        "id": "aC20XFCeoJUs",
        "colab": {
          "base_uri": "https://localhost:8080/"
        },
        "outputId": "672a9d86-8591-4592-bf0a-3bd27fc97a4c"
      },
      "outputs": [
        {
          "output_type": "execute_result",
          "data": {
            "text/plain": [
              "['Por',\n",
              " 'mi',\n",
              " 'raza',\n",
              " 'hablará',\n",
              " 'el',\n",
              " 'espíritu',\n",
              " 'significa',\n",
              " 'la',\n",
              " 'convicción',\n",
              " 'de',\n",
              " 'la',\n",
              " 'UNAM',\n",
              " 'de',\n",
              " 'que',\n",
              " 'la',\n",
              " 'raza',\n",
              " 'elaborará',\n",
              " 'una',\n",
              " 'cultura',\n",
              " 'de',\n",
              " 'tendencias',\n",
              " 'nuevas',\n",
              " 'de',\n",
              " 'esencia',\n",
              " 'espiritual',\n",
              " 'y',\n",
              " 'libres',\n",
              " 'explicó',\n",
              " 'Vasconcelos',\n",
              " 'al',\n",
              " 'presentar',\n",
              " 'la',\n",
              " 'propuesta.']"
            ]
          },
          "metadata": {},
          "execution_count": 10
        }
      ],
      "source": [
        "text3 = [w.replace(',', '').replace('\"', '') for w in text2]\n",
        "text3"
      ]
    },
    {
      "cell_type": "code",
      "execution_count": null,
      "metadata": {
        "id": "6oWZa8ScoJUs",
        "colab": {
          "base_uri": "https://localhost:8080/"
        },
        "outputId": "f3308bcc-61a9-4edb-a0de-2196e4b68440"
      },
      "outputs": [
        {
          "output_type": "execute_result",
          "data": {
            "text/plain": [
              "['tendencias', 'Vasconcelos']"
            ]
          },
          "metadata": {},
          "execution_count": 11
        }
      ],
      "source": [
        "[w for w in text2 if w.endswith('s')] # Palabras en texto2 que terminan en 's'"
      ]
    },
    {
      "cell_type": "markdown",
      "metadata": {
        "id": "0blwTQ7JoJUt"
      },
      "source": [
        "### De palabras a caracteres"
      ]
    },
    {
      "cell_type": "code",
      "execution_count": null,
      "metadata": {
        "id": "FYdf4YiNoJUt",
        "colab": {
          "base_uri": "https://localhost:8080/"
        },
        "outputId": "60f8ec54-d2fb-4159-fbe7-7178d9e2ab0a"
      },
      "outputs": [
        {
          "output_type": "execute_result",
          "data": {
            "text/plain": [
              "['social', 'cultural']"
            ]
          },
          "metadata": {},
          "execution_count": 12
        }
      ],
      "source": [
        "text4 = 'social-cultural'\n",
        "text5 = text4.split('-')\n",
        "text5"
      ]
    },
    {
      "cell_type": "code",
      "execution_count": null,
      "metadata": {
        "id": "rEgFrvf6oJUu",
        "colab": {
          "base_uri": "https://localhost:8080/",
          "height": 38
        },
        "outputId": "9185f8b5-a204-4232-f103-0d6d06085ae7"
      },
      "outputs": [
        {
          "output_type": "execute_result",
          "data": {
            "text/plain": [
              "'social-cultural'"
            ],
            "application/vnd.google.colaboratory.intrinsic+json": {
              "type": "string"
            }
          },
          "metadata": {},
          "execution_count": 13
        }
      ],
      "source": [
        "'-'.join(text5)"
      ]
    },
    {
      "cell_type": "code",
      "execution_count": null,
      "metadata": {
        "id": "Mc9qavl-oJUv",
        "colab": {
          "base_uri": "https://localhost:8080/",
          "height": 165
        },
        "outputId": "041592f0-118a-4eb7-b32e-d22d6ba2f501"
      },
      "outputs": [
        {
          "output_type": "error",
          "ename": "ValueError",
          "evalue": "ignored",
          "traceback": [
            "\u001b[0;31m---------------------------------------------------------------------------\u001b[0m",
            "\u001b[0;31mValueError\u001b[0m                                Traceback (most recent call last)",
            "\u001b[0;32m<ipython-input-14-d56e19bae474>\u001b[0m in \u001b[0;36m<module>\u001b[0;34m()\u001b[0m\n\u001b[0;32m----> 1\u001b[0;31m \u001b[0mtext4\u001b[0m\u001b[0;34m.\u001b[0m\u001b[0msplit\u001b[0m\u001b[0;34m(\u001b[0m\u001b[0;34m''\u001b[0m\u001b[0;34m)\u001b[0m \u001b[0;31m#forma incorrecta de separar por caracteres\u001b[0m\u001b[0;34m\u001b[0m\u001b[0;34m\u001b[0m\u001b[0m\n\u001b[0m",
            "\u001b[0;31mValueError\u001b[0m: empty separator"
          ]
        }
      ],
      "source": [
        "text4.split('') #forma incorrecta de separar por caracteres"
      ]
    },
    {
      "cell_type": "code",
      "execution_count": null,
      "metadata": {
        "id": "nAcUieW0oJUw",
        "colab": {
          "base_uri": "https://localhost:8080/"
        },
        "outputId": "a07cc57f-3bb4-4f58-9b03-75d0ae351063"
      },
      "outputs": [
        {
          "output_type": "execute_result",
          "data": {
            "text/plain": [
              "['s', 'o', 'c', 'i', 'a', 'l', '-', 'c', 'u', 'l', 't', 'u', 'r', 'a', 'l']"
            ]
          },
          "metadata": {},
          "execution_count": 15
        }
      ],
      "source": [
        "list(text4)"
      ]
    },
    {
      "cell_type": "code",
      "execution_count": null,
      "metadata": {
        "id": "q3ly1N5poJUw",
        "colab": {
          "base_uri": "https://localhost:8080/"
        },
        "outputId": "460d073d-5b2d-4328-edfd-d4f5bacb2c9b"
      },
      "outputs": [
        {
          "output_type": "execute_result",
          "data": {
            "text/plain": [
              "['s', 'o', 'c', 'i', 'a', 'l', '-', 'c', 'u', 'l', 't', 'u', 'r', 'a', 'l']"
            ]
          },
          "metadata": {},
          "execution_count": 16
        }
      ],
      "source": [
        "[c for c in text4]"
      ]
    },
    {
      "cell_type": "markdown",
      "metadata": {
        "id": "QYd6fgCNoJUw"
      },
      "source": [
        "Retomar el text1 para buscar palabras que terminan en 's'<br>\n",
        "<b>Sugerencia:</b> Para eliminar signos de puntuación usar la función <b>punctuation</b> de la librería <b>string</b>"
      ]
    },
    {
      "cell_type": "code",
      "execution_count": null,
      "metadata": {
        "id": "g8KlmeEpoJUx",
        "outputId": "bc9d3011-a838-4e28-a8c9-6fe6030977bb",
        "colab": {
          "base_uri": "https://localhost:8080/",
          "height": 38
        }
      },
      "outputs": [
        {
          "output_type": "execute_result",
          "data": {
            "text/plain": [
              "'!\"#$%&\\'()*+,-./:;<=>?@[\\\\]^_`{|}~'"
            ],
            "application/vnd.google.colaboratory.intrinsic+json": {
              "type": "string"
            }
          },
          "metadata": {},
          "execution_count": 17
        }
      ],
      "source": [
        "import string\n",
        "punct = string.punctuation\n",
        "punct"
      ]
    },
    {
      "cell_type": "code",
      "execution_count": null,
      "metadata": {
        "id": "45o5ai8goJU0",
        "colab": {
          "base_uri": "https://localhost:8080/"
        },
        "outputId": "76fdc259-6704-454a-fe86-e1ed889e3d46"
      },
      "outputs": [
        {
          "output_type": "stream",
          "name": "stdout",
          "text": [
            "\"Por mi raza hablará el espíritu\" significa la convicción de la UNAM de que \"la raza elaborará una cultura de tendencias nuevas, de esencia espiritual y libres\", explicó Vasconcelos al presentar la propuesta.\n",
            "Por mi raza hablará el espíritu significa la convicción de la UNAM de que la raza elaborará una cultura de tendencias nuevas de esencia espiritual y libres explicó Vasconcelos al presentar la propuesta\n"
          ]
        },
        {
          "output_type": "execute_result",
          "data": {
            "text/plain": [
              "['tendencias', 'nuevas', 'libres', 'Vasconcelos']"
            ]
          },
          "metadata": {},
          "execution_count": 18
        }
      ],
      "source": [
        "print(text1)\n",
        "\n",
        "for p in punct:\n",
        "  text1 = text1.replace(p, '')\n",
        "print(text1)\n",
        "\n",
        "text2 = text1.split(' ')\n",
        "[w for w in text2 if w.endswith('s')]"
      ]
    },
    {
      "cell_type": "markdown",
      "metadata": {
        "id": "FIobhVX-oJU1"
      },
      "source": [
        "### Eliminar repetidas"
      ]
    },
    {
      "cell_type": "code",
      "execution_count": null,
      "metadata": {
        "id": "58NQyU3AoJU1",
        "colab": {
          "base_uri": "https://localhost:8080/"
        },
        "outputId": "4db7c580-50bf-4a8c-9b00-e4feaa50713b"
      },
      "outputs": [
        {
          "output_type": "execute_result",
          "data": {
            "text/plain": [
              "6"
            ]
          },
          "metadata": {},
          "execution_count": 19
        }
      ],
      "source": [
        "# Podemos encontrar palabras unicas usando `set()`.\n",
        "\n",
        "text5 = 'Llovía y llovía como nunca llovía'\n",
        "text6 = text5.split(' ')\n",
        "\n",
        "len(text6)"
      ]
    },
    {
      "cell_type": "code",
      "execution_count": null,
      "metadata": {
        "id": "-kZgEmOMoJU2",
        "colab": {
          "base_uri": "https://localhost:8080/"
        },
        "outputId": "fffcecf1-7068-4af5-dddc-887a4bd8fff8"
      },
      "outputs": [
        {
          "output_type": "execute_result",
          "data": {
            "text/plain": [
              "5"
            ]
          },
          "metadata": {},
          "execution_count": 20
        }
      ],
      "source": [
        "len(set(text6))"
      ]
    },
    {
      "cell_type": "code",
      "execution_count": null,
      "metadata": {
        "id": "AecP8FGsoJU3",
        "colab": {
          "base_uri": "https://localhost:8080/"
        },
        "outputId": "d36d5732-dac6-4739-d064-36abb840fa3f"
      },
      "outputs": [
        {
          "output_type": "execute_result",
          "data": {
            "text/plain": [
              "{'Llovía', 'como', 'llovía', 'nunca', 'y'}"
            ]
          },
          "metadata": {},
          "execution_count": 21
        }
      ],
      "source": [
        "set(text6)"
      ]
    },
    {
      "cell_type": "code",
      "execution_count": null,
      "metadata": {
        "id": "U6PlIes9oJU3",
        "colab": {
          "base_uri": "https://localhost:8080/"
        },
        "outputId": "b4d9bf6d-fe11-449f-812e-98836b4eb3a8"
      },
      "outputs": [
        {
          "output_type": "execute_result",
          "data": {
            "text/plain": [
              "4"
            ]
          },
          "metadata": {},
          "execution_count": 22
        }
      ],
      "source": [
        "len(set([w.lower() for w in text6])) # .lower convierte la cadena a minusculas."
      ]
    },
    {
      "cell_type": "code",
      "execution_count": null,
      "metadata": {
        "id": "DpAeiZncoJU3",
        "colab": {
          "base_uri": "https://localhost:8080/"
        },
        "outputId": "b7545d93-4b92-4437-ae8c-1b76b960532d"
      },
      "outputs": [
        {
          "output_type": "execute_result",
          "data": {
            "text/plain": [
              "{'como', 'llovía', 'nunca', 'y'}"
            ]
          },
          "metadata": {},
          "execution_count": 23
        }
      ],
      "source": [
        "set([w.lower() for w in text6])"
      ]
    },
    {
      "cell_type": "markdown",
      "metadata": {
        "id": "sA9g9jGpoJU4"
      },
      "source": [
        "### Limpieza de textos"
      ]
    },
    {
      "cell_type": "code",
      "execution_count": null,
      "metadata": {
        "id": "HSaMYPmpoJU4",
        "colab": {
          "base_uri": "https://localhost:8080/"
        },
        "outputId": "21b17379-eab4-4509-e2c7-23cb653375bc"
      },
      "outputs": [
        {
          "output_type": "execute_result",
          "data": {
            "text/plain": [
              "['',\n",
              " '',\n",
              " '',\n",
              " 'El',\n",
              " 'significado',\n",
              " 'del',\n",
              " 'lema',\n",
              " 'de',\n",
              " 'la',\n",
              " 'UNAM',\n",
              " 'es',\n",
              " 'unir',\n",
              " 'a',\n",
              " 'toda',\n",
              " 'América',\n",
              " 'Latina',\n",
              " 'bajo',\n",
              " 'la',\n",
              " 'misma',\n",
              " 'identidad',\n",
              " 'política',\n",
              " 'y',\n",
              " 'cultural',\n",
              " '']"
            ]
          },
          "metadata": {},
          "execution_count": 24
        }
      ],
      "source": [
        "text7 = '   El significado del lema de la UNAM es unir a toda América Latina bajo la misma identidad política y cultural '\n",
        "text7.split(' ')"
      ]
    },
    {
      "cell_type": "code",
      "execution_count": null,
      "metadata": {
        "id": "GBGDOdNQoJU4",
        "colab": {
          "base_uri": "https://localhost:8080/",
          "height": 38
        },
        "outputId": "cb81e5a1-a8e9-4c9c-e6bd-ff7344262a9a"
      },
      "outputs": [
        {
          "output_type": "execute_result",
          "data": {
            "text/plain": [
              "'El significado del lema de la UNAM es unir a toda América Latina bajo la misma identidad política y cultural'"
            ],
            "application/vnd.google.colaboratory.intrinsic+json": {
              "type": "string"
            }
          },
          "metadata": {},
          "execution_count": 25
        }
      ],
      "source": [
        "text8 = text7.strip()\n",
        "text8"
      ]
    },
    {
      "cell_type": "code",
      "execution_count": null,
      "metadata": {
        "id": "3lCLmXCjoJU4",
        "colab": {
          "base_uri": "https://localhost:8080/"
        },
        "outputId": "edbe57c6-dfaa-47f3-be48-361776b2c764"
      },
      "outputs": [
        {
          "output_type": "execute_result",
          "data": {
            "text/plain": [
              "['El',\n",
              " 'significado',\n",
              " 'del',\n",
              " 'lema',\n",
              " 'de',\n",
              " 'la',\n",
              " 'UNAM',\n",
              " 'es',\n",
              " 'unir',\n",
              " 'a',\n",
              " 'toda',\n",
              " 'América',\n",
              " 'Latina',\n",
              " 'bajo',\n",
              " 'la',\n",
              " 'misma',\n",
              " 'identidad',\n",
              " 'política',\n",
              " 'y',\n",
              " 'cultural']"
            ]
          },
          "metadata": {},
          "execution_count": 26
        }
      ],
      "source": [
        "text8.split(' ')"
      ]
    },
    {
      "cell_type": "markdown",
      "metadata": {
        "id": "WBnDCSbyoJU5"
      },
      "source": [
        "### Modificando el texto"
      ]
    },
    {
      "cell_type": "code",
      "execution_count": null,
      "metadata": {
        "id": "npnBwLW1oJU5",
        "colab": {
          "base_uri": "https://localhost:8080/",
          "height": 38
        },
        "outputId": "57814724-69ad-422e-a85b-41327bc6781c"
      },
      "outputs": [
        {
          "output_type": "execute_result",
          "data": {
            "text/plain": [
              "'El significado del lema de la UNAM es unir a toda América Latina bajo la misma identidad política y cultural'"
            ],
            "application/vnd.google.colaboratory.intrinsic+json": {
              "type": "string"
            }
          },
          "metadata": {},
          "execution_count": 27
        }
      ],
      "source": [
        "text8"
      ]
    },
    {
      "cell_type": "code",
      "execution_count": null,
      "metadata": {
        "id": "q3QLax2UoJU5",
        "colab": {
          "base_uri": "https://localhost:8080/"
        },
        "outputId": "a24466d4-f0f8-4ea8-eeba-acc2ffa67d5b"
      },
      "outputs": [
        {
          "output_type": "execute_result",
          "data": {
            "text/plain": [
              "108"
            ]
          },
          "metadata": {},
          "execution_count": 28
        }
      ],
      "source": [
        "len(text8)"
      ]
    },
    {
      "cell_type": "code",
      "execution_count": null,
      "metadata": {
        "id": "zNx84FCfoJU6",
        "colab": {
          "base_uri": "https://localhost:8080/"
        },
        "outputId": "f7e4a644-90f5-4299-80f2-d3093dce6e8b"
      },
      "outputs": [
        {
          "output_type": "execute_result",
          "data": {
            "text/plain": [
              "1"
            ]
          },
          "metadata": {},
          "execution_count": 29
        }
      ],
      "source": [
        "text8.find('l')"
      ]
    },
    {
      "cell_type": "code",
      "execution_count": null,
      "metadata": {
        "id": "GUQ-zTdnoJU6",
        "colab": {
          "base_uri": "https://localhost:8080/"
        },
        "outputId": "bcf8cc28-5508-40e4-add8-0cd253107782"
      },
      "outputs": [
        {
          "output_type": "execute_result",
          "data": {
            "text/plain": [
              "107"
            ]
          },
          "metadata": {},
          "execution_count": 30
        }
      ],
      "source": [
        "text8.rfind('l')"
      ]
    },
    {
      "cell_type": "code",
      "execution_count": null,
      "metadata": {
        "id": "4tX84VMroJU6",
        "colab": {
          "base_uri": "https://localhost:8080/",
          "height": 38
        },
        "outputId": "727f40a9-4b49-4106-9b60-9770fc4ced03"
      },
      "outputs": [
        {
          "output_type": "execute_result",
          "data": {
            "text/plain": [
              "'El significadO del lema de la UNAM es unir a tOda América Latina bajO la misma identidad pOlítica y cultural'"
            ],
            "application/vnd.google.colaboratory.intrinsic+json": {
              "type": "string"
            }
          },
          "metadata": {},
          "execution_count": 31
        }
      ],
      "source": [
        "text8.replace('o', 'O')"
      ]
    },
    {
      "cell_type": "markdown",
      "metadata": {
        "id": "tCV5FdqVoJU6"
      },
      "source": [
        "## Operaciones de archivos\n",
        "\n",
        "f = open(filename, mode)\n",
        "<ul>\n",
        "    <li>f.readline()</li>\n",
        "    <li>f.read()</li>\n",
        "    <li>f.read(n)</li>\n",
        "    <li>for line in f: doSomething(line)</li>\n",
        "    <li>f.seek(n)</li>\n",
        "    <li>f.write(message)</li>\n",
        "    <li>f.close()</li>\n",
        "    <li>f.closed</li>\n",
        "</ul>\n",
        "\n",
        "<a>https://realpython.com/read-write-files-python/</a><br>\n",
        "<a>https://www.tutorialspoint.com/python/python_files_io.htm</a>"
      ]
    },
    {
      "cell_type": "markdown",
      "metadata": {
        "id": "jsPjf_nyoJU7"
      },
      "source": [
        "### Manejo de textos más grandes"
      ]
    },
    {
      "cell_type": "code",
      "execution_count": null,
      "metadata": {
        "id": "UUdPdQ8DoRSp",
        "colab": {
          "base_uri": "https://localhost:8080/",
          "height": 38
        },
        "outputId": "6be31fe3-5857-4832-ad75-5c0e02a25429"
      },
      "outputs": [
        {
          "output_type": "execute_result",
          "data": {
            "text/plain": [
              "'    \"Tres tristes tigres tragaban trigo en un trigal en tres tristes trastos.\\n'"
            ],
            "application/vnd.google.colaboratory.intrinsic+json": {
              "type": "string"
            }
          },
          "metadata": {},
          "execution_count": 33
        }
      ],
      "source": [
        "# Activar Google Drive de forma local\n",
        "\n",
        "#from google.colab import drive\n",
        "#drive.mount('/content/drive')\n",
        "\n",
        "# Lectura de archivos línea por línea\n",
        "#f = open('/content/drive/My Drive/Modulo 9 Mineria de textos/trabalenguas.txt', 'r')\n",
        "f = open('/content/trabalenguas.txt', 'r')\n",
        "f.readline()"
      ]
    },
    {
      "cell_type": "code",
      "execution_count": null,
      "metadata": {
        "id": "5B1ktk7eoJU7",
        "colab": {
          "base_uri": "https://localhost:8080/"
        },
        "outputId": "5820be13-8f58-4fb7-de50-335909a1447d"
      },
      "outputs": [
        {
          "output_type": "execute_result",
          "data": {
            "text/plain": [
              "3207"
            ]
          },
          "metadata": {},
          "execution_count": 34
        }
      ],
      "source": [
        "f = open('trabalenguas.txt', 'r')\n",
        "\n",
        "# Lectura del archivo completo\n",
        "f.seek(0)\n",
        "text9 = f.read()\n",
        "\n",
        "# text9\n",
        "len(text9)"
      ]
    },
    {
      "cell_type": "code",
      "execution_count": null,
      "metadata": {
        "id": "QVPLaW5aoJU7",
        "colab": {
          "base_uri": "https://localhost:8080/"
        },
        "outputId": "eaf2cd45-a1b9-41c4-dd71-c6faf816fe42"
      },
      "outputs": [
        {
          "output_type": "execute_result",
          "data": {
            "text/plain": [
              "86"
            ]
          },
          "metadata": {},
          "execution_count": 35
        }
      ],
      "source": [
        "text10 = text9.splitlines()\n",
        "# text10\n",
        "len(text10)"
      ]
    },
    {
      "cell_type": "code",
      "execution_count": null,
      "metadata": {
        "id": "fFLcnRRqoJU8",
        "colab": {
          "base_uri": "https://localhost:8080/",
          "height": 38
        },
        "outputId": "d21cd4a4-8889-4454-db7f-0ffa3f266bd9"
      },
      "outputs": [
        {
          "output_type": "execute_result",
          "data": {
            "text/plain": [
              "'    \"Tres tristes tigres tragaban trigo en un trigal en tres tristes trastos.'"
            ],
            "application/vnd.google.colaboratory.intrinsic+json": {
              "type": "string"
            }
          },
          "metadata": {},
          "execution_count": 36
        }
      ],
      "source": [
        "text10[0]"
      ]
    },
    {
      "cell_type": "markdown",
      "metadata": {
        "id": "ZV5tWKyDoJU8"
      },
      "source": [
        "<b>¿Cómo removemos el último carácter que indica el retorno de línea?</b>"
      ]
    },
    {
      "cell_type": "code",
      "execution_count": null,
      "metadata": {
        "id": "UBXji09-oJU8",
        "colab": {
          "base_uri": "https://localhost:8080/",
          "height": 38
        },
        "outputId": "4f2dd4c9-92b7-4d33-a61a-de21dc980f85"
      },
      "outputs": [
        {
          "output_type": "execute_result",
          "data": {
            "text/plain": [
              "'\"Tres tristes tigres tragaban trigo en un trigal en tres tristes trastos.'"
            ],
            "application/vnd.google.colaboratory.intrinsic+json": {
              "type": "string"
            }
          },
          "metadata": {},
          "execution_count": 37
        }
      ],
      "source": [
        "text10[0].lstrip()\n",
        "text10[0].rstrip()\n",
        "text10[0].strip()"
      ]
    },
    {
      "cell_type": "markdown",
      "metadata": {
        "id": "NawZ_R4PoJU8"
      },
      "source": [
        "### Procesamiento de texto"
      ]
    },
    {
      "cell_type": "code",
      "execution_count": null,
      "metadata": {
        "id": "T-cMGZqOoJU9",
        "colab": {
          "base_uri": "https://localhost:8080/"
        },
        "outputId": "153a9cd5-ac4c-495f-a668-7d48b98d851d"
      },
      "outputs": [
        {
          "output_type": "execute_result",
          "data": {
            "text/plain": [
              "['Mañana',\n",
              " 'presenta',\n",
              " '#CDMX',\n",
              " 'plan',\n",
              " 'para',\n",
              " 'segunda',\n",
              " 'fase',\n",
              " 'de',\n",
              " 'la',\n",
              " '#SputnikV',\n",
              " 'en',\n",
              " 'tres',\n",
              " 'alcaldías.',\n",
              " 'Se',\n",
              " 'aplicará',\n",
              " 'a',\n",
              " '#AdultosMayores',\n",
              " 'en',\n",
              " '@IztacalcoAl,',\n",
              " '@Alc_Tlahuac',\n",
              " 'y',\n",
              " '@XochimilcoAl,',\n",
              " 'pues',\n",
              " 'debe',\n",
              " 'hacerse',\n",
              " 'entre',\n",
              " '21',\n",
              " 'y',\n",
              " '35',\n",
              " 'días',\n",
              " 'después',\n",
              " 'de',\n",
              " 'la',\n",
              " 'primera',\n",
              " 'dosis.',\n",
              " '#PlanetaCoronavirus',\n",
              " '#Covid19']"
            ]
          },
          "metadata": {},
          "execution_count": 38
        }
      ],
      "source": [
        "tweet = 'Mañana presenta #CDMX plan para segunda fase de la #SputnikV en tres alcaldías. \\\n",
        "Se aplicará a #AdultosMayores en @IztacalcoAl, @Alc_Tlahuac y @XochimilcoAl, \\\n",
        "pues debe hacerse entre 21 y 35 días después de la primera dosis. #PlanetaCoronavirus #Covid19'\n",
        "\n",
        "# Lista de palabras\n",
        "list_tweets = tweet.split(' ')\n",
        "list_tweets\n"
      ]
    },
    {
      "cell_type": "code",
      "execution_count": null,
      "metadata": {
        "id": "n6ArNguIoJU9",
        "colab": {
          "base_uri": "https://localhost:8080/"
        },
        "outputId": "64c27eac-d19b-43ca-f5cc-2b099b54e5df"
      },
      "outputs": [
        {
          "output_type": "execute_result",
          "data": {
            "text/plain": [
              "['#CDMX', '#SputnikV', '#AdultosMayores', '#PlanetaCoronavirus', '#Covid19']"
            ]
          },
          "metadata": {},
          "execution_count": 39
        }
      ],
      "source": [
        "# Encontrando hastags #:\n",
        "[w for w in list_tweets if w.startswith('#')]\n"
      ]
    },
    {
      "cell_type": "code",
      "execution_count": null,
      "metadata": {
        "id": "evA5s6J9oJU9",
        "outputId": "3e83dc4d-d606-40f6-e7a9-a4b70f631c81",
        "colab": {
          "base_uri": "https://localhost:8080/"
        }
      },
      "outputs": [
        {
          "output_type": "execute_result",
          "data": {
            "text/plain": [
              "['@IztacalcoAl,', '@Alc_Tlahuac', '@XochimilcoAl,']"
            ]
          },
          "metadata": {},
          "execution_count": 40
        }
      ],
      "source": [
        "# Encontrando menciones @:\n",
        "[w for w in list_tweets if w.startswith('@')]\n"
      ]
    },
    {
      "cell_type": "markdown",
      "metadata": {
        "id": "0f8k_ZbLoJU-"
      },
      "source": [
        "<br>\n",
        "\n",
        "Podemos usar expresiones regulares para ayudarnos con un análisis más complejo. \n",
        "\n",
        "Por ejemplo, `'@ [A-Za-z0-9 _] +'` devolverá todas las palabras que:\n",
        "* comience con `'@'` y son seguidos por al menos uno:\n",
        "* letra mayúscula (`'A-Z'`)\n",
        "* letra minúscula (`'a-z'`)\n",
        "* número (`'0-9'`)\n",
        "* o subrayado (`'_'`)"
      ]
    },
    {
      "cell_type": "code",
      "execution_count": null,
      "metadata": {
        "id": "pY4hi4mpoJU-",
        "outputId": "b78cd8f3-337d-44a8-cb2d-ea2b8cb44099",
        "colab": {
          "base_uri": "https://localhost:8080/"
        }
      },
      "outputs": [
        {
          "output_type": "execute_result",
          "data": {
            "text/plain": [
              "['@IztacalcoAl,', '@Alc_Tlahuac', '@XochimilcoAl,']"
            ]
          },
          "metadata": {},
          "execution_count": 41
        }
      ],
      "source": [
        "import re # import re - a module that provides support for regular expressions\n",
        "\n",
        "[w for w in tweet.split(' ') if re.search('@[A-Za-z0-9_]+', w)]"
      ]
    },
    {
      "cell_type": "markdown",
      "metadata": {
        "id": "VF2dCW2AoJU_"
      },
      "source": [
        "## Tarea"
      ]
    },
    {
      "cell_type": "markdown",
      "metadata": {
        "id": "Tztq4ggmoJU_"
      },
      "source": [
        "#### A)\tCrear una función en Python que:\n",
        "1.\tPermita leer un archivo (por ejemplo: trabalenguas.txt y/o frases_famosas.txt)\n",
        "2.\tExtraiga del archivo cada texto en una sola línea.\n",
        "<br><b>Nota:</b> \n",
        "<br>. Los trabalenguas están denotados entre comillas\n",
        "<br>. Las frases famosas están denotadas entre guiones\n",
        "3.\tGuarde los textos extraídos en un nuevo archivo.\n",
        "\n",
        "#### B)\tIndagar en las diferencias de implementación entre Python2 y Python3. Profundice con respecto a la codificación de caracteres."
      ]
    },
    {
      "cell_type": "code",
      "execution_count": null,
      "metadata": {
        "id": "Hh8fJ70SoJVA"
      },
      "outputs": [],
      "source": [
        "from google.colab import drive\n",
        "import re\n",
        "import warnings\n",
        "\n",
        "warnings.filterwarnings('ignore')\n",
        "\n",
        "def procesador(archivo):\n",
        "  '''\n",
        "  Función que recibe el nombre de uno de los archivos:\n",
        "    * trabalenguas\n",
        "    * frases_famosas\n",
        "  lo lee y lo transforma escribiendo en un archivo \n",
        "  cada frase o trabalengua en una línea del archivo cuyo nombre será\n",
        "    * trabalenguas_new\n",
        "    * frases_famosas_new\n",
        "  según sea el caso\n",
        "  '''\n",
        "\n",
        "  # Se pide acceso a google drive\n",
        "  drive.mount('/content/drive')\n",
        "  try:   # Intenta encontrar el nombre del archivo\n",
        "    # Lectura de archivos línea por línea\n",
        "    f = open('/content/drive/My Drive/Modulo 9/' + archivo + '.txt', 'r')\n",
        "    texto = f.read() # Se guarda el texto en la variable texto\n",
        "  except: # En caso de ingresar un nombre incorrecto se imprime un mensaje y termina la función\n",
        "    print('Archivo no encontrado')\n",
        "    return\n",
        "\n",
        "  # Procesamiento del texto\n",
        "  pattern = re.compile(r\"[\\\"-](.+?)[\\\"-]\") # Expresion regular que encuentra cualquier caracter excepto salto de línea que este entre las comillas o el guión\n",
        "  texto = texto.replace('\\n', '') # Eliminamos el salto de línea\n",
        "  lista = pattern.findall(texto) # Creación de la lista con todas las frases o trabalenguas\n",
        "\n",
        "  # creamos una lista con cada frase o trabalenguas\n",
        "  frases = [' '.join( frase.split() ) \n",
        "            for frase in lista]\n",
        "            \n",
        "  try: # Intentamos escribir el archivo en la misma carpeta\n",
        "    f = open('/content/drive/My Drive/Modulo 9/' + archivo + '_new.txt', 'w') # El nombre será el mismo agregando _new \n",
        "    # escribimos linea por linea\n",
        "    for frase in frases:\n",
        "      f.write(frase)\n",
        "      f.write('\\n') # Agregamos un salto de linea al termino de cada frase o trabalenguas\n",
        "    print(f'Archivo {archivo}_new.txt guardado exitosamente') # mensaje de éxito\n",
        "  except: # En caso de haber cualquier error, se manda un mensaje\n",
        "    print('Hubo un error')\n"
      ]
    },
    {
      "cell_type": "code",
      "execution_count": null,
      "metadata": {
        "id": "D_WDlG80oJVA",
        "colab": {
          "base_uri": "https://localhost:8080/"
        },
        "outputId": "6f46ca16-c5e9-463e-aa70-892a2f767b74"
      },
      "outputs": [
        {
          "output_type": "stream",
          "name": "stdout",
          "text": [
            "Mounted at /content/drive\n",
            "Archivo frases_famosas_new.txt guardado exitosamente\n"
          ]
        }
      ],
      "source": [
        "procesador('frases_famosas')"
      ]
    },
    {
      "cell_type": "code",
      "source": [
        "procesador('trabalenguas')"
      ],
      "metadata": {
        "colab": {
          "base_uri": "https://localhost:8080/"
        },
        "id": "FSxpJrehNIQI",
        "outputId": "abba65d6-57b8-47aa-f995-c6c32d5e45f4"
      },
      "execution_count": null,
      "outputs": [
        {
          "output_type": "stream",
          "name": "stdout",
          "text": [
            "Drive already mounted at /content/drive; to attempt to forcibly remount, call drive.mount(\"/content/drive\", force_remount=True).\n",
            "Archivo trabalenguas_new.txt guardado exitosamente\n"
          ]
        }
      ]
    }
  ],
  "metadata": {
    "colab": {
      "collapsed_sections": [
        "FIobhVX-oJU1",
        "sA9g9jGpoJU4",
        "WBnDCSbyoJU5",
        "NawZ_R4PoJU8"
      ],
      "name": "Ejercicio1(es).ipynb",
      "provenance": []
    },
    "kernelspec": {
      "display_name": "Python 3",
      "language": "python",
      "name": "python3"
    },
    "language_info": {
      "codemirror_mode": {
        "name": "ipython",
        "version": 3
      },
      "file_extension": ".py",
      "mimetype": "text/x-python",
      "name": "python",
      "nbconvert_exporter": "python",
      "pygments_lexer": "ipython3",
      "version": "3.7.4"
    }
  },
  "nbformat": 4,
  "nbformat_minor": 0
}