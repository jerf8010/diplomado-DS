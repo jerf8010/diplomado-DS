{
 "cells": [
  {
   "cell_type": "markdown",
   "id": "22a08c33",
   "metadata": {},
   "source": [
    "## Tarea 1. Módulo 9 - Procesamiento de lenaguaje natural y minería de textos\n",
    "#### A)\tCrear una función en Python que:\n",
    "1.\tPermita leer un archivo (por ejemplo: trabalenguas.txt y/o frases_famosas.txt)\n",
    "2.\tExtraiga del archivo cada texto en una sola línea.\n",
    "<br><b>Nota:</b> \n",
    "<br>. Los trabalenguas están denotados entre comillas\n",
    "<br>. Las frases famosas están denotadas entre guiones\n",
    "3.\tGuarde los textos extraídos en un nuevo archivo."
   ]
  },
  {
   "cell_type": "code",
   "execution_count": 3,
   "id": "398c8568",
   "metadata": {},
   "outputs": [],
   "source": [
    "import re"
   ]
  },
  {
   "cell_type": "code",
   "execution_count": 16,
   "id": "c3cfdfc0",
   "metadata": {},
   "outputs": [],
   "source": [
    "def procesa_archivo(archivo, salida):\n",
    "    try:\n",
    "        # 1. Permita leer un archivo (por ejemplo: trabalenguas.txt y/o frases_famosas.txt)\n",
    "        file = open(archivo, 'r')\n",
    "        file.seek(0)\n",
    "    except:\n",
    "        print(\"El archivo especificado no fue localizado en la carpeta raíz\")\n",
    "        return\n",
    "\n",
    "    # 2. Extraiga del archivo cada texto en una sola línea.\n",
    "    texto = file.read()\n",
    "    texto = texto.replace('\\n', '')\n",
    "    pattern = re.compile(r\"[\\\"-](.+?)[\\\"-]\")\n",
    "    lista = pattern.findall(texto)\n",
    "    frases = [' '.join( frase.split() ) for frase in lista]        \n",
    "\n",
    "    try:\n",
    "        # 3. Guarde los textos extraídos en un nuevo archivo.\n",
    "        f = open(salida, \"w\")\n",
    "        for frase in frases:\n",
    "          f.write(frase)\n",
    "          f.write('\\n')\n",
    "        print(f'Archivo guardado exitosamente')\n",
    "        file.close()\n",
    "    except:\n",
    "        print(\"Hubo un error al escribir el archivo\")\n",
    "        return"
   ]
  },
  {
   "cell_type": "code",
   "execution_count": 17,
   "id": "6e0da35b",
   "metadata": {},
   "outputs": [
    {
     "name": "stdout",
     "output_type": "stream",
     "text": [
      "Archivo guardado exitosamente\n"
     ]
    }
   ],
   "source": [
    "# Probando con trabalenguas.txt\n",
    "procesa_archivo('trabalenguas.txt', 'limpio_t.txt')"
   ]
  },
  {
   "cell_type": "code",
   "execution_count": 18,
   "id": "10322976",
   "metadata": {},
   "outputs": [
    {
     "data": {
      "text/plain": [
       "'Tres tristes tigres tragaban trigo en un trigal en tres tristes trastos. En tres tristes trastos, tragaban trigo en un trigal, tres tristes tigres.\\nEl cielo estÃ¡ enladrillado Â¿QuiÃ©n lo desenladrillarÃ¡? El desenladrillador que lo desenladrille Buen desenladrillador serÃ¡.\\nPÃ©game, pegÃ³ a Juan. Â¿Quien pegÃ³ a Juan? PÃ©game.\\nPablito clavÃ³ un clavito en la calva de un calvito, en la calva de un calvito, clavÃ³ un clavito Pablito.\\nEl cielo estÃ¡ encurubinquincado Â¿QuiÃ©n lo desencurubinquinquizarÃ¡? El desencurubinquinquizador que lo desencurubinquinquice Buen desencurubinquinquizador serÃ¡.\\nGuerra tenÃ\\xada una parra y Parra tenÃ\\xada una perra; la perra de Parra rompiÃ³ la parra de Guerra y Guerra aporreÃ³ con la porra a la perra. Si la perra de Parra no hubiera roto la parra de Guerra, Guerra no hubiera aporreado con la porra a la perra de Parra...\\nSi tu gusto gustara del gusto que gusta mi gusto, mi gusto gustarÃ\\xada del gusto que gusta tu gusto, pero como tu gusto no gusta del gusto que gusta mi gusto, mi gusto no gusta del gusto que gusta tu gusto.\\nMarichucena techaba su choza, y un techador que por allÃ\\xad pasaba le dijo: Marichucena, Â¿techas tu choza o techas la ajena? Ni techo mi choza ni techo la ajena que techo la choza de Marichucena.\\nEl volcÃ¡n del parangaracutimiricuaro se quiere desparangaracutirimicuar, Â¿QuiÃ©n serÃ¡ el gran desparangaracutirimicuador que logre desparangaricutirimicuar al volcÃ¡n del parangaracutimiricuaro?\\nSaliÃ³, el SÃ¡balo sabio, saliÃ³ el sÃ¡bado.\\nLa razÃ³n de la sinrazÃ³n que a mi razÃ³n se hace, de tal manera mi razÃ³n enfurece que con razÃ³n me quejo de la vuestra fermosura.\\nPaco peco chico rico le gritaba como loco a su tÃ\\xado Federico y este dijo: poco a poco paco peco poco pico.\\nSi Pancha plancha con cuatro planchas, Â¿con cuantas planchas plancha Pancha?\\nTras tres tristes trineos, triste trota TristÃ¡n.\\nEl cielo estÃ¡ encancarabincantimpamperulizado, Â¿QuiÃ©n lo desencancarabincantimpamperulizarÃ¡? El desencancarabincantimpamperulizador que lo desencancarabincantimpamperulize, buen desencancarabincantimpamperulizador serÃ¡.\\nCompadre cÃ³mpreme un coco, Compadre no compro coco, porque como poco coco como, poco coco compro.\\nSi cien sierras sierran cien cipreses seiscientas sierras sierran seiscientos cipreses.\\n'"
      ]
     },
     "execution_count": 18,
     "metadata": {},
     "output_type": "execute_result"
    }
   ],
   "source": [
    "# Comprobando con el archivo frases_famosas.txt\n",
    "archivo = file = open('limpio_t.txt', 'r')\n",
    "archivo.seek(0)\n",
    "texto = archivo.read()\n",
    "texto"
   ]
  },
  {
   "cell_type": "code",
   "execution_count": 19,
   "id": "5d0a3757",
   "metadata": {},
   "outputs": [
    {
     "name": "stdout",
     "output_type": "stream",
     "text": [
      "Archivo guardado exitosamente\n"
     ]
    }
   ],
   "source": [
    "# Probando con frases_famosas.txt\n",
    "procesa_archivo('frases_famosas.txt', 'limpio_f.txt')"
   ]
  },
  {
   "cell_type": "code",
   "execution_count": 20,
   "id": "97da7f33",
   "metadata": {},
   "outputs": [
    {
     "data": {
      "text/plain": [
       "'No hay que ir para atrÃ¡s ni para darse impulso (Lao TsÃ©)\\nHaz el amor y no la guerra (John Lennon)\\nPara trabajar basta estar convencido de una cosa: que trabajar es menos aburrido que divertirse (Charles Baudelaire)\\nLas guerras seguirÃ¡n mientras el color de la piel siga siendo mÃ¡s importante que el de los ojos (Bob Marley)\\nAprende a vivir y sabrÃ¡s morir bien (Confucio)\\nCada dÃ\\xada sabemos mÃ¡s y entendemos menos (Albert Einstein)\\nEl mundo no estÃ¡ en peligro por las malas personas sino por aquellas que permiten la maldad (Albert Einstein)\\nNo hay nada que un hombre no sea capaz de hacer cuando una mujer le mira (Casanova)\\nDar el ejemplo no es la principal manera de influir sobre los demÃ¡s; es la Ãºnica manera. (Albert Einstein)\\nEl dinero no puede comprar la vida (Bob Marley)\\nSi es bueno vivir, todavÃ\\xada es mejor soÃ±ar, y lo mejor de todo, despertar (Antonio Machado)\\nLa mayor declaraciÃ³n de amor es la que no se hace; el hombre que siente mucho, habla poco (PlatÃ³n)\\nNingÃºn hombre es lo bastante bueno para gobernar a otros sin su consentimiento. (Abraham Lincoln)\\nEl sabio no dice nunca todo lo que piensa, pero siempre piensa todo lo que dice (AristÃ³teles)\\nEl mundo es bello, pero tiene un defecto llamado hombre (Friedrich Nietzsche)\\nPienso, luego existo (RenÃ© Descartes)\\nLo que no te mata, te hace mÃ¡s fuerte (Friedrich Nietzsche)\\nDe todos los animales de la creaciÃ³n el hombre es el Ãºnico que bebe sin tener sed, come sin tener hambre y habla sin tener nada que decir (John Steinbeck)\\nUn hermano puede no ser un amigo, pero un amigo serÃ¡ siempre un hermano. (Benjamin Franklin)\\n'"
      ]
     },
     "execution_count": 20,
     "metadata": {},
     "output_type": "execute_result"
    }
   ],
   "source": [
    "# Comprobando con el archivo frases_famosas.txt\n",
    "archivo = file = open('limpio_f.txt', 'r')\n",
    "archivo.seek(0)\n",
    "texto = archivo.read()\n",
    "texto"
   ]
  },
  {
   "cell_type": "markdown",
   "id": "42047266",
   "metadata": {},
   "source": [
    "#### B)\tIndagar en las diferencias de implementación entre Python2 y Python3. Profundice con respecto a la codificación de caracteres."
   ]
  },
  {
   "cell_type": "markdown",
   "id": "69e130c3",
   "metadata": {},
   "source": [
    "*En Python 2 las cadenas de texto (tipo str) están codificadas en formato ASCII con lo que cada carácter sólo requiere 7 bits de información. Por otro lado, las cadenas de texto codificadas en bytes requieren 8 bits de información. Por lo tanto, sólo es posible combinar ambos tipos cuando la representación en bytes sólo contiene caracteres ASCII.*\n",
    "\n",
    "*En Python 3 todas las cadenas de texto son Unicode (8 bits). Éstas pueden almacenarse como texto (tipo str) o como datos binarios (tipo bytes), siendo imposible combinar ambos tipos ya que nos da una excepción TypeError.*\n",
    "\n",
    "Referencia: https://docs.python.org/3.1/whatsnew/3.0.html"
   ]
  },
  {
   "cell_type": "code",
   "execution_count": 21,
   "id": "141a3a3b",
   "metadata": {},
   "outputs": [
    {
     "data": {
      "text/plain": [
       "str"
      ]
     },
     "execution_count": 21,
     "metadata": {},
     "output_type": "execute_result"
    }
   ],
   "source": [
    "# Python 3\n",
    "\n",
    "a = 'Hola'\n",
    "type(a)"
   ]
  },
  {
   "cell_type": "code",
   "execution_count": 22,
   "id": "5aa007a3",
   "metadata": {},
   "outputs": [
    {
     "data": {
      "text/plain": [
       "bytes"
      ]
     },
     "execution_count": 22,
     "metadata": {},
     "output_type": "execute_result"
    }
   ],
   "source": [
    "b = b'Mundo'\n",
    "type(b)"
   ]
  },
  {
   "cell_type": "code",
   "execution_count": null,
   "id": "95ae2f48",
   "metadata": {},
   "outputs": [],
   "source": [
    "a + b\n",
    "# TypeError: can only concatenate str (not \"bytes\") to str"
   ]
  },
  {
   "cell_type": "markdown",
   "id": "de118946",
   "metadata": {},
   "source": [
    "*Python 3.x utiliza los conceptos de texto y datos (binarios) en lugar de cadenas Unicode y cadenas de 8 bits. Todo el texto es Unicode; sin embargo, Unicode codificado se representa como datos binarios. El tipo utilizado para contener texto es str, el tipo utilizado para contener datos es bytes. La mayor diferencia con la situación la versión 2.x es que cualquier intento de mezclar texto y datos en Python 3.x genera TypeError, mientras que si fuera a mezclar Unicode y cadenas de 8 bits en Python 2.x, funcionaba si la cadena de 8-bit contenía solo bytes de 7 bits (ASCII), pero obtendría UnicodeDecodeError si contenía valores no ASCII. Este comportamiento específico de valor ha causado numerosas caras tristes a lo largo de los años.*\n",
    "\n",
    "*Como consecuencia de este cambio de filosofía, casi todo el código que usa Unicode, codificaciones o datos binarios probablemente tenga que cambiar. El cambio es para mejorar, ya que en el mundo 2.x hubo numerosos errores relacionados con la mezcla de texto codificado y no codificado. Para Python 2.x, se debe comenzar a utilizar Unicode para todo el texto no codificado y str solo para datos binarios o codificados. Entonces el cambio de 2 a 3 mejoro esta situación.*\n",
    "\n",
    "*Ya no pueden usar los literales u\"...\" para el texto Unicode. Sin embargo, debe usar literales b\"...\" para datos binarios.*\n",
    "\n",
    "*Como los tipos str y bytes no se pueden mezclar, siempre debe convertirlos explícitamente. Se debe utiliar str.encode() para pasar de str a bytes, y bytes.decode() para pasar de bytes a str. También puede usar bytes(s, encoding=...) y str(b, encoding=...), respectivamente.*\n",
    "\n",
    "*Al igual que str, el tipo de bytes es constante. Hay un tipo variable separado para contener datos binarios almacenados en búfer, bytearray. Casi todas las API que aceptan bytes también aceptan bytearray. La API ariable se basa en collections.MutableSequence.*\n",
    "\n",
    "*Todas las barras invertidas en los literales de cadena sin procesar se interpretan literalmente. Esto significa que los escapes '\\U' y '\\u' en cadenas sin procesar no se tratan de manera especial. Por ejemplo, r'\\u20ac' es una cadena de 6 caracteres en Python 3.0, mientras que en 2.6, ur'\\u20ac' era el único carácter \"euro\". (Por supuesto, este cambio solo afecta a los literales de cadena sin procesar; el carácter del euro es '\\u20ac' en Python 3.0).*\n",
    "\n",
    "*Se eliminó el tipo abstracto de cadena base integrado. Utilice str en su lugar. Los tipos str y bytes no tienen suficiente funcionalidad en común para garantizar una clase base compartida. En el cambio de 2 a 3 se reemplaza cada ocurrencia de basestring con str.*\n",
    "\n",
    "*Los archivos abiertos como archivos de texto (aún el modo predeterminado para abrir()) siempre usan una codificación para mapear entre cadenas (en la memoria) y bytes (en el disco). Los archivos binarios (abiertos con una b en el argumento de modo) siempre usan bytes en la memoria. Esto significa que si un archivo se abre con un modo o codificación incorrectos, es probable que la E/S falle en voz alta, en lugar de producir datos incorrectos en silencio. También significa que incluso los usuarios de Unix tendrán que especificar el modo correcto (texto o binario) al abrir un archivo. Hay una codificación predeterminada que depende de la plataforma, que en las plataformas Unix se puede configurar con la variable de entorno LANG (y, a veces, también con algunas otras variables de entorno relacionadas con la configuración regional específicas de la plataforma). En muchos casos, pero no en todos, el sistema predeterminado es UTF-8; nunca debe contar con este valor predeterminado. Cualquier aplicación que lea o escriba más que texto ASCII puro probablemente debería tener una forma de anular la codificación. Ya no es necesario utilizar las secuencias con reconocimiento de codificación en el módulo de códecs.*\n",
    "\n",
    "*Los nombres de archivo se pasan y se devuelven desde las API como cadenas (Unicode). Esto puede presentar problemas específicos de la plataforma porque en algunas plataformas los nombres de archivo son cadenas de bytes arbitrarias. (Por otro lado, en Windows los nombres de archivo se almacenan de forma nativa como Unicode). Como solución alternativa, la mayoría de las API (por ejemplo, open() y muchas funciones en el módulo os) que toman nombres de archivo aceptan objetos de bytes, así como cadenas, y unas pocas API tienen una forma de solicitar un valor de retorno de bytes. Por lo tanto, os.listdir() devuelve una lista de instancias de bytes si el argumento es una instancia de bytes, y os.getcwdb() devuelve el directorio de trabajo actual como una instancia de bytes. Tenga en cuenta que cuando os.listdir() devuelve una lista de cadenas, los nombres de archivo que no se pueden decodificar correctamente se omiten en lugar de generar UnicodeError.*\n",
    "\n",
    "*Algunas API del sistema, como os.environ y sys.argv, también pueden presentar problemas cuando los bytes que el sistema pone a disposición no se pueden interpretar con la codificación predeterminada. Establecer la variable LANG y volver a ejecutar el programa es probablemente el mejor enfoque.*\n",
    "\n",
    "*PEP 3138: El repr() de una cadena ya no escapa de los caracteres que no son ASCII. Sin embargo, todavía escapa a los caracteres de control y puntos de código con estado no imprimible en el estándar Unicode.*\n",
    "\n",
    "*PEP 3120: la codificación de origen predeterminada ahora es UTF-8.*\n",
    "    \n",
    "*PEP 3131: ahora se permiten letras que no sean ASCII en los identificadores. (Sin embargo, la biblioteca estándar sigue siendo solo ASCII con la excepción de los nombres de los colaboradores en los comentarios).*\n",
    "    \n",
    "*Los módulos StringIO y cStringIO se han ido. En su lugar, importe el módulo io y use io.StringIO o io.BytesIO para texto y datos respectivamente.*"
   ]
  }
 ],
 "metadata": {
  "kernelspec": {
   "display_name": "Python 3 (ipykernel)",
   "language": "python",
   "name": "python3"
  },
  "language_info": {
   "codemirror_mode": {
    "name": "ipython",
    "version": 3
   },
   "file_extension": ".py",
   "mimetype": "text/x-python",
   "name": "python",
   "nbconvert_exporter": "python",
   "pygments_lexer": "ipython3",
   "version": "3.7.11"
  }
 },
 "nbformat": 4,
 "nbformat_minor": 5
}
