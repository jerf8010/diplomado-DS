{
  "cells": [
    {
      "cell_type": "markdown",
      "metadata": {
        "id": "XZj98Nld0nbF"
      },
      "source": [
        "# Expresiones regulares"
      ]
    },
    {
      "cell_type": "code",
      "execution_count": null,
      "metadata": {
        "id": "mY9CtwCv0nbK"
      },
      "outputs": [],
      "source": [
        "# importando el modulo de regex de python\n",
        "import re"
      ]
    },
    {
      "cell_type": "markdown",
      "metadata": {
        "id": "_nZJC8jZ0nbM"
      },
      "source": [
        "<p>Para coincidir un patrón, se compila transformando en <b>bytecode</b>, este código luego se ejecuta por un motor escrito en C:</p>\n",
        "<code>pattern = re.compile(r'\\bfoo\\b')</code>\n",
        "\n",
        "<p>Si uno o mas caracteres coiniden con la expresión regular retorna un objeto <em>match</em>: <a href=\"https://docs.python.org/3/library/re.html#match-objects\">Match Objects</a></p>\n",
        "\n",
        "#### Formas de coincidir patrones y ejecutar las operaciones"
      ]
    },
    {
      "cell_type": "code",
      "execution_count": null,
      "metadata": {
        "colab": {
          "base_uri": "https://localhost:8080/"
        },
        "id": "O1giCL0B0nbN",
        "outputId": "7b87a496-f8c6-464e-ac99-e4a5a32e4054"
      },
      "outputs": [
        {
          "output_type": "execute_result",
          "data": {
            "text/plain": [
              "<re.Match object; span=(0, 3), match='<p>'>"
            ]
          },
          "metadata": {},
          "execution_count": 2
        }
      ],
      "source": [
        "# Si queremos volver a usar la expresión regular, podemos usar el siguiente código:\n",
        "pattern = re.compile(\"<p>\")\n",
        "pattern.match(\"<p>Esta etiqueta está en el inicio de este texto</p>\")"
      ]
    },
    {
      "cell_type": "markdown",
      "metadata": {
        "id": "csGJG3sb0nbO"
      },
      "source": [
        "#### Funciones no compiladas\n",
        "\n",
        "Para cada uno de los ejemplos que veremos (<em>match, search, findall, finditer, split, sub y subn</em>) existe una versión al nivel del módulo que se puede utilizar sin necesidad de compilar primero el patrón de búsqueda; simplemente le pasamos como primer argumento la expresion regular y el resultado será el mismo. La ventaja que tiene la versión compila sobre las funciones no compiladas es que si vamos a utilizar la expresion regular dentro de un <em>bucle</em> nos vamos a ahorrar varias llamadas de funciones y por lo tanto mejorar la performance de nuestro programa."
      ]
    },
    {
      "cell_type": "code",
      "execution_count": null,
      "metadata": {
        "colab": {
          "base_uri": "https://localhost:8080/"
        },
        "id": "JncF5bzl0nbO",
        "outputId": "d66e3655-171f-4c95-b26c-60b1215986ec"
      },
      "outputs": [
        {
          "output_type": "execute_result",
          "data": {
            "text/plain": [
              "<re.Match object; span=(0, 3), match='<p>'>"
            ]
          },
          "metadata": {},
          "execution_count": 3
        }
      ],
      "source": [
        "# Por otro lado, podemos realizar directamente la operación en el módulo usando la siguiente línea de código:\n",
        "re.match(\"<p>\", \"<p>Esta etiqueta está en el inicio de este texto</p>\")"
      ]
    },
    {
      "cell_type": "markdown",
      "metadata": {
        "id": "jL6sgw5n0nbP"
      },
      "source": [
        "## Buscando coincidencias"
      ]
    },
    {
      "cell_type": "code",
      "execution_count": null,
      "metadata": {
        "id": "63HxLKv20nbQ"
      },
      "outputs": [],
      "source": [
        "# compilando la regex\n",
        "pattern = re.compile(r'\\bfoo\\b')  # busca la palabra foo"
      ]
    },
    {
      "cell_type": "markdown",
      "metadata": {
        "id": "B-BSLUXq0nbQ"
      },
      "source": [
        "Ya tenemos el objeto de <em>expresión regular</em> compilado podemos utilizar alguno de los siguientes métodos para buscar coincidencias con nuestro texto.\n",
        "<ul>\n",
        "    <li><b>match():</b> El cual determinada si la regex tiene coincidencias en el comienzo del texto.Retorna <em>None</em> si no hay coincidencia.</li>\n",
        "    <li><b>search():</b> El cual escanea todo el texto buscando cualquier ubicación donde haya una coincidencia.</li>\n",
        "    <li><b>findall():</b> El cual encuentra todos los subtextos donde haya una coincidencia y nos devuelve estas coincidencias como una lista.</li>\n",
        "    <li><b>finditer():</b> El cual es similar al anterior pero en lugar de devolvernos una lista nos devuelve un iterador en el que cada elemento es un <em>MatchObject</em>.</li>\n",
        "</ul>"
      ]
    },
    {
      "cell_type": "code",
      "execution_count": null,
      "metadata": {
        "id": "C_7iRmmi0nbS"
      },
      "outputs": [],
      "source": [
        "# texto de entrada\n",
        "text = \"\"\" bar foo bar\n",
        "foo barbarfoo\n",
        "foofoo foo bar\n",
        "\"\"\""
      ]
    },
    {
      "cell_type": "code",
      "execution_count": null,
      "metadata": {
        "colab": {
          "base_uri": "https://localhost:8080/"
        },
        "id": "UOiuyYhE0nbT",
        "outputId": "0a0333eb-4ec9-4c50-ddf4-4469229d331f"
      },
      "outputs": [
        {
          "output_type": "stream",
          "name": "stdout",
          "text": [
            "None\n"
          ]
        }
      ],
      "source": [
        "# match nos devuelve None porque no hubo coincidencia al comienzo del texto\n",
        "print(pattern.match(text))"
      ]
    },
    {
      "cell_type": "code",
      "execution_count": null,
      "metadata": {
        "colab": {
          "base_uri": "https://localhost:8080/"
        },
        "id": "17geGZj70nbU",
        "outputId": "4581c237-1b61-4ceb-cbab-1664715d4adf"
      },
      "outputs": [
        {
          "output_type": "execute_result",
          "data": {
            "text/plain": [
              "<re.Match object; span=(0, 3), match='foo'>"
            ]
          },
          "metadata": {},
          "execution_count": 7
        }
      ],
      "source": [
        "# match encuentra una coindencia en el comienzo del texto\n",
        "m = pattern.match('foo bar barbarfoo')\n",
        "m"
      ]
    },
    {
      "cell_type": "code",
      "execution_count": null,
      "metadata": {
        "colab": {
          "base_uri": "https://localhost:8080/"
        },
        "id": "SvWQrc2B0nbU",
        "outputId": "b842e498-9d4b-40d4-8d6a-3cdad9885773"
      },
      "outputs": [
        {
          "output_type": "execute_result",
          "data": {
            "text/plain": [
              "<re.Match object; span=(5, 8), match='foo'>"
            ]
          },
          "metadata": {},
          "execution_count": 8
        }
      ],
      "source": [
        "# search nos devuelve la coincidencia en cualquier ubicacion.\n",
        "s = pattern.search(text)\n",
        "s"
      ]
    },
    {
      "cell_type": "code",
      "execution_count": null,
      "metadata": {
        "colab": {
          "base_uri": "https://localhost:8080/"
        },
        "id": "cVrNbyDn0nbV",
        "outputId": "a51fcd58-c788-4e18-91bb-0ba6976561a8"
      },
      "outputs": [
        {
          "output_type": "execute_result",
          "data": {
            "text/plain": [
              "['foo', 'foo', 'foo']"
            ]
          },
          "metadata": {},
          "execution_count": 9
        }
      ],
      "source": [
        "# findall nos devuelve una lista con todas las coincidencias\n",
        "fa = pattern.findall(text)\n",
        "fa"
      ]
    },
    {
      "cell_type": "code",
      "execution_count": null,
      "metadata": {
        "colab": {
          "base_uri": "https://localhost:8080/"
        },
        "id": "A_uqCM8h0nbV",
        "outputId": "3933c86d-e0a1-41de-bcdb-b576ed6c553f"
      },
      "outputs": [
        {
          "output_type": "execute_result",
          "data": {
            "text/plain": [
              "<callable_iterator at 0x7f088e22c4d0>"
            ]
          },
          "metadata": {},
          "execution_count": 10
        }
      ],
      "source": [
        "# finditer nos devuelve un iterador\n",
        "fi = pattern.finditer(text)\n",
        "fi"
      ]
    },
    {
      "cell_type": "code",
      "execution_count": null,
      "metadata": {
        "colab": {
          "base_uri": "https://localhost:8080/"
        },
        "id": "KX4v1QV80nbW",
        "outputId": "c77fb68b-44d0-4021-b9e1-59ba3d881641"
      },
      "outputs": [
        {
          "output_type": "execute_result",
          "data": {
            "text/plain": [
              "<re.Match object; span=(5, 8), match='foo'>"
            ]
          },
          "metadata": {},
          "execution_count": 11
        }
      ],
      "source": [
        "# iterando por las distintas coincidencias\n",
        "next(fi)"
      ]
    },
    {
      "cell_type": "code",
      "execution_count": null,
      "metadata": {
        "colab": {
          "base_uri": "https://localhost:8080/"
        },
        "id": "oTwDdhSn0nbY",
        "outputId": "ed9ba83d-1a9c-4d86-d2f5-c6ef2ca22064"
      },
      "outputs": [
        {
          "output_type": "execute_result",
          "data": {
            "text/plain": [
              "<re.Match object; span=(13, 16), match='foo'>"
            ]
          },
          "metadata": {},
          "execution_count": 12
        }
      ],
      "source": [
        "next(fi)\n"
      ]
    },
    {
      "cell_type": "markdown",
      "metadata": {
        "id": "LaEMg9-q0nbZ"
      },
      "source": [
        "Como podemos ver en estos ejemplos, cuando hay coincidencias, Python nos devuelve un <em>Objeto de coincidencia</em> (salvo por el método <em>findall()</em> que devuelve una lista). Este <em>Objeto de coincidencia</em> también tiene sus propios métodos que nos proporcionan información adicional sobre la coincidencia; éstos métodos son:\n",
        "<ul>\n",
        "    <li><b>group():</b> El cual devuelve el texto que coincide con la expresion regular.</li>\n",
        "    <li><b>start():</b> El cual devuelve la posición inicial de la coincidencia.</li>\n",
        "    <li><b>end():</b> El cual devuelve la posición final de la coincidencia.</li>\n",
        "    <li><b>span():</b> El cual devuelve una tupla con la posición inicial y final de la coincidencia.</li>\n",
        "</ul>"
      ]
    },
    {
      "cell_type": "code",
      "execution_count": null,
      "metadata": {
        "colab": {
          "base_uri": "https://localhost:8080/"
        },
        "id": "9tPu-_X-0nba",
        "outputId": "51169dc6-3573-4631-ca81-f25960a94912"
      },
      "outputs": [
        {
          "output_type": "execute_result",
          "data": {
            "text/plain": [
              "('foo', 0, 3, (0, 3))"
            ]
          },
          "metadata": {},
          "execution_count": 13
        }
      ],
      "source": [
        "# Métodos del objeto de coincidencia\n",
        "m.group(), m.start(), m.end(), m.span()"
      ]
    },
    {
      "cell_type": "code",
      "execution_count": null,
      "metadata": {
        "colab": {
          "base_uri": "https://localhost:8080/"
        },
        "id": "Zqj-nl4i0nbb",
        "outputId": "76e75f0f-2c70-459e-e136-f180f9912320"
      },
      "outputs": [
        {
          "output_type": "execute_result",
          "data": {
            "text/plain": [
              "('foo', 5, 8, (5, 8))"
            ]
          },
          "metadata": {},
          "execution_count": 14
        }
      ],
      "source": [
        "s.group(), s.start(), s.end(), s.span()"
      ]
    },
    {
      "cell_type": "markdown",
      "metadata": {
        "id": "kComxC0Z0nbb"
      },
      "source": [
        "## Modificando el texto de entrada\n",
        "\n",
        "Además de buscar coincidencias de nuestro patrón de búsqueda en un texto, podemos utilizar ese mismo patrón para realizar modificaciones al texto de entrada. Para estos casos podemos utilizar los siguientes métodos:\n",
        "<ul>\n",
        "    <li><b>split():</b> El cual divide el texto en una lista, realizando las divisiones del texto en cada lugar donde se cumple con la expresion regular.</li>\n",
        "    <li><b>sub():</b> El cual encuentra todos los subtextos donde existe una coincidencia con la expresion regular y luego los reemplaza con un nuevo texto.</li>\n",
        "    <li><b>subn():</b> El cual es similar al anterior pero además de devolver el nuevo texto, también devuelve el numero de reemplazos que realizó.</li>\n",
        "</ul>"
      ]
    },
    {
      "cell_type": "code",
      "execution_count": null,
      "metadata": {
        "id": "NODcU34J0nbc"
      },
      "outputs": [],
      "source": [
        "# texto de entrada\n",
        "becquer = \"\"\"Podrá nublarse el sol eternamente; \n",
        "Podrá secarse en un instante el mar; \n",
        "Podrá romperse el eje de la tierra \n",
        "como un débil cristal. \n",
        "¡todo sucederá! Podrá la muerte \n",
        "cubrirme con su fúnebre crespón; \n",
        "Pero jamás en mí podrá apagarse \n",
        "la llama de tu amor.\"\"\""
      ]
    },
    {
      "cell_type": "code",
      "execution_count": null,
      "metadata": {
        "id": "4hkbZNDN0nbc"
      },
      "outputs": [],
      "source": [
        "# patron para dividir donde no encuentre un caracter alfanumerico\n",
        "pattern = re.compile(r'\\W+') # Caracteres no alfa-númericos"
      ]
    },
    {
      "cell_type": "code",
      "execution_count": null,
      "metadata": {
        "colab": {
          "base_uri": "https://localhost:8080/"
        },
        "id": "BV_DQ5yn0nbc",
        "outputId": "378b0a2d-5d6d-4d14-91df-152c0b03bba1"
      },
      "outputs": [
        {
          "output_type": "execute_result",
          "data": {
            "text/plain": [
              "['Podrá',\n",
              " 'nublarse',\n",
              " 'el',\n",
              " 'sol',\n",
              " 'eternamente',\n",
              " 'Podrá',\n",
              " 'secarse',\n",
              " 'en',\n",
              " 'un',\n",
              " 'instante']"
            ]
          },
          "metadata": {},
          "execution_count": 17
        }
      ],
      "source": [
        "words = pattern.split(becquer)\n",
        "words[:10]  # 10 primeras palabras"
      ]
    },
    {
      "cell_type": "code",
      "execution_count": null,
      "metadata": {
        "colab": {
          "base_uri": "https://localhost:8080/"
        },
        "id": "osgdvXzH0nbd",
        "outputId": "a34a5440-8d66-4972-8410-9a27cc7eee7a"
      },
      "outputs": [
        {
          "output_type": "execute_result",
          "data": {
            "text/plain": [
              "['Podrá nublarse el sol eternamente; ',\n",
              " 'Podrá secarse en un instante el mar; ',\n",
              " 'Podrá romperse el eje de la tierra ',\n",
              " 'como un débil cristal. ',\n",
              " '¡todo sucederá! Podrá la muerte ',\n",
              " 'cubrirme con su fúnebre crespón; ',\n",
              " 'Pero jamás en mí podrá apagarse ',\n",
              " 'la llama de tu amor.']"
            ]
          },
          "metadata": {},
          "execution_count": 18
        }
      ],
      "source": [
        "# Utilizando la version no compilada de split.\n",
        "re.split(r'\\n', becquer)  # Dividiendo por linea."
      ]
    },
    {
      "cell_type": "code",
      "execution_count": null,
      "metadata": {
        "colab": {
          "base_uri": "https://localhost:8080/"
        },
        "id": "BsZ3Ekwg0nbd",
        "outputId": "eb8b8042-d995-486b-cc1b-cffd7361e6d5"
      },
      "outputs": [
        {
          "output_type": "execute_result",
          "data": {
            "text/plain": [
              "['Podrá',\n",
              " 'nublarse',\n",
              " 'el',\n",
              " 'sol',\n",
              " 'eternamente',\n",
              " 'Podrá secarse en un instante el mar; \\nPodrá romperse el eje de la tierra \\ncomo un débil cristal. \\n¡todo sucederá! Podrá la muerte \\ncubrirme con su fúnebre crespón; \\nPero jamás en mí podrá apagarse \\nla llama de tu amor.']"
            ]
          },
          "metadata": {},
          "execution_count": 19
        }
      ],
      "source": [
        "# Utilizando el tope de divisiones\n",
        "pattern.split(becquer, 5)"
      ]
    },
    {
      "cell_type": "code",
      "execution_count": null,
      "metadata": {
        "colab": {
          "base_uri": "https://localhost:8080/"
        },
        "id": "Mm7tQfOU0nbd",
        "outputId": "679b1c1c-3d44-4c55-e3a7-75552304659a"
      },
      "outputs": [
        {
          "output_type": "stream",
          "name": "stdout",
          "text": [
            "Puede nublarse el sol eternamente; \n",
            "Puede secarse en un instante el mar; \n",
            "Puede romperse el eje de la tierra \n",
            "como un débil cristal. \n",
            "¡todo sucederá! Puede la muerte \n",
            "cubrirme con su fúnebre crespón; \n",
            "Pero jamás en mí Puede apagarse \n",
            "la llama de tu amor.\n"
          ]
        }
      ],
      "source": [
        "# Cambiando \"Podrá\" o \"podrá\" por \"Puede\"\n",
        "podra = re.compile(r'\\b(P|p)odrá\\b')\n",
        "puede = podra.sub(\"Puede\", becquer) # Es como replace\n",
        "print(puede)"
      ]
    },
    {
      "cell_type": "code",
      "execution_count": null,
      "metadata": {
        "colab": {
          "base_uri": "https://localhost:8080/"
        },
        "id": "q8oHQk3n0nbd",
        "outputId": "aef12d3d-9d06-4d48-d95c-40d75bebd243"
      },
      "outputs": [
        {
          "output_type": "stream",
          "name": "stdout",
          "text": [
            "Puede nublarse el sol eternamente; \n",
            "Puede secarse en un instante el mar; \n",
            "Podrá romperse el eje de la tierra \n",
            "como un débil cristal. \n",
            "¡todo sucederá! Podrá la muerte \n",
            "cubrirme con su fúnebre crespón; \n",
            "Pero jamás en mí podrá apagarse \n",
            "la llama de tu amor.\n"
          ]
        }
      ],
      "source": [
        "# Limitando el número de reemplazos\n",
        "puede = podra.sub(\"Puede\", becquer, 2)\n",
        "print(puede)"
      ]
    },
    {
      "cell_type": "code",
      "execution_count": null,
      "metadata": {
        "colab": {
          "base_uri": "https://localhost:8080/"
        },
        "id": "R87Cvn0w0nbe",
        "outputId": "a06d077e-3dc3-45c7-cac5-722d207346b8"
      },
      "outputs": [
        {
          "output_type": "execute_result",
          "data": {
            "text/plain": [
              "('Puede nublarse el sol eternamente; \\nPuede secarse en un instante el mar; \\nPuede romperse el eje de la tierra \\ncomo un débil cristal. \\n¡todo sucederá! Puede la muerte \\ncubrirme con su fúnebre crespón; \\nPero jamás en mí Puede apagarse \\nla llama de tu amor.',\n",
              " 5)"
            ]
          },
          "metadata": {},
          "execution_count": 22
        }
      ],
      "source": [
        "# Utilizando la version no compilada de subn\n",
        "re.subn(r'\\b(P|p)odrá\\b', \"Puede\", becquer)  # se realizaron 5 reemplazos"
      ]
    },
    {
      "cell_type": "markdown",
      "metadata": {
        "id": "lvgbJFKW0nbe"
      },
      "source": [
        "## Banderas de compilación\n",
        "\n",
        "Las banderas de compilación permiten modificar algunos aspectos de cómo funcionan las expresiones regulares. Todas ellas están disponibles en el módulo <code>re</code> bajo dos nombres, un nombre largo como IGNORECASE y una forma abreviada de una sola letra como I. Múltiples banderas pueden ser especificadas utilizando el operador \"<code>|</code>\" OR; Por ejemplo, <code>re.I | RE.M</code> establece las banderas de E y M.\n",
        "\n",
        "<p>Algunas de las banderas de compilación que podemos encontrar son:</p>\n",
        "<ul>\n",
        "    <li><b>IGNORECASE, I:</b> Para realizar búsquedas sin tener en cuenta las minúsculas o mayúsculas.</li>\n",
        "    <li><b>VERBOSE, X:</b> Que habilita la modo verborrágico, el cual permite organizar el patrón de búsqueda de una forma que sea más sencilla de entender y leer.</li>\n",
        "    <li><b>ASCII, A:</b> Que hace que las <a href=\"https://docs.microsoft.com/en-us/cpp/c-language/escape-sequences?redirectedfrom=MSDN&view=msvc-160\">secuencias de escape</a> \\w, \\b, \\s and \\d funciones para coincidencias con los caracteres ASCII.</li>\n",
        "    <li><b>DOTALL, S:</b> La cual hace que el metacaracter . funcione para cualquier caracter, incluyendo el las líneas nuevas.</li>\n",
        "    <li><b>LOCALE, L:</b> Esta opción hace que <code>\\w, \\W, \\b, \\B, \\s, y \\S</code> dependientes de la localización actual.</li>\n",
        "    <li><b>MULTILINE, M:</b> Que habilita la coincidencia en múltiples líneas, afectando el funcionamiento de los metacaracteres <code>^</code> and <code>$</code>.</li>\n",
        "</ul>"
      ]
    },
    {
      "cell_type": "code",
      "execution_count": null,
      "metadata": {
        "colab": {
          "base_uri": "https://localhost:8080/"
        },
        "id": "RvbzNJZK0nbe",
        "outputId": "3623264d-40ce-47de-8e28-760828ae96f1"
      },
      "outputs": [
        {
          "output_type": "stream",
          "name": "stdout",
          "text": [
            "Puede nublarse el sol eternamente; \n",
            "Puede secarse en un instante el mar; \n",
            "Puede romperse el eje de la tierra \n",
            "como un débil cristal. \n",
            "¡todo sucederá! Puede la muerte \n",
            "cubrirme con su fúnebre crespón; \n",
            "Pero jamás en mí Puede apagarse \n",
            "la llama de tu amor.\n"
          ]
        }
      ],
      "source": [
        "# Ejemplo de IGNORECASE\n",
        "# Cambiando \"Podrá\" o \"podrá\" por \"Puede\"\n",
        "podra = re.compile(r'podrá\\b', re.I)  # el patrón se vuelve más sencillo\n",
        "puede = podra.sub(\"Puede\", becquer)\n",
        "print(puede)"
      ]
    },
    {
      "cell_type": "code",
      "execution_count": null,
      "metadata": {
        "id": "M3w5J3aG0nbf"
      },
      "outputs": [],
      "source": [
        "# Ejemplo de VERBOSE\n",
        "mail = re.compile(r\"\"\"\n",
        "\\b              # comienzo de delimitador de palabra\n",
        "[\\w.%+-]+       # usuario: Cualquier caracter alfanumerico mas los signos (.%+-)\n",
        "@               # seguido de @\n",
        "[\\w.-]+         # dominio: Cualquier caracter alfanumerico mas los signos (.-)\n",
        "\\.              # seguido de .\n",
        "[a-zA-Z]{2,6}   # dominio de alto nivel: 2 a 6 letras en minúsculas o mayúsculas.\n",
        "\\b              # fin de delimitador de palabra\n",
        "\"\"\", re.X)"
      ]
    },
    {
      "cell_type": "code",
      "execution_count": null,
      "metadata": {
        "id": "dfCBtJAo0nbf"
      },
      "outputs": [],
      "source": [
        "mails = \"\"\"raul.lopez@relopezbriega.com, Raul Lopez Briega,\n",
        "foo bar, relopezbriega@relopezbriega.com.ar, raul@github.io, \n",
        "https://relopezbriega.com.ar, https://relopezbriega.github.io, \n",
        "python@python, river@riverplate.com.ar, pythonAR@python.pythonAR\n",
        "\"\"\""
      ]
    },
    {
      "cell_type": "code",
      "execution_count": null,
      "metadata": {
        "colab": {
          "base_uri": "https://localhost:8080/"
        },
        "id": "bGl7RxTO0nbf",
        "outputId": "6a03f21b-4e0f-40e5-f3e7-be1c33fd0d0d"
      },
      "outputs": [
        {
          "output_type": "execute_result",
          "data": {
            "text/plain": [
              "['raul.lopez@relopezbriega.com',\n",
              " 'relopezbriega@relopezbriega.com.ar',\n",
              " 'raul@github.io',\n",
              " 'river@riverplate.com.ar']"
            ]
          },
          "metadata": {},
          "execution_count": 40
        }
      ],
      "source": [
        "# filtrando los mails con estructura válida\n",
        "mail.findall(mails)\n",
        "\n",
        "# Como podemos ver en este último ejemplo, la opción VERBOSE puede ser muy util para que  \n",
        "# cualquier persona que lea nuestra expresion regular pueda entenderla más fácilmente."
      ]
    },
    {
      "cell_type": "markdown",
      "metadata": {
        "id": "o0FlZaVO0nbf"
      },
      "source": [
        "### Extras: Nombrando los grupos\n",
        "\n",
        "Otra de las funciones interesantes que nos ofrece el módulo <a href=\"https://docs.python.org/3/library/re.html\">re</a> de Python; es la posibilidad de ponerle nombres a los grupos de nuestras expresiones regulares. Así por ejemplo, en lugar de acceder a los grupos por sus índices, como en este caso..."
      ]
    },
    {
      "cell_type": "code",
      "execution_count": null,
      "metadata": {
        "colab": {
          "base_uri": "https://localhost:8080/"
        },
        "id": "v_CdVxJF0nbf",
        "outputId": "1f14a092-fba8-4a74-fde1-c01823ffc707"
      },
      "outputs": [
        {
          "output_type": "execute_result",
          "data": {
            "text/plain": [
              "(<re.Match object; span=(0, 10), match='Raul Lopez'>, 'Raul Lopez')"
            ]
          },
          "metadata": {},
          "execution_count": 41
        }
      ],
      "source": [
        "# Accediendo a los grupos por sus indices\n",
        "pattern = re.compile(r\"(\\w+) (\\w+)\")\n",
        "s = pattern.search(\"Raul Lopez\")\n",
        "s, s.group()"
      ]
    },
    {
      "cell_type": "code",
      "execution_count": null,
      "metadata": {
        "colab": {
          "base_uri": "https://localhost:8080/",
          "height": 38
        },
        "id": "hO6me1N00nbg",
        "outputId": "728d01b1-86dd-495d-87dc-442a5078e2d1"
      },
      "outputs": [
        {
          "output_type": "execute_result",
          "data": {
            "text/plain": [
              "'Raul'"
            ],
            "application/vnd.google.colaboratory.intrinsic+json": {
              "type": "string"
            }
          },
          "metadata": {},
          "execution_count": 42
        }
      ],
      "source": [
        "# grupo 1\n",
        "s.group(1)"
      ]
    },
    {
      "cell_type": "code",
      "execution_count": null,
      "metadata": {
        "colab": {
          "base_uri": "https://localhost:8080/",
          "height": 38
        },
        "id": "xwPUdE9V0nbg",
        "outputId": "9a93d535-503d-4589-8dda-e819c13c27bf"
      },
      "outputs": [
        {
          "output_type": "execute_result",
          "data": {
            "text/plain": [
              "'Lopez'"
            ],
            "application/vnd.google.colaboratory.intrinsic+json": {
              "type": "string"
            }
          },
          "metadata": {},
          "execution_count": 43
        }
      ],
      "source": [
        "# grupo 2\n",
        "s.group(2)"
      ]
    },
    {
      "cell_type": "markdown",
      "metadata": {
        "id": "5Wo_iAo-0nbg"
      },
      "source": [
        "Podemos utilizar la sintaxis especial <code>(?P< nombre >patron)</code> que nos ofrece Python para nombrar estos grupos y que sea más fácil identificarlos."
      ]
    },
    {
      "cell_type": "code",
      "execution_count": null,
      "metadata": {
        "id": "MLeefWnf0nbg"
      },
      "outputs": [],
      "source": [
        "# Accediendo a los grupos por nombres\n",
        "pattern = re.compile(r\"(?P<nombre>\\w+) (?P<apellido>\\w+)\")\n",
        "s = pattern.search(\"Raúl López\")"
      ]
    },
    {
      "cell_type": "code",
      "execution_count": null,
      "metadata": {
        "colab": {
          "base_uri": "https://localhost:8080/",
          "height": 38
        },
        "id": "AmA2P_mZ0nbg",
        "outputId": "2891e944-65e8-4b85-aa7d-76b84d4503af"
      },
      "outputs": [
        {
          "output_type": "execute_result",
          "data": {
            "text/plain": [
              "'Raúl'"
            ],
            "application/vnd.google.colaboratory.intrinsic+json": {
              "type": "string"
            }
          },
          "metadata": {},
          "execution_count": 45
        }
      ],
      "source": [
        "# grupo nombre\n",
        "s.group(\"nombre\")"
      ]
    },
    {
      "cell_type": "code",
      "execution_count": null,
      "metadata": {
        "colab": {
          "base_uri": "https://localhost:8080/",
          "height": 38
        },
        "id": "87dI8TIz0nbh",
        "outputId": "0989719b-46a6-4cf0-b159-af2c3925fc68"
      },
      "outputs": [
        {
          "output_type": "execute_result",
          "data": {
            "text/plain": [
              "'López'"
            ],
            "application/vnd.google.colaboratory.intrinsic+json": {
              "type": "string"
            }
          },
          "metadata": {},
          "execution_count": 46
        }
      ],
      "source": [
        "# grupo apellido\n",
        "s.group(\"apellido\")"
      ]
    },
    {
      "cell_type": "markdown",
      "metadata": {
        "id": "Pa5EciK30nbh"
      },
      "source": [
        "## Ejemplos de expresiones regulares\n",
        "\n",
        "### Validando mails\n",
        "\n",
        "<p>Para validar que un mail tenga la estructura correcta, podemos utilizar la siguiente expresion regular:</p>\n",
        "\n",
        "<b>regex:</b> <code>\\b[\\w.%+-]+@[\\w.-]+\\.[a-zA-Z]{2,6}\\b</code>\n",
        "\n",
        "<p>Este es el patrón que utilizamos en el ejemplo de la opción VERBOSE.</p>"
      ]
    },
    {
      "cell_type": "markdown",
      "metadata": {
        "id": "FufY4B5C0nbh"
      },
      "source": [
        "![imagen.png](attachment:imagen.png)"
      ]
    },
    {
      "cell_type": "markdown",
      "metadata": {
        "id": "ivm-iaHE0nbh"
      },
      "source": [
        "### Validando una URL\n",
        "\n",
        "Para validar que una URL tenga una estructura correcta, podemos utilizar esta expresion regular:\n",
        "\n",
        "<b>regex:</b> <code>^(https?:\\/\\/)?([\\da-z\\.-]+)\\.([a-z\\.]{2,6})([\\/\\w \\.-]*)*\\/?$</code>"
      ]
    },
    {
      "cell_type": "code",
      "execution_count": null,
      "metadata": {
        "colab": {
          "base_uri": "https://localhost:8080/"
        },
        "id": "burPL9600nbh",
        "outputId": "9d1e54dc-2228-4e77-b730-1b7bffc5907d"
      },
      "outputs": [
        {
          "output_type": "execute_result",
          "data": {
            "text/plain": [
              "<re.Match object; span=(0, 28), match='https://relopezbriega.com.ar'>"
            ]
          },
          "metadata": {},
          "execution_count": 47
        }
      ],
      "source": [
        "# Validando una URL\n",
        "url = re.compile(r\"^(https?:\\/\\/)?([\\da-z\\.-]+)\\.([a-z\\.]{2,6})([\\/\\w \\.-]*)*\\/?$\")\n",
        "\n",
        "# vemos que https://relopezbriega.com.ar lo acepta como una url válida.\n",
        "url.search(\"https://relopezbriega.com.ar\")"
      ]
    },
    {
      "cell_type": "code",
      "execution_count": null,
      "metadata": {
        "colab": {
          "base_uri": "https://localhost:8080/"
        },
        "id": "AfNfU3Dm0nbi",
        "outputId": "3e7c9f92-bb4d-4517-8310-d26fd0ef2534"
      },
      "outputs": [
        {
          "output_type": "stream",
          "name": "stdout",
          "text": [
            "None\n"
          ]
        }
      ],
      "source": [
        "# pero https://google.com/un/archivo!.html no la acepta por el carcter !\n",
        "print(url.search(\"https://google.com/un/archivo!.html\"))"
      ]
    },
    {
      "cell_type": "markdown",
      "metadata": {
        "id": "C8NC2pnS0nbi"
      },
      "source": [
        "### Validando una dirección IP\n",
        "\n",
        "Para validar que una dirección IP tenga una estructura correcta, podemos utilizar esta expresión regular:\n",
        "\n",
        "<b>regex:</b> <code>^(?:(?:25[0-5]|2[0-4][0-9]|[01]?[0-9][0-9]?)\\.){3}(?:25[0-5]|2[0-4][0-9]|[01]?[0-9][0-9]?)$</code>"
      ]
    },
    {
      "cell_type": "code",
      "execution_count": null,
      "metadata": {
        "colab": {
          "base_uri": "https://localhost:8080/"
        },
        "id": "kjIa4oTu0nbi",
        "outputId": "7e84f911-9db0-4537-d941-9dce818185b6"
      },
      "outputs": [
        {
          "output_type": "execute_result",
          "data": {
            "text/plain": [
              "<re.Match object; span=(0, 13), match='73.60.124.136'>"
            ]
          },
          "metadata": {},
          "execution_count": 49
        }
      ],
      "source": [
        "# Validando una dirección IP\n",
        "patron = ('^(?:(?:25[0-5]|2[0-4][0-9]|'\n",
        "          '[01]?[0-9][0-9]?)\\.){3}'\n",
        "          '(?:25[0-5]|2[0-4][0-9]|[01]?[0-9][0-9]?)$')\n",
        "\n",
        "ip = re.compile(patron)\n",
        "\n",
        "# la ip 73.60.124.136 es valida\n",
        "ip.search(\"73.60.124.136\")"
      ]
    },
    {
      "cell_type": "code",
      "execution_count": null,
      "metadata": {
        "colab": {
          "base_uri": "https://localhost:8080/"
        },
        "id": "My3LgMRs0nbi",
        "outputId": "f5349a2b-3302-43f5-a4f6-74657a8692e2"
      },
      "outputs": [
        {
          "output_type": "stream",
          "name": "stdout",
          "text": [
            "None\n"
          ]
        }
      ],
      "source": [
        "# pero la ip 256.60.124.136 no es valida\n",
        "print(ip.search(\"256.60.124.136\"))"
      ]
    },
    {
      "cell_type": "markdown",
      "metadata": {
        "id": "qGdep5jr0nbj"
      },
      "source": [
        "### Validando una fecha\n",
        "\n",
        "Para validar que una fecha tenga una estructura dd/mm/yyyy, podemos utilizar esta expresión regular:\n",
        "\n",
        "<b>regex:</b> <code>^(0?[1-9]|[12][0-9]|3[01])/(0?[1-9]|1[012])/((19|20)\\d\\d)$</code>"
      ]
    },
    {
      "cell_type": "code",
      "execution_count": null,
      "metadata": {
        "colab": {
          "base_uri": "https://localhost:8080/"
        },
        "id": "5-0Eb-490nbj",
        "outputId": "4110a5ed-55d7-4fb9-b3fe-e5c6497881e4"
      },
      "outputs": [
        {
          "output_type": "execute_result",
          "data": {
            "text/plain": [
              "<re.Match object; span=(0, 10), match='13/02/1982'>"
            ]
          },
          "metadata": {},
          "execution_count": 51
        }
      ],
      "source": [
        "# Validando una fecha\n",
        "p1_fecha = re.compile(r'^(0?[1-9]|[12][0-9]|3[01])/(0?[1-9]|1[012])/((19|20)\\d\\d)$')\n",
        "\n",
        "# validando 13/02/1982\n",
        "p1_fecha.search(\"13/02/1982\")"
      ]
    },
    {
      "cell_type": "code",
      "execution_count": null,
      "metadata": {
        "colab": {
          "base_uri": "https://localhost:8080/"
        },
        "id": "A7C1L8Ic0nbj",
        "outputId": "03533fbc-c637-4a24-d52b-5be3702fe0a2"
      },
      "outputs": [
        {
          "output_type": "stream",
          "name": "stdout",
          "text": [
            "None\n"
          ]
        }
      ],
      "source": [
        "# no valida 13-02-1982\n",
        "print(p1_fecha.search(\"13-02-1982\"))"
      ]
    },
    {
      "cell_type": "code",
      "execution_count": null,
      "metadata": {
        "colab": {
          "base_uri": "https://localhost:8080/"
        },
        "id": "EGs2lP4N0nbj",
        "outputId": "5cedf926-4ef4-44fc-cb6d-5bf2b844cba9"
      },
      "outputs": [
        {
          "output_type": "stream",
          "name": "stdout",
          "text": [
            "None\n"
          ]
        }
      ],
      "source": [
        "# no valida 32/12/2015\n",
        "print(p1_fecha.search(\"32/12/2015\"))"
      ]
    },
    {
      "cell_type": "code",
      "execution_count": null,
      "metadata": {
        "colab": {
          "base_uri": "https://localhost:8080/"
        },
        "id": "ZMZKUD9G0nbj",
        "outputId": "500d487b-6cc6-4f0e-8a35-d749fafbef1e"
      },
      "outputs": [
        {
          "output_type": "stream",
          "name": "stdout",
          "text": [
            "None\n"
          ]
        }
      ],
      "source": [
        "# no valida 30/14/2015\n",
        "print(p1_fecha.search(\"30/14/2015\"))"
      ]
    },
    {
      "cell_type": "markdown",
      "metadata": {
        "id": "nkJofe9X0nbk"
      },
      "source": [
        "## Caso de estudio: Expresiones regulares para fechas\n",
        "#### Variaciones de fechas para 23 de Octubre de 2002"
      ]
    },
    {
      "cell_type": "code",
      "execution_count": null,
      "metadata": {
        "colab": {
          "base_uri": "https://localhost:8080/"
        },
        "id": "UFqgQzro0nbk",
        "outputId": "7e91823c-ebc9-477d-dff4-88d7e0733ee6"
      },
      "outputs": [
        {
          "output_type": "stream",
          "name": "stdout",
          "text": [
            "23-10-002\n",
            "23-10-2002\n",
            "23/10/2002\n",
            "23/10/02\n",
            "10/23/2002\n",
            "23 Oct 2002\n",
            "23 de Octubre de 2002\n",
            "Oct 23, 2002\n",
            "Octubre 23, 2002\n"
          ]
        }
      ],
      "source": [
        "dateStr = '23-10-002\\n23-10-2002\\n23/10/2002\\n23/10/02\\n10/23/2002\\n23 Oct 2002\\n23 de Octubre de 2002\\nOct 23, \\\n",
        "2002\\nOctubre 23, 2002'\n",
        "print(dateStr)"
      ]
    },
    {
      "cell_type": "markdown",
      "metadata": {
        "id": "ddG_g-rg0nbk"
      },
      "source": [
        "1. A partir del patrón anterior, verificar si cada una de las fechas dadas cumplen o no con el mismo"
      ]
    },
    {
      "cell_type": "code",
      "execution_count": null,
      "metadata": {
        "id": "8hK8Gxyd0nbl"
      },
      "outputs": [],
      "source": [
        ""
      ]
    },
    {
      "cell_type": "markdown",
      "metadata": {
        "id": "ojunQh2m0nbl"
      },
      "source": [
        "2. Realice una expresión regular que extraiga las fechas con formatos numéricos:\n",
        "<p> 23-10-002 23-10-2002 23/10/2002 23/10/02 10/23/2002</p>"
      ]
    },
    {
      "cell_type": "code",
      "execution_count": null,
      "metadata": {
        "id": "nQQ-IIKd0nbl"
      },
      "outputs": [],
      "source": [
        ""
      ]
    },
    {
      "cell_type": "code",
      "execution_count": null,
      "metadata": {
        "id": "plxerENR0nbl"
      },
      "outputs": [],
      "source": [
        ""
      ]
    },
    {
      "cell_type": "markdown",
      "metadata": {
        "id": "FmfRO_eX0nbl"
      },
      "source": [
        "3. Encuentre todas las fechas escritas en formato donde el mes aparece no numérico"
      ]
    },
    {
      "cell_type": "code",
      "execution_count": null,
      "metadata": {
        "id": "sINuYlZX0nbl"
      },
      "outputs": [],
      "source": [
        ""
      ]
    },
    {
      "cell_type": "code",
      "execution_count": null,
      "metadata": {
        "id": "q3ldod7T0nbl"
      },
      "outputs": [],
      "source": [
        ""
      ]
    },
    {
      "cell_type": "markdown",
      "metadata": {
        "id": "Kyj_K7Qb0nbm"
      },
      "source": [
        "4. ¿Qué sucede a las expresiones regulares del ejercicio 2 y 3, si sólo tenemos en el día un solo digito?"
      ]
    },
    {
      "cell_type": "code",
      "execution_count": null,
      "metadata": {
        "id": "lBJVc2Yj0nbm",
        "outputId": "5e2aca5f-d7d1-4d58-c6b7-1030a6409a72"
      },
      "outputs": [
        {
          "name": "stdout",
          "output_type": "stream",
          "text": [
            "23-10-002\n",
            "23-10-2002\n",
            "23/10/2002\n",
            "23/10/02\n",
            "10/23/2002\n",
            "23 Oct 2002\n",
            "23 de Octubre de 2002\n",
            "Oct 23, 2002\n",
            "Octubre 23, 2002\n",
            "1-10-2001\n",
            "1 Oct 2001\n"
          ]
        }
      ],
      "source": [
        "dateStr = dateStr + \"\\n1-10-2001\\n1 Oct 2001\"\n",
        "print(dateStr)"
      ]
    },
    {
      "cell_type": "code",
      "execution_count": null,
      "metadata": {
        "id": "JFiuxt1y0nbm"
      },
      "outputs": [],
      "source": [
        ""
      ]
    },
    {
      "cell_type": "code",
      "execution_count": null,
      "metadata": {
        "id": "Iibxqgs_0nbm"
      },
      "outputs": [],
      "source": [
        ""
      ]
    },
    {
      "cell_type": "code",
      "execution_count": null,
      "metadata": {
        "id": "wT5vakJ10nbm"
      },
      "outputs": [],
      "source": [
        ""
      ]
    },
    {
      "cell_type": "markdown",
      "metadata": {
        "id": "4QLB_pkY0nbm"
      },
      "source": [
        "## Tarea\n",
        "\n",
        "Se tiene un archivo (dates.txt) donde cada línea de este corresponde a una nota médica y cada nota tiene una fecha que debe extraerse, pero cada fecha está codificada en uno de muchos formatos. Por ejemplo, se muestra a continuación una lista de algunas de las variantes que se puede encontrar en este conjunto de datos:\n",
        "<ul>\n",
        "    <li>04/20/2009; 04/20/09; 4/20/09; 4/3/09</li>\n",
        "    <li>Mar-20-2009; Mar 20, 2009; March 20, 2009; Mar. 20, 2009; Mar 20 2009;</li>\n",
        "    <li>20 Mar 2009; 20 March 2009; 20 Mar. 2009; 20 March, 2009</li>\n",
        "    <li>Mar 20th, 2009; Mar 21st, 2009; Mar 22nd, 2009</li>\n",
        "    <li>Feb 2009; Sep 2009; Oct 2010</li>\n",
        "    <li>6/2008; 12/2009</li>\n",
        "    <li>2009; 2010</li>\n",
        "</ul>\n",
        "La actividad consiste en:\n",
        "<p>a). Identificar correctamente todas las diferentes variantes de fecha codificadas en este conjunto de datos, normalizar y ordenar adecuadamente las fechas.</p>\n",
        "<p>b).\tUna vez que haya extraído estos patrones de fecha del texto, el siguiente paso es clasificarlos en orden cronológico ascendente de acuerdo con las siguientes reglas:</p>\n",
        "<ul>\n",
        "    <li>Todas las fechas están en formato xx/xx/xx son mm/dd/aa</li>\n",
        "    <li>Todas las fechas en las que el año está codificado en solo dos dígitos corresponden a años posteriores a la década de 1900 (p. Ej., 1/5/89 es el 5 de enero de 1989).</li>\n",
        "    <li>Si falta el día (p. Ej., 9/2009), suponga que es el primer día del mes (p. Ej., septiembre, 1 de 2009).</li>\n",
        "    <li>Si falta el mes (por ejemplo, 2010), suponga que es el primero de enero de ese año (p. Ej., enero, 1 de 2010).</li>\n",
        "    <li>Tenga cuidado con los posibles errores tipográficos, ya que este es un conjunto de datos derivados de la vida real.</li>\n",
        "</ul>\n",
        "Esta función debería devolver una lista de longitud 500.\n"
      ]
    },
    {
      "cell_type": "code",
      "execution_count": null,
      "metadata": {
        "id": "GsIsxV940nbm"
      },
      "outputs": [],
      "source": [
        ""
      ]
    },
    {
      "cell_type": "code",
      "execution_count": null,
      "metadata": {
        "id": "cZ2V2OUD0nbn"
      },
      "outputs": [],
      "source": [
        ""
      ]
    }
  ],
  "metadata": {
    "kernelspec": {
      "display_name": "Python 3",
      "language": "python",
      "name": "python3"
    },
    "language_info": {
      "codemirror_mode": {
        "name": "ipython",
        "version": 3
      },
      "file_extension": ".py",
      "mimetype": "text/x-python",
      "name": "python",
      "nbconvert_exporter": "python",
      "pygments_lexer": "ipython3",
      "version": "3.7.4"
    },
    "colab": {
      "name": "Ejercicio2(es).ipynb",
      "provenance": []
    }
  },
  "nbformat": 4,
  "nbformat_minor": 0
}