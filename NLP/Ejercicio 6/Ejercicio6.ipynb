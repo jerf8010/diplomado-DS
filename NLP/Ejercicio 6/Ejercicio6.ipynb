{
 "cells": [
  {
   "cell_type": "markdown",
   "metadata": {},
   "source": [
    "# Trabajando con Gensim - LDA"
   ]
  },
  {
   "cell_type": "markdown",
   "metadata": {},
   "source": [
    "## Preparación de documentos"
   ]
  },
  {
   "cell_type": "code",
   "execution_count": 1,
   "metadata": {},
   "outputs": [],
   "source": [
    "doc1 = \"Sugar is bad to consume. My sister likes to have sugar, but not my father.\"\n",
    "doc2 = \"My father spends a lot of time driving my sister around to dance practice.\"\n",
    "doc3 = \"Doctors suggest that driving may cause increased stress and blood pressure.\"\n",
    "doc4 = \"Sometimes I feel pressure to perform well at school, but my father never seems to drive my sister to do better.\"\n",
    "doc5 = \"Health experts say that Sugar is not good for your lifestyle.\"\n",
    "# compilar documentos\n",
    "doc_complete = [doc1, doc2, doc3, doc4, doc5]"
   ]
  },
  {
   "cell_type": "markdown",
   "metadata": {},
   "source": [
    "## Pre-procesamiento"
   ]
  },
  {
   "cell_type": "code",
   "execution_count": 2,
   "metadata": {},
   "outputs": [
    {
     "name": "stderr",
     "output_type": "stream",
     "text": [
      "[nltk_data] Downloading package wordnet to\n",
      "[nltk_data]     C:\\Users\\luiso\\AppData\\Roaming\\nltk_data...\n",
      "[nltk_data]   Package wordnet is already up-to-date!\n",
      "[nltk_data] Downloading package stopwords to\n",
      "[nltk_data]     C:\\Users\\luiso\\AppData\\Roaming\\nltk_data...\n",
      "[nltk_data]   Package stopwords is already up-to-date!\n"
     ]
    },
    {
     "data": {
      "text/plain": [
       "True"
      ]
     },
     "execution_count": 2,
     "metadata": {},
     "output_type": "execute_result"
    }
   ],
   "source": [
    "import nltk\n",
    "nltk.download('wordnet')\n",
    "nltk.download('stopwords')"
   ]
  },
  {
   "cell_type": "code",
   "execution_count": 25,
   "metadata": {},
   "outputs": [
    {
     "data": {
      "text/plain": [
       "[['sugar', 'bad', 'consume', 'sister', 'like', 'sugar', 'father'],\n",
       " ['father',\n",
       "  'spends',\n",
       "  'lot',\n",
       "  'time',\n",
       "  'driving',\n",
       "  'sister',\n",
       "  'around',\n",
       "  'dance',\n",
       "  'practice'],\n",
       " ['doctor',\n",
       "  'suggest',\n",
       "  'driving',\n",
       "  'may',\n",
       "  'cause',\n",
       "  'increased',\n",
       "  'stress',\n",
       "  'blood',\n",
       "  'pressure'],\n",
       " ['sometimes',\n",
       "  'feel',\n",
       "  'pressure',\n",
       "  'perform',\n",
       "  'well',\n",
       "  'school',\n",
       "  'father',\n",
       "  'never',\n",
       "  'seems',\n",
       "  'drive',\n",
       "  'sister',\n",
       "  'better'],\n",
       " ['health', 'expert', 'say', 'sugar', 'good', 'lifestyle']]"
      ]
     },
     "execution_count": 25,
     "metadata": {},
     "output_type": "execute_result"
    }
   ],
   "source": [
    "from nltk.corpus import stopwords \n",
    "from nltk.stem.wordnet import WordNetLemmatizer\n",
    "import string\n",
    "\n",
    "stop = set(stopwords.words('english'))\n",
    "exclude = set(string.punctuation) \n",
    "lemma = WordNetLemmatizer()\n",
    "\n",
    "\n",
    "def preprocessor(doc):\n",
    "    '''Función para el pre-procesamiento de texto'''\n",
    "    \n",
    "    # Eliminaremos palabras muy comunes en el lenguaje, que dificilmente puedan ayudarnos a identificar un campo semántico.\n",
    "    # Convertiremos las palabras resultantes a minúsculas para evitar repetición de palabras\n",
    "    stop_free = \" \".join([i for i in doc.lower().split() if i not in stop])\n",
    "    \n",
    "    # Eliminamos los signos de puntuación: ya que no agrega ninguna información adicional al procesar datos de texto \n",
    "    punc_free = ''.join(ch for ch in stop_free if ch not in exclude)\n",
    "    \n",
    "    # Reduciremos las palabras a sus lemmas, formas básicas de las palabras, sin género ni conjugación\n",
    "    normalized = \" \".join(lemma.lemmatize(word) for word in punc_free.split())\n",
    "    \n",
    "    # Pudiéramos por ejemplo: dejar las palabras que podrían ser más signficativas: adjetivos, verbos, y sustantivos.\n",
    "    # Omitir los adverbios, ya que no nos interesan las posibles modificaciones del sentido entre palabras cercanas, como negaciones o amplificaciones\n",
    "    # entre otras actividades que crean conveniente para el pre-procesamiento de texto\n",
    "    return normalized\n",
    "\n",
    "\n",
    "doc_clean = [preprocessor(doc).split() for doc in doc_complete]  \n",
    "doc_clean\n",
    "\n",
    "# https://towardsdatascience.com/topic-modelling-in-python-with-spacy-and-gensim-dc8f7748bdbf"
   ]
  },
  {
   "cell_type": "markdown",
   "metadata": {},
   "source": [
    "## Matriz término-documento"
   ]
  },
  {
   "cell_type": "code",
   "execution_count": 16,
   "metadata": {},
   "outputs": [],
   "source": [
    "import gensim\n",
    "\n",
    "from gensim.models.ldamodel import LdaModel\n",
    "\n",
    "from gensim.corpora.dictionary import Dictionary\n",
    "\n",
    "# from gensim.test.utils import common_texts\n",
    "# common_texts"
   ]
  },
  {
   "cell_type": "code",
   "execution_count": 5,
   "metadata": {},
   "outputs": [
    {
     "name": "stdout",
     "output_type": "stream",
     "text": [
      "{'bad': 0, 'consume': 1, 'father': 2, 'like': 3, 'sister': 4, 'sugar': 5, 'around': 6, 'dance': 7, 'driving': 8, 'lot': 9, 'practice': 10, 'spends': 11, 'time': 12, 'blood': 13, 'cause': 14, 'doctor': 15, 'increased': 16, 'may': 17, 'pressure': 18, 'stress': 19, 'suggest': 20, 'better': 21, 'drive': 22, 'feel': 23, 'never': 24, 'perform': 25, 'school': 26, 'seems': 27, 'sometimes': 28, 'well': 29, 'expert': 30, 'good': 31, 'health': 32, 'lifestyle': 33, 'say': 34}\n"
     ]
    },
    {
     "data": {
      "text/plain": [
       "[[(0, 1), (1, 1), (2, 1), (3, 1), (4, 1), (5, 2)],\n",
       " [(2, 1), (4, 1), (6, 1), (7, 1), (8, 1), (9, 1), (10, 1), (11, 1), (12, 1)],\n",
       " [(8, 1),\n",
       "  (13, 1),\n",
       "  (14, 1),\n",
       "  (15, 1),\n",
       "  (16, 1),\n",
       "  (17, 1),\n",
       "  (18, 1),\n",
       "  (19, 1),\n",
       "  (20, 1)],\n",
       " [(2, 1),\n",
       "  (4, 1),\n",
       "  (18, 1),\n",
       "  (21, 1),\n",
       "  (22, 1),\n",
       "  (23, 1),\n",
       "  (24, 1),\n",
       "  (25, 1),\n",
       "  (26, 1),\n",
       "  (27, 1),\n",
       "  (28, 1),\n",
       "  (29, 1)],\n",
       " [(5, 1), (30, 1), (31, 1), (32, 1), (33, 1), (34, 1)]]"
      ]
     },
     "execution_count": 5,
     "metadata": {},
     "output_type": "execute_result"
    }
   ],
   "source": [
    "# Creación del diccionario de términos de nuestro courpus, donde se asigna un índice a cada término único.\n",
    "common_dictionary = Dictionary(doc_clean)\n",
    "\n",
    "# print(dictionary)\n",
    "print(common_dictionary.token2id)\n",
    "\n",
    "# Convertir la lista de documentos (corpus) en la Matriz de Términos del Documento utilizando el diccionario.\n",
    "doc_term_matrix = [ common_dictionary.doc2bow(doc) for doc in doc_clean ]\n",
    "\n",
    "doc_term_matrix"
   ]
  },
  {
   "cell_type": "markdown",
   "metadata": {},
   "source": [
    "## Ejecutar modelo LDA"
   ]
  },
  {
   "cell_type": "code",
   "execution_count": 6,
   "metadata": {},
   "outputs": [],
   "source": [
    "# Creación del objeto para el modelo LDA usando la librería gensim\n",
    "# https://radimrehurek.com/gensim/models/ldamodel.html\n",
    "\n",
    "# Ejecución y entrenamiento del modelo LDA en la matriz de términos del documento.\n",
    "ldamodel = LdaModel(doc_term_matrix, num_topics=3, id2word=common_dictionary)\n",
    "\n",
    "# ldamodel = LdaModel(doc_term_matrix, num_topics=3, id2word=common_dictionary, passes=50)"
   ]
  },
  {
   "cell_type": "markdown",
   "metadata": {},
   "source": [
    "Parameters\n",
    "<ul>\n",
    "    <li><em>corpus</em> (iterable of list of (int, float), optional) – Stream of document vectors or sparse matrix of shape (num_documents, num_terms). If you have a CSC in-memory matrix, you can convert it to a streamed corpus with the help of gensim.matutils.Sparse2Corpus. If not given, the model is left untrained (presumably because you want to call update() manually).</li>\n",
    "    <li><em>num_topics</em> (int, optional) – The number of requested latent topics to be extracted from the training corpus.</li>\n",
    "    <li><em>id2word</em> <code>({dict of (int, str), gensim.corpora.dictionary.Dictionary})</code> – Mapping from word IDs to words. It is used to determine the vocabulary size, as well as for debugging and topic printing.</li>\n",
    "    <li><em>passes</em> (int, optional) – Number of passes through the corpus during training.</li>\n",
    "</ul>"
   ]
  },
  {
   "cell_type": "code",
   "execution_count": 7,
   "metadata": {},
   "outputs": [
    {
     "name": "stdout",
     "output_type": "stream",
     "text": [
      "0.062*\"sister\" + 0.062*\"father\" + 0.051*\"pressure\" + 0.051*\"perform\" + 0.051*\"sometimes\" + 0.051*\"feel\" + 0.051*\"school\" + 0.051*\"drive\" + 0.051*\"seems\" + 0.051*\"never\"\n",
      "---next----\n",
      "[(0, '0.066*\"driving\" + 0.048*\"practice\" + 0.045*\"father\" + 0.045*\"spends\"'), (1, '0.062*\"sister\" + 0.062*\"father\" + 0.051*\"pressure\" + 0.051*\"perform\"'), (2, '0.117*\"sugar\" + 0.047*\"sister\" + 0.047*\"consume\" + 0.047*\"expert\"')]\n",
      "---next----\n",
      "[(0, '0.066*\"driving\" + 0.048*\"practice\" + 0.045*\"father\" + 0.045*\"spends\"'),\n",
      " (1, '0.062*\"sister\" + 0.062*\"father\" + 0.051*\"pressure\" + 0.051*\"perform\"'),\n",
      " (2, '0.117*\"sugar\" + 0.047*\"sister\" + 0.047*\"consume\" + 0.047*\"expert\"')]\n"
     ]
    }
   ],
   "source": [
    "topic = ldamodel.print_topic(1) # Retorna un str\n",
    "# topic = ldamodel.print_topic(num_topics=1, num_words=4) # Retorna un str\n",
    "print(topic)\n",
    "print('---next----')\n",
    "\n",
    "def lda_topics(ldamodel, num_topics=3, num_words=4):\n",
    "    '''Función dado un modelo LDA retornar una lista de n topicos con m palabras'''\n",
    "    topics = ldamodel.print_topics(num_topics=num_topics, num_words=num_words)\n",
    "    return topics\n",
    "\n",
    "topics = lda_topics(ldamodel)\n",
    "print(topics)\n",
    "print('---next----')\n",
    "\n",
    "from pprint import pprint\n",
    "pprint(topics)"
   ]
  },
  {
   "cell_type": "code",
   "execution_count": 8,
   "metadata": {},
   "outputs": [
    {
     "data": {
      "text/plain": [
       "[('sister', 0.06242956),\n",
       " ('father', 0.061664987),\n",
       " ('pressure', 0.05108476),\n",
       " ('perform', 0.050774045),\n",
       " ('sometimes', 0.05075329),\n",
       " ('feel', 0.050743558),\n",
       " ('school', 0.050705004),\n",
       " ('drive', 0.050683018),\n",
       " ('seems', 0.050540525),\n",
       " ('never', 0.050521884)]"
      ]
     },
     "execution_count": 8,
     "metadata": {},
     "output_type": "execute_result"
    }
   ],
   "source": [
    "topic = ldamodel.show_topic(1) # Retorna list\n",
    "topic"
   ]
  },
  {
   "cell_type": "code",
   "execution_count": 9,
   "metadata": {},
   "outputs": [
    {
     "data": {
      "text/plain": [
       "[(0, '0.066*\"driving\" + 0.048*\"practice\" + 0.045*\"father\" + 0.045*\"spends\"'),\n",
       " (1, '0.062*\"sister\" + 0.062*\"father\" + 0.051*\"pressure\" + 0.051*\"perform\"'),\n",
       " (2, '0.117*\"sugar\" + 0.047*\"sister\" + 0.047*\"consume\" + 0.047*\"expert\"')]"
      ]
     },
     "execution_count": 9,
     "metadata": {},
     "output_type": "execute_result"
    }
   ],
   "source": [
    "topics = ldamodel.show_topics(num_topics=3, num_words=4) # Retorna list to tuple\n",
    "topics"
   ]
  },
  {
   "cell_type": "code",
   "execution_count": null,
   "metadata": {},
   "outputs": [],
   "source": []
  },
  {
   "cell_type": "markdown",
   "metadata": {},
   "source": [
    "## Analizar los resultados del modelo LDA\n",
    "\n",
    "Visualicemos los temas para la interpretación, usaremos el paquete de visualización popular, <b>pyLDAvis</b>. PyLDAvis ofrece la mejor visualización para ver la distribución de palabras clave y temas, para lo cual provee de una forma simple e interactiva analizar los resultados obtenidos.\n",
    "\n",
    "Esta visualización permite enriquecer lo desarrollado, teniéndose en cuenta las siguientes observaciones:\n",
    "<ul>\n",
    "    <li>El gráfico representa nuestros N temas en forma de círculos (burbujas). Han sido dibujados usando la técnica de reducción de dimensionalidad (PCA). El objetivo es tener una distancia para evitar superposiciones y hacer que cada círculo sea único. Cuanto más grande la burbuja, más predominante es ese tópico.</li>\n",
    "    <li>Cuando paso el cursor sobre un círculo, se muestran diferentes palabras a la derecha, mostrando la frecuencia de palabras (azul) y la frecuencia estimada de términos dentro del tema seleccionado (rojo).</li>\n",
    "    <li>Los temas más cercanos entre sí están más relacionados.</li>\n",
    "    <li>Un buen modelo de tópicos es aquel que tiene burbujas bastante grandes y que no se solapan, dispersas en todo el gráfico en lugar de estar todas juntas y clusterizadas en un único cuadrante. Un modelo con muchos tópicos seguramente tendrá burbujas pequeñas, ubicadas en una misma región del gráfico y con muchos casos de solapamiento.</li>\n",
    "</ul>"
   ]
  },
  {
   "cell_type": "code",
   "execution_count": 10,
   "metadata": {},
   "outputs": [
    {
     "data": {
      "text/html": [
       "\n",
       "<link rel=\"stylesheet\" type=\"text/css\" href=\"https://cdn.jsdelivr.net/gh/bmabey/pyLDAvis@3.3.1/pyLDAvis/js/ldavis.v1.0.0.css\">\n",
       "\n",
       "\n",
       "<div id=\"ldavis_el1246816658805242327852768257\"></div>\n",
       "<script type=\"text/javascript\">\n",
       "\n",
       "var ldavis_el1246816658805242327852768257_data = {\"mdsDat\": {\"x\": [0.004475696438850072, -0.06939164912045957, 0.06491595268160949], \"y\": [-0.04475289062530886, 0.02013941236910825, 0.024613478256200635], \"topics\": [1, 2, 3], \"cluster\": [1, 1, 1], \"Freq\": [40.98583258936539, 29.68127306479647, 29.332894345838138]}, \"tinfo\": {\"Term\": [\"sugar\", \"perform\", \"sometimes\", \"feel\", \"school\", \"drive\", \"seems\", \"never\", \"better\", \"well\", \"consume\", \"expert\", \"bad\", \"say\", \"health\", \"like\", \"good\", \"lifestyle\", \"practice\", \"driving\", \"sister\", \"pressure\", \"spends\", \"time\", \"dance\", \"lot\", \"father\", \"around\", \"increased\", \"may\", \"practice\", \"spends\", \"driving\", \"time\", \"dance\", \"lot\", \"around\", \"increased\", \"may\", \"doctor\", \"suggest\", \"blood\", \"stress\", \"cause\", \"pressure\", \"father\", \"sister\", \"lifestyle\", \"good\", \"say\", \"like\", \"bad\", \"health\", \"expert\", \"consume\", \"better\", \"never\", \"well\", \"seems\", \"school\", \"sugar\", \"sugar\", \"consume\", \"expert\", \"bad\", \"say\", \"health\", \"like\", \"good\", \"lifestyle\", \"cause\", \"stress\", \"blood\", \"sister\", \"father\", \"suggest\", \"doctor\", \"may\", \"increased\", \"driving\", \"pressure\", \"well\", \"seems\", \"never\", \"better\", \"drive\", \"sometimes\", \"school\", \"feel\", \"perform\", \"lot\", \"time\", \"practice\", \"dance\", \"around\", \"spends\", \"perform\", \"sometimes\", \"feel\", \"school\", \"drive\", \"seems\", \"never\", \"better\", \"well\", \"pressure\", \"sister\", \"father\", \"around\", \"lot\", \"dance\", \"time\", \"spends\", \"practice\", \"lifestyle\", \"like\", \"health\", \"good\", \"bad\", \"expert\", \"say\", \"consume\", \"driving\", \"cause\", \"blood\", \"suggest\", \"sugar\"], \"Freq\": [1.0, 1.0, 1.0, 1.0, 1.0, 1.0, 1.0, 1.0, 1.0, 1.0, 1.0, 1.0, 1.0, 1.0, 1.0, 1.0, 1.0, 1.0, 1.0, 1.0, 2.0, 1.0, 1.0, 1.0, 1.0, 1.0, 2.0, 1.0, 1.0, 1.0, 0.853470615326971, 0.788116346996524, 1.1714531606274157, 0.7855037703467143, 0.77859688531325, 0.7759131395359958, 0.7661868671964028, 0.7131530646859081, 0.7092261570745587, 0.7018270626790554, 0.6974297428923011, 0.6818878235886654, 0.6729685067337761, 0.6590230343885696, 0.7444562538972309, 0.7990988463513574, 0.7701032701394948, 0.2584332387167973, 0.2580765067481912, 0.256482538234929, 0.2546103765618294, 0.25454483728002925, 0.25435263467800584, 0.252842342412832, 0.25233509824434935, 0.25224973140121326, 0.2510708450060185, 0.2507777811751792, 0.2505551806893857, 0.24954454953529615, 0.2640642333091267, 1.4958588984429146, 0.600029462853507, 0.5980592171541252, 0.5967922197025186, 0.5955915484834619, 0.5946681637075818, 0.5941076476104267, 0.5931159872288536, 0.5905818972342675, 0.34489422215820104, 0.3390157448082886, 0.3311503807687488, 0.6050769604690884, 0.5961271981866216, 0.322156472316445, 0.31948186104565723, 0.3154476570989681, 0.31364474844292645, 0.3773422513094868, 0.2992322958382529, 0.15798580528163478, 0.1563081557364554, 0.15620895166174897, 0.15596117920341493, 0.1552913793460332, 0.15502330487959964, 0.15498096544584644, 0.1548500365118791, 0.15480064843011476, 0.1571572860365757, 0.157213187877379, 0.15701222414732127, 0.15624219798297517, 0.15594208961031902, 0.15559613530953648, 0.6404204034680129, 0.6401586353963855, 0.6400358567262793, 0.6395495817714649, 0.6392722607952048, 0.6374749840513987, 0.6372398579644443, 0.6367249675446107, 0.6355491961469568, 0.6443395004973109, 0.7874330833115173, 0.7777894366619669, 0.2976626249278272, 0.28995651308954073, 0.28915610235248534, 0.28356995478841274, 0.2835606982258368, 0.23894073048825248, 0.17189938296448048, 0.1706852814098655, 0.1702613825302773, 0.1694493423554679, 0.16788266913948952, 0.16766414143187494, 0.16787779417315826, 0.16591016378661555, 0.27981195483927523, 0.16805678179240907, 0.16754099860765714, 0.1668217472498368, 0.17698344423715595], \"Total\": [1.0, 1.0, 1.0, 1.0, 1.0, 1.0, 1.0, 1.0, 1.0, 1.0, 1.0, 1.0, 1.0, 1.0, 1.0, 1.0, 1.0, 1.0, 1.0, 1.0, 2.0, 1.0, 1.0, 1.0, 1.0, 1.0, 2.0, 1.0, 1.0, 1.0, 1.2494235699625447, 1.2272731805318973, 1.8286073667761777, 1.226286913012506, 1.2239951856487106, 1.2230269386621122, 1.219791581734549, 1.1922693004270797, 1.190824166963937, 1.1880649587777856, 1.1864079624585828, 1.1805792029650712, 1.1770722493201902, 1.1719740383391797, 1.6880280502327947, 2.173015481199946, 2.1626133139201005, 1.020914518915545, 1.0206418363325127, 1.019951880891549, 1.0194033055821214, 1.0192197261220373, 1.019282180915865, 1.0185657009988323, 1.018274724884472, 1.0449358781492388, 1.0445196546322117, 1.0443127826037708, 1.0443383204772398, 1.0440750967526076, 1.9369065759891972, 1.9369065759891972, 1.018274724884472, 1.0185657009988323, 1.0192197261220373, 1.019951880891549, 1.019282180915865, 1.0194033055821214, 1.0206418363325127, 1.020914518915545, 1.1719740383391797, 1.1770722493201902, 1.1805792029650712, 2.1626133139201005, 2.173015481199946, 1.1864079624585828, 1.1880649587777856, 1.190824166963937, 1.1922693004270797, 1.8286073667761777, 1.6880280502327947, 1.0443127826037708, 1.0443383204772398, 1.0445196546322117, 1.0449358781492388, 1.0440302417553549, 1.0437358011133369, 1.0440750967526076, 1.0439043722698291, 1.0437361275306474, 1.2230269386621122, 1.226286913012506, 1.2494235699625447, 1.2239951856487106, 1.219791581734549, 1.2272731805318973, 1.0437361275306474, 1.0437358011133369, 1.0439043722698291, 1.0440750967526076, 1.0440302417553549, 1.0443383204772398, 1.0445196546322117, 1.0449358781492388, 1.0443127826037708, 1.6880280502327947, 2.1626133139201005, 2.173015481199946, 1.219791581734549, 1.2230269386621122, 1.2239951856487106, 1.226286913012506, 1.2272731805318973, 1.2494235699625447, 1.020914518915545, 1.0194033055821214, 1.019282180915865, 1.0206418363325127, 1.0192197261220373, 1.0185657009988323, 1.019951880891549, 1.018274724884472, 1.8286073667761777, 1.1719740383391797, 1.1805792029650712, 1.1864079624585828, 1.9369065759891972], \"Category\": [\"Default\", \"Default\", \"Default\", \"Default\", \"Default\", \"Default\", \"Default\", \"Default\", \"Default\", \"Default\", \"Default\", \"Default\", \"Default\", \"Default\", \"Default\", \"Default\", \"Default\", \"Default\", \"Default\", \"Default\", \"Default\", \"Default\", \"Default\", \"Default\", \"Default\", \"Default\", \"Default\", \"Default\", \"Default\", \"Default\", \"Topic1\", \"Topic1\", \"Topic1\", \"Topic1\", \"Topic1\", \"Topic1\", \"Topic1\", \"Topic1\", \"Topic1\", \"Topic1\", \"Topic1\", \"Topic1\", \"Topic1\", \"Topic1\", \"Topic1\", \"Topic1\", \"Topic1\", \"Topic1\", \"Topic1\", \"Topic1\", \"Topic1\", \"Topic1\", \"Topic1\", \"Topic1\", \"Topic1\", \"Topic1\", \"Topic1\", \"Topic1\", \"Topic1\", \"Topic1\", \"Topic1\", \"Topic2\", \"Topic2\", \"Topic2\", \"Topic2\", \"Topic2\", \"Topic2\", \"Topic2\", \"Topic2\", \"Topic2\", \"Topic2\", \"Topic2\", \"Topic2\", \"Topic2\", \"Topic2\", \"Topic2\", \"Topic2\", \"Topic2\", \"Topic2\", \"Topic2\", \"Topic2\", \"Topic2\", \"Topic2\", \"Topic2\", \"Topic2\", \"Topic2\", \"Topic2\", \"Topic2\", \"Topic2\", \"Topic2\", \"Topic2\", \"Topic2\", \"Topic2\", \"Topic2\", \"Topic2\", \"Topic2\", \"Topic3\", \"Topic3\", \"Topic3\", \"Topic3\", \"Topic3\", \"Topic3\", \"Topic3\", \"Topic3\", \"Topic3\", \"Topic3\", \"Topic3\", \"Topic3\", \"Topic3\", \"Topic3\", \"Topic3\", \"Topic3\", \"Topic3\", \"Topic3\", \"Topic3\", \"Topic3\", \"Topic3\", \"Topic3\", \"Topic3\", \"Topic3\", \"Topic3\", \"Topic3\", \"Topic3\", \"Topic3\", \"Topic3\", \"Topic3\", \"Topic3\"], \"logprob\": [30.0, 29.0, 28.0, 27.0, 26.0, 25.0, 24.0, 23.0, 22.0, 21.0, 20.0, 19.0, 18.0, 17.0, 16.0, 15.0, 14.0, 13.0, 12.0, 11.0, 10.0, 9.0, 8.0, 7.0, 6.0, 5.0, 4.0, 3.0, 2.0, 1.0, -3.0277, -3.1074, -2.711, -3.1107, -3.1195, -3.123, -3.1356, -3.2073, -3.2128, -3.2233, -3.2296, -3.2521, -3.2653, -3.2863, -3.1644, -3.0935, -3.1305, -4.2224, -4.2238, -4.23, -4.2373, -4.2375, -4.2383, -4.2442, -4.2463, -4.2466, -4.2513, -4.2524, -4.2533, -4.2574, -4.2008, -2.1438, -3.0573, -3.0606, -3.0627, -3.0647, -3.0663, -3.0672, -3.0689, -3.0732, -3.6111, -3.6283, -3.6517, -3.0489, -3.0638, -3.6793, -3.6876, -3.7003, -3.706, -3.5211, -3.7531, -4.3918, -4.4025, -4.4031, -4.4047, -4.409, -4.4107, -4.411, -4.4118, -4.4122, -4.3971, -4.3967, -4.398, -4.4029, -4.4048, -4.407, -2.9804, -2.9808, -2.981, -2.9817, -2.9822, -2.985, -2.9853, -2.9862, -2.988, -2.9743, -2.7737, -2.786, -3.7465, -3.7728, -3.7755, -3.795, -3.7951, -3.9663, -4.2956, -4.3027, -4.3052, -4.3099, -4.3192, -4.3205, -4.3193, -4.331, -3.8084, -4.3182, -4.3213, -4.3256, -4.2664], \"loglift\": [30.0, 29.0, 28.0, 27.0, 26.0, 25.0, 24.0, 23.0, 22.0, 21.0, 20.0, 19.0, 18.0, 17.0, 16.0, 15.0, 14.0, 13.0, 12.0, 11.0, 10.0, 9.0, 8.0, 7.0, 6.0, 5.0, 4.0, 3.0, 2.0, 1.0, 0.5108, 0.449, 0.4466, 0.4465, 0.4396, 0.4369, 0.4269, 0.378, 0.3737, 0.3655, 0.3607, 0.343, 0.3329, 0.3163, 0.0733, -0.1084, -0.1406, -0.4819, -0.483, -0.4885, -0.4953, -0.4954, -0.4962, -0.5014, -0.5032, -0.5293, -0.5336, -0.5346, -0.5355, -0.5393, -1.1007, 0.9563, 0.6858, 0.6822, 0.6794, 0.6767, 0.6758, 0.6747, 0.6719, 0.6673, -0.0086, -0.0301, -0.0565, -0.0591, -0.0788, -0.089, -0.0987, -0.1138, -0.1207, -0.3635, -0.5154, -0.674, -0.6847, -0.6855, -0.6874, -0.6909, -0.6923, -0.6929, -0.6936, -0.6938, -0.8372, -0.8395, -0.8595, -0.8438, -0.8423, -0.8506, 0.738, 0.7376, 0.7373, 0.7363, 0.7359, 0.7328, 0.7323, 0.7311, 0.7298, 0.2634, 0.2162, 0.199, -0.184, -0.2129, -0.2164, -0.2378, -0.2387, -0.4278, -0.5551, -0.5607, -0.5631, -0.5692, -0.5771, -0.5777, -0.5778, -0.588, -0.6507, -0.7157, -0.7261, -0.7353, -1.1663]}, \"token.table\": {\"Topic\": [1, 2, 3, 1, 1, 2, 1, 1, 3, 1, 2, 1, 2, 3, 3, 2, 2, 1, 2, 2, 1, 1, 3, 3, 1, 1, 3, 2, 3, 3, 1, 2, 3, 3, 1, 1, 2, 1, 1, 3], \"Freq\": [0.819812183469897, 0.981142705905855, 0.9569965209455454, 0.8470418566483812, 0.8532612219099269, 0.9820532470875724, 0.8169966775400392, 0.8417048180839739, 0.9578266605751519, 0.5468642520909194, 0.9817727015737657, 0.4601900026261188, 0.4601900026261188, 0.4601900026261188, 0.9579421511815637, 0.9797756317664919, 0.9810825880439319, 0.8387366844401618, 0.979513937231727, 0.9809660166139629, 0.8176434781509516, 0.8397545395384003, 0.9573778679656462, 0.9580965663858722, 0.8003690854255119, 0.5924072173220645, 0.5924072173220645, 0.980438409629571, 0.9577855109371973, 0.9575441027032522, 0.46240351595141704, 0.46240351595141704, 0.46240351595141704, 0.9580968660204195, 0.8148145138856553, 0.8495655220633593, 0.5162871624251109, 0.8428803848616363, 0.8154698459134593, 0.9575675187147605], \"Term\": [\"around\", \"bad\", \"better\", \"blood\", \"cause\", \"consume\", \"dance\", \"doctor\", \"drive\", \"driving\", \"expert\", \"father\", \"father\", \"father\", \"feel\", \"good\", \"health\", \"increased\", \"lifestyle\", \"like\", \"lot\", \"may\", \"never\", \"perform\", \"practice\", \"pressure\", \"pressure\", \"say\", \"school\", \"seems\", \"sister\", \"sister\", \"sister\", \"sometimes\", \"spends\", \"stress\", \"sugar\", \"suggest\", \"time\", \"well\"]}, \"R\": 30, \"lambda.step\": 0.01, \"plot.opts\": {\"xlab\": \"PC1\", \"ylab\": \"PC2\"}, \"topic.order\": [1, 3, 2]};\n",
       "\n",
       "function LDAvis_load_lib(url, callback){\n",
       "  var s = document.createElement('script');\n",
       "  s.src = url;\n",
       "  s.async = true;\n",
       "  s.onreadystatechange = s.onload = callback;\n",
       "  s.onerror = function(){console.warn(\"failed to load library \" + url);};\n",
       "  document.getElementsByTagName(\"head\")[0].appendChild(s);\n",
       "}\n",
       "\n",
       "if(typeof(LDAvis) !== \"undefined\"){\n",
       "   // already loaded: just create the visualization\n",
       "   !function(LDAvis){\n",
       "       new LDAvis(\"#\" + \"ldavis_el1246816658805242327852768257\", ldavis_el1246816658805242327852768257_data);\n",
       "   }(LDAvis);\n",
       "}else if(typeof define === \"function\" && define.amd){\n",
       "   // require.js is available: use it to load d3/LDAvis\n",
       "   require.config({paths: {d3: \"https://d3js.org/d3.v5\"}});\n",
       "   require([\"d3\"], function(d3){\n",
       "      window.d3 = d3;\n",
       "      LDAvis_load_lib(\"https://cdn.jsdelivr.net/gh/bmabey/pyLDAvis@3.3.1/pyLDAvis/js/ldavis.v3.0.0.js\", function(){\n",
       "        new LDAvis(\"#\" + \"ldavis_el1246816658805242327852768257\", ldavis_el1246816658805242327852768257_data);\n",
       "      });\n",
       "    });\n",
       "}else{\n",
       "    // require.js not available: dynamically load d3 & LDAvis\n",
       "    LDAvis_load_lib(\"https://d3js.org/d3.v5.js\", function(){\n",
       "         LDAvis_load_lib(\"https://cdn.jsdelivr.net/gh/bmabey/pyLDAvis@3.3.1/pyLDAvis/js/ldavis.v3.0.0.js\", function(){\n",
       "                 new LDAvis(\"#\" + \"ldavis_el1246816658805242327852768257\", ldavis_el1246816658805242327852768257_data);\n",
       "            })\n",
       "         });\n",
       "}\n",
       "</script>"
      ],
      "text/plain": [
       "PreparedData(topic_coordinates=              x         y  topics  cluster       Freq\n",
       "topic                                                \n",
       "0      0.004476 -0.044753       1        1  40.985833\n",
       "2     -0.069392  0.020139       2        1  29.681273\n",
       "1      0.064916  0.024613       3        1  29.332894, topic_info=         Term      Freq     Total Category  logprob  loglift\n",
       "5       sugar  1.000000  1.000000  Default  30.0000  30.0000\n",
       "25    perform  1.000000  1.000000  Default  29.0000  29.0000\n",
       "28  sometimes  1.000000  1.000000  Default  28.0000  28.0000\n",
       "23       feel  1.000000  1.000000  Default  27.0000  27.0000\n",
       "26     school  1.000000  1.000000  Default  26.0000  26.0000\n",
       "..        ...       ...       ...      ...      ...      ...\n",
       "8     driving  0.279812  1.828607   Topic3  -3.8084  -0.6507\n",
       "14      cause  0.168057  1.171974   Topic3  -4.3182  -0.7157\n",
       "13      blood  0.167541  1.180579   Topic3  -4.3213  -0.7261\n",
       "20    suggest  0.166822  1.186408   Topic3  -4.3256  -0.7353\n",
       "5       sugar  0.176983  1.936907   Topic3  -4.2664  -1.1663\n",
       "\n",
       "[127 rows x 6 columns], token_table=      Topic      Freq       Term\n",
       "term                            \n",
       "6         1  0.819812     around\n",
       "0         2  0.981143        bad\n",
       "21        3  0.956997     better\n",
       "13        1  0.847042      blood\n",
       "14        1  0.853261      cause\n",
       "1         2  0.982053    consume\n",
       "7         1  0.816997      dance\n",
       "15        1  0.841705     doctor\n",
       "22        3  0.957827      drive\n",
       "8         1  0.546864    driving\n",
       "30        2  0.981773     expert\n",
       "2         1  0.460190     father\n",
       "2         2  0.460190     father\n",
       "2         3  0.460190     father\n",
       "23        3  0.957942       feel\n",
       "31        2  0.979776       good\n",
       "32        2  0.981083     health\n",
       "16        1  0.838737  increased\n",
       "33        2  0.979514  lifestyle\n",
       "3         2  0.980966       like\n",
       "9         1  0.817643        lot\n",
       "17        1  0.839755        may\n",
       "24        3  0.957378      never\n",
       "25        3  0.958097    perform\n",
       "10        1  0.800369   practice\n",
       "18        1  0.592407   pressure\n",
       "18        3  0.592407   pressure\n",
       "34        2  0.980438        say\n",
       "26        3  0.957786     school\n",
       "27        3  0.957544      seems\n",
       "4         1  0.462404     sister\n",
       "4         2  0.462404     sister\n",
       "4         3  0.462404     sister\n",
       "28        3  0.958097  sometimes\n",
       "11        1  0.814815     spends\n",
       "19        1  0.849566     stress\n",
       "5         2  0.516287      sugar\n",
       "20        1  0.842880    suggest\n",
       "12        1  0.815470       time\n",
       "29        3  0.957568       well, R=30, lambda_step=0.01, plot_opts={'xlab': 'PC1', 'ylab': 'PC2'}, topic_order=[1, 3, 2])"
      ]
     },
     "execution_count": 10,
     "metadata": {},
     "output_type": "execute_result"
    }
   ],
   "source": [
    "# conda install -c conda-forge pyldavis\n",
    "# Documentación: https://pyldavis.readthedocs.io/en/latest/modules/API.html\n",
    "\n",
    "import pyLDAvis \n",
    "import pyLDAvis.gensim_models as gensimvis\n",
    "import pickle \n",
    "\n",
    "# Visualize the topics\n",
    "pyLDAvis.enable_notebook()\n",
    "\n",
    "LDAvis_prepared = gensimvis.prepare(ldamodel, doc_term_matrix, common_dictionary)\n",
    "\n",
    "pyLDAvis.save_html(LDAvis_prepared, 'ldavis_prepared_{}.html'.format(3))\n",
    "\n",
    "LDAvis_prepared"
   ]
  },
  {
   "cell_type": "code",
   "execution_count": null,
   "metadata": {},
   "outputs": [],
   "source": []
  },
  {
   "cell_type": "markdown",
   "metadata": {},
   "source": [
    "# Caso de estudio de corpus de Wikipedia"
   ]
  },
  {
   "cell_type": "code",
   "execution_count": 11,
   "metadata": {},
   "outputs": [
    {
     "name": "stdout",
     "output_type": "stream",
     "text": [
      "Función para el pre-procesamiento de texto\n",
      "Función dado un modelo LDA retornar una lista de n topicos con m palabras\n"
     ]
    }
   ],
   "source": [
    "# Funciones ya cargadas anteriormente\n",
    "print(preprocessor.__doc__)\n",
    "print(lda_topics.__doc__)"
   ]
  },
  {
   "cell_type": "code",
   "execution_count": 12,
   "metadata": {},
   "outputs": [],
   "source": [
    "# conda install -c conda-forge wikipedia\n",
    "import wikipedia\n",
    "\n",
    "class TextFetcher:\n",
    "    '''Clase para descargar el resumen'''\n",
    "    def __init__(self, title):\n",
    "        self.title = title\n",
    "        page = wikipedia.page(title)\n",
    "        self.text = page.summary\n",
    "\n",
    "    def getText(self):\n",
    "        return self.text\n"
   ]
  },
  {
   "cell_type": "code",
   "execution_count": 13,
   "metadata": {},
   "outputs": [],
   "source": [
    "# Obtendremos la sección de resumen de 6 páginas de Wikipedia (3 sobre ciudades, 3 sobre temas)\n",
    "pages = ['London', 'Natural Language Processing', 'Paris', 'Topic model', 'Berlin', 'Text mining']\n",
    "docs = []\n",
    "\n",
    "for p in pages:\n",
    "    textFetcher = TextFetcher(p)\n",
    "    text = preprocessor(textFetcher.getText())\n",
    "    docs.append(text)\n",
    "    "
   ]
  },
  {
   "cell_type": "code",
   "execution_count": 39,
   "metadata": {},
   "outputs": [],
   "source": [
    "from sklearn.feature_extraction.text import CountVectorizer\n",
    "\n",
    "# Usar CountVectorizer para encontrar tokens de:\n",
    "vect = CountVectorizer(\n",
    "    stop_words='english', # eliminar palabras cerradas\n",
    "    lowercase=True, # convertir los tokens a minúsculas\n",
    "    # min_df=2, # eliminar tokens que aparecen en al menos 2 documentos\n",
    "    # max_df=round(len(docs)*0.25), # eliminar tokens que no aparecen en más del 25% de los documentos\n",
    "    # token_pattern=r'\\b[a-zAZ]{3,}\\b' #  más de tres letras, ej: de 3 letras '(?u)\\\\b\\\\w\\\\w\\\\w+\\\\b'\n",
    ")\n",
    "# Ajustamos y transformamos\n",
    "X = vect.fit_transform(docs)\n",
    "\n",
    "# Convertir la matriz dispersa al cuerpo gensim.\n",
    "corpus = gensim.matutils.Sparse2Corpus(X, documents_columns=False)\n",
    "\n",
    "# Asignación de ID de palabra a palabras (para usar en el parámetro id2word de LdaModel)\n",
    "# Se utiliza para determinar el tamaño del vocabulario, así como para depurar e imprimir temas\n",
    "id2word = dict((v, k) for k, v in vect.vocabulary_.items())"
   ]
  },
  {
   "cell_type": "markdown",
   "metadata": {},
   "source": [
    "## Modelo LDA"
   ]
  },
  {
   "cell_type": "code",
   "execution_count": 43,
   "metadata": {},
   "outputs": [
    {
     "name": "stdout",
     "output_type": "stream",
     "text": [
      "[(3,\n",
      "  '0.001*\"topic\" + 0.001*\"document\" + 0.001*\"model\" + 0.001*\"berlin\" + '\n",
      "  '0.001*\"cat\" + 0.001*\"city\" + 0.001*\"word\" + 0.001*\"london\" + 0.001*\"dog\" + '\n",
      "  '0.001*\"world\"'),\n",
      " (4,\n",
      "  '0.001*\"berlin\" + 0.001*\"city\" + 0.001*\"museum\" + 0.001*\"paris\" + '\n",
      "  '0.001*\"capital\" + 0.001*\"germany\" + 0.001*\"german\" + 0.001*\"world\" + '\n",
      "  '0.001*\"area\" + 0.001*\"million\"'),\n",
      " (6,\n",
      "  '0.034*\"text\" + 0.034*\"document\" + 0.028*\"topic\" + 0.024*\"information\" + '\n",
      "  '0.020*\"language\" + 0.018*\"mining\" + 0.016*\"natural\" + 0.016*\"data\" + '\n",
      "  '0.016*\"model\" + 0.012*\"computer\"')]\n"
     ]
    }
   ],
   "source": [
    "# Usamos el constructor gensim.models.ldamodel.LdaModel para estimar\n",
    "# los parámetros del modelo LDA en el corpus, y guardar en la variable `ldamodel`\n",
    "\n",
    "ldamodel = LdaModel(corpus, num_topics=10, id2word=id2word, passes=50)\n",
    "\n",
    "topics = lda_topics(ldamodel, 3, 10)\n",
    "pprint(topics)"
   ]
  },
  {
   "cell_type": "code",
   "execution_count": 44,
   "metadata": {},
   "outputs": [
    {
     "ename": "TypeError",
     "evalue": "Object of type complex is not JSON serializable",
     "output_type": "error",
     "traceback": [
      "\u001b[1;31m---------------------------------------------------------------------------\u001b[0m",
      "\u001b[1;31mTypeError\u001b[0m                                 Traceback (most recent call last)",
      "\u001b[1;32mC:\\ProgramData\\Anaconda3\\lib\\site-packages\\IPython\\core\\formatters.py\u001b[0m in \u001b[0;36m__call__\u001b[1;34m(self, obj)\u001b[0m\n\u001b[0;32m    339\u001b[0m                 \u001b[1;32mpass\u001b[0m\u001b[1;33m\u001b[0m\u001b[1;33m\u001b[0m\u001b[0m\n\u001b[0;32m    340\u001b[0m             \u001b[1;32melse\u001b[0m\u001b[1;33m:\u001b[0m\u001b[1;33m\u001b[0m\u001b[1;33m\u001b[0m\u001b[0m\n\u001b[1;32m--> 341\u001b[1;33m                 \u001b[1;32mreturn\u001b[0m \u001b[0mprinter\u001b[0m\u001b[1;33m(\u001b[0m\u001b[0mobj\u001b[0m\u001b[1;33m)\u001b[0m\u001b[1;33m\u001b[0m\u001b[1;33m\u001b[0m\u001b[0m\n\u001b[0m\u001b[0;32m    342\u001b[0m             \u001b[1;31m# Finally look for special method names\u001b[0m\u001b[1;33m\u001b[0m\u001b[1;33m\u001b[0m\u001b[1;33m\u001b[0m\u001b[0m\n\u001b[0;32m    343\u001b[0m             \u001b[0mmethod\u001b[0m \u001b[1;33m=\u001b[0m \u001b[0mget_real_method\u001b[0m\u001b[1;33m(\u001b[0m\u001b[0mobj\u001b[0m\u001b[1;33m,\u001b[0m \u001b[0mself\u001b[0m\u001b[1;33m.\u001b[0m\u001b[0mprint_method\u001b[0m\u001b[1;33m)\u001b[0m\u001b[1;33m\u001b[0m\u001b[1;33m\u001b[0m\u001b[0m\n",
      "\u001b[1;32mC:\\ProgramData\\Anaconda3\\lib\\site-packages\\pyLDAvis\\_display.py\u001b[0m in \u001b[0;36m<lambda>\u001b[1;34m(data, kwds)\u001b[0m\n\u001b[0;32m    306\u001b[0m     \u001b[0mformatter\u001b[0m \u001b[1;33m=\u001b[0m \u001b[0mip\u001b[0m\u001b[1;33m.\u001b[0m\u001b[0mdisplay_formatter\u001b[0m\u001b[1;33m.\u001b[0m\u001b[0mformatters\u001b[0m\u001b[1;33m[\u001b[0m\u001b[1;34m'text/html'\u001b[0m\u001b[1;33m]\u001b[0m\u001b[1;33m\u001b[0m\u001b[1;33m\u001b[0m\u001b[0m\n\u001b[0;32m    307\u001b[0m     formatter.for_type(PreparedData,\n\u001b[1;32m--> 308\u001b[1;33m                        lambda data, kwds=kwargs: prepared_data_to_html(data, **kwds))\n\u001b[0m\u001b[0;32m    309\u001b[0m \u001b[1;33m\u001b[0m\u001b[0m\n\u001b[0;32m    310\u001b[0m \u001b[1;33m\u001b[0m\u001b[0m\n",
      "\u001b[1;32mC:\\ProgramData\\Anaconda3\\lib\\site-packages\\pyLDAvis\\_display.py\u001b[0m in \u001b[0;36mprepared_data_to_html\u001b[1;34m(data, d3_url, ldavis_url, ldavis_css_url, template_type, visid, use_http)\u001b[0m\n\u001b[0;32m    175\u001b[0m                            \u001b[0md3_url\u001b[0m\u001b[1;33m=\u001b[0m\u001b[0md3_url\u001b[0m\u001b[1;33m,\u001b[0m\u001b[1;33m\u001b[0m\u001b[1;33m\u001b[0m\u001b[0m\n\u001b[0;32m    176\u001b[0m                            \u001b[0mldavis_url\u001b[0m\u001b[1;33m=\u001b[0m\u001b[0mldavis_url\u001b[0m\u001b[1;33m,\u001b[0m\u001b[1;33m\u001b[0m\u001b[1;33m\u001b[0m\u001b[0m\n\u001b[1;32m--> 177\u001b[1;33m                            \u001b[0mvis_json\u001b[0m\u001b[1;33m=\u001b[0m\u001b[0mdata\u001b[0m\u001b[1;33m.\u001b[0m\u001b[0mto_json\u001b[0m\u001b[1;33m(\u001b[0m\u001b[1;33m)\u001b[0m\u001b[1;33m,\u001b[0m\u001b[1;33m\u001b[0m\u001b[1;33m\u001b[0m\u001b[0m\n\u001b[0m\u001b[0;32m    178\u001b[0m                            ldavis_css_url=ldavis_css_url)\n\u001b[0;32m    179\u001b[0m \u001b[1;33m\u001b[0m\u001b[0m\n",
      "\u001b[1;32mC:\\ProgramData\\Anaconda3\\lib\\site-packages\\pyLDAvis\\_prepare.py\u001b[0m in \u001b[0;36mto_json\u001b[1;34m(self)\u001b[0m\n\u001b[0;32m    469\u001b[0m \u001b[1;33m\u001b[0m\u001b[0m\n\u001b[0;32m    470\u001b[0m     \u001b[1;32mdef\u001b[0m \u001b[0mto_json\u001b[0m\u001b[1;33m(\u001b[0m\u001b[0mself\u001b[0m\u001b[1;33m)\u001b[0m\u001b[1;33m:\u001b[0m\u001b[1;33m\u001b[0m\u001b[1;33m\u001b[0m\u001b[0m\n\u001b[1;32m--> 471\u001b[1;33m         \u001b[1;32mreturn\u001b[0m \u001b[0mjson\u001b[0m\u001b[1;33m.\u001b[0m\u001b[0mdumps\u001b[0m\u001b[1;33m(\u001b[0m\u001b[0mself\u001b[0m\u001b[1;33m.\u001b[0m\u001b[0mto_dict\u001b[0m\u001b[1;33m(\u001b[0m\u001b[1;33m)\u001b[0m\u001b[1;33m,\u001b[0m \u001b[0mcls\u001b[0m\u001b[1;33m=\u001b[0m\u001b[0mNumPyEncoder\u001b[0m\u001b[1;33m)\u001b[0m\u001b[1;33m\u001b[0m\u001b[1;33m\u001b[0m\u001b[0m\n\u001b[0m",
      "\u001b[1;32mC:\\ProgramData\\Anaconda3\\lib\\json\\__init__.py\u001b[0m in \u001b[0;36mdumps\u001b[1;34m(obj, skipkeys, ensure_ascii, check_circular, allow_nan, cls, indent, separators, default, sort_keys, **kw)\u001b[0m\n\u001b[0;32m    236\u001b[0m         \u001b[0mcheck_circular\u001b[0m\u001b[1;33m=\u001b[0m\u001b[0mcheck_circular\u001b[0m\u001b[1;33m,\u001b[0m \u001b[0mallow_nan\u001b[0m\u001b[1;33m=\u001b[0m\u001b[0mallow_nan\u001b[0m\u001b[1;33m,\u001b[0m \u001b[0mindent\u001b[0m\u001b[1;33m=\u001b[0m\u001b[0mindent\u001b[0m\u001b[1;33m,\u001b[0m\u001b[1;33m\u001b[0m\u001b[1;33m\u001b[0m\u001b[0m\n\u001b[0;32m    237\u001b[0m         \u001b[0mseparators\u001b[0m\u001b[1;33m=\u001b[0m\u001b[0mseparators\u001b[0m\u001b[1;33m,\u001b[0m \u001b[0mdefault\u001b[0m\u001b[1;33m=\u001b[0m\u001b[0mdefault\u001b[0m\u001b[1;33m,\u001b[0m \u001b[0msort_keys\u001b[0m\u001b[1;33m=\u001b[0m\u001b[0msort_keys\u001b[0m\u001b[1;33m,\u001b[0m\u001b[1;33m\u001b[0m\u001b[1;33m\u001b[0m\u001b[0m\n\u001b[1;32m--> 238\u001b[1;33m         **kw).encode(obj)\n\u001b[0m\u001b[0;32m    239\u001b[0m \u001b[1;33m\u001b[0m\u001b[0m\n\u001b[0;32m    240\u001b[0m \u001b[1;33m\u001b[0m\u001b[0m\n",
      "\u001b[1;32mC:\\ProgramData\\Anaconda3\\lib\\json\\encoder.py\u001b[0m in \u001b[0;36mencode\u001b[1;34m(self, o)\u001b[0m\n\u001b[0;32m    197\u001b[0m         \u001b[1;31m# exceptions aren't as detailed.  The list call should be roughly\u001b[0m\u001b[1;33m\u001b[0m\u001b[1;33m\u001b[0m\u001b[1;33m\u001b[0m\u001b[0m\n\u001b[0;32m    198\u001b[0m         \u001b[1;31m# equivalent to the PySequence_Fast that ''.join() would do.\u001b[0m\u001b[1;33m\u001b[0m\u001b[1;33m\u001b[0m\u001b[1;33m\u001b[0m\u001b[0m\n\u001b[1;32m--> 199\u001b[1;33m         \u001b[0mchunks\u001b[0m \u001b[1;33m=\u001b[0m \u001b[0mself\u001b[0m\u001b[1;33m.\u001b[0m\u001b[0miterencode\u001b[0m\u001b[1;33m(\u001b[0m\u001b[0mo\u001b[0m\u001b[1;33m,\u001b[0m \u001b[0m_one_shot\u001b[0m\u001b[1;33m=\u001b[0m\u001b[1;32mTrue\u001b[0m\u001b[1;33m)\u001b[0m\u001b[1;33m\u001b[0m\u001b[1;33m\u001b[0m\u001b[0m\n\u001b[0m\u001b[0;32m    200\u001b[0m         \u001b[1;32mif\u001b[0m \u001b[1;32mnot\u001b[0m \u001b[0misinstance\u001b[0m\u001b[1;33m(\u001b[0m\u001b[0mchunks\u001b[0m\u001b[1;33m,\u001b[0m \u001b[1;33m(\u001b[0m\u001b[0mlist\u001b[0m\u001b[1;33m,\u001b[0m \u001b[0mtuple\u001b[0m\u001b[1;33m)\u001b[0m\u001b[1;33m)\u001b[0m\u001b[1;33m:\u001b[0m\u001b[1;33m\u001b[0m\u001b[1;33m\u001b[0m\u001b[0m\n\u001b[0;32m    201\u001b[0m             \u001b[0mchunks\u001b[0m \u001b[1;33m=\u001b[0m \u001b[0mlist\u001b[0m\u001b[1;33m(\u001b[0m\u001b[0mchunks\u001b[0m\u001b[1;33m)\u001b[0m\u001b[1;33m\u001b[0m\u001b[1;33m\u001b[0m\u001b[0m\n",
      "\u001b[1;32mC:\\ProgramData\\Anaconda3\\lib\\json\\encoder.py\u001b[0m in \u001b[0;36miterencode\u001b[1;34m(self, o, _one_shot)\u001b[0m\n\u001b[0;32m    255\u001b[0m                 \u001b[0mself\u001b[0m\u001b[1;33m.\u001b[0m\u001b[0mkey_separator\u001b[0m\u001b[1;33m,\u001b[0m \u001b[0mself\u001b[0m\u001b[1;33m.\u001b[0m\u001b[0mitem_separator\u001b[0m\u001b[1;33m,\u001b[0m \u001b[0mself\u001b[0m\u001b[1;33m.\u001b[0m\u001b[0msort_keys\u001b[0m\u001b[1;33m,\u001b[0m\u001b[1;33m\u001b[0m\u001b[1;33m\u001b[0m\u001b[0m\n\u001b[0;32m    256\u001b[0m                 self.skipkeys, _one_shot)\n\u001b[1;32m--> 257\u001b[1;33m         \u001b[1;32mreturn\u001b[0m \u001b[0m_iterencode\u001b[0m\u001b[1;33m(\u001b[0m\u001b[0mo\u001b[0m\u001b[1;33m,\u001b[0m \u001b[1;36m0\u001b[0m\u001b[1;33m)\u001b[0m\u001b[1;33m\u001b[0m\u001b[1;33m\u001b[0m\u001b[0m\n\u001b[0m\u001b[0;32m    258\u001b[0m \u001b[1;33m\u001b[0m\u001b[0m\n\u001b[0;32m    259\u001b[0m def _make_iterencode(markers, _default, _encoder, _indent, _floatstr,\n",
      "\u001b[1;32mC:\\ProgramData\\Anaconda3\\lib\\site-packages\\pyLDAvis\\utils.py\u001b[0m in \u001b[0;36mdefault\u001b[1;34m(self, obj)\u001b[0m\n\u001b[0;32m    148\u001b[0m         \u001b[1;32mif\u001b[0m \u001b[0misinstance\u001b[0m\u001b[1;33m(\u001b[0m\u001b[0mobj\u001b[0m\u001b[1;33m,\u001b[0m \u001b[0mnp\u001b[0m\u001b[1;33m.\u001b[0m\u001b[0mfloat64\u001b[0m\u001b[1;33m)\u001b[0m \u001b[1;32mor\u001b[0m \u001b[0misinstance\u001b[0m\u001b[1;33m(\u001b[0m\u001b[0mobj\u001b[0m\u001b[1;33m,\u001b[0m \u001b[0mnp\u001b[0m\u001b[1;33m.\u001b[0m\u001b[0mfloat32\u001b[0m\u001b[1;33m)\u001b[0m\u001b[1;33m:\u001b[0m\u001b[1;33m\u001b[0m\u001b[1;33m\u001b[0m\u001b[0m\n\u001b[0;32m    149\u001b[0m             \u001b[1;32mreturn\u001b[0m \u001b[0mfloat\u001b[0m\u001b[1;33m(\u001b[0m\u001b[0mobj\u001b[0m\u001b[1;33m)\u001b[0m\u001b[1;33m\u001b[0m\u001b[1;33m\u001b[0m\u001b[0m\n\u001b[1;32m--> 150\u001b[1;33m         \u001b[1;32mreturn\u001b[0m \u001b[0mjson\u001b[0m\u001b[1;33m.\u001b[0m\u001b[0mJSONEncoder\u001b[0m\u001b[1;33m.\u001b[0m\u001b[0mdefault\u001b[0m\u001b[1;33m(\u001b[0m\u001b[0mself\u001b[0m\u001b[1;33m,\u001b[0m \u001b[0mobj\u001b[0m\u001b[1;33m)\u001b[0m\u001b[1;33m\u001b[0m\u001b[1;33m\u001b[0m\u001b[0m\n\u001b[0m",
      "\u001b[1;32mC:\\ProgramData\\Anaconda3\\lib\\json\\encoder.py\u001b[0m in \u001b[0;36mdefault\u001b[1;34m(self, o)\u001b[0m\n\u001b[0;32m    177\u001b[0m \u001b[1;33m\u001b[0m\u001b[0m\n\u001b[0;32m    178\u001b[0m         \"\"\"\n\u001b[1;32m--> 179\u001b[1;33m         raise TypeError(f'Object of type {o.__class__.__name__} '\n\u001b[0m\u001b[0;32m    180\u001b[0m                         f'is not JSON serializable')\n\u001b[0;32m    181\u001b[0m \u001b[1;33m\u001b[0m\u001b[0m\n",
      "\u001b[1;31mTypeError\u001b[0m: Object of type complex is not JSON serializable"
     ]
    },
    {
     "data": {
      "text/plain": [
       "PreparedData(topic_coordinates=                        x                   y  topics  cluster       Freq\n",
       "topic                                                                    \n",
       "6     -0.282842+0.000000j  0.001343+0.000000j       1        1  29.605681\n",
       "1      0.118380+0.000000j  0.185302+0.000000j       2        1  26.492142\n",
       "2      0.121100+0.000000j -0.173788+0.000000j       3        1  25.077726\n",
       "5      0.110624+0.000000j -0.005373+0.000000j       4        1  18.571431\n",
       "9     -0.011210+0.000000j -0.001247+0.000000j       5        1   0.042170\n",
       "8     -0.011210+0.000000j -0.001247+0.000000j       6        1   0.042170\n",
       "7     -0.011210+0.000000j -0.001247+0.000000j       7        1   0.042170\n",
       "4     -0.011210+0.000000j -0.001247+0.000000j       8        1   0.042170\n",
       "3     -0.011211+0.000000j -0.001247+0.000000j       9        1   0.042170\n",
       "0     -0.011210+0.000000j -0.001248+0.000000j      10        1   0.042170, topic_info=           Term       Freq      Total Category  logprob  loglift\n",
       "501      berlin  25.000000  25.000000  Default  30.0000  30.0000\n",
       "0        london  14.000000  14.000000  Default  29.0000  29.0000\n",
       "87        paris  17.000000  17.000000  Default  28.0000  28.0000\n",
       "206    document  14.000000  14.000000  Default  27.0000  27.0000\n",
       "439        text  14.000000  14.000000  Default  26.0000  26.0000\n",
       "..          ...        ...        ...      ...      ...      ...\n",
       "50         west   0.000769   4.356534  Topic10  -6.6529  -0.8704\n",
       "501      berlin   0.000769  25.166807  Topic10  -6.6529  -2.6242\n",
       "129        area   0.000769   6.832145  Topic10  -6.6529  -1.3203\n",
       "133  inhabitant   0.000769   3.528652  Topic10  -6.6529  -0.6596\n",
       "159     include   0.000769   6.904599  Topic10  -6.6529  -1.3309\n",
       "\n",
       "[584 rows x 6 columns], token_table=      Topic      Freq      Term\n",
       "term                           \n",
       "125       4  0.907691       134\n",
       "137       4  0.907691  14040163\n",
       "565       2  1.006947      1701\n",
       "569       2  0.863326      1871\n",
       "279       3  1.075191      1900\n",
       "...     ...       ...       ...\n",
       "55        2  0.301990     world\n",
       "55        3  0.377487     world\n",
       "55        4  0.301990     world\n",
       "480       1  0.813086   written\n",
       "338       3  1.015084       île\n",
       "\n",
       "[308 rows x 3 columns], R=30, lambda_step=0.01, plot_opts={'xlab': 'PC1', 'ylab': 'PC2'}, topic_order=[7, 2, 3, 6, 10, 9, 8, 5, 4, 1])"
      ]
     },
     "execution_count": 44,
     "metadata": {},
     "output_type": "execute_result"
    }
   ],
   "source": [
    "# Visualize the topics\n",
    "\n",
    "word2id = dict((k, v) for k, v in vect.vocabulary_.items())\n",
    "d = Dictionary()\n",
    "d.id2token = id2word\n",
    "d.token2id = word2id\n",
    "\n",
    "pyLDAvis.enable_notebook()\n",
    "LDAvis_prepared = gensimvis.prepare(ldamodel, corpus, d )\n",
    "LDAvis_prepared"
   ]
  },
  {
   "cell_type": "code",
   "execution_count": null,
   "metadata": {},
   "outputs": [],
   "source": []
  },
  {
   "cell_type": "code",
   "execution_count": null,
   "metadata": {},
   "outputs": [],
   "source": []
  },
  {
   "cell_type": "markdown",
   "metadata": {},
   "source": [
    "## Mejor modelado de tópicos"
   ]
  },
  {
   "attachments": {
    "imagen.png": {
     "image/png": "[encoded data removed]"
    }
   },
   "cell_type": "markdown",
   "metadata": {},
   "source": [
    "En la figura se muestra, como propuesta, los pasos a seguir para obtener el modelado de tópicos óptimo, a partir de construir diversos modelos LDA con todas las posibles combinaciones de parámetros. Los parámetros que se tienen en cuenta son:\n",
    "<ul>\n",
    "    <li>un conjunto de número de tópicos, y</li>\n",
    "    <li>el radio de velocidad de aprendizaje (learning_decay )</li>\n",
    "</ul>\n",
    "<br>\n",
    "Para la selección del modelo óptimo se tiene en cuenta los valores de Log-likelihood (verosimilitud o, simplemente, verosimilitud o probabilidad logarítmica)\n",
    "\n",
    "![imagen.png](attachment:imagen.png)"
   ]
  },
  {
   "cell_type": "markdown",
   "metadata": {},
   "source": [
    "<ol>\n",
    "  <li>Indague en el significado de los términos: velocidad de aprendizaje y Log-likelihood.</li>\n",
    "  <li>Ponga en práctica la implementación de dicha propuesta a partir de algún ejemplo cualesquiera de conjunto de textos.</li>\n",
    "    <b>Sugerencia:</b> Realizar varios casos de pruebas en el cual se modifiquen, eliminen o incorporen parámetros del preprocesamiento de los documentos para tratar de obtener un mejor modelado.\n",
    "  <li>Describa el significado que tiene la Visualización del Modelo Óptimo (el cual es representado a través del paquete pyLDAvis) con respecto a las burbujas representadas, la dispersión de ellas y su tamaño en el gráfico.</li>\n",
    "</ol>\n"
   ]
  },
  {
   "cell_type": "code",
   "execution_count": 45,
   "metadata": {},
   "outputs": [],
   "source": [
    "from sklearn.feature_extraction.text import CountVectorizer, TfidfVectorizer\n",
    "from sklearn.decomposition import LatentDirichletAllocation\n",
    "\n",
    "import numpy as np\n",
    "import pandas as pd\n",
    "\n",
    "from pprint import pprint\n",
    "from sklearn.model_selection import GridSearchCV\n",
    "\n",
    "# Plotting tools\n",
    "import pyLDAvis\n",
    "import pyLDAvis.sklearn\n",
    "\n",
    "def best_model(docs):\n",
    "    # Usar CountVectorizer para encontrar tokens de\n",
    "    vectorizer = CountVectorizer(\n",
    "        strip_accents = 'unicode',\n",
    "        stop_words = 'english', # eliminar palabras cerradas\n",
    "        lowercase = True, # convertir los tokens a minúsculas\n",
    "        token_pattern = r'\\b[a-zA-Z]{3,}\\b', # más de tres letras\n",
    "        max_df = 0.5, # eliminar tokens que no aparecen en más del 50% de los documentos\n",
    "        min_df = round(len(docs)*0.25) # eliminar tokens que aparecen en al menos del 25% del total de documentos\n",
    "    )\n",
    "    \n",
    "    data_vectorized = vectorizer.fit_transform(docs)   \n",
    "\n",
    "    # Materialize the sparse data\n",
    "    data_dense = data_vectorized.todense()\n",
    "    #Compute Sparsicity = Percentage of Non-Zero cells\n",
    "    print(\"Sparsicity: \", ((data_dense > 0).sum()/data_dense.size)*100,\"%\")\n",
    "\n",
    "    n_topics = [2, 3, 4, 5, 7, 10, 13, 15, 20]\n",
    "    # Define Search Param\n",
    "    search_params = {'n_components': n_topics, 'learning_decay': [.5, .7, .9]}\n",
    "    \n",
    "    # Init the Model\n",
    "    # Latent Dirichlet Allocation with online variational Bayes algorithm \n",
    "    lda = LatentDirichletAllocation()\n",
    "    \n",
    "    # Init Grid Search Class\n",
    "    model = GridSearchCV(lda, param_grid=search_params)\n",
    "    \n",
    "    # Do the Grid Search\n",
    "    model.fit(data_vectorized)\n",
    "    \n",
    "    # Best Model\n",
    "    best_lda_model = model.best_estimator_\n",
    "    \n",
    "    # Model Parameters\n",
    "    print(\"Best Model's Params: \", model.best_params_)\n",
    "    # Log Likelihood Score\n",
    "    print(\"Best Log Likelihood Score: \", model.best_score_)\n",
    "    # Perplexity\n",
    "    print(\"Model Perplexity: \", best_lda_model.perplexity(data_vectorized))\n",
    "        \n",
    "    n_words=15\n",
    "    tf_feature_names = vectorizer.get_feature_names()\n",
    "    print_top_words(best_lda_model, tf_feature_names, n_words)\n",
    "    \n",
    "    topic_keywords = show_topics(vectorizer, best_lda_model, n_words)        \n",
    "\n",
    "    # Topic - Keywords Dataframe\n",
    "    df_topic_keywords = pd.DataFrame(topic_keywords)\n",
    "    df_topic_keywords.columns = ['Word '+str(i) for i in range(df_topic_keywords.shape[1])]\n",
    "    df_topic_keywords.index = ['Topic '+str(i) for i in range(df_topic_keywords.shape[0])]\n",
    "    df_topic_keywords\n",
    "    \n",
    "    # How to visualize the LDA model with pyLDAvis?\n",
    "    pyLDAvis.enable_notebook()\n",
    "    # pyLDAvis now also supports LDA application from scikit-learn.\n",
    "    panel = pyLDAvis.sklearn.prepare(best_lda_model, data_vectorized, vectorizer, mds='tsne')\n",
    "    # uncomment next line if you want to make an html file with the visualization\n",
    "    pyLDAvis.save_html(panel, 'best_model.html')\n",
    "    return panel\n",
    "    \n",
    "# Show top n keywords for each topic\n",
    "def show_topics(vectorizer, lda_model, n_words):\n",
    "    keywords = np.array(vectorizer.get_feature_names())\n",
    "    topic_keywords = []\n",
    "    for topic_weights in lda_model.components_:\n",
    "        top_keyword_locs = (-topic_weights).argsort()[:n_words]\n",
    "        topic_keywords.append(keywords.take(top_keyword_locs))\n",
    "    return topic_keywords\n",
    "\n",
    "def print_top_words(model, feature_names, n_top_words):\n",
    "    for topic_idx, topic in enumerate(model.components_):\n",
    "        message = \"Topic #%d: \" % topic_idx\n",
    "        message += \" \".join([feature_names[i]\n",
    "                             for i in topic.argsort()[:-n_top_words - 1:-1]])\n",
    "        print(message)\n",
    "    print()"
   ]
  },
  {
   "cell_type": "code",
   "execution_count": 46,
   "metadata": {},
   "outputs": [
    {
     "name": "stdout",
     "output_type": "stream",
     "text": [
      "Sparsicity:  37.46666666666666 %\n"
     ]
    },
    {
     "name": "stderr",
     "output_type": "stream",
     "text": [
      "C:\\ProgramData\\Anaconda3\\lib\\site-packages\\sklearn\\model_selection\\_split.py:1978: FutureWarning: The default value of cv will change from 3 to 5 in version 0.22. Specify it explicitly to silence this warning.\n",
      "  warnings.warn(CV_WARNING, FutureWarning)\n"
     ]
    },
    {
     "name": "stdout",
     "output_type": "stream",
     "text": [
      "Best Model's Params:  {'learning_decay': 0.9, 'n_components': 2}\n",
      "Best Log Likelihood Score:  -928.6617932545511\n",
      "Model Perplexity:  91.09553325282796\n",
      "Topic #0: text document information model data word computer process processing written different structure collection set discovery\n",
      "Topic #1: city paris world museum europe capital million population area art university centre populous region popular\n",
      "\n"
     ]
    },
    {
     "data": {
      "text/html": [
       "\n",
       "<link rel=\"stylesheet\" type=\"text/css\" href=\"https://cdn.jsdelivr.net/gh/bmabey/pyLDAvis@3.3.1/pyLDAvis/js/ldavis.v1.0.0.css\">\n",
       "\n",
       "\n",
       "<div id=\"ldavis_el1246816658889004241575070278\"></div>\n",
       "<script type=\"text/javascript\">\n",
       "\n",
       "var ldavis_el1246816658889004241575070278_data = {\"mdsDat\": {\"x\": [-60.31231689453125, 60.31256103515625], \"y\": [141.36962890625, -141.369140625], \"topics\": [1, 2], \"cluster\": [1, 1], \"Freq\": [67.76597528050812, 32.234024719491885]}, \"tinfo\": {\"Term\": [\"text\", \"document\", \"information\", \"model\", \"data\", \"city\", \"word\", \"computer\", \"paris\", \"process\", \"processing\", \"world\", \"written\", \"different\", \"learning\", \"discovery\", \"set\", \"type\", \"application\", \"modeling\", \"statistical\", \"particular\", \"frequently\", \"museum\", \"europe\", \"structure\", \"typically\", \"refers\", \"algorithm\", \"similar\", \"city\", \"paris\", \"world\", \"museum\", \"europe\", \"capital\", \"million\", \"population\", \"area\", \"art\", \"university\", \"centre\", \"populous\", \"region\", \"popular\", \"largest\", \"gallery\", \"west\", \"landmark\", \"site\", \"major\", \"number\", \"century\", \"national\", \"tower\", \"inhabitant\", \"library\", \"moscow\", \"european\", \"billion\", \"text\", \"document\", \"information\", \"model\", \"data\", \"word\", \"computer\", \"process\", \"processing\", \"different\", \"written\", \"application\", \"discovery\", \"learning\", \"set\", \"type\", \"modeling\", \"statistical\", \"frequently\", \"particular\", \"algorithm\", \"refers\", \"similar\", \"technique\", \"typically\", \"goal\", \"nlp\", \"recognition\", \"large\", \"organize\", \"insight\", \"structure\", \"collection\", \"referred\", \"including\"], \"Freq\": [13.0, 13.0, 9.0, 6.0, 6.0, 22.0, 5.0, 5.0, 18.0, 4.0, 4.0, 14.0, 3.0, 3.0, 2.0, 2.0, 2.0, 2.0, 2.0, 2.0, 2.0, 2.0, 2.0, 11.0, 11.0, 3.0, 2.0, 2.0, 2.0, 2.0, 22.43330601477436, 18.20055489948205, 13.967795566499378, 11.428143185013969, 11.428138784717829, 8.041940265439282, 7.195389239578546, 7.195387334055426, 7.195387144145276, 5.502286464362489, 5.502286084713479, 5.502284177995087, 5.502281385398323, 4.655737940735013, 4.655737788970868, 4.655731849204295, 4.6557316974281155, 4.6557316974281155, 3.8091833611704735, 3.8091833611704735, 3.8091797469085193, 3.8091797469085193, 3.809179557366795, 3.809179557366795, 3.809179557366795, 3.809179367822534, 3.809179367822534, 3.8091759429366285, 2.962636266392548, 2.962631709284264, 12.673774128633099, 12.67371625957708, 9.052641738023786, 6.155755171692685, 6.155743582232231, 4.707312351280151, 4.707152531871149, 3.983061074532723, 3.982995542183326, 3.258885528232533, 3.258885528232533, 2.534661258978811, 2.534661258978811, 2.534661258978811, 2.534661258978811, 2.534661258978811, 2.534651506644429, 2.534651506644429, 2.5345621568185366, 2.5345621568185366, 1.81043498697974, 1.81043498697974, 1.81043498697974, 1.81043498697974, 1.81043498697974, 1.8103162404194841, 1.8103162404194841, 1.8103162404194844, 1.8103016643415681, 1.8103016643415681, 1.810301664341568, 2.538990476905796, 2.538310665125336, 1.8133350718545733, 1.8124573855728197], \"Total\": [13.0, 13.0, 9.0, 6.0, 6.0, 22.0, 5.0, 5.0, 18.0, 4.0, 4.0, 14.0, 3.0, 3.0, 2.0, 2.0, 2.0, 2.0, 2.0, 2.0, 2.0, 2.0, 2.0, 11.0, 11.0, 3.0, 2.0, 2.0, 2.0, 2.0, 22.79567346570873, 18.562918340909093, 14.330162028629296, 11.790508706315736, 11.790508070460145, 8.404304313519377, 7.557753172552188, 7.5577528971985535, 7.557752869755983, 5.864650786070733, 5.864650731210347, 5.864650455683992, 5.864650052145635, 5.018100006683525, 5.0180999847531655, 5.018099126439616, 5.018099104507517, 5.018099104507518, 4.1715483521957974, 4.1715483521957974, 4.171547829924432, 4.171547829924432, 4.171547802535101, 4.171547802535101, 4.171547802535101, 4.171547775145404, 4.171547775145404, 4.1715472802394284, 3.324997779281508, 3.3249971207661044, 13.09718043603938, 13.097190210762191, 9.476073895650389, 6.579185395559685, 6.579187353147577, 5.130741067350235, 5.130768062613862, 4.406523948034233, 4.40653501717195, 3.682294037009137, 3.682294037009137, 2.9580723558291098, 2.9580723558291098, 2.9580723558291098, 2.9580723558291098, 2.9580723558291098, 2.958074003106116, 2.958074003106116, 2.9580890952787136, 2.9580890952787136, 2.2338510129348963, 2.2338510129348963, 2.2338510129348963, 2.2338510129348963, 2.2338510129348963, 2.233871070540658, 2.233871070540658, 2.233871070540658, 2.233873532601233, 2.233873532601233, 2.233873532601233, 3.803892263508348, 4.650558251637558, 3.07991231697358, 3.080060567881941], \"Category\": [\"Default\", \"Default\", \"Default\", \"Default\", \"Default\", \"Default\", \"Default\", \"Default\", \"Default\", \"Default\", \"Default\", \"Default\", \"Default\", \"Default\", \"Default\", \"Default\", \"Default\", \"Default\", \"Default\", \"Default\", \"Default\", \"Default\", \"Default\", \"Default\", \"Default\", \"Default\", \"Default\", \"Default\", \"Default\", \"Default\", \"Topic1\", \"Topic1\", \"Topic1\", \"Topic1\", \"Topic1\", \"Topic1\", \"Topic1\", \"Topic1\", \"Topic1\", \"Topic1\", \"Topic1\", \"Topic1\", \"Topic1\", \"Topic1\", \"Topic1\", \"Topic1\", \"Topic1\", \"Topic1\", \"Topic1\", \"Topic1\", \"Topic1\", \"Topic1\", \"Topic1\", \"Topic1\", \"Topic1\", \"Topic1\", \"Topic1\", \"Topic1\", \"Topic1\", \"Topic1\", \"Topic2\", \"Topic2\", \"Topic2\", \"Topic2\", \"Topic2\", \"Topic2\", \"Topic2\", \"Topic2\", \"Topic2\", \"Topic2\", \"Topic2\", \"Topic2\", \"Topic2\", \"Topic2\", \"Topic2\", \"Topic2\", \"Topic2\", \"Topic2\", \"Topic2\", \"Topic2\", \"Topic2\", \"Topic2\", \"Topic2\", \"Topic2\", \"Topic2\", \"Topic2\", \"Topic2\", \"Topic2\", \"Topic2\", \"Topic2\", \"Topic2\", \"Topic2\", \"Topic2\", \"Topic2\", \"Topic2\"], \"logprob\": [30.0, 29.0, 28.0, 27.0, 26.0, 25.0, 24.0, 23.0, 22.0, 21.0, 20.0, 19.0, 18.0, 17.0, 16.0, 15.0, 14.0, 13.0, 12.0, 11.0, 10.0, 9.0, 8.0, 7.0, 6.0, 5.0, 4.0, 3.0, 2.0, 1.0, -2.7328, -2.9419, -3.2066, -3.4073, -3.4073, -3.7587, -3.8699, -3.8699, -3.8699, -4.1382, -4.1382, -4.1382, -4.1382, -4.3052, -4.3052, -4.3052, -4.3052, -4.3052, -4.5059, -4.5059, -4.5059, -4.5059, -4.5059, -4.5059, -4.5059, -4.5059, -4.5059, -4.5059, -4.7573, -4.7573, -2.5608, -2.5608, -2.8972, -3.2829, -3.2829, -3.5512, -3.5512, -3.7182, -3.7183, -3.9189, -3.9189, -4.1702, -4.1702, -4.1702, -4.1702, -4.1702, -4.1702, -4.1702, -4.1703, -4.1703, -4.5067, -4.5067, -4.5067, -4.5067, -4.5067, -4.5068, -4.5068, -4.5068, -4.5068, -4.5068, -4.5068, -4.1685, -4.1688, -4.5051, -4.5056], \"loglift\": [30.0, 29.0, 28.0, 27.0, 26.0, 25.0, 24.0, 23.0, 22.0, 21.0, 20.0, 19.0, 18.0, 17.0, 16.0, 15.0, 14.0, 13.0, 12.0, 11.0, 10.0, 9.0, 8.0, 7.0, 6.0, 5.0, 4.0, 3.0, 2.0, 1.0, 0.3731, 0.3694, 0.3635, 0.3579, 0.3579, 0.345, 0.34, 0.34, 0.34, 0.3253, 0.3253, 0.3253, 0.3253, 0.3142, 0.3142, 0.3142, 0.3142, 0.3142, 0.2982, 0.2982, 0.2982, 0.2982, 0.2982, 0.2982, 0.2982, 0.2982, 0.2982, 0.2982, 0.2737, 0.2737, 1.0993, 1.0993, 1.0864, 1.0656, 1.0656, 1.046, 1.046, 1.0311, 1.0311, 1.01, 1.01, 0.9777, 0.9777, 0.9777, 0.9777, 0.9777, 0.9777, 0.9777, 0.9776, 0.9776, 0.922, 0.922, 0.922, 0.922, 0.922, 0.9219, 0.9219, 0.9219, 0.9219, 0.9219, 0.9219, 0.7279, 0.5267, 0.6024, 0.6019]}, \"token.table\": {\"Topic\": [2, 2, 1, 1, 1, 1, 1, 1, 1, 1, 2, 2, 2, 2, 2, 2, 1, 1, 2, 1, 2, 1, 2, 2, 1, 2, 1, 2, 1, 2, 1, 1, 1, 2, 2, 1, 1, 1, 2, 1, 2, 1, 2, 1, 1, 1, 2, 2, 2, 1, 2, 2, 1, 2, 2, 1, 2, 1, 2, 2, 2, 1, 2, 2, 1, 1, 2, 1, 2], \"Freq\": [0.8953148569081801, 1.01417397518633, 0.9262012294702101, 1.0230788189896554, 0.9022564203931633, 0.9518931849160908, 1.0230788766250898, 0.9588767022085066, 0.9650954174744759, 0.4300558969013577, 0.6450838453520366, 0.9745129655018467, 0.9119667335707524, 0.8147095179929424, 1.01417397518633, 0.9925793082945128, 0.9329538586686795, 0.9022562417013896, 1.014168236104916, 0.9963932349420402, 0.8953068180053674, 0.32466894009414493, 0.6493378801882899, 0.949760428116869, 0.9588767085043334, 0.8953058312442159, 0.958876575862893, 0.8953058312442159, 0.9963932305872049, 1.01417397518633, 0.9588767085043334, 0.958876695912764, 0.9262011923625921, 0.9119670049197003, 1.014173410418353, 0.9588768222639964, 0.9329538083549958, 0.9588767022085066, 0.8953068180053674, 0.958876695912764, 0.8953058312442159, 0.9696751162413655, 1.014168236104916, 0.9963930601605867, 0.9262012261071281, 1.0230789470217148, 0.9077449815708853, 0.9077427013316104, 0.8953068180053674, 0.3246845679628412, 0.6493691359256824, 0.8953148569081801, 0.9963930558060983, 1.01417397518633, 0.8953148569081801, 0.958876575862893, 1.014173410418353, 0.26288862321187173, 0.7886658696356152, 0.8953148569081801, 0.9925800490789628, 0.9588767022085066, 1.01417397518633, 0.8953148569081801, 1.023078828559961, 0.9963932349420401, 0.9745180928770284, 0.9769603422508631, 0.8147095179929424], \"Term\": [\"algorithm\", \"application\", \"area\", \"art\", \"billion\", \"capital\", \"centre\", \"century\", \"city\", \"collection\", \"collection\", \"computer\", \"data\", \"different\", \"discovery\", \"document\", \"europe\", \"european\", \"frequently\", \"gallery\", \"goal\", \"including\", \"including\", \"information\", \"inhabitant\", \"insight\", \"landmark\", \"large\", \"largest\", \"learning\", \"library\", \"major\", \"million\", \"model\", \"modeling\", \"moscow\", \"museum\", \"national\", \"nlp\", \"number\", \"organize\", \"paris\", \"particular\", \"popular\", \"population\", \"populous\", \"process\", \"processing\", \"recognition\", \"referred\", \"referred\", \"refers\", \"region\", \"set\", \"similar\", \"site\", \"statistical\", \"structure\", \"structure\", \"technique\", \"text\", \"tower\", \"type\", \"typically\", \"university\", \"west\", \"word\", \"world\", \"written\"]}, \"R\": 30, \"lambda.step\": 0.01, \"plot.opts\": {\"xlab\": \"PC1\", \"ylab\": \"PC2\"}, \"topic.order\": [2, 1]};\n",
       "\n",
       "function LDAvis_load_lib(url, callback){\n",
       "  var s = document.createElement('script');\n",
       "  s.src = url;\n",
       "  s.async = true;\n",
       "  s.onreadystatechange = s.onload = callback;\n",
       "  s.onerror = function(){console.warn(\"failed to load library \" + url);};\n",
       "  document.getElementsByTagName(\"head\")[0].appendChild(s);\n",
       "}\n",
       "\n",
       "if(typeof(LDAvis) !== \"undefined\"){\n",
       "   // already loaded: just create the visualization\n",
       "   !function(LDAvis){\n",
       "       new LDAvis(\"#\" + \"ldavis_el1246816658889004241575070278\", ldavis_el1246816658889004241575070278_data);\n",
       "   }(LDAvis);\n",
       "}else if(typeof define === \"function\" && define.amd){\n",
       "   // require.js is available: use it to load d3/LDAvis\n",
       "   require.config({paths: {d3: \"https://d3js.org/d3.v5\"}});\n",
       "   require([\"d3\"], function(d3){\n",
       "      window.d3 = d3;\n",
       "      LDAvis_load_lib(\"https://cdn.jsdelivr.net/gh/bmabey/pyLDAvis@3.3.1/pyLDAvis/js/ldavis.v3.0.0.js\", function(){\n",
       "        new LDAvis(\"#\" + \"ldavis_el1246816658889004241575070278\", ldavis_el1246816658889004241575070278_data);\n",
       "      });\n",
       "    });\n",
       "}else{\n",
       "    // require.js not available: dynamically load d3 & LDAvis\n",
       "    LDAvis_load_lib(\"https://d3js.org/d3.v5.js\", function(){\n",
       "         LDAvis_load_lib(\"https://cdn.jsdelivr.net/gh/bmabey/pyLDAvis@3.3.1/pyLDAvis/js/ldavis.v3.0.0.js\", function(){\n",
       "                 new LDAvis(\"#\" + \"ldavis_el1246816658889004241575070278\", ldavis_el1246816658889004241575070278_data);\n",
       "            })\n",
       "         });\n",
       "}\n",
       "</script>"
      ],
      "text/plain": [
       "PreparedData(topic_coordinates=               x           y  topics  cluster       Freq\n",
       "topic                                                   \n",
       "1     -60.312317  141.369629       1        1  67.765975\n",
       "0      60.312561 -141.369141       2        1  32.234025, topic_info=            Term       Freq      Total Category  logprob  loglift\n",
       "109         text  13.000000  13.000000  Default  30.0000  30.0000\n",
       "22      document  13.000000  13.000000  Default  29.0000  29.0000\n",
       "47   information   9.000000   9.000000  Default  28.0000  28.0000\n",
       "68         model   6.000000   6.000000  Default  27.0000  27.0000\n",
       "18          data   6.000000   6.000000  Default  26.0000  26.0000\n",
       "..           ...        ...        ...      ...      ...      ...\n",
       "49       insight   1.810302   2.233874   Topic2  -4.5068   0.9219\n",
       "105    structure   2.538990   3.803892   Topic2  -4.1685   0.7279\n",
       "12    collection   2.538311   4.650558   Topic2  -4.1688   0.5267\n",
       "92      referred   1.813335   3.079912   Topic2  -4.5051   0.6024\n",
       "46     including   1.812457   3.080061   Topic2  -4.5056   0.6019\n",
       "\n",
       "[95 rows x 6 columns], token_table=      Topic      Freq         Term\n",
       "term                              \n",
       "1         2  0.895315    algorithm\n",
       "2         2  1.014174  application\n",
       "3         1  0.926201         area\n",
       "4         1  1.023079          art\n",
       "6         1  0.902256      billion\n",
       "...     ...       ...          ...\n",
       "117       1  1.023079   university\n",
       "120       1  0.996393         west\n",
       "121       2  0.974518         word\n",
       "122       1  0.976960        world\n",
       "124       2  0.814710      written\n",
       "\n",
       "[69 rows x 3 columns], R=30, lambda_step=0.01, plot_opts={'xlab': 'PC1', 'ylab': 'PC2'}, topic_order=[2, 1])"
      ]
     },
     "execution_count": 46,
     "metadata": {},
     "output_type": "execute_result"
    }
   ],
   "source": [
    "best_model(docs)"
   ]
  },
  {
   "cell_type": "code",
   "execution_count": null,
   "metadata": {},
   "outputs": [],
   "source": []
  }
 ],
 "metadata": {
  "kernelspec": {
   "display_name": "Python 3",
   "language": "python",
   "name": "python3"
  },
  "language_info": {
   "codemirror_mode": {
    "name": "ipython",
    "version": 3
   },
   "file_extension": ".py",
   "mimetype": "text/x-python",
   "name": "python",
   "nbconvert_exporter": "python",
   "pygments_lexer": "ipython3",
   "version": "3.7.4"
  }
 },
 "nbformat": 4,
 "nbformat_minor": 2
}
