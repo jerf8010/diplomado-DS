{
  "nbformat": 4,
  "nbformat_minor": 0,
  "metadata": {
    "colab": {
      "name": "tarea_fechas.ipynb",
      "provenance": [],
      "collapsed_sections": []
    },
    "kernelspec": {
      "name": "python3",
      "display_name": "Python 3"
    },
    "language_info": {
      "name": "python"
    }
  },
  "cells": [
    {
      "cell_type": "code",
      "source": [
        "import re\n",
        "from google.colab import drive\n",
        "import pandas as pd\n",
        "import warnings\n",
        "\n",
        "warnings.filterwarnings('ignore')"
      ],
      "metadata": {
        "id": "MNjOW3Blk3sj"
      },
      "execution_count": 1,
      "outputs": []
    },
    {
      "cell_type": "code",
      "source": [
        "def transforma_mes(x):\n",
        "  if x[0:3].lower() == 'jan':\n",
        "    return 1\n",
        "  elif x[0:3].lower() == 'feb':\n",
        "    return 2\n",
        "  elif x[0:3].lower() == 'mar':\n",
        "    return 3\n",
        "  elif x[0:3].lower() == 'apr':\n",
        "    return 4\n",
        "  elif x[0:3].lower() == 'may':\n",
        "    return 5\n",
        "  elif x[0:3].lower() == 'jun':\n",
        "    return 6\n",
        "  elif x[0:3].lower() == 'jul':\n",
        "    return 7\n",
        "  elif x[0:3].lower() == 'aug':\n",
        "    return 8\n",
        "  elif x[0:3].lower() == 'sep':\n",
        "    return 9\n",
        "  elif x[0:3].lower() == 'oct':\n",
        "    return 10\n",
        "  elif x[0:3].lower() == 'nov':\n",
        "    return 11\n",
        "  elif x[0:3].lower() == 'dec':\n",
        "    return 12"
      ],
      "metadata": {
        "id": "9IEO3WODxp16"
      },
      "execution_count": 2,
      "outputs": []
    },
    {
      "cell_type": "code",
      "source": [
        "drive.mount('/content/drive')"
      ],
      "metadata": {
        "colab": {
          "base_uri": "https://localhost:8080/"
        },
        "id": "jtspo5o7qUlO",
        "outputId": "52fdae98-72ed-42b1-806f-4eeb4fb55e40"
      },
      "execution_count": 5,
      "outputs": [
        {
          "output_type": "stream",
          "name": "stdout",
          "text": [
            "Mounted at /content/drive\n"
          ]
        }
      ]
    },
    {
      "cell_type": "code",
      "source": [
        "def dates(archivo):\n",
        "  try:\n",
        "    f = open('/content/drive/My Drive/Modulo 9/' + archivo + '.txt', 'r')\n",
        "    dates = f.read() # Se guarda el texto en la variable texto\n",
        "    print('Archivo cargado correctamente')\n",
        "  except: # En caso de ingresar un nombre incorrecto se imprime un mensaje y termina la función\n",
        "    print('Archivo no encontrado')\n",
        "\n",
        "  # 20 Mar 2009; 20 March 2009; 20 Mar. 2009; 20 March, 2009\n",
        "  fechas1 = re.findall(r'(?:\\d{2} )?(?:Jan|Feb|Mar|Apr|May|Jun|Jul|Aug|Sep|Oct|Nov|Dec)[a-z]*[.,]? [12]\\d{3}', dates, flags = re.I) # Regexp\n",
        "  fechas1_ = [fecha.split(' ') for fecha in fechas1] # Separación de cada fecha por espacios\n",
        "  fechas1_ = [[1] + fecha_list  if len(fecha_list) == 2 else fecha_list for fecha_list in fechas1_  ] # Colocamos el primer día de mes a aquellas fechas que no tienen específicado el día\n",
        "  fechas1_ = pd.DataFrame(fechas1_, columns = ['day', 'month', 'year']) # Creación del dataframe con estas fechas\n",
        "  fechas1_['month'] = fechas1_['month'].apply(transforma_mes) # Transforrmamos los meses a número\n",
        "\n",
        "  # 04/20/2009; 04/20/09; 4/20/09; 4/3/09\n",
        "  fechas2 = re.findall('(\\d{1,2}[/-]\\d{1,2}[/-]\\d{2})\\D', dates) # Regexp para fechas con año de dos cifras\n",
        "  fechas2 = fechas2 + re.findall('(\\d{1,2}[/-]\\d{1,2}[/-][12]\\d{3})', dates) # Regexp para fechas con año de cuatro cifras\n",
        "\n",
        "  # Creamos dos listas: separando con - y con /\n",
        "  fechas2A_ = [fecha.split('-') for fecha in fechas2] # Separamos cada fecha por -\n",
        "  fechas2A_ = pd.DataFrame(fechas2A_, columns = ['month', 'day', 'year']).dropna(axis = 0) # Eliminamos los nulos para quedarnos solo con los que si tienen originalmente -\n",
        "\n",
        "  fechas2B_ = [fecha.split('/') for fecha in fechas2] # Separamos cada fecha por /\n",
        "  fechas2B_ = pd.DataFrame(fechas2B_, columns = ['month', 'day', 'year']).dropna(axis = 0) # Eliminamos los nulos para quedarnos solo con los que si tienen originalmente /\n",
        "\n",
        "  fechas2_ = pd.concat([fechas2A_, fechas2B_]) # Creamos un dataframe con las dos listas anteriores\n",
        "  fechas2_['year'] = fechas2_['year'].apply(lambda x: int(x) + 1900 if len(str(x)) == 2 else x) # Transformamos aquellas fechas con formato tipo 82 a 1982\n",
        "\n",
        "\n",
        "  # Mar 20, 2009; March 20, 2009; Mar. 20, 2009; Mar 20 2009\n",
        "  fechas3 = re.findall(r'(?:Jan|Feb|Mar|Apr|May|Jun|Jul|Aug|Sep|Oct|Nov|Dec)[a-z]*\\D{1,2}\\d{1,2}[a-z]{0,2}[.,-/]? [12]\\d{3}', dates, flags = re.I) # Regexp\n",
        "\n",
        "  fechas3_ = [fecha.split(' ') for fecha in fechas3] # Separamos las fechas por espacios\n",
        "  fechas3_ = pd.DataFrame(fechas3_, columns = ['month', 'day', 'year']) # Creamos dataframe\n",
        "  fechas3_['month'] = fechas3_['month'].apply(transforma_mes) # Transformamos los meses a número\n",
        "  fechas3_['day'] = fechas3_['day'].apply(lambda x: x[0:2]) # Eliminamos las comas y puntos que pueden existir\n",
        "\n",
        "  # 6/2008; 12/2009\n",
        "  fechas4 = re.findall(r'\\D{2,}(\\d{1,2}[/-][12]\\d{3})', dates, re.I) # Regexp para evitar repetir las fechas de tipo dd/mm/aaaa\n",
        "  fechas4 = fechas4 + re.findall(r'\\d[\\n ](\\d{1,2}[/-][12]\\d{3})', dates) # Agregamos fechas que pueden tener un espacio o salto de línea antes\n",
        "\n",
        "  fechas4_ = [fecha.split('/') for fecha in fechas4] # Separamos fechas por /\n",
        "  fechas4_ = pd.DataFrame(fechas4_, columns = ['month', 'year']) # Creamos dataframe\n",
        "  fechas4_['day'] = 1 # Colocamos el primer día del mes a todas las fechas puesto que no lo tienen específicado\n",
        "\n",
        "  # 2009, 2010\n",
        "  fechas5 = re.findall(r'(?:in|quit|since|delivery|nephrectomy|-|:|;)\\D{1,2}([12]\\d{3})', dates, flags = re.I) # Regexp de años del tipo sine 1900\n",
        "  fechas5 = fechas5 + re.findall(r'[a-z\\.\\n]([12]\\d{3})', dates, flags = re.I) # fechas de tipo s1900\n",
        "  fechas5 = fechas5 + re.findall(r'[(]([12]\\d{3})[)]', dates, flags = re.I) # Fechas de tipo (1900)\n",
        "  fechas5 = fechas5 + re.findall(r'([12]\\d{3})-[-a-z]', dates, flags = re.I) # Fechas de tipo 1900-- o 1900-new\n",
        "  fechas5 = fechas5 + re.findall(r'\\d{3,} ([12]\\d{3})', dates, flags = re.I) # fechas de tipo 123 1900\n",
        "\n",
        "  fechas5_ = pd.DataFrame(fechas5, columns = ['year']) # Creación de dataframe\n",
        "  fechas5_['month'] = 1 # Agregamos un 1 al mes\n",
        "  fechas5_['day'] = 1 # Agregamos un 1 al día \n",
        "\n",
        "\n",
        "  # Lista de fechas final\n",
        "  fechas_ = pd.concat([fechas1_, fechas2_, fechas3_, fechas4_, fechas5_]) # Concatenamos todos los dataframes creados\n",
        "  fechas_['fecha'] = fechas_.apply(lambda x: str(x['day']) + '/' + str(x['month']) + '/' + str(x['year']), axis = 1) #  Creamos una nueva columna juntando dia mes y año en formato d/m/a\n",
        "\n",
        "  fechas_['fecha'] = pd.to_datetime(fechas_['fecha'], dayfirst = True) # Transformamos a formato de fecha la columna fecha\n",
        "\n",
        "\n",
        "  fechas_ = fechas_.sort_values('fecha') # Ordenamos el dataframe de acuerdo a la columna fecha\n",
        "\n",
        "  fechas_list = [str(fecha) for fecha in fechas_['fecha'].dt.date] # Creamos una lista con la columna fecha del dataframe\n",
        "  \n",
        "  print(f\"Se tiene un total de {len(fechas_list)} fechas\")\n",
        "  print(f\"Lista de fechas ordenadas: {fechas_list}\")\n",
        "  \n",
        "  return fechas_list # Retornamos la lista"
      ],
      "metadata": {
        "id": "nVxXrSIJlcez"
      },
      "execution_count": 36,
      "outputs": []
    },
    {
      "cell_type": "code",
      "source": [
        "fechas = dates('dates')"
      ],
      "metadata": {
        "colab": {
          "base_uri": "https://localhost:8080/"
        },
        "id": "Gj7O6jrfmigU",
        "outputId": "4c3e49d4-b18a-4e8a-a390-8702856a9c2a"
      },
      "execution_count": 37,
      "outputs": [
        {
          "output_type": "stream",
          "name": "stdout",
          "text": [
            "Archivo cargado correctamente\n",
            "Se tiene un total de 500 fechas\n",
            "Lista de fechas ordenadas: ['1971-04-10', '1971-05-18', '1971-07-08', '1971-07-11', '1971-09-12', '1972-01-01', '1972-01-13', '1972-01-26', '1972-05-06', '1972-05-13', '1972-06-10', '1972-06-15', '1972-07-20', '1972-10-04', '1972-11-30', '1973-01-01', '1973-02-01', '1973-02-01', '1973-02-14', '1973-03-01', '1973-03-01', '1973-04-01', '1973-06-01', '1973-07-01', '1973-10-01', '1973-12-01', '1974-01-01', '1974-02-01', '1974-02-24', '1974-03-01', '1974-03-05', '1974-03-06', '1974-04-01', '1974-04-11', '1974-04-12', '1974-05-04', '1974-05-26', '1974-06-01', '1974-06-13', '1974-07-07', '1974-08-01', '1974-09-01', '1974-09-10', '1974-10-10', '1974-10-14', '1975-01-01', '1975-02-28', '1975-03-01', '1975-04-09', '1975-07-01', '1975-07-29', '1975-08-01', '1975-08-18', '1975-09-01', '1975-09-01', '1975-09-27', '1975-11-22', '1975-12-01', '1975-12-14', '1976-02-01', '1976-02-11', '1976-03-01', '1976-03-10', '1976-04-01', '1976-06-01', '1976-09-02', '1976-09-20', '1976-10-13', '1977-01-01', '1977-01-01', '1977-02-01', '1977-02-01', '1977-04-01', '1977-05-01', '1977-05-04', '1977-05-21', '1977-06-20', '1977-07-01', '1977-07-11', '1977-10-21', '1978-01-01', '1978-01-01', '1978-01-01', '1978-02-01', '1978-02-02', '1978-02-03', '1978-03-01', '1978-05-18', '1978-07-26', '1978-08-04', '1978-08-11', '1978-10-01', '1978-10-21', '1978-12-01', '1978-12-01', '1979-01-01', '1979-04-01', '1979-05-01', '1979-07-06', '1979-08-01', '1979-08-01', '1979-09-06', '1979-10-01', '1979-10-21', '1979-11-01', '1980-01-01', '1980-03-01', '1980-03-12', '1980-04-22', '1980-05-01', '1980-09-01', '1980-10-01', '1980-10-01', '1980-10-18', '1981-01-01', '1981-01-14', '1981-01-14', '1981-02-18', '1981-03-01', '1981-06-01', '1981-06-29', '1981-07-01', '1981-07-01', '1981-08-09', '1981-08-14', '1981-09-01', '1981-09-19', '1981-10-01', '1982-01-01', '1982-04-12', '1982-04-13', '1982-05-26', '1982-07-01', '1982-07-04', '1982-08-16', '1982-08-20', '1982-09-22', '1982-10-16', '1982-11-01', '1982-12-08', '1982-12-10', '1983-01-01', '1983-01-01', '1983-01-27', '1983-02-01', '1983-02-01', '1983-02-10', '1983-03-01', '1983-03-15', '1983-04-01', '1983-05-01', '1983-07-25', '1983-08-06', '1983-08-22', '1983-09-01', '1983-10-21', '1983-11-14', '1984-01-01', '1984-07-25', '1984-09-01', '1984-09-01', '1984-09-17', '1984-11-01', '1985-01-01', '1985-02-11', '1985-03-31', '1985-04-01', '1985-05-11', '1985-06-15', '1985-06-18', '1985-07-01', '1985-07-01', '1985-08-17', '1985-09-01', '1985-10-10', '1985-11-03', '1986-01-01', '1986-01-24', '1986-03-01', '1986-03-07', '1986-04-01', '1986-05-01', '1986-07-01', '1986-07-18', '1986-07-27', '1986-08-01', '1986-10-01', '1986-10-01', '1986-10-13', '1986-10-24', '1986-11-01', '1986-12-01', '1986-12-26', '1987-01-01', '1987-01-01', '1987-01-21', '1987-04-12', '1987-05-01', '1987-06-24', '1987-06-28', '1987-07-01', '1987-10-11', '1987-10-25', '1987-12-04', '1987-12-05', '1988-01-01', '1988-04-01', '1988-05-24', '1988-08-01', '1988-08-01', '1988-11-11', '1988-12-04', '1988-12-09', '1989-01-01', '1989-01-01', '1989-02-01', '1989-04-01', '1989-04-05', '1989-04-13', '1989-05-14', '1989-05-15', '1989-06-01', '1989-07-01', '1989-08-01', '1989-08-11', '1989-08-26', '1989-09-09', '1989-09-22', '1989-10-24', '1989-12-01', '1990-01-01', '1990-01-01', '1990-01-18', '1990-02-10', '1990-03-01', '1990-03-03', '1990-04-11', '1990-05-24', '1990-06-22', '1990-07-01', '1990-10-23', '1990-11-01', '1990-11-05', '1990-12-08', '1991-01-07', '1991-03-31', '1991-04-19', '1991-05-24', '1991-06-20', '1991-07-01', '1991-07-06', '1991-07-15', '1991-10-01', '1991-10-29', '1992-01-01', '1992-01-01', '1992-02-05', '1992-02-22', '1992-04-17', '1992-06-13', '1992-07-01', '1992-07-17', '1992-08-16', '1992-09-01', '1992-10-01', '1992-10-14', '1992-12-01', '1992-12-15', '1993-01-01', '1993-01-01', '1993-02-01', '1993-03-01', '1993-03-25', '1993-04-01', '1993-05-06', '1993-06-05', '1993-08-23', '1993-10-01', '1993-12-01', '1994-01-01', '1994-01-01', '1994-01-01', '1994-01-29', '1994-02-01', '1994-02-18', '1994-06-12', '1994-06-28', '1994-07-01', '1994-07-29', '1994-08-14', '1994-10-01', '1994-12-01', '1995-01-01', '1995-01-01', '1995-01-18', '1995-02-01', '1995-02-14', '1995-03-01', '1995-03-14', '1995-05-01', '1995-05-01', '1995-06-17', '1995-07-01', '1995-07-24', '1995-08-18', '1995-09-06', '1995-10-01', '1995-10-13', '1995-10-21', '1995-11-01', '1996-01-01', '1996-01-22', '1996-02-06', '1996-02-27', '1996-10-01', '1996-10-02', '1996-10-14', '1996-11-11', '1997-01-01', '1997-07-01', '1997-07-11', '1997-08-09', '1997-10-01', '1997-10-05', '1997-11-01', '1997-12-08', '1998-01-01', '1998-02-15', '1998-04-01', '1998-04-24', '1998-05-15', '1998-06-01', '1998-07-21', '1998-07-25', '1998-08-01', '1998-10-04', '1998-11-01', '1998-12-01', '1998-12-22', '1999-01-01', '1999-01-05', '1999-02-01', '1999-04-01', '1999-04-01', '1999-05-01', '1999-06-01', '1999-07-24', '1999-08-01', '1999-09-01', '1999-10-18', '1999-12-23', '2000-01-01', '2000-02-01', '2000-02-01', '2000-03-01', '2000-03-01', '2000-05-01', '2000-08-01', '2000-08-10', '2000-08-23', '2000-09-01', '2000-09-14', '2000-11-01', '2001-01-01', '2001-01-24', '2001-05-01', '2001-05-26', '2001-05-30', '2001-05-30', '2001-06-01', '2001-09-01', '2001-10-01', '2002-01-01', '2002-03-01', '2002-04-01', '2002-04-13', '2002-06-01', '2002-06-28', '2002-07-18', '2002-08-01', '2002-11-11', '2003-01-01', '2003-03-01', '2003-07-01', '2003-08-01', '2003-09-01', '2003-10-06', '2004-01-01', '2004-01-01', '2004-03-12', '2004-04-01', '2004-04-08', '2004-05-01', '2004-05-01', '2004-05-01', '2004-07-01', '2004-08-01', '2004-08-12', '2004-09-10', '2004-11-01', '2004-11-11', '2004-12-01', '2005-01-01', '2005-03-01', '2005-05-01', '2005-06-01', '2005-09-01', '2005-12-01', '2006-01-01', '2006-02-11', '2006-04-27', '2006-05-01', '2006-05-01', '2006-07-01', '2006-10-18', '2007-01-01', '2007-01-01', '2007-01-01', '2007-01-01', '2007-04-01', '2007-04-01', '2007-06-01', '2007-06-01', '2007-09-01', '2007-10-21', '2007-11-01', '2007-11-30', '2007-12-01', '2007-12-01', '2008-01-01', '2008-01-01', '2008-01-01', '2008-01-14', '2008-05-26', '2008-08-01', '2008-08-01', '2008-09-01', '2008-11-01', '2008-12-01', '2009-01-01', '2009-01-01', '2009-01-01', '2009-02-01', '2009-07-01', '2009-08-01', '2009-08-01', '2009-12-01', '2010-01-01', '2010-02-01', '2010-03-01', '2010-05-01', '2010-05-26', '2010-08-01', '2010-10-01', '2010-11-01', '2010-11-01', '2010-12-05', '2011-01-24', '2011-01-25', '2011-05-01', '2011-05-01', '2011-06-01', '2011-06-13', '2011-07-20', '2011-09-15', '2011-12-01', '2012-01-01', '2012-04-01', '2012-05-01', '2012-05-12', '2012-06-25', '2012-09-01', '2012-09-01', '2012-10-21', '2012-11-01', '2012-12-01', '2013-01-01', '2013-01-01', '2013-01-01', '2013-04-01', '2013-09-01', '2013-10-11', '2014-01-01', '2014-01-01', '2014-07-01', '2014-10-01', '2014-10-01', '2014-12-01', '2015-01-01', '2015-09-01', '2015-09-28', '2015-10-01', '2016-01-01', '2016-02-01', '2016-05-01', '2016-05-01', '2016-05-30', '2016-10-13', '2016-10-19', '2016-11-01']\n"
          ]
        }
      ]
    }
  ]
}