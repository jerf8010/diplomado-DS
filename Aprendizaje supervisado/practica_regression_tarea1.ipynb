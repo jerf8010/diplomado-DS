{
 "cells": [
  {
   "cell_type": "markdown",
   "id": "494e962c",
   "metadata": {},
   "source": [
    "# Tarea 1\n",
    "### José Emanuel Rodríguez Fitta"
   ]
  },
  {
   "cell_type": "markdown",
   "id": "7b6324e3",
   "metadata": {},
   "source": [
    "Objetivo: Hacer un modelo de regresión que prediga cuánto se le debe cobrar a un paciente por una aseguradora dado su historial clínico básico e información demógrafica."
   ]
  },
  {
   "cell_type": "markdown",
   "id": "8722c0d4",
   "metadata": {},
   "source": [
    "1. Descargar el dataset 'insurance.csv'.\n",
    "2. Responder las preguntas listadas abajo en un notebook de Python. Cada pregunta tiene una puntuación, en total suman 10.\n",
    "3. Exportar el notebook en formato PDF y subirlo a Moodle. Solo se aceptarán entregas en PDF."
   ]
  },
  {
   "cell_type": "code",
   "execution_count": 1,
   "id": "d34964ef",
   "metadata": {},
   "outputs": [],
   "source": [
    "# Carga de librerias y dependencias para manipulación de datos\n",
    "import pandas as pd\n",
    "import matplotlib.pyplot as plt\n",
    "import seaborn as sns\n",
    "import numpy as np"
   ]
  },
  {
   "cell_type": "code",
   "execution_count": 2,
   "id": "b79be982",
   "metadata": {},
   "outputs": [
    {
     "data": {
      "text/html": [
       "<div>\n",
       "<style scoped>\n",
       "    .dataframe tbody tr th:only-of-type {\n",
       "        vertical-align: middle;\n",
       "    }\n",
       "\n",
       "    .dataframe tbody tr th {\n",
       "        vertical-align: top;\n",
       "    }\n",
       "\n",
       "    .dataframe thead th {\n",
       "        text-align: right;\n",
       "    }\n",
       "</style>\n",
       "<table border=\"1\" class=\"dataframe\">\n",
       "  <thead>\n",
       "    <tr style=\"text-align: right;\">\n",
       "      <th></th>\n",
       "      <th>age</th>\n",
       "      <th>sex</th>\n",
       "      <th>bmi</th>\n",
       "      <th>children</th>\n",
       "      <th>smoker</th>\n",
       "      <th>region</th>\n",
       "      <th>charges</th>\n",
       "    </tr>\n",
       "  </thead>\n",
       "  <tbody>\n",
       "    <tr>\n",
       "      <th>0</th>\n",
       "      <td>19</td>\n",
       "      <td>female</td>\n",
       "      <td>27.900</td>\n",
       "      <td>0</td>\n",
       "      <td>yes</td>\n",
       "      <td>southwest</td>\n",
       "      <td>16884.92400</td>\n",
       "    </tr>\n",
       "    <tr>\n",
       "      <th>1</th>\n",
       "      <td>18</td>\n",
       "      <td>male</td>\n",
       "      <td>33.770</td>\n",
       "      <td>1</td>\n",
       "      <td>no</td>\n",
       "      <td>southeast</td>\n",
       "      <td>1725.55230</td>\n",
       "    </tr>\n",
       "    <tr>\n",
       "      <th>2</th>\n",
       "      <td>28</td>\n",
       "      <td>male</td>\n",
       "      <td>33.000</td>\n",
       "      <td>3</td>\n",
       "      <td>no</td>\n",
       "      <td>southeast</td>\n",
       "      <td>4449.46200</td>\n",
       "    </tr>\n",
       "    <tr>\n",
       "      <th>3</th>\n",
       "      <td>33</td>\n",
       "      <td>male</td>\n",
       "      <td>22.705</td>\n",
       "      <td>0</td>\n",
       "      <td>no</td>\n",
       "      <td>northwest</td>\n",
       "      <td>21984.47061</td>\n",
       "    </tr>\n",
       "    <tr>\n",
       "      <th>4</th>\n",
       "      <td>32</td>\n",
       "      <td>male</td>\n",
       "      <td>28.880</td>\n",
       "      <td>0</td>\n",
       "      <td>no</td>\n",
       "      <td>northwest</td>\n",
       "      <td>3866.85520</td>\n",
       "    </tr>\n",
       "  </tbody>\n",
       "</table>\n",
       "</div>"
      ],
      "text/plain": [
       "   age     sex     bmi  children smoker     region      charges\n",
       "0   19  female  27.900         0    yes  southwest  16884.92400\n",
       "1   18    male  33.770         1     no  southeast   1725.55230\n",
       "2   28    male  33.000         3     no  southeast   4449.46200\n",
       "3   33    male  22.705         0     no  northwest  21984.47061\n",
       "4   32    male  28.880         0     no  northwest   3866.85520"
      ]
     },
     "execution_count": 2,
     "metadata": {},
     "output_type": "execute_result"
    }
   ],
   "source": [
    "# Carga de datos\n",
    "insurance_df = pd.read_csv('insurance.csv')\n",
    "insurance_df.head(5)"
   ]
  },
  {
   "cell_type": "code",
   "execution_count": 34,
   "id": "c3991594",
   "metadata": {},
   "outputs": [
    {
     "data": {
      "text/html": [
       "<div>\n",
       "<style scoped>\n",
       "    .dataframe tbody tr th:only-of-type {\n",
       "        vertical-align: middle;\n",
       "    }\n",
       "\n",
       "    .dataframe tbody tr th {\n",
       "        vertical-align: top;\n",
       "    }\n",
       "\n",
       "    .dataframe thead th {\n",
       "        text-align: right;\n",
       "    }\n",
       "</style>\n",
       "<table border=\"1\" class=\"dataframe\">\n",
       "  <thead>\n",
       "    <tr style=\"text-align: right;\">\n",
       "      <th></th>\n",
       "      <th>age</th>\n",
       "      <th>bmi</th>\n",
       "      <th>children</th>\n",
       "      <th>charges</th>\n",
       "    </tr>\n",
       "  </thead>\n",
       "  <tbody>\n",
       "    <tr>\n",
       "      <th>count</th>\n",
       "      <td>1338.000000</td>\n",
       "      <td>1338.000000</td>\n",
       "      <td>1338.000000</td>\n",
       "      <td>1338.000000</td>\n",
       "    </tr>\n",
       "    <tr>\n",
       "      <th>mean</th>\n",
       "      <td>39.207025</td>\n",
       "      <td>30.663397</td>\n",
       "      <td>1.094918</td>\n",
       "      <td>13270.422265</td>\n",
       "    </tr>\n",
       "    <tr>\n",
       "      <th>std</th>\n",
       "      <td>14.049960</td>\n",
       "      <td>6.098187</td>\n",
       "      <td>1.205493</td>\n",
       "      <td>12110.011237</td>\n",
       "    </tr>\n",
       "    <tr>\n",
       "      <th>min</th>\n",
       "      <td>18.000000</td>\n",
       "      <td>15.960000</td>\n",
       "      <td>0.000000</td>\n",
       "      <td>1121.873900</td>\n",
       "    </tr>\n",
       "    <tr>\n",
       "      <th>25%</th>\n",
       "      <td>27.000000</td>\n",
       "      <td>26.296250</td>\n",
       "      <td>0.000000</td>\n",
       "      <td>4740.287150</td>\n",
       "    </tr>\n",
       "    <tr>\n",
       "      <th>50%</th>\n",
       "      <td>39.000000</td>\n",
       "      <td>30.400000</td>\n",
       "      <td>1.000000</td>\n",
       "      <td>9382.033000</td>\n",
       "    </tr>\n",
       "    <tr>\n",
       "      <th>75%</th>\n",
       "      <td>51.000000</td>\n",
       "      <td>34.693750</td>\n",
       "      <td>2.000000</td>\n",
       "      <td>16639.912515</td>\n",
       "    </tr>\n",
       "    <tr>\n",
       "      <th>max</th>\n",
       "      <td>64.000000</td>\n",
       "      <td>53.130000</td>\n",
       "      <td>5.000000</td>\n",
       "      <td>63770.428010</td>\n",
       "    </tr>\n",
       "  </tbody>\n",
       "</table>\n",
       "</div>"
      ],
      "text/plain": [
       "               age          bmi     children       charges\n",
       "count  1338.000000  1338.000000  1338.000000   1338.000000\n",
       "mean     39.207025    30.663397     1.094918  13270.422265\n",
       "std      14.049960     6.098187     1.205493  12110.011237\n",
       "min      18.000000    15.960000     0.000000   1121.873900\n",
       "25%      27.000000    26.296250     0.000000   4740.287150\n",
       "50%      39.000000    30.400000     1.000000   9382.033000\n",
       "75%      51.000000    34.693750     2.000000  16639.912515\n",
       "max      64.000000    53.130000     5.000000  63770.428010"
      ]
     },
     "execution_count": 34,
     "metadata": {},
     "output_type": "execute_result"
    }
   ],
   "source": [
    "insurance_df.describe()"
   ]
  },
  {
   "cell_type": "markdown",
   "id": "b28d3931",
   "metadata": {},
   "source": [
    "### 1. ¿Existen valores nulos en alguna columna?\n"
   ]
  },
  {
   "cell_type": "code",
   "execution_count": 27,
   "id": "4137ad08",
   "metadata": {},
   "outputs": [
    {
     "data": {
      "image/png": "[encoded data removed]",
      "text/plain": [
       "<Figure size 1440x432 with 1 Axes>"
      ]
     },
     "metadata": {
      "needs_background": "light"
     },
     "output_type": "display_data"
    }
   ],
   "source": [
    "plt.figure(figsize=(20, 6))\n",
    "sns.heatmap(insurance_df.isnull(), yticklabels = False, cbar = False, cmap = 'viridis')\n",
    "plt.show()"
   ]
  },
  {
   "cell_type": "markdown",
   "id": "131021e7",
   "metadata": {},
   "source": [
    "No existen valores nulos en ninguna columna"
   ]
  },
  {
   "cell_type": "markdown",
   "id": "e5188422",
   "metadata": {},
   "source": [
    "### 2. Graficar la distribución de la columna \"charges\""
   ]
  },
  {
   "cell_type": "code",
   "execution_count": 35,
   "id": "9af91aa6",
   "metadata": {},
   "outputs": [
    {
     "data": {
      "image/png": "[encoded data removed]",
      "text/plain": [
       "<Figure size 432x288 with 1 Axes>"
      ]
     },
     "metadata": {
      "needs_background": "light"
     },
     "output_type": "display_data"
    }
   ],
   "source": [
    "plt.hist(insurance_df['charges'], bins = 20)\n",
    "plt.title('Distribución de la columna charges')\n",
    "plt.show()"
   ]
  },
  {
   "cell_type": "markdown",
   "id": "7cf711f8",
   "metadata": {},
   "source": [
    "### 3. Graficar la distribución conjunta de \"charges\" y \"age\" para los no fumadores"
   ]
  },
  {
   "cell_type": "code",
   "execution_count": 5,
   "id": "d554b521",
   "metadata": {},
   "outputs": [
    {
     "data": {
      "text/html": [
       "<div>\n",
       "<style scoped>\n",
       "    .dataframe tbody tr th:only-of-type {\n",
       "        vertical-align: middle;\n",
       "    }\n",
       "\n",
       "    .dataframe tbody tr th {\n",
       "        vertical-align: top;\n",
       "    }\n",
       "\n",
       "    .dataframe thead th {\n",
       "        text-align: right;\n",
       "    }\n",
       "</style>\n",
       "<table border=\"1\" class=\"dataframe\">\n",
       "  <thead>\n",
       "    <tr style=\"text-align: right;\">\n",
       "      <th></th>\n",
       "      <th>age</th>\n",
       "      <th>sex</th>\n",
       "      <th>bmi</th>\n",
       "      <th>children</th>\n",
       "      <th>smoker</th>\n",
       "      <th>region</th>\n",
       "      <th>charges</th>\n",
       "    </tr>\n",
       "  </thead>\n",
       "  <tbody>\n",
       "    <tr>\n",
       "      <th>1</th>\n",
       "      <td>18</td>\n",
       "      <td>male</td>\n",
       "      <td>33.770</td>\n",
       "      <td>1</td>\n",
       "      <td>no</td>\n",
       "      <td>southeast</td>\n",
       "      <td>1725.55230</td>\n",
       "    </tr>\n",
       "    <tr>\n",
       "      <th>2</th>\n",
       "      <td>28</td>\n",
       "      <td>male</td>\n",
       "      <td>33.000</td>\n",
       "      <td>3</td>\n",
       "      <td>no</td>\n",
       "      <td>southeast</td>\n",
       "      <td>4449.46200</td>\n",
       "    </tr>\n",
       "    <tr>\n",
       "      <th>3</th>\n",
       "      <td>33</td>\n",
       "      <td>male</td>\n",
       "      <td>22.705</td>\n",
       "      <td>0</td>\n",
       "      <td>no</td>\n",
       "      <td>northwest</td>\n",
       "      <td>21984.47061</td>\n",
       "    </tr>\n",
       "    <tr>\n",
       "      <th>4</th>\n",
       "      <td>32</td>\n",
       "      <td>male</td>\n",
       "      <td>28.880</td>\n",
       "      <td>0</td>\n",
       "      <td>no</td>\n",
       "      <td>northwest</td>\n",
       "      <td>3866.85520</td>\n",
       "    </tr>\n",
       "    <tr>\n",
       "      <th>5</th>\n",
       "      <td>31</td>\n",
       "      <td>female</td>\n",
       "      <td>25.740</td>\n",
       "      <td>0</td>\n",
       "      <td>no</td>\n",
       "      <td>southeast</td>\n",
       "      <td>3756.62160</td>\n",
       "    </tr>\n",
       "  </tbody>\n",
       "</table>\n",
       "</div>"
      ],
      "text/plain": [
       "   age     sex     bmi  children smoker     region      charges\n",
       "1   18    male  33.770         1     no  southeast   1725.55230\n",
       "2   28    male  33.000         3     no  southeast   4449.46200\n",
       "3   33    male  22.705         0     no  northwest  21984.47061\n",
       "4   32    male  28.880         0     no  northwest   3866.85520\n",
       "5   31  female  25.740         0     no  southeast   3756.62160"
      ]
     },
     "execution_count": 5,
     "metadata": {},
     "output_type": "execute_result"
    }
   ],
   "source": [
    "# filtrado de datos para no fumadores\n",
    "no_smokers = insurance_df[ insurance_df['smoker'] == 'no']\n",
    "no_smokers.head(5)"
   ]
  },
  {
   "cell_type": "code",
   "execution_count": 36,
   "id": "8145bc2f",
   "metadata": {},
   "outputs": [
    {
     "data": {
      "image/png": "[encoded data removed]",
      "text/plain": [
       "<Figure size 432x432 with 3 Axes>"
      ]
     },
     "metadata": {
      "needs_background": "light"
     },
     "output_type": "display_data"
    }
   ],
   "source": [
    "sns.jointplot(x = 'age', y = 'charges', data = no_smokers)\n",
    "plt.show()"
   ]
  },
  {
   "cell_type": "markdown",
   "id": "87bebc1a",
   "metadata": {},
   "source": [
    "### 4. Graficar la matriz de correlación entre las variables incluyendo la variable \"charges\""
   ]
  },
  {
   "cell_type": "code",
   "execution_count": 7,
   "id": "946bd103",
   "metadata": {},
   "outputs": [
    {
     "data": {
      "image/png": "[encoded data removed]",
      "text/plain": [
       "<Figure size 576x576 with 2 Axes>"
      ]
     },
     "metadata": {
      "needs_background": "light"
     },
     "output_type": "display_data"
    }
   ],
   "source": [
    "f, axis = plt.subplots( figsize = ( 8, 8))\n",
    "sns.heatmap( insurance_df.corr(), annot= True)\n",
    "plt.show()"
   ]
  },
  {
   "cell_type": "markdown",
   "id": "c0ca6a3f",
   "metadata": {},
   "source": [
    "La variable \"children\" es la variable que menos afecta a la variable \"charges\". Así mismo, podemos observar que no existe redundancia en los datos, es decir, no existen variables con un relación alta entre ellas."
   ]
  },
  {
   "cell_type": "markdown",
   "id": "39ba7301",
   "metadata": {},
   "source": [
    "### 5. Ajustar los siguientes modelos y encontrar las métricas $R^2$ para cada uno de ellos (se debe predecir la variable \"charges\")"
   ]
  },
  {
   "cell_type": "code",
   "execution_count": 8,
   "id": "28645272",
   "metadata": {},
   "outputs": [],
   "source": [
    "# Creamos un dataframe transformando las variables categoricas\n",
    "insurance_df_dummies = pd.get_dummies(insurance_df)"
   ]
  },
  {
   "cell_type": "code",
   "execution_count": 9,
   "id": "bda5d0e0",
   "metadata": {},
   "outputs": [
    {
     "data": {
      "image/png": "[encoded data removed]",
      "text/plain": [
       "<Figure size 720x720 with 2 Axes>"
      ]
     },
     "metadata": {
      "needs_background": "light"
     },
     "output_type": "display_data"
    }
   ],
   "source": [
    "f, axis = plt.subplots( figsize = ( 10, 10))\n",
    "sns.heatmap( insurance_df_dummies.corr(), annot= True)\n",
    "plt.show()"
   ]
  },
  {
   "cell_type": "markdown",
   "id": "e3445089",
   "metadata": {},
   "source": [
    "En este caso podemos observar que existen variables redundantes entre sí, por ejemplo las variables \"sex_female\" y \"sex_male\" tiene una correlación de 1, de igual forma las variables \"smoker_yes\" y \"smoker_no\". Por lo que se buscará eliminar la redundancia. \n",
    "\n",
    "Por otro lado podemos ver, que la variable \"smoker_yes\" tiene un alto efecto en la variable \"charges\"."
   ]
  },
  {
   "cell_type": "code",
   "execution_count": 10,
   "id": "cec898a0",
   "metadata": {},
   "outputs": [],
   "source": [
    "# Carga de librerias y dependencias para machine learning\n",
    "from sklearn.linear_model import LinearRegression, RidgeCV, LassoCV\n",
    "from sklearn.neighbors import KNeighborsRegressor\n",
    "from sklearn.model_selection import train_test_split\n",
    "from sklearn.preprocessing import StandardScaler, MinMaxScaler"
   ]
  },
  {
   "cell_type": "code",
   "execution_count": 11,
   "id": "94c398a0",
   "metadata": {},
   "outputs": [
    {
     "data": {
      "text/plain": [
       "Index(['age', 'bmi', 'children', 'charges', 'sex_female', 'sex_male',\n",
       "       'smoker_no', 'smoker_yes', 'region_northeast', 'region_northwest',\n",
       "       'region_southeast', 'region_southwest'],\n",
       "      dtype='object')"
      ]
     },
     "execution_count": 11,
     "metadata": {},
     "output_type": "execute_result"
    }
   ],
   "source": [
    "# Después de obtener variables dummies, se tienen las siguientes columnas\n",
    "insurance_df_dummies.columns"
   ]
  },
  {
   "cell_type": "code",
   "execution_count": 48,
   "id": "1602c2b6",
   "metadata": {},
   "outputs": [
    {
     "name": "stdout",
     "output_type": "stream",
     "text": [
      "['age', 'bmi', 'smoker_yes', 'region_northeast', 'region_southeast']\n"
     ]
    }
   ],
   "source": [
    "# Selección de variables independientes para eliminar redundancia\n",
    "features_dummies = ['age', \n",
    "                    'bmi',\n",
    "                    'smoker_yes',\n",
    "                    'region_northeast',\n",
    "                    'region_southeast'\n",
    "                   ]\n",
    "print(features_dummies)"
   ]
  },
  {
   "cell_type": "code",
   "execution_count": 13,
   "id": "22ad649f",
   "metadata": {},
   "outputs": [],
   "source": [
    "# features originales (seleccionadas para hacer una comparación)\n",
    "features_originales = ['age', 'bmi', 'children']"
   ]
  },
  {
   "cell_type": "code",
   "execution_count": 62,
   "id": "c87766ef",
   "metadata": {},
   "outputs": [],
   "source": [
    "# Función para aplicar standarizacion o normalizacion y dividir el conjunto\n",
    "def tipo_transformacion(features, tipo_transformador):\n",
    "    \n",
    "    '''\n",
    "    Esta función servirá para iterar sobre la estandarización y la normalización, para comparar cual tiene un mejor \n",
    "    resultado en el score. Esta función regresa una tupla con los cuatro conjuntos de entranmiento ya considerando\n",
    "    la transformación.\n",
    "    '''\n",
    "    \n",
    "    X = insurance_df_dummies[ features ] # Creación de variable dependiente\n",
    "    y = insurance_df_dummies['charges'] # Creación de variable target\n",
    "    \n",
    "    \n",
    "    if tipo_transformador == 'NA': # Si no se aplica una transformación a los datos\n",
    "        X_trans = X.values\n",
    "    else:  # Procedimiento para transformar datos\n",
    "        X_trans = tipo_transformador.fit_transform(X)\n",
    "        \n",
    "    # División de datos con un test size del 30%\n",
    "    X_train, X_test, y_train, y_test = train_test_split(X_trans, \n",
    "                                                    y, \n",
    "                                                    test_size = 0.3, \n",
    "                                                    random_state = 0)\n",
    "    return ( X_train, X_test, y_train, y_test )"
   ]
  },
  {
   "cell_type": "code",
   "execution_count": 77,
   "id": "6ec68f01",
   "metadata": {},
   "outputs": [],
   "source": [
    "# Funcion para imprimir el score sobre el conjunto de entrenamiento y testing\n",
    "def imprimir_resultados(modelo, tupla_train_test, transformador):\n",
    "    print('***************************')\n",
    "    print(transformador)\n",
    "    print('Score en el conjunto de entrenamiento: {}'.format(modelo.score(tupla_train_test[0], tupla_train_test[2])))\n",
    "    print('Score en el conjunto de prueba: {}'.format(modelo.score(tupla_train_test[1], tupla_train_test[3])))"
   ]
  },
  {
   "cell_type": "code",
   "execution_count": 51,
   "id": "92603307",
   "metadata": {},
   "outputs": [],
   "source": [
    "# Diccionario con los transformadores de datos que probaremos\n",
    "dict_tipos = {'standard scaler': StandardScaler(), 'min max scaler': MinMaxScaler(), 'sin escalamiento': 'NA'}"
   ]
  },
  {
   "cell_type": "markdown",
   "id": "69fcebd5",
   "metadata": {},
   "source": [
    "### a. Linear Regression"
   ]
  },
  {
   "cell_type": "markdown",
   "id": "874c2867",
   "metadata": {},
   "source": [
    "##### Features originales"
   ]
  },
  {
   "cell_type": "code",
   "execution_count": 78,
   "id": "56954073",
   "metadata": {},
   "outputs": [
    {
     "name": "stdout",
     "output_type": "stream",
     "text": [
      "\n",
      "\n",
      "***************************\n",
      "standard scaler\n",
      "Score en el conjunto de entrenamiento: 0.10360358728367625\n",
      "Score en el conjunto de prueba: 0.14974128064925762\n",
      "\n",
      "\n",
      "***************************\n",
      "min max scaler\n",
      "Score en el conjunto de entrenamiento: 0.10360358728367625\n",
      "Score en el conjunto de prueba: 0.1497412806492575\n",
      "\n",
      "\n",
      "***************************\n",
      "sin escalamiento\n",
      "Score en el conjunto de entrenamiento: 0.10360358728367625\n",
      "Score en el conjunto de prueba: 0.14974128064925762\n"
     ]
    }
   ],
   "source": [
    "# Iteración sobre los transformadores de datos con los features originales\n",
    "for tipo in dict_tipos.keys():\n",
    "    (X_train, X_test, y_train, y_test) = tipo_transformacion(features_originales, dict_tipos[tipo])\n",
    "    lr = LinearRegression()\n",
    "    lr.fit(X_train, y_train)\n",
    "    print('\\n')\n",
    "    imprimir_resultados(lr, (X_train, X_test, y_train, y_test), tipo )"
   ]
  },
  {
   "cell_type": "markdown",
   "id": "374e941c",
   "metadata": {},
   "source": [
    "Observamos que este modelo se ajusta muy mal a los datos tanto de entrenamiento como de prueba, por lo cual no es un buen modelo."
   ]
  },
  {
   "cell_type": "markdown",
   "id": "6a405c43",
   "metadata": {},
   "source": [
    "##### Features considerando variables dummies"
   ]
  },
  {
   "cell_type": "code",
   "execution_count": 79,
   "id": "28e20bd7",
   "metadata": {},
   "outputs": [
    {
     "name": "stdout",
     "output_type": "stream",
     "text": [
      "\n",
      "\n",
      "***************************\n",
      "standard scaler\n",
      "Score en el conjunto de entrenamiento: 0.7286480474488445\n",
      "Score en el conjunto de prueba: 0.7882298585341784\n",
      "\n",
      "\n",
      "***************************\n",
      "min max scaler\n",
      "Score en el conjunto de entrenamiento: 0.7286480474488445\n",
      "Score en el conjunto de prueba: 0.7882298585341784\n",
      "\n",
      "\n",
      "***************************\n",
      "sin escalamiento\n",
      "Score en el conjunto de entrenamiento: 0.7286480474488445\n",
      "Score en el conjunto de prueba: 0.7882298585341785\n"
     ]
    }
   ],
   "source": [
    "# Iteración sobre los transformadores de datos con la selección de features\n",
    "for tipo in dict_tipos.keys():\n",
    "    (X_train, X_test, y_train, y_test) = tipo_transformacion(features_dummies, dict_tipos[tipo])    \n",
    "    lr = LinearRegression()\n",
    "    lr.fit(X_train, y_train)\n",
    "    print('\\n')\n",
    "    imprimir_resultados(lr, (X_train, X_test, y_train, y_test), tipo )"
   ]
  },
  {
   "cell_type": "markdown",
   "id": "26071347",
   "metadata": {},
   "source": [
    "A pesar de que el score mejoró mucho en ambos conjuntos de entrenamiento, podemos notar que existe un desajuste (underfitting) en el modelo con cualquiera de los tres transformadores."
   ]
  },
  {
   "cell_type": "markdown",
   "id": "f3118f4c",
   "metadata": {},
   "source": [
    "### b. Ridge Regression"
   ]
  },
  {
   "cell_type": "code",
   "execution_count": 19,
   "id": "20c79b48",
   "metadata": {},
   "outputs": [
    {
     "data": {
      "text/plain": [
       "array([1.e-05, 1.e-04, 1.e-03, 1.e-02, 1.e-01, 1.e+00, 1.e+01, 1.e+02,\n",
       "       1.e+03, 1.e+04])"
      ]
     },
     "execution_count": 19,
     "metadata": {},
     "output_type": "execute_result"
    }
   ],
   "source": [
    "alpha_range = 10. ** np.arange(-5, 5)\n",
    "alpha_range"
   ]
  },
  {
   "cell_type": "markdown",
   "id": "22c8b322",
   "metadata": {},
   "source": [
    "##### Features originales"
   ]
  },
  {
   "cell_type": "code",
   "execution_count": 80,
   "id": "b13712e3",
   "metadata": {},
   "outputs": [
    {
     "name": "stdout",
     "output_type": "stream",
     "text": [
      "alpha = 0.01\n",
      "***************************\n",
      "sin escalamiento\n",
      "Score en el conjunto de entrenamiento: 0.10359544899509288\n",
      "Score en el conjunto de prueba: 0.1491702001028996\n"
     ]
    }
   ],
   "source": [
    "(X_train, X_test, y_train, y_test) = tipo_transformacion(features_originales, 'NA')\n",
    "\n",
    "ridge = RidgeCV(alphas = alpha_range, normalize = True, scoring = 'r2')\n",
    "ridge.fit(X_train, y_train)\n",
    "print('alpha = {}'.format(ridge.alpha_))\n",
    "imprimir_resultados(ridge, (X_train, X_test, y_train, y_test), 'sin escalamiento' )"
   ]
  },
  {
   "cell_type": "markdown",
   "id": "0e610aa9",
   "metadata": {},
   "source": [
    "Este modelo tiene score demasiado bajo en ambos conjuntos, por lo cual no se considerará"
   ]
  },
  {
   "cell_type": "markdown",
   "id": "32989038",
   "metadata": {},
   "source": [
    "##### Features considerando variables dummies"
   ]
  },
  {
   "cell_type": "code",
   "execution_count": 21,
   "id": "0fe3e45d",
   "metadata": {},
   "outputs": [
    {
     "name": "stdout",
     "output_type": "stream",
     "text": [
      "alpha = 0.001\n",
      "***************************\n",
      "sin escalamiento\n",
      "Score en el conjunto de entrenamiento: 0.7286472494548017\n",
      "Score en el conjunto de prueba: 0.7881659032587025\n"
     ]
    }
   ],
   "source": [
    "(X_train, X_test, y_train, y_test) = tipo_transformacion( features_dummies, 'NA')\n",
    "\n",
    "ridge = RidgeCV(alphas = alpha_range, normalize = True, scoring = 'r2')\n",
    "ridge.fit(X_train, y_train)\n",
    "print('alpha = {}'.format(ridge.alpha_))\n",
    "imprimir_resultados(ridge, (X_train, X_test, y_train, y_test), 'sin escalamiento' )"
   ]
  },
  {
   "cell_type": "markdown",
   "id": "69f5ed07",
   "metadata": {},
   "source": [
    "De nueva cuenta, tenemos un modelo con desajuste"
   ]
  },
  {
   "cell_type": "markdown",
   "id": "d9a91e18",
   "metadata": {},
   "source": [
    "### c. Lasso Regression"
   ]
  },
  {
   "cell_type": "markdown",
   "id": "371ebf1c",
   "metadata": {},
   "source": [
    "##### Features originales"
   ]
  },
  {
   "cell_type": "code",
   "execution_count": 22,
   "id": "faef2bb2",
   "metadata": {},
   "outputs": [
    {
     "name": "stdout",
     "output_type": "stream",
     "text": [
      "alpha = 0.10843542646109017\n",
      "***************************\n",
      "sin escalamiento\n",
      "Score en el conjunto de entrenamiento: 0.10360337964120792\n",
      "Score en el conjunto de prueba: 0.1496683499317969\n"
     ]
    }
   ],
   "source": [
    "(X_train, X_test, y_train, y_test) = tipo_transformacion(features_originales, 'NA')\n",
    "\n",
    "lasso = LassoCV(n_alphas = 100, normalize = True, random_state = 1)\n",
    "lasso.fit(X_train, y_train)\n",
    "print('alpha = {}'.format(lasso.alpha_))\n",
    "imprimir_resultados(lasso, (X_train, X_test, y_train, y_test), 'sin escalamiento' )"
   ]
  },
  {
   "cell_type": "markdown",
   "id": "c4888643",
   "metadata": {},
   "source": [
    "##### Features considerando variables dummies"
   ]
  },
  {
   "cell_type": "code",
   "execution_count": 23,
   "id": "960d1d87",
   "metadata": {},
   "outputs": [
    {
     "name": "stdout",
     "output_type": "stream",
     "text": [
      "alpha = 0.9130327866341917\n",
      "***************************\n",
      "sin escalamiento\n",
      "Score en el conjunto de entrenamiento: 0.7286179568782928\n",
      "Score en el conjunto de prueba: 0.7879863144063997\n"
     ]
    }
   ],
   "source": [
    "(X_train, X_test, y_train, y_test) = tipo_transformacion(features_dummies, 'NA')\n",
    "\n",
    "lasso = LassoCV(n_alphas = 100, normalize = True, random_state = 1)\n",
    "lasso.fit(X_train, y_train)\n",
    "print('alpha = {}'.format(lasso.alpha_))\n",
    "imprimir_resultados(lasso, (X_train, X_test, y_train, y_test), 'sin escalamiento' )"
   ]
  },
  {
   "cell_type": "markdown",
   "id": "5e001791",
   "metadata": {},
   "source": [
    "En ambos casos pasa algo muy similar a lo que sucede con el modelo Ridge Regression, por lo cual tampoco es un buen modelo a considerar."
   ]
  },
  {
   "cell_type": "markdown",
   "id": "86bf90e4",
   "metadata": {},
   "source": [
    "### d. KNN regression"
   ]
  },
  {
   "cell_type": "markdown",
   "id": "da85eb02",
   "metadata": {},
   "source": [
    "##### Features originales"
   ]
  },
  {
   "cell_type": "code",
   "execution_count": 42,
   "id": "b238ea01",
   "metadata": {},
   "outputs": [
    {
     "name": "stdout",
     "output_type": "stream",
     "text": [
      "\n",
      "Numero de vecinos: 3\n",
      "***************************\n",
      "standard scaler\n",
      "Score en el conjunto de entrenamiento: 0.3849664270466423\n",
      "Score en el conjunto de prueba: -0.13170246300153798\n",
      "\n",
      "Numero de vecinos: 3\n",
      "***************************\n",
      "min max scaler\n",
      "Score en el conjunto de entrenamiento: 0.38316892463301355\n",
      "Score en el conjunto de prueba: -0.1631224507959057\n",
      "\n",
      "Numero de vecinos: 3\n",
      "***************************\n",
      "sin escalamiento\n",
      "Score en el conjunto de entrenamiento: 0.413052125287396\n",
      "Score en el conjunto de prueba: 0.01482845127035004\n",
      "\n",
      "Numero de vecinos: 7\n",
      "***************************\n",
      "standard scaler\n",
      "Score en el conjunto de entrenamiento: 0.2037242190070585\n",
      "Score en el conjunto de prueba: 0.0487036863915532\n",
      "\n",
      "Numero de vecinos: 7\n",
      "***************************\n",
      "min max scaler\n",
      "Score en el conjunto de entrenamiento: 0.2135199784730607\n",
      "Score en el conjunto de prueba: 0.045371667439577545\n",
      "\n",
      "Numero de vecinos: 7\n",
      "***************************\n",
      "sin escalamiento\n",
      "Score en el conjunto de entrenamiento: 0.20182000969351455\n",
      "Score en el conjunto de prueba: 0.09694895246525426\n",
      "\n",
      "Numero de vecinos: 9\n",
      "***************************\n",
      "standard scaler\n",
      "Score en el conjunto de entrenamiento: 0.1761153550501945\n",
      "Score en el conjunto de prueba: 0.053477791319909485\n",
      "\n",
      "Numero de vecinos: 9\n",
      "***************************\n",
      "min max scaler\n",
      "Score en el conjunto de entrenamiento: 0.19690219849246193\n",
      "Score en el conjunto de prueba: 0.062261643105566256\n",
      "\n",
      "Numero de vecinos: 9\n",
      "***************************\n",
      "sin escalamiento\n",
      "Score en el conjunto de entrenamiento: 0.19181470805667566\n",
      "Score en el conjunto de prueba: 0.1151918768535296\n"
     ]
    }
   ],
   "source": [
    "# Iteramos sobre el número de vecinos y después iteramos sobre cada transformador de datos considerado\n",
    "for i in [3, 7, 9]:\n",
    "    for tipo in dict_tipos.keys():\n",
    "        (X_train, X_test, y_train, y_test) = tipo_transformacion( features_originales, dict_tipos[tipo])\n",
    "        knn = KNeighborsRegressor(n_neighbors = i)\n",
    "        knn.fit(X_train, y_train)\n",
    "        print('\\nNumero de vecinos: {}'.format(i))\n",
    "        imprimir_resultados(knn, (X_train, X_test, y_train, y_test), tipo )"
   ]
  },
  {
   "cell_type": "markdown",
   "id": "2070b00c",
   "metadata": {},
   "source": [
    "En cualquier caso podemos ver que el considerar unicamente las variiables originales, nos arroja un score muy bajo en ambos conjuntos. Por lo cual, en este caso, las variables originales, definitivamente no son la opción a considerar en el modelo."
   ]
  },
  {
   "cell_type": "markdown",
   "id": "463a0ba0",
   "metadata": {},
   "source": [
    "##### Features considerando variables dummies\n"
   ]
  },
  {
   "cell_type": "code",
   "execution_count": 82,
   "id": "0e31e551",
   "metadata": {},
   "outputs": [
    {
     "name": "stdout",
     "output_type": "stream",
     "text": [
      "\n",
      "Numero de vecinos: 3\n",
      "***************************\n",
      "standard scaler\n",
      "Score en el conjunto de entrenamiento: 0.890809999634413\n",
      "Score en el conjunto de prueba: 0.8221696553794654\n",
      "\n",
      "Numero de vecinos: 3\n",
      "***************************\n",
      "min max scaler\n",
      "Score en el conjunto de entrenamiento: 0.8915283137179597\n",
      "Score en el conjunto de prueba: 0.8161129587950151\n",
      "\n",
      "Numero de vecinos: 3\n",
      "***************************\n",
      "sin escalamiento\n",
      "Score en el conjunto de entrenamiento: 0.5837383552891022\n",
      "Score en el conjunto de prueba: 0.21199733781584185\n",
      "\n",
      "Numero de vecinos: 7\n",
      "***************************\n",
      "standard scaler\n",
      "Score en el conjunto de entrenamiento: 0.863261586060531\n",
      "Score en el conjunto de prueba: 0.8603641238942498\n",
      "\n",
      "Numero de vecinos: 7\n",
      "***************************\n",
      "min max scaler\n",
      "Score en el conjunto de entrenamiento: 0.8545730205201258\n",
      "Score en el conjunto de prueba: 0.8540317210674518\n",
      "\n",
      "Numero de vecinos: 7\n",
      "***************************\n",
      "sin escalamiento\n",
      "Score en el conjunto de entrenamiento: 0.3432685427245663\n",
      "Score en el conjunto de prueba: 0.1894334612749985\n",
      "\n",
      "Numero de vecinos: 9\n",
      "***************************\n",
      "standard scaler\n",
      "Score en el conjunto de entrenamiento: 0.8550837150050019\n",
      "Score en el conjunto de prueba: 0.8671539205728502\n",
      "\n",
      "Numero de vecinos: 9\n",
      "***************************\n",
      "min max scaler\n",
      "Score en el conjunto de entrenamiento: 0.8459043073561325\n",
      "Score en el conjunto de prueba: 0.8562681931006013\n",
      "\n",
      "Numero de vecinos: 9\n",
      "***************************\n",
      "sin escalamiento\n",
      "Score en el conjunto de entrenamiento: 0.28906280944148877\n",
      "Score en el conjunto de prueba: 0.17709254344128467\n"
     ]
    }
   ],
   "source": [
    "for i in [3, 7, 9]:\n",
    "    for tipo in dict_tipos.keys():\n",
    "        (X_train, X_test, y_train, y_test) = tipo_transformacion(features_dummies, dict_tipos[tipo])\n",
    "\n",
    "        knn = KNeighborsRegressor(n_neighbors = i)\n",
    "        knn.fit(X_train, y_train)\n",
    "        print('\\nNumero de vecinos: {}'.format(i))\n",
    "        imprimir_resultados(knn, (X_train, X_test, y_train, y_test), tipo )"
   ]
  },
  {
   "cell_type": "markdown",
   "id": "658617c9",
   "metadata": {},
   "source": [
    "En este caso, tenemos mejores predicciones sobre los conjuntos de entrenamiento y prueba cuando consideramos StandardScaler."
   ]
  },
  {
   "cell_type": "markdown",
   "id": "a9af9cd5",
   "metadata": {},
   "source": [
    "### 6. ¿Cuáles son las mejores variables para la predicción de \"charges\"?"
   ]
  },
  {
   "cell_type": "markdown",
   "id": "cd0e4fbd",
   "metadata": {},
   "source": [
    "Debido a la alta relación que guarda la variable \"smoker_yes\" con \"charges\", esta es la variable que más afecta la predicción de la variable target. Sin embargo también tienen un efecto considerable las variables:"
   ]
  },
  {
   "cell_type": "code",
   "execution_count": 83,
   "id": "e50352e6",
   "metadata": {},
   "outputs": [
    {
     "data": {
      "text/plain": [
       "['age', 'bmi', 'smoker_yes', 'region_northeast', 'region_southeast']"
      ]
     },
     "execution_count": 83,
     "metadata": {},
     "output_type": "execute_result"
    }
   ],
   "source": [
    "features_dummies"
   ]
  },
  {
   "cell_type": "markdown",
   "id": "cac560d4",
   "metadata": {},
   "source": [
    "### 7. Discuta cuál modelo entrega mejor predictiibilidad y por qué"
   ]
  },
  {
   "cell_type": "markdown",
   "id": "51d646c3",
   "metadata": {},
   "source": [
    "Podemos observar que el modelo KNeighborsRegressor con un número de 7 vecinos, y habiendo transformando las variables de la pregunta anterior mediante StandardScaler, arroja la mejor predictibilidad. Esto debido a que tenemos un score sobre el conjunto de entrenamiento de 0.863 mientras que sobre el conjunto de prueba tenemos 0.86. El resto de los modelos presenta un desajuste notorio o una diferencia mayor a 0.003 entre los scores de ambos conjuntos, por lo cual este es el mejor modelo. "
   ]
  },
  {
   "cell_type": "code",
   "execution_count": 84,
   "id": "6469cd7b",
   "metadata": {},
   "outputs": [],
   "source": [
    "from sklearn.metrics import r2_score"
   ]
  },
  {
   "cell_type": "code",
   "execution_count": 86,
   "id": "6774b401",
   "metadata": {},
   "outputs": [
    {
     "data": {
      "text/plain": [
       "0.8603641238942498"
      ]
     },
     "execution_count": 86,
     "metadata": {},
     "output_type": "execute_result"
    }
   ],
   "source": [
    "(X_train, X_test, y_train, y_test) = tipo_transformacion(features_dummies, dict_tipos['standard scaler'])\n",
    "knn = knn = KNeighborsRegressor(n_neighbors = 7)\n",
    "knn.fit(X_train, y_train)\n",
    "r2_score(y_test, knn.predict(X_test))"
   ]
  },
  {
   "cell_type": "markdown",
   "id": "56e46d8c",
   "metadata": {},
   "source": [
    "### 8. Haga un resumen ejecutivo de los resultados del modelo para presentar a una audiencia de negocio"
   ]
  },
  {
   "cell_type": "markdown",
   "id": "1e250bc8",
   "metadata": {},
   "source": [
    "El objetivo de la creación del modelo predictor, es poder calcular, con la mayor certeza la prima de seguro que se debe cobrar al cliente de acuerdo a su información demográfica. El problema de no tener una alta precisión radica en que al cliente podría cobrársele más o menos de lo que se debe, afectando la relación con ellos o impactando la economía de la empresa. Para ello se ha hecho uso de herramientas de machine learning, y tomando como base los datos que ya se conocen, es decir las primas cobradas a los clientes y los datos de los mismos se creó un modelo que puede predecir con una precisión del 86% la prima de seguro adecuada a cada cliente. Es decir, a 8 de cada diez clientes se les cobrará una prima que vaya de acuerdo a su forma de vida, ya que se consideró su edad, su BMI, su ubicación y si son fumadores o no. Siendo está última variable la que más impacto tiene en nuestras predicciones. Por lo tanto es importante asegurar este dato de cada cliente para disminuir el margen de error. Así mismo pensamos que sería interesante recabar más información respecto a esto, pues esto podría aumentar la precisión del modelo. Consideramos que, relacionado con esto, las variables que pueden tener un impacto positivo en las predicciones, son el número de cigarros fumados al día o la cantidad de ejercicio realizada."
   ]
  }
 ],
 "metadata": {
  "kernelspec": {
   "display_name": "Python 3",
   "language": "python",
   "name": "python3"
  },
  "language_info": {
   "codemirror_mode": {
    "name": "ipython",
    "version": 3
   },
   "file_extension": ".py",
   "mimetype": "text/x-python",
   "name": "python",
   "nbconvert_exporter": "python",
   "pygments_lexer": "ipython3",
   "version": "3.8.10"
  }
 },
 "nbformat": 4,
 "nbformat_minor": 5
}
