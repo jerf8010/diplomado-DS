{
 "cells": [
  {
   "cell_type": "markdown",
   "metadata": {},
   "source": [
    "# 01- Introducción al Machine Learning\n",
    "\n",
    "![](images/portada_nb_FAV.png)\n",
    "\n",
    "## Módulo 6 - Aprendizaje de máquina supervisado\n",
    "### Profesor: M.Sc. Favio Vázquez"
   ]
  },
  {
   "cell_type": "markdown",
   "metadata": {},
   "source": [
    "## Configuraciones y pruebas básicas"
   ]
  },
  {
   "cell_type": "code",
   "execution_count": 5,
   "metadata": {},
   "outputs": [
    {
     "name": "stdout",
     "output_type": "stream",
     "text": [
      "Requirement already satisfied: mglearn in c:\\programdata\\anaconda3\\lib\\site-packages (0.1.9)\n",
      "Requirement already satisfied: joblib in c:\\programdata\\anaconda3\\lib\\site-packages (from mglearn) (1.0.1)\n",
      "Requirement already satisfied: pandas in c:\\programdata\\anaconda3\\lib\\site-packages (from mglearn) (1.2.4)\n",
      "Requirement already satisfied: imageio in c:\\programdata\\anaconda3\\lib\\site-packages (from mglearn) (2.9.0)\n",
      "Requirement already satisfied: numpy in c:\\programdata\\anaconda3\\lib\\site-packages (from mglearn) (1.20.2)\n",
      "Requirement already satisfied: pillow in c:\\programdata\\anaconda3\\lib\\site-packages (from mglearn) (8.2.0)\n",
      "Requirement already satisfied: matplotlib in c:\\programdata\\anaconda3\\lib\\site-packages (from mglearn) (3.3.4)\n",
      "Requirement already satisfied: scikit-learn in c:\\programdata\\anaconda3\\lib\\site-packages (from mglearn) (0.24.2)\n",
      "Requirement already satisfied: cycler in c:\\programdata\\anaconda3\\lib\\site-packages (from mglearn) (0.10.0)\n",
      "Requirement already satisfied: six in c:\\programdata\\anaconda3\\lib\\site-packages (from cycler->mglearn) (1.16.0)\n",
      "Requirement already satisfied: pyparsing!=2.0.4,!=2.1.2,!=2.1.6,>=2.0.3 in c:\\programdata\\anaconda3\\lib\\site-packages (from matplotlib->mglearn) (2.4.7)\n",
      "Requirement already satisfied: python-dateutil>=2.1 in c:\\programdata\\anaconda3\\lib\\site-packages (from matplotlib->mglearn) (2.8.1)\n",
      "Requirement already satisfied: kiwisolver>=1.0.1 in c:\\programdata\\anaconda3\\lib\\site-packages (from matplotlib->mglearn) (1.3.1)\n",
      "Requirement already satisfied: pytz>=2017.3 in c:\\programdata\\anaconda3\\lib\\site-packages (from pandas->mglearn) (2021.1)\n",
      "Requirement already satisfied: threadpoolctl>=2.0.0 in c:\\programdata\\anaconda3\\lib\\site-packages (from scikit-learn->mglearn) (2.1.0)\n",
      "Requirement already satisfied: scipy>=0.19.1 in c:\\programdata\\anaconda3\\lib\\site-packages (from scikit-learn->mglearn) (1.6.2)\n"
     ]
    },
    {
     "name": "stderr",
     "output_type": "stream",
     "text": [
      "WARNING: Ignoring invalid distribution -rapt (c:\\programdata\\anaconda3\\lib\\site-packages)\n",
      "WARNING: Ignoring invalid distribution - (c:\\programdata\\anaconda3\\lib\\site-packages)\n",
      "WARNING: Ignoring invalid distribution -rapt (c:\\programdata\\anaconda3\\lib\\site-packages)\n",
      "WARNING: Ignoring invalid distribution - (c:\\programdata\\anaconda3\\lib\\site-packages)\n",
      "WARNING: Ignoring invalid distribution -rapt (c:\\programdata\\anaconda3\\lib\\site-packages)\n",
      "WARNING: Ignoring invalid distribution - (c:\\programdata\\anaconda3\\lib\\site-packages)\n",
      "WARNING: Ignoring invalid distribution -rapt (c:\\programdata\\anaconda3\\lib\\site-packages)\n",
      "WARNING: Ignoring invalid distribution - (c:\\programdata\\anaconda3\\lib\\site-packages)\n",
      "WARNING: Ignoring invalid distribution -rapt (c:\\programdata\\anaconda3\\lib\\site-packages)\n",
      "WARNING: Ignoring invalid distribution - (c:\\programdata\\anaconda3\\lib\\site-packages)\n",
      "WARNING: Ignoring invalid distribution -rapt (c:\\programdata\\anaconda3\\lib\\site-packages)\n",
      "WARNING: Ignoring invalid distribution - (c:\\programdata\\anaconda3\\lib\\site-packages)\n"
     ]
    }
   ],
   "source": [
    "!pip install mglearn"
   ]
  },
  {
   "cell_type": "code",
   "execution_count": 2,
   "metadata": {},
   "outputs": [],
   "source": [
    "import mglearn"
   ]
  },
  {
   "cell_type": "code",
   "execution_count": 3,
   "metadata": {},
   "outputs": [],
   "source": [
    "from imports import *"
   ]
  },
  {
   "cell_type": "code",
   "execution_count": 6,
   "metadata": {},
   "outputs": [
    {
     "data": {
      "text/plain": [
       "Text(0, 0.5, 'Target')"
      ]
     },
     "execution_count": 6,
     "metadata": {},
     "output_type": "execute_result"
    },
    {
     "data": {
      "image/png": "[encoded data removed]",
      "text/plain": [
       "<Figure size 432x288 with 1 Axes>"
      ]
     },
     "metadata": {
      "needs_background": "light"
     },
     "output_type": "display_data"
    }
   ],
   "source": [
    "# Hacer ejemplo de datos para regresión\n",
    "X, y = mglearn.datasets.make_wave(n_samples=60)\n",
    "plt.plot(X,y, 'o')\n",
    "plt.ylim(-3,3)\n",
    "plt.xlabel(\"Feature\")\n",
    "plt.ylabel(\"Target\")"
   ]
  },
  {
   "cell_type": "code",
   "execution_count": 7,
   "metadata": {},
   "outputs": [
    {
     "name": "stdout",
     "output_type": "stream",
     "text": [
      "w[0]: 0.393906  b: -0.031804\n"
     ]
    },
    {
     "data": {
      "image/png": "[encoded data removed]",
      "text/plain": [
       "<Figure size 576x576 with 1 Axes>"
      ]
     },
     "metadata": {
      "needs_background": "light"
     },
     "output_type": "display_data"
    }
   ],
   "source": [
    "# Ejemplo de regresión con modelo\n",
    "mglearn.plots.plot_linear_regression_wave()"
   ]
  },
  {
   "cell_type": "markdown",
   "metadata": {},
   "source": [
    "# Machine learning\n",
    "\n",
    "![](https://www.datocms-assets.com/14946/1590593600-machine-learning-610x413.png)"
   ]
  },
  {
   "cell_type": "markdown",
   "metadata": {},
   "source": [
    "## Machine learning supervisado\n",
    "\n",
    "### Clasificación vs Regresión \n",
    "\n",
    "![](https://whataftercollege.com/wp-content/uploads/2020/05/Classification-of-Machine-Learning.jpg)"
   ]
  },
  {
   "cell_type": "markdown",
   "metadata": {},
   "source": [
    "### Bias-Variance Trade-off\n",
    "\n",
    "![](https://themachinelearners.com/wp-content/uploads/2020/11/1_9hPX9pAO3jqLrzt0IE3JzA.png)\n",
    "\n",
    "### Método de la exclusión\n",
    "\n",
    "![](https://www.researchgate.net/profile/Brian-Mwandau/publication/325870973/figure/fig6/AS:639531594285060@1529487622235/Train-Test-Data-Split.png)\n",
    "\n",
    "--------\n",
    "--------\n",
    "--------\n",
    "\n",
    "\n",
    "![](https://miro.medium.com/max/700/1*OJVhBtg5YgeW7rKXoxKQxg.png)"
   ]
  },
  {
   "cell_type": "markdown",
   "metadata": {},
   "source": [
    "## ¿Cómo usar scikit-learn (sklearn)?\n",
    "\n",
    "- PASO 0: Dividir los datos en training y test (método de la exclusión)\n",
    "- Importamos el algoritmo que necesitamos desde un módulo de sklean \n",
    "- Creamos una instancia del algoritmo (Cada algoritmo existe en una clase y lo que debemos hacer es crear un objeto de esa clase)\n",
    "- Ajustamos nuestro modelos con los datos de entrada (X - variables, y - target)\n",
    "- Evaluamos el performance del modelo\n",
    "- (Opcional) - obtenemos predicciones del modelo"
   ]
  },
  {
   "cell_type": "markdown",
   "metadata": {},
   "source": [
    "## Regresión lineal\n",
    "\n",
    "$$\n",
    "\\hat{y} = w_0 * x_0 + w_1 * x_1 + \\dots + w_n * x_n + b\n",
    "$$\n",
    "\n",
    "Donde hay $n$ dimensiones, $w$ y $b$ se llaman parámetros del modelo, donde $w$ se denomina peso(s) y $b$ se denomina sesgo (bias, intercepto). Si hay una dimensión, la ecuación es:\n",
    "\n",
    "$$\n",
    "\\hat{y} = w_0 * x_0 + b\n",
    "$$"
   ]
  },
  {
   "cell_type": "code",
   "execution_count": 8,
   "metadata": {},
   "outputs": [],
   "source": [
    "# Crear datos de prueba e importar el agoritmo\n",
    "from sklearn.linear_model import LinearRegression\n",
    "\n",
    "X, y = mglearn.datasets.make_wave(n_samples=60)"
   ]
  },
  {
   "cell_type": "code",
   "execution_count": 9,
   "metadata": {},
   "outputs": [],
   "source": [
    "# Método de la exclusión\n",
    "from sklearn.model_selection import train_test_split\n",
    "\n",
    "X_train, X_test, y_train, y_test = train_test_split(X,y, test_size=0.3, \n",
    "                                                   random_state=42)"
   ]
  },
  {
   "cell_type": "code",
   "execution_count": 10,
   "metadata": {},
   "outputs": [],
   "source": [
    "lr = LinearRegression().fit(X_train, y_train)"
   ]
  },
  {
   "cell_type": "code",
   "execution_count": 11,
   "metadata": {},
   "outputs": [
    {
     "name": "stdout",
     "output_type": "stream",
     "text": [
      "w_0 vale:  [0.399]\n",
      "b vale:  -0.04697310236668345\n"
     ]
    }
   ],
   "source": [
    "print(\"w_0 vale: \", lr.coef_)\n",
    "print(r\"b vale: \", lr.intercept_)"
   ]
  },
  {
   "cell_type": "markdown",
   "metadata": {},
   "source": [
    "$$\n",
    "\\hat{y} = 0.399 x_0 - 0.047\n",
    "$$"
   ]
  },
  {
   "cell_type": "code",
   "execution_count": 12,
   "metadata": {},
   "outputs": [
    {
     "name": "stdout",
     "output_type": "stream",
     "text": [
      "Score de los datos de entrenamiento es:  0.6699847118582463\n",
      "Score de los datos de prueba es:  0.6648576546421705\n"
     ]
    }
   ],
   "source": [
    "print(\"Score de los datos de entrenamiento es: \", lr.score(X_train,y_train))\n",
    "print(\"Score de los datos de prueba es: \", lr.score(X_test,y_test))"
   ]
  },
  {
   "cell_type": "code",
   "execution_count": 13,
   "metadata": {},
   "outputs": [],
   "source": [
    "y_pred = lr.predict(X_test)"
   ]
  },
  {
   "cell_type": "code",
   "execution_count": 16,
   "metadata": {},
   "outputs": [
    {
     "data": {
      "image/png": "[encoded data removed]",
      "text/plain": [
       "<Figure size 432x288 with 1 Axes>"
      ]
     },
     "metadata": {
      "needs_background": "light"
     },
     "output_type": "display_data"
    }
   ],
   "source": [
    "# Grafico para el test\n",
    "plt.scatter(X_test, y_test, color = 'black')\n",
    "plt.plot(X_test, y_pred, color = 'blue', linewidth = 3)\n",
    "plt.show()"
   ]
  },
  {
   "cell_type": "code",
   "execution_count": 17,
   "metadata": {},
   "outputs": [],
   "source": [
    "y_pred_all = lr.predict(X)\n"
   ]
  },
  {
   "cell_type": "code",
   "execution_count": 18,
   "metadata": {},
   "outputs": [
    {
     "data": {
      "image/png": "[encoded data removed]",
      "text/plain": [
       "<Figure size 432x288 with 1 Axes>"
      ]
     },
     "metadata": {
      "needs_background": "light"
     },
     "output_type": "display_data"
    }
   ],
   "source": [
    "# Grafico para todo el dataset\n",
    "plt.scatter(X, y, color = 'black')\n",
    "plt.plot(X, y_pred_all, color = 'blue', linewidth = 3)\n",
    "plt.show()"
   ]
  },
  {
   "cell_type": "markdown",
   "metadata": {},
   "source": [
    "### Ejemplo con dataset de casas de boston"
   ]
  },
  {
   "cell_type": "code",
   "execution_count": 19,
   "metadata": {},
   "outputs": [],
   "source": [
    "X, y = mglearn.datasets.load_extended_boston()"
   ]
  },
  {
   "cell_type": "code",
   "execution_count": 20,
   "metadata": {},
   "outputs": [
    {
     "data": {
      "text/plain": [
       "(506, 104)"
      ]
     },
     "execution_count": 20,
     "metadata": {},
     "output_type": "execute_result"
    }
   ],
   "source": [
    "X.shape"
   ]
  },
  {
   "cell_type": "code",
   "execution_count": 21,
   "metadata": {},
   "outputs": [],
   "source": [
    "X_train, X_test, y_train, y_test = train_test_split(X,y, test_size=0.2, \n",
    "                                                   random_state=0)"
   ]
  },
  {
   "cell_type": "code",
   "execution_count": 22,
   "metadata": {},
   "outputs": [],
   "source": [
    "lr = LinearRegression().fit(X_train,y_train)"
   ]
  },
  {
   "cell_type": "code",
   "execution_count": 23,
   "metadata": {},
   "outputs": [
    {
     "name": "stdout",
     "output_type": "stream",
     "text": [
      "Los w valen:  [ -490.16    -40.063  -125.287    -8.914    -8.066    32.81     46.552\n",
      "   -62.705    28.736    33.414    -0.68     -9.316   -16.113    12.13\n",
      "  2215.66   1530.54    124.462   -12.735    42.494   -35.478     8.916\n",
      "  1222.995 -2153.664   274.716    -1.412    43.332   -12.408   -16.9\n",
      "    -6.043   -81.577     9.023     0.41     -3.673    -7.086    35.605\n",
      "   -12.256    57.904   -15.23     39.843     5.648     0.189    54.691\n",
      "    18.581    54.757   -45.818    21.61    -10.174    54.602   -17.89\n",
      "    -8.914   -17.195   -31.505     2.784     2.271    14.528   -10.484\n",
      "    -9.522    46.42    -14.073    -2.495    24.962   -13.625    87.02\n",
      "   -32.715    55.337   -49.636     2.109    23.937    21.417   -46.407\n",
      "    26.909     9.068   -70.638   -25.59     10.039    -6.148     2.657\n",
      "     3.264    40.154   -36.882    -5.647   -23.286   -31.979    53.331\n",
      "   -26.732   -15.088   -18.501   -15.412    32.413   -89.95    150.483\n",
      "   -20.426   -13.19    -27.862   -34.613    24.083   -17.082     2.093\n",
      "     4.756    26.841    10.81     -1.493     1.41     30.863]\n",
      "b vale:  23.927245508238407\n"
     ]
    }
   ],
   "source": [
    "print(\"Los w valen: \", lr.coef_)\n",
    "print(r\"b vale: \", lr.intercept_)"
   ]
  },
  {
   "cell_type": "code",
   "execution_count": 24,
   "metadata": {},
   "outputs": [
    {
     "name": "stdout",
     "output_type": "stream",
     "text": [
      "Score de los datos de entrenamiento es:  0.949024096661283\n",
      "Score de los datos de prueba es:  0.6158858584079046\n"
     ]
    }
   ],
   "source": [
    "print(\"Score de los datos de entrenamiento es: \", lr.score(X_train,y_train))\n",
    "print(\"Score de los datos de prueba es: \", lr.score(X_test,y_test))"
   ]
  }
 ],
 "metadata": {
  "kernelspec": {
   "display_name": "Python 3",
   "language": "python",
   "name": "python3"
  },
  "language_info": {
   "codemirror_mode": {
    "name": "ipython",
    "version": 3
   },
   "file_extension": ".py",
   "mimetype": "text/x-python",
   "name": "python",
   "nbconvert_exporter": "python",
   "pygments_lexer": "ipython3",
   "version": "3.8.10"
  },
  "nbTranslate": {
   "displayLangs": [
    "*"
   ],
   "hotkey": "alt-t",
   "langInMainMenu": true,
   "sourceLang": "en",
   "targetLang": "fr",
   "useGoogleTranslate": true
  }
 },
 "nbformat": 4,
 "nbformat_minor": 4
}
