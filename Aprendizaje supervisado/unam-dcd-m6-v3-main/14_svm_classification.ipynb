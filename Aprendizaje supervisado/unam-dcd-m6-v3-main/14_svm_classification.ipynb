{
 "cells": [
  {
   "cell_type": "markdown",
   "id": "43376bf2",
   "metadata": {},
   "source": [
    "# 14 - SVM para clasificación\n",
    "\n",
    "![](images/portada_nb_FAV.png)\n",
    "\n",
    "## Módulo 6 - Aprendizaje de máquina supervisado\n",
    "### Profesor: M.Sc. Favio Vázquez"
   ]
  },
  {
   "cell_type": "code",
   "execution_count": 1,
   "id": "86d49593",
   "metadata": {},
   "outputs": [],
   "source": [
    "from imports import *"
   ]
  },
  {
   "cell_type": "markdown",
   "id": "8f60aac0",
   "metadata": {
    "lang": "es"
   },
   "source": [
    "## Support Vector Machines\n",
    "\n",
    "\n",
    "EL SVM es un tipo de técnica ML que se puede utilizar tanto para clasificación como para regresión. Hay dos tipos principales para soportar problemas lineales y no lineales. Linear SVM no tiene kernel y encuentra una solución lineal al problema con un margen mínimo. El SVM con Kernel se utiliza cuando la solución no se puede separar linealmente.\n",
    "\n",
    "\n",
    "## Teoría básica\n",
    "\n",
    "\n",
    "Un hiperplano se deriva del modelo que maximiza el margen de clasificación. Si N características están presentes, el hiperplano será un subespacio dimensional N-1. Los nodos de frontera en el espacio de características se denominan vectores de soporte. Según su posición relativa, se deriva el margen máximo y se dibuja un hiperplano óptimo en el punto medio.\n",
    "\n",
    "![](https://static.javatpoint.com/tutorial/machine-learning/images/support-vector-machine-algorithm.png)\n",
    "\n",
    "Es un problema de optimizacion,\n",
    "\n",
    "![](https://i.ibb.co/TgrvCft/optimizasyon.jpg)\n",
    "\n",
    "La optimización anterior funciona bien para soluciones separables completamente lineales. Para manejar valores atípicos, necesitamos un término flexible como se muestra a continuación. El segundo término usa la pérdida de bisagra para obtener una variable de holgura.\n",
    "\n",
    "![](https://i.ibb.co/ZKmqy58/hinge.jpg)\n",
    "\n",
    "C es el parámetro de regularidad que equilibra la penalización perdida y el ancho del margen. \n",
    "\n",
    "La lógica básica es que para minimizar la función de costo, w se ve obligado a ajustar con el máximo margen entre clases. El valor de C decidirá el nivel de regularidad aplicado a los conjuntos de datos. Decide el margen de nivel (suave / duro) que se aplicará a los conjuntos de datos. En resumen, C es el nivel de ignorancia hacia los valores atípicos.\n",
    "\n",
    "Cuando el conjunto de datos no se puede separar linealmente, se utiliza una función de kernel para derivar un nuevo subplano para todos los datos de entrenamiento. La distribución de las etiquetas en el nuevo subplano será tal que los datos de entrenamiento sean linealmente separables. A continuación, una curva lineal clasificará las etiquetas en el plano inferior. Cuando los resultados de la clasificación se reflejan en el espacio de características, obtenemos una solución no lineal.\n",
    "\n",
    "![](https://i.ibb.co/n3NbrxR/Ek-A-klama-2020-08-29-113927.jpg)\n",
    "\n",
    "El único cambio en la ecuación aquí es describir una nueva función del núcleo. La nueva ecuación se verá así:\n",
    "\n",
    "![](https://i.ibb.co/X28y1vG/Ek-A-klama-2020-08-29-114044.jpg)\n",
    "\n",
    "$X_i$ será reemplazado por $\\phi(x_i)$, que transformará el conjunto de datos en el nuevo hiperplano."
   ]
  },
  {
   "cell_type": "markdown",
   "id": "7ff591a9",
   "metadata": {},
   "source": [
    "## El truco del kernel"
   ]
  },
  {
   "cell_type": "markdown",
   "id": "cab57d79",
   "metadata": {},
   "source": [
    "Nos permite aprender un clasificador en más dimensiones sin calcular nuevas variables. Lo que hace es calcular la distancia (calcula el producto escalar) de los datos para la representación extendida, sin en realidad hacer la extensión.\n",
    "\n",
    "Algunos kernels famosos:\n",
    "\n",
    "- Polinómico\n",
    "- Radial basis function (RBF) --> Kernel Gaussiano."
   ]
  },
  {
   "cell_type": "markdown",
   "id": "e62d48f7",
   "metadata": {},
   "source": [
    "Durante el entrenamiento, los SVM aprenden la importancia de los datos de entrenamiento para representar la frontera entre las clases. Típicamente solo un subconjunto de los puntos importan para definir la frontera: los que caen el borde entre las clases. A éstos los llamamos vectores de sorporte, y de ahí viene el nombre del algoritmo. "
   ]
  },
  {
   "cell_type": "markdown",
   "id": "1e6d5428",
   "metadata": {},
   "source": [
    "La distancia entre los puntos en el kernel gaussiano es :\n",
    "\n",
    "$$\n",
    "k_{rbf}(x_1,x_2) = \\exp(-\\gamma ||x_1 - x_2||^2)\n",
    "$$"
   ]
  },
  {
   "cell_type": "markdown",
   "id": "1611c61c",
   "metadata": {},
   "source": [
    "Donde $||x_1 - x_2||$ es la distancia euclideana y $\\gamma$ es un parámetro que controla la anchura del kernel."
   ]
  },
  {
   "cell_type": "markdown",
   "id": "a367ac9d",
   "metadata": {},
   "source": [
    "### Ejemplo"
   ]
  },
  {
   "cell_type": "code",
   "execution_count": 2,
   "id": "b55c017c",
   "metadata": {},
   "outputs": [],
   "source": [
    "X,y = mglearn.tools.make_handcrafted_dataset()"
   ]
  },
  {
   "cell_type": "code",
   "execution_count": 3,
   "id": "77a405a1",
   "metadata": {},
   "outputs": [
    {
     "data": {
      "text/plain": [
       "[<matplotlib.lines.Line2D at 0x23232a411f0>,\n",
       " <matplotlib.lines.Line2D at 0x23232a41580>]"
      ]
     },
     "execution_count": 3,
     "metadata": {},
     "output_type": "execute_result"
    },
    {
     "data": {
      "image/png": "[encoded data removed]",
      "text/plain": [
       "<Figure size 432x288 with 1 Axes>"
      ]
     },
     "metadata": {
      "needs_background": "light"
     },
     "output_type": "display_data"
    }
   ],
   "source": [
    "mglearn.discrete_scatter(X[:, 0], X[:, 1], y)"
   ]
  },
  {
   "cell_type": "code",
   "execution_count": 4,
   "id": "2f45c5b6",
   "metadata": {},
   "outputs": [],
   "source": [
    "from sklearn.svm import SVC\n",
    "\n",
    "svm = SVC(kernel=\"rbf\", C=10, gamma=0.1).fit(X,y)"
   ]
  },
  {
   "cell_type": "code",
   "execution_count": 5,
   "id": "1aa15a45",
   "metadata": {},
   "outputs": [
    {
     "data": {
      "image/png": "[encoded data removed]",
      "text/plain": [
       "<Figure size 432x288 with 1 Axes>"
      ]
     },
     "metadata": {},
     "output_type": "display_data"
    }
   ],
   "source": [
    "mglearn.discrete_scatter(X[:, 0], X[:, 1], y)\n",
    "mglearn.plots.plot_2d_separator(svm, X, eps=0.5)"
   ]
  },
  {
   "cell_type": "code",
   "execution_count": 6,
   "id": "2d7a4d4e",
   "metadata": {},
   "outputs": [
    {
     "data": {
      "text/plain": [
       "array([[ 8.106,  4.287],\n",
       "       [ 9.502,  1.938],\n",
       "       [11.564,  1.339],\n",
       "       [10.24 ,  2.455],\n",
       "       [ 7.998,  4.853]])"
      ]
     },
     "execution_count": 6,
     "metadata": {},
     "output_type": "execute_result"
    }
   ],
   "source": [
    "svm.support_vectors_"
   ]
  },
  {
   "cell_type": "code",
   "execution_count": 7,
   "id": "f02b324f",
   "metadata": {},
   "outputs": [
    {
     "data": {
      "text/plain": [
       "Text(0, 0.5, 'Feature 1')"
      ]
     },
     "execution_count": 7,
     "metadata": {},
     "output_type": "execute_result"
    },
    {
     "data": {
      "image/png": "[encoded data removed]",
      "text/plain": [
       "<Figure size 432x288 with 1 Axes>"
      ]
     },
     "metadata": {},
     "output_type": "display_data"
    }
   ],
   "source": [
    "mglearn.discrete_scatter(X[:, 0], X[:, 1], y)\n",
    "mglearn.plots.plot_2d_separator(svm, X, eps=0.5)\n",
    "\n",
    "sv = svm.support_vectors_\n",
    "sv_labels = svm.dual_coef_.ravel() > 0\n",
    "mglearn.discrete_scatter(sv[:,0], sv[:,1], sv_labels, s=15, \n",
    "                         markeredgewidth=3)\n",
    "plt.xlabel(\"Feature 0\")\n",
    "plt.ylabel(\"Feature 1\")"
   ]
  },
  {
   "cell_type": "code",
   "execution_count": 8,
   "id": "e647eaa7",
   "metadata": {},
   "outputs": [
    {
     "data": {
      "text/plain": [
       "<matplotlib.legend.Legend at 0x23232d74e20>"
      ]
     },
     "execution_count": 8,
     "metadata": {},
     "output_type": "execute_result"
    },
    {
     "data": {
      "image/png": "[encoded data removed]",
      "text/plain": [
       "<Figure size 1080x720 with 9 Axes>"
      ]
     },
     "metadata": {},
     "output_type": "display_data"
    }
   ],
   "source": [
    "fig, axes = plt.subplots(3,3, figsize=(15,10))\n",
    "\n",
    "for ax, C in zip(axes, [-1, 0, 3]):\n",
    "    for a, gamma in zip(ax, range(-1,2)):\n",
    "        mglearn.plots.plot_svm(log_C=C, log_gamma=gamma, ax=a)\n",
    "        \n",
    "axes[0,0].legend([\"clase 0\", \"clase 1\", \"sv clase 0\", \"sv clase 1\"],\n",
    "                ncol=4, loc=(0.9,1.2))"
   ]
  },
  {
   "cell_type": "markdown",
   "id": "ea120a16",
   "metadata": {
    "lang": "es"
   },
   "source": [
    "### Ventajas\n",
    "- SVM usa el número de kernel para resolver soluciones complejas.\n",
    "- SVM utiliza una función de optimización convexa cuyo mínimo global siempre es alcanzable.\n",
    "- La pérdida de bisagra proporciona una mayor precisión.\n",
    "- Los valores atípicos se pueden manejar bien utilizando la constante de margen suave C.\n",
    "\n",
    "\n",
    "### Desventajas\n",
    "- La pérdida de bisagra conduce a escasez.\n",
    "- Los hiperparámetros y núcleos deben ajustarse cuidadosamente para una precisión adecuada.\n",
    "- Mayor tiempo de entrenamiento para conjuntos de datos más grandes.\n",
    "\n",
    "\n",
    "### Hiperparámetros\n",
    "- **Constante de margen suave (C):**\n",
    "    - Es un hiperparámetro que decide el nivel de penalización de los valores atípicos. Es el inverso del parámetro de regularización. Cuando C es grande, los valores atípicos recibirán una penalización alta y se creará un margen rígido. Cuando C es pequeño, los valores atípicos se ignoran y el margen es grande.\n",
    "- **El grado del polinomio en el núcleo polinómico (d):**\n",
    "    - Cuando d = 1, es equivalente a un núcleo lineal. Cuando D es más alto, el núcleo es lo suficientemente flexible como para distinguir patrones complejos proyectándolos en un nuevo hiperplano.\n",
    "\n",
    "- **Parámetro de ancho (γ) en el kernel gaussiano:**\n",
    "    - Gamma decide el ancho de la curva gaussiana. El ancho aumenta con el aumento de gamma."
   ]
  },
  {
   "cell_type": "markdown",
   "id": "41e3de2e",
   "metadata": {},
   "source": [
    "# Clasificación y Búsqueda de parámetros"
   ]
  },
  {
   "cell_type": "code",
   "execution_count": 9,
   "id": "d4bab550",
   "metadata": {},
   "outputs": [],
   "source": [
    "# Import the necessary packages\n",
    "\n",
    "import numpy as np\n",
    "import pandas as pd\n",
    "\n",
    "import seaborn as sns\n",
    "import matplotlib.pyplot as plt\n",
    "%matplotlib inline\n",
    "\n",
    "import sklearn\n",
    "from sklearn.metrics import accuracy_score\n",
    "from sklearn.preprocessing import StandardScaler\n",
    "from sklearn.metrics import plot_confusion_matrix\n",
    "from sklearn.model_selection import train_test_split, GridSearchCV, cross_val_score\n",
    "from sklearn.metrics import f1_score, recall_score, precision_score, confusion_matrix\n",
    "from sklearn.metrics import r2_score, roc_auc_score, roc_curve, classification_report\n",
    "from sklearn.svm import SVC \n",
    "\n",
    "import warnings\n",
    "warnings.filterwarnings('ignore')"
   ]
  },
  {
   "cell_type": "code",
   "execution_count": 10,
   "id": "21a996c0",
   "metadata": {},
   "outputs": [
    {
     "data": {
      "text/html": [
       "<div>\n",
       "<style scoped>\n",
       "    .dataframe tbody tr th:only-of-type {\n",
       "        vertical-align: middle;\n",
       "    }\n",
       "\n",
       "    .dataframe tbody tr th {\n",
       "        vertical-align: top;\n",
       "    }\n",
       "\n",
       "    .dataframe thead th {\n",
       "        text-align: right;\n",
       "    }\n",
       "</style>\n",
       "<table border=\"1\" class=\"dataframe\">\n",
       "  <thead>\n",
       "    <tr style=\"text-align: right;\">\n",
       "      <th></th>\n",
       "      <th>age</th>\n",
       "      <th>anaemia</th>\n",
       "      <th>creatinine_phosphokinase</th>\n",
       "      <th>diabetes</th>\n",
       "      <th>...</th>\n",
       "      <th>sex</th>\n",
       "      <th>smoking</th>\n",
       "      <th>time</th>\n",
       "      <th>DEATH_EVENT</th>\n",
       "    </tr>\n",
       "  </thead>\n",
       "  <tbody>\n",
       "    <tr>\n",
       "      <th>0</th>\n",
       "      <td>75.0</td>\n",
       "      <td>0</td>\n",
       "      <td>582</td>\n",
       "      <td>0</td>\n",
       "      <td>...</td>\n",
       "      <td>1</td>\n",
       "      <td>0</td>\n",
       "      <td>4</td>\n",
       "      <td>1</td>\n",
       "    </tr>\n",
       "    <tr>\n",
       "      <th>1</th>\n",
       "      <td>55.0</td>\n",
       "      <td>0</td>\n",
       "      <td>7861</td>\n",
       "      <td>0</td>\n",
       "      <td>...</td>\n",
       "      <td>1</td>\n",
       "      <td>0</td>\n",
       "      <td>6</td>\n",
       "      <td>1</td>\n",
       "    </tr>\n",
       "    <tr>\n",
       "      <th>2</th>\n",
       "      <td>65.0</td>\n",
       "      <td>0</td>\n",
       "      <td>146</td>\n",
       "      <td>0</td>\n",
       "      <td>...</td>\n",
       "      <td>1</td>\n",
       "      <td>1</td>\n",
       "      <td>7</td>\n",
       "      <td>1</td>\n",
       "    </tr>\n",
       "    <tr>\n",
       "      <th>3</th>\n",
       "      <td>50.0</td>\n",
       "      <td>1</td>\n",
       "      <td>111</td>\n",
       "      <td>0</td>\n",
       "      <td>...</td>\n",
       "      <td>1</td>\n",
       "      <td>0</td>\n",
       "      <td>7</td>\n",
       "      <td>1</td>\n",
       "    </tr>\n",
       "    <tr>\n",
       "      <th>4</th>\n",
       "      <td>65.0</td>\n",
       "      <td>1</td>\n",
       "      <td>160</td>\n",
       "      <td>1</td>\n",
       "      <td>...</td>\n",
       "      <td>0</td>\n",
       "      <td>0</td>\n",
       "      <td>8</td>\n",
       "      <td>1</td>\n",
       "    </tr>\n",
       "    <tr>\n",
       "      <th>5</th>\n",
       "      <td>90.0</td>\n",
       "      <td>1</td>\n",
       "      <td>47</td>\n",
       "      <td>0</td>\n",
       "      <td>...</td>\n",
       "      <td>1</td>\n",
       "      <td>1</td>\n",
       "      <td>8</td>\n",
       "      <td>1</td>\n",
       "    </tr>\n",
       "    <tr>\n",
       "      <th>6</th>\n",
       "      <td>75.0</td>\n",
       "      <td>1</td>\n",
       "      <td>246</td>\n",
       "      <td>0</td>\n",
       "      <td>...</td>\n",
       "      <td>1</td>\n",
       "      <td>0</td>\n",
       "      <td>10</td>\n",
       "      <td>1</td>\n",
       "    </tr>\n",
       "    <tr>\n",
       "      <th>7</th>\n",
       "      <td>60.0</td>\n",
       "      <td>1</td>\n",
       "      <td>315</td>\n",
       "      <td>1</td>\n",
       "      <td>...</td>\n",
       "      <td>1</td>\n",
       "      <td>1</td>\n",
       "      <td>10</td>\n",
       "      <td>1</td>\n",
       "    </tr>\n",
       "    <tr>\n",
       "      <th>8</th>\n",
       "      <td>65.0</td>\n",
       "      <td>0</td>\n",
       "      <td>157</td>\n",
       "      <td>0</td>\n",
       "      <td>...</td>\n",
       "      <td>0</td>\n",
       "      <td>0</td>\n",
       "      <td>10</td>\n",
       "      <td>1</td>\n",
       "    </tr>\n",
       "    <tr>\n",
       "      <th>9</th>\n",
       "      <td>80.0</td>\n",
       "      <td>1</td>\n",
       "      <td>123</td>\n",
       "      <td>0</td>\n",
       "      <td>...</td>\n",
       "      <td>1</td>\n",
       "      <td>1</td>\n",
       "      <td>10</td>\n",
       "      <td>1</td>\n",
       "    </tr>\n",
       "  </tbody>\n",
       "</table>\n",
       "<p>10 rows × 13 columns</p>\n",
       "</div>"
      ],
      "text/plain": [
       "    age  anaemia  creatinine_phosphokinase  diabetes  ...  sex  smoking  time  \\\n",
       "0  75.0        0                       582         0  ...    1        0     4   \n",
       "1  55.0        0                      7861         0  ...    1        0     6   \n",
       "2  65.0        0                       146         0  ...    1        1     7   \n",
       "3  50.0        1                       111         0  ...    1        0     7   \n",
       "4  65.0        1                       160         1  ...    0        0     8   \n",
       "5  90.0        1                        47         0  ...    1        1     8   \n",
       "6  75.0        1                       246         0  ...    1        0    10   \n",
       "7  60.0        1                       315         1  ...    1        1    10   \n",
       "8  65.0        0                       157         0  ...    0        0    10   \n",
       "9  80.0        1                       123         0  ...    1        1    10   \n",
       "\n",
       "   DEATH_EVENT  \n",
       "0            1  \n",
       "1            1  \n",
       "2            1  \n",
       "3            1  \n",
       "4            1  \n",
       "5            1  \n",
       "6            1  \n",
       "7            1  \n",
       "8            1  \n",
       "9            1  \n",
       "\n",
       "[10 rows x 13 columns]"
      ]
     },
     "execution_count": 10,
     "metadata": {},
     "output_type": "execute_result"
    }
   ],
   "source": [
    "# Import and read dataset\n",
    "\n",
    "data = pd.read_csv(\"data/heart_failure_clinical_records_dataset.csv\")\n",
    "\n",
    "data.head(10)"
   ]
  },
  {
   "cell_type": "code",
   "execution_count": 11,
   "id": "675e0587",
   "metadata": {},
   "outputs": [
    {
     "data": {
      "text/html": [
       "<div>\n",
       "<style scoped>\n",
       "    .dataframe tbody tr th:only-of-type {\n",
       "        vertical-align: middle;\n",
       "    }\n",
       "\n",
       "    .dataframe tbody tr th {\n",
       "        vertical-align: top;\n",
       "    }\n",
       "\n",
       "    .dataframe thead th {\n",
       "        text-align: right;\n",
       "    }\n",
       "</style>\n",
       "<table border=\"1\" class=\"dataframe\">\n",
       "  <thead>\n",
       "    <tr style=\"text-align: right;\">\n",
       "      <th></th>\n",
       "      <th>age</th>\n",
       "      <th>anaemia</th>\n",
       "      <th>creatinine_phosphokinase</th>\n",
       "      <th>diabetes</th>\n",
       "      <th>...</th>\n",
       "      <th>sex</th>\n",
       "      <th>smoking</th>\n",
       "      <th>time</th>\n",
       "      <th>DEATH_EVENT</th>\n",
       "    </tr>\n",
       "  </thead>\n",
       "  <tbody>\n",
       "    <tr>\n",
       "      <th>count</th>\n",
       "      <td>299.00</td>\n",
       "      <td>299.00</td>\n",
       "      <td>299.00</td>\n",
       "      <td>299.00</td>\n",
       "      <td>...</td>\n",
       "      <td>299.00</td>\n",
       "      <td>299.00</td>\n",
       "      <td>299.00</td>\n",
       "      <td>299.00</td>\n",
       "    </tr>\n",
       "    <tr>\n",
       "      <th>mean</th>\n",
       "      <td>60.83</td>\n",
       "      <td>0.43</td>\n",
       "      <td>581.84</td>\n",
       "      <td>0.42</td>\n",
       "      <td>...</td>\n",
       "      <td>0.65</td>\n",
       "      <td>0.32</td>\n",
       "      <td>130.26</td>\n",
       "      <td>0.32</td>\n",
       "    </tr>\n",
       "    <tr>\n",
       "      <th>std</th>\n",
       "      <td>11.89</td>\n",
       "      <td>0.50</td>\n",
       "      <td>970.29</td>\n",
       "      <td>0.49</td>\n",
       "      <td>...</td>\n",
       "      <td>0.48</td>\n",
       "      <td>0.47</td>\n",
       "      <td>77.61</td>\n",
       "      <td>0.47</td>\n",
       "    </tr>\n",
       "    <tr>\n",
       "      <th>min</th>\n",
       "      <td>40.00</td>\n",
       "      <td>0.00</td>\n",
       "      <td>23.00</td>\n",
       "      <td>0.00</td>\n",
       "      <td>...</td>\n",
       "      <td>0.00</td>\n",
       "      <td>0.00</td>\n",
       "      <td>4.00</td>\n",
       "      <td>0.00</td>\n",
       "    </tr>\n",
       "    <tr>\n",
       "      <th>25%</th>\n",
       "      <td>51.00</td>\n",
       "      <td>0.00</td>\n",
       "      <td>116.50</td>\n",
       "      <td>0.00</td>\n",
       "      <td>...</td>\n",
       "      <td>0.00</td>\n",
       "      <td>0.00</td>\n",
       "      <td>73.00</td>\n",
       "      <td>0.00</td>\n",
       "    </tr>\n",
       "    <tr>\n",
       "      <th>50%</th>\n",
       "      <td>60.00</td>\n",
       "      <td>0.00</td>\n",
       "      <td>250.00</td>\n",
       "      <td>0.00</td>\n",
       "      <td>...</td>\n",
       "      <td>1.00</td>\n",
       "      <td>0.00</td>\n",
       "      <td>115.00</td>\n",
       "      <td>0.00</td>\n",
       "    </tr>\n",
       "    <tr>\n",
       "      <th>75%</th>\n",
       "      <td>70.00</td>\n",
       "      <td>1.00</td>\n",
       "      <td>582.00</td>\n",
       "      <td>1.00</td>\n",
       "      <td>...</td>\n",
       "      <td>1.00</td>\n",
       "      <td>1.00</td>\n",
       "      <td>203.00</td>\n",
       "      <td>1.00</td>\n",
       "    </tr>\n",
       "    <tr>\n",
       "      <th>max</th>\n",
       "      <td>95.00</td>\n",
       "      <td>1.00</td>\n",
       "      <td>7861.00</td>\n",
       "      <td>1.00</td>\n",
       "      <td>...</td>\n",
       "      <td>1.00</td>\n",
       "      <td>1.00</td>\n",
       "      <td>285.00</td>\n",
       "      <td>1.00</td>\n",
       "    </tr>\n",
       "  </tbody>\n",
       "</table>\n",
       "<p>8 rows × 13 columns</p>\n",
       "</div>"
      ],
      "text/plain": [
       "          age  anaemia  creatinine_phosphokinase  diabetes  ...     sex  \\\n",
       "count  299.00   299.00                    299.00    299.00  ...  299.00   \n",
       "mean    60.83     0.43                    581.84      0.42  ...    0.65   \n",
       "std     11.89     0.50                    970.29      0.49  ...    0.48   \n",
       "min     40.00     0.00                     23.00      0.00  ...    0.00   \n",
       "25%     51.00     0.00                    116.50      0.00  ...    0.00   \n",
       "50%     60.00     0.00                    250.00      0.00  ...    1.00   \n",
       "75%     70.00     1.00                    582.00      1.00  ...    1.00   \n",
       "max     95.00     1.00                   7861.00      1.00  ...    1.00   \n",
       "\n",
       "       smoking    time  DEATH_EVENT  \n",
       "count   299.00  299.00       299.00  \n",
       "mean      0.32  130.26         0.32  \n",
       "std       0.47   77.61         0.47  \n",
       "min       0.00    4.00         0.00  \n",
       "25%       0.00   73.00         0.00  \n",
       "50%       0.00  115.00         0.00  \n",
       "75%       1.00  203.00         1.00  \n",
       "max       1.00  285.00         1.00  \n",
       "\n",
       "[8 rows x 13 columns]"
      ]
     },
     "execution_count": 11,
     "metadata": {},
     "output_type": "execute_result"
    }
   ],
   "source": [
    "data.describe()"
   ]
  },
  {
   "cell_type": "code",
   "execution_count": 12,
   "id": "d40f78fb",
   "metadata": {},
   "outputs": [
    {
     "data": {
      "text/plain": [
       "(299, 13)"
      ]
     },
     "execution_count": 12,
     "metadata": {},
     "output_type": "execute_result"
    }
   ],
   "source": [
    "data.shape"
   ]
  },
  {
   "cell_type": "code",
   "execution_count": 13,
   "id": "59539e07",
   "metadata": {},
   "outputs": [
    {
     "data": {
      "text/plain": [
       "Index(['age', 'anaemia', 'creatinine_phosphokinase', 'diabetes',\n",
       "       'ejection_fraction', 'high_blood_pressure', 'platelets',\n",
       "       'serum_creatinine', 'serum_sodium', 'sex', 'smoking', 'time',\n",
       "       'DEATH_EVENT'],\n",
       "      dtype='object')"
      ]
     },
     "execution_count": 13,
     "metadata": {},
     "output_type": "execute_result"
    }
   ],
   "source": [
    "data.columns"
   ]
  },
  {
   "cell_type": "code",
   "execution_count": 14,
   "id": "96dc8008",
   "metadata": {},
   "outputs": [
    {
     "data": {
      "text/plain": [
       "<AxesSubplot:>"
      ]
     },
     "execution_count": 14,
     "metadata": {},
     "output_type": "execute_result"
    },
    {
     "data": {
      "image/png": "[encoded data removed]",
      "text/plain": [
       "<Figure size 432x288 with 1 Axes>"
      ]
     },
     "metadata": {
      "needs_background": "light"
     },
     "output_type": "display_data"
    }
   ],
   "source": [
    "data[\"DEATH_EVENT\"].hist()"
   ]
  },
  {
   "cell_type": "code",
   "execution_count": 15,
   "id": "3edf855d",
   "metadata": {},
   "outputs": [],
   "source": [
    "inp_data = data.drop(data[['DEATH_EVENT']], axis=1)\n",
    "out_data = data[['DEATH_EVENT']]\n",
    "\n",
    "scaler = StandardScaler()\n",
    "inp_data = scaler.fit_transform(inp_data)\n",
    "\n",
    "X_train, X_test, y_train, y_test = train_test_split(inp_data, out_data, test_size=0.2, random_state=42)"
   ]
  },
  {
   "cell_type": "markdown",
   "id": "c845a967",
   "metadata": {},
   "source": [
    "No se escala la variable target"
   ]
  },
  {
   "cell_type": "code",
   "execution_count": 16,
   "id": "be6223b9",
   "metadata": {},
   "outputs": [
    {
     "name": "stdout",
     "output_type": "stream",
     "text": [
      "X_train Shape :  (239, 12)\n",
      "X_test Shape  :  (60, 12)\n",
      "y_train Shape :  (239, 1)\n",
      "y_test Shape  :  (60, 1)\n"
     ]
    }
   ],
   "source": [
    "print(\"X_train Shape : \", X_train.shape)\n",
    "print(\"X_test Shape  : \", X_test.shape)\n",
    "print(\"y_train Shape : \", y_train.shape)\n",
    "print(\"y_test Shape  : \", y_test.shape)"
   ]
  },
  {
   "cell_type": "code",
   "execution_count": 17,
   "id": "a18930f0",
   "metadata": {},
   "outputs": [
    {
     "name": "stdout",
     "output_type": "stream",
     "text": [
      "Accuracy Score: 0.7500\n",
      "SVC f1-score  : 0.6154\n",
      "SVC precision : 0.4800\n",
      "SVC recall    : 0.8571\n",
      "\n",
      "               precision    recall  f1-score   support\n",
      "\n",
      "           0       0.94      0.72      0.81        46\n",
      "           1       0.48      0.86      0.62        14\n",
      "\n",
      "    accuracy                           0.75        60\n",
      "   macro avg       0.71      0.79      0.72        60\n",
      "weighted avg       0.83      0.75      0.77        60\n",
      "\n"
     ]
    }
   ],
   "source": [
    "# basic method\n",
    "clf = SVC() \n",
    "clf.fit(X_train, y_train) \n",
    "\n",
    "y_pred = clf.predict(X_test)\n",
    "\n",
    "print('Accuracy Score: {:.4f}'.format(accuracy_score(y_test, y_pred)))\n",
    "print('SVC f1-score  : {:.4f}'.format(f1_score(y_pred, y_test)))\n",
    "print('SVC precision : {:.4f}'.format(precision_score(y_pred, y_test)))\n",
    "print('SVC recall    : {:.4f}'.format(recall_score(y_pred, y_test)))\n",
    "print(\"\\n\",classification_report(y_pred, y_test))"
   ]
  },
  {
   "cell_type": "code",
   "execution_count": 18,
   "id": "51a5e009",
   "metadata": {},
   "outputs": [
    {
     "data": {
      "text/plain": [
       "array([[33,  2],\n",
       "       [13, 12]], dtype=int64)"
      ]
     },
     "execution_count": 18,
     "metadata": {},
     "output_type": "execute_result"
    }
   ],
   "source": [
    "from sklearn.metrics import confusion_matrix\n",
    "\n",
    "confusion_matrix(y_test, y_pred)"
   ]
  },
  {
   "cell_type": "code",
   "execution_count": 19,
   "id": "6718cf02",
   "metadata": {},
   "outputs": [
    {
     "name": "stdout",
     "output_type": "stream",
     "text": [
      "Fitting 10 folds for each of 160 candidates, totalling 1600 fits\n"
     ]
    },
    {
     "data": {
      "text/plain": [
       "{'C': 10, 'gamma': 0.1, 'kernel': 'linear'}"
      ]
     },
     "execution_count": 19,
     "metadata": {},
     "output_type": "execute_result"
    }
   ],
   "source": [
    "# find best parameters with SVC | Step 1\n",
    "kernels = list(['linear', 'rbf', 'poly', 'sigmoid'])\n",
    "c = list([0.00001, 0.0001, 0.001, 0.01, 0.1, 1, 10, 100, 1000, 10000])\n",
    "gammas = list([0.1, 1, 10, 100])\n",
    "\n",
    "clf = SVC()\n",
    "param_grid = dict(kernel=kernels, C=c, gamma=gammas)\n",
    "grid = GridSearchCV(clf, param_grid, cv=10, n_jobs=-1, verbose=1)\n",
    "grid.fit(X_train, y_train)\n",
    "grid.best_params_"
   ]
  },
  {
   "cell_type": "markdown",
   "id": "0454611d",
   "metadata": {},
   "source": [
    "**n_jobs = -1** es para paralelizar la búsqueda.\n",
    "\n",
    "**verbose** es para ver lo que está haciendo la computadora"
   ]
  },
  {
   "cell_type": "code",
   "execution_count": 20,
   "id": "b2ad742c",
   "metadata": {},
   "outputs": [
    {
     "name": "stdout",
     "output_type": "stream",
     "text": [
      "Accuracy Score: 0.8000\n",
      "SVC f1-score  : 0.7143\n",
      "SVC precision : 0.6000\n",
      "SVC recall    : 0.8824\n",
      "\n",
      "               precision    recall  f1-score   support\n",
      "\n",
      "           0       0.94      0.77      0.85        43\n",
      "           1       0.60      0.88      0.71        17\n",
      "\n",
      "    accuracy                           0.80        60\n",
      "   macro avg       0.77      0.82      0.78        60\n",
      "weighted avg       0.85      0.80      0.81        60\n",
      "\n"
     ]
    }
   ],
   "source": [
    "clf = SVC(C=10, gamma=0.1, kernel='linear') \n",
    "clf.fit(X_train, y_train) \n",
    "\n",
    "y_pred = clf.predict(X_test)\n",
    "\n",
    "print('Accuracy Score: {:.4f}'.format(accuracy_score(y_test, y_pred)))\n",
    "print('SVC f1-score  : {:.4f}'.format(f1_score(y_pred, y_test)))\n",
    "print('SVC precision : {:.4f}'.format(precision_score(y_pred, y_test)))\n",
    "print('SVC recall    : {:.4f}'.format(recall_score(y_pred, y_test)))\n",
    "print(\"\\n\",classification_report(y_pred, y_test))"
   ]
  },
  {
   "cell_type": "markdown",
   "id": "347d960e",
   "metadata": {},
   "source": [
    "## Con SMOTE"
   ]
  },
  {
   "cell_type": "code",
   "execution_count": 21,
   "id": "b2e08b57",
   "metadata": {},
   "outputs": [
    {
     "name": "stdout",
     "output_type": "stream",
     "text": [
      "Requirement already satisfied: imblearn in c:\\users\\jerf\\appdata\\roaming\\python\\python38\\site-packages (0.0)\n",
      "Requirement already satisfied: imbalanced-learn in c:\\users\\jerf\\appdata\\roaming\\python\\python38\\site-packages (from imblearn) (0.9.0)\n",
      "Requirement already satisfied: scipy>=1.1.0 in c:\\programdata\\anaconda3\\lib\\site-packages (from imbalanced-learn->imblearn) (1.7.3)\n",
      "Requirement already satisfied: scikit-learn>=1.0.1 in c:\\users\\jerf\\appdata\\roaming\\python\\python38\\site-packages (from imbalanced-learn->imblearn) (1.0.2)\n",
      "Requirement already satisfied: numpy>=1.14.6 in c:\\programdata\\anaconda3\\lib\\site-packages (from imbalanced-learn->imblearn) (1.20.2)\n",
      "Requirement already satisfied: threadpoolctl>=2.0.0 in c:\\programdata\\anaconda3\\lib\\site-packages (from imbalanced-learn->imblearn) (2.1.0)\n",
      "Requirement already satisfied: joblib>=0.11 in c:\\programdata\\anaconda3\\lib\\site-packages (from imbalanced-learn->imblearn) (1.0.1)\n"
     ]
    }
   ],
   "source": [
    "!pip install imblearn"
   ]
  },
  {
   "cell_type": "code",
   "execution_count": 22,
   "id": "755bb678",
   "metadata": {},
   "outputs": [
    {
     "name": "stdout",
     "output_type": "stream",
     "text": [
      "X_train Shape :  (324, 12)\n",
      "X_test Shape  :  (82, 12)\n",
      "y_train Shape :  (324, 1)\n",
      "y_test Shape  :  (82, 1)\n"
     ]
    }
   ],
   "source": [
    "from imblearn.over_sampling import SMOTE\n",
    "\n",
    "sms = SMOTE(random_state=12345)\n",
    "X_res, y_res = sms.fit_resample(inp_data, out_data)\n",
    "X_train, X_test, y_train, y_test = train_test_split(X_res, y_res, test_size=0.2,\n",
    "                                                    stratify=y_res, random_state=42)\n",
    "\n",
    "print(\"X_train Shape : \", X_train.shape)\n",
    "print(\"X_test Shape  : \", X_test.shape)\n",
    "print(\"y_train Shape : \", y_train.shape)\n",
    "print(\"y_test Shape  : \", y_test.shape)"
   ]
  },
  {
   "cell_type": "code",
   "execution_count": 27,
   "id": "de24c59e",
   "metadata": {},
   "outputs": [
    {
     "data": {
      "text/plain": [
       "array([[<AxesSubplot:title={'center':'DEATH_EVENT'}>]], dtype=object)"
      ]
     },
     "execution_count": 27,
     "metadata": {},
     "output_type": "execute_result"
    },
    {
     "data": {
      "image/png": "[encoded data removed]",
      "text/plain": [
       "<Figure size 432x288 with 1 Axes>"
      ]
     },
     "metadata": {
      "needs_background": "light"
     },
     "output_type": "display_data"
    }
   ],
   "source": [
    "y_res.hist()"
   ]
  },
  {
   "cell_type": "code",
   "execution_count": 23,
   "id": "7f2e69f7",
   "metadata": {},
   "outputs": [
    {
     "data": {
      "text/plain": [
       "{'C': 10, 'gamma': 0.2, 'kernel': 'rbf'}"
      ]
     },
     "execution_count": 23,
     "metadata": {},
     "output_type": "execute_result"
    }
   ],
   "source": [
    "# find best parameters with SVC | Step 2\n",
    "kernels = list(['linear', 'rbf', 'poly', 'sigmoid'])\n",
    "c = list([0.001, 0.01, 0.1, 1, 10, 100])\n",
    "gammas = list([0.05, 0.06, 0.07, 0.08, 0.09, 0.1, 0.2, 0.3, 0.4, 0.5, 0.6])\n",
    "\n",
    "clf = SVC()\n",
    "param_grid = dict(kernel=kernels, C=c, gamma=gammas)\n",
    "grid = GridSearchCV(clf, param_grid, cv=10, n_jobs=-1)\n",
    "grid.fit(X_train, y_train)\n",
    "grid.best_params_"
   ]
  },
  {
   "cell_type": "code",
   "execution_count": 24,
   "id": "f6c79e80",
   "metadata": {},
   "outputs": [
    {
     "name": "stdout",
     "output_type": "stream",
     "text": [
      "Accuracy Score: 0.9390\n",
      "SVC f1-score  : 0.9425\n",
      "SVC precision : 1.0000\n",
      "SVC recall    : 0.8913\n",
      "\n",
      "               precision    recall  f1-score   support\n",
      "\n",
      "           0       0.88      1.00      0.94        36\n",
      "           1       1.00      0.89      0.94        46\n",
      "\n",
      "    accuracy                           0.94        82\n",
      "   macro avg       0.94      0.95      0.94        82\n",
      "weighted avg       0.95      0.94      0.94        82\n",
      "\n"
     ]
    }
   ],
   "source": [
    "clf = SVC(C=10, gamma=0.2, kernel='rbf') \n",
    "clf.fit(X_train, y_train) \n",
    "\n",
    "y_pred = clf.predict(X_test)\n",
    "\n",
    "print('Accuracy Score: {:.4f}'.format(accuracy_score(y_test, y_pred)))\n",
    "print('SVC f1-score  : {:.4f}'.format(f1_score(y_pred, y_test)))\n",
    "print('SVC precision : {:.4f}'.format(precision_score(y_pred, y_test)))\n",
    "print('SVC recall    : {:.4f}'.format(recall_score(y_pred, y_test)))\n",
    "print(\"\\n\",classification_report(y_pred, y_test))"
   ]
  },
  {
   "cell_type": "code",
   "execution_count": 25,
   "id": "5811c02f",
   "metadata": {},
   "outputs": [
    {
     "data": {
      "text/plain": [
       "<AxesSubplot:>"
      ]
     },
     "execution_count": 25,
     "metadata": {},
     "output_type": "execute_result"
    },
    {
     "data": {
      "image/png": "[encoded data removed]",
      "text/plain": [
       "<Figure size 432x288 with 2 Axes>"
      ]
     },
     "metadata": {
      "needs_background": "light"
     },
     "output_type": "display_data"
    }
   ],
   "source": [
    "y_pred = clf.predict(X_test)\n",
    "\n",
    "cf_matrix = confusion_matrix(y_pred, y_test)\n",
    "sns.heatmap((cf_matrix / np.sum(cf_matrix)*100), annot = True, fmt=\".2f\", cmap=\"Blues\")"
   ]
  },
  {
   "cell_type": "code",
   "execution_count": 26,
   "id": "2a99f567",
   "metadata": {},
   "outputs": [
    {
     "data": {
      "image/png": "[encoded data removed]",
      "text/plain": [
       "<Figure size 432x288 with 1 Axes>"
      ]
     },
     "metadata": {
      "needs_background": "light"
     },
     "output_type": "display_data"
    }
   ],
   "source": [
    "# sanity check\n",
    "scores = [] \n",
    "for i in range(0,1000): \n",
    "    X_train, X_test, y_train, y_test = train_test_split(X_res, y_res, test_size=0.2)\n",
    "    clf = SVC(kernel='rbf', C=10, gamma=0.2) \n",
    "    clf.fit(X_train, y_train)\n",
    "    scores.append(accuracy_score(clf.predict(X_test), y_test)) \n",
    "\n",
    "plt.hist(scores)\n",
    "plt.show()"
   ]
  },
  {
   "cell_type": "markdown",
   "id": "e0e2f6eb",
   "metadata": {},
   "source": [
    "Es mejor presentar como accuracy el 87% del histograma anterior"
   ]
  }
 ],
 "metadata": {
  "kernelspec": {
   "display_name": "Python 3",
   "language": "python",
   "name": "python3"
  },
  "language_info": {
   "codemirror_mode": {
    "name": "ipython",
    "version": 3
   },
   "file_extension": ".py",
   "mimetype": "text/x-python",
   "name": "python",
   "nbconvert_exporter": "python",
   "pygments_lexer": "ipython3",
   "version": "3.8.10"
  },
  "nbTranslate": {
   "displayLangs": [
    "es"
   ],
   "hotkey": "alt-t",
   "langInMainMenu": true,
   "sourceLang": "en",
   "targetLang": "es",
   "useGoogleTranslate": true
  },
  "toc": {
   "base_numbering": 1,
   "nav_menu": {},
   "number_sections": true,
   "sideBar": true,
   "skip_h1_title": false,
   "title_cell": "Table of Contents",
   "title_sidebar": "Contents",
   "toc_cell": false,
   "toc_position": {},
   "toc_section_display": true,
   "toc_window_display": false
  }
 },
 "nbformat": 4,
 "nbformat_minor": 5
}
