{
 "cells": [
  {
   "cell_type": "markdown",
   "id": "4e69996e",
   "metadata": {},
   "source": [
    "# Predicción de Churn\n",
    "## M.Sc. Favio Vázquez (XXX Congreso nacional de actuarios)\n",
    "\n",
    "![](https://debmedia.com/blog/wp-content/uploads/2021/07/21-07-08-Customer-Churn-pre.jpg)"
   ]
  },
  {
   "cell_type": "markdown",
   "id": "ef7d777e",
   "metadata": {},
   "source": [
    "El churn de clientes es cuando los clientes o suscriptores dejan de hacer negocios con una empresa o servicio.\n",
    "\n",
    "Cada fila representa un cliente, cada columna contiene los atributos del cliente."
   ]
  },
  {
   "cell_type": "markdown",
   "id": "5fe566f7",
   "metadata": {},
   "source": [
    "Este conjunto de datos contiene detalles de los clientes de un banco y la variable objetivo es una variable binaria que refleja el hecho de si el cliente abandonó el banco (cerró su cuenta) o sigue siendo un cliente.\n",
    "\n",
    "Significado de las columnas\n",
    "\n",
    "- CreditScore: Puntaje del cliente en contexto financiero;\n",
    "- Geography: Representa el país del cliente;\n",
    "- Gender: Sexo del cliente;\n",
    "- Age: Edad;\n",
    "- Tenure: Cuánto tiempo como cliente;\n",
    "- Balance: Cuanto dinero hay en el banco;\n",
    "- NumOfProducts: Cuántos productos tiene el cliente;\n",
    "- HasCrCard: ¿Tiene el cliente una tarjeta de crédito?\n",
    "- IsActiveMember: ¿El cliente es un miembro activo?\n",
    "- EstimetedSalary: ¿Cuánto es el salario del cliente?\n",
    "- Exit: Idicador de abandono del cliente"
   ]
  },
  {
   "cell_type": "code",
   "execution_count": null,
   "id": "5147879b",
   "metadata": {},
   "outputs": [],
   "source": [
    "!pip install plotly"
   ]
  },
  {
   "cell_type": "code",
   "execution_count": null,
   "id": "ef9d1327",
   "metadata": {},
   "outputs": [],
   "source": [
    "pip install --upgrade bamboolib --user"
   ]
  },
  {
   "cell_type": "code",
   "execution_count": null,
   "id": "8e38f2a3",
   "metadata": {},
   "outputs": [],
   "source": [
    "!python -m bamboolib install_nbextensions"
   ]
  },
  {
   "cell_type": "code",
   "execution_count": null,
   "id": "64995b19",
   "metadata": {},
   "outputs": [],
   "source": [
    "!pip install shap"
   ]
  },
  {
   "cell_type": "markdown",
   "id": "ef77ac1d",
   "metadata": {},
   "source": [
    "## Importar datos"
   ]
  },
  {
   "cell_type": "code",
   "execution_count": null,
   "id": "e0c3cabd",
   "metadata": {},
   "outputs": [],
   "source": [
    "import pandas as pd\n",
    "import bamboolib as bam\n",
    "import plotly.express as px\n",
    "import plotly.graph_objects as go"
   ]
  },
  {
   "cell_type": "code",
   "execution_count": null,
   "id": "d2d1cee6",
   "metadata": {},
   "outputs": [],
   "source": [
    "df = pd.read_csv(\"../data/churn.csv\")"
   ]
  },
  {
   "cell_type": "markdown",
   "id": "d3bcdb02",
   "metadata": {},
   "source": [
    "## Exploración y preparación de datos"
   ]
  },
  {
   "cell_type": "code",
   "execution_count": null,
   "id": "2851f729",
   "metadata": {},
   "outputs": [],
   "source": [
    "df"
   ]
  },
  {
   "cell_type": "code",
   "execution_count": null,
   "id": "80d60a21",
   "metadata": {},
   "outputs": [],
   "source": [
    "# Cantidad de filas y columnas\n",
    "rows = df.shape[0]\n",
    "columns = df.shape[1]\n",
    "print(f'Número de filas : {rows}')\n",
    "print(f'Número de columnas : {columns}')"
   ]
  },
  {
   "cell_type": "code",
   "execution_count": null,
   "id": "382d6ab7",
   "metadata": {},
   "outputs": [],
   "source": [
    "# Datos faltantes\n",
    "df.isnull().sum()"
   ]
  },
  {
   "cell_type": "code",
   "execution_count": null,
   "id": "8da636b6",
   "metadata": {},
   "outputs": [],
   "source": [
    "# Tipos de datos\n",
    "df.dtypes"
   ]
  },
  {
   "cell_type": "code",
   "execution_count": null,
   "id": "9b80ad00",
   "metadata": {},
   "outputs": [],
   "source": [
    "# Descripción estadística de las variables numéricas\n",
    "df.describe()"
   ]
  },
  {
   "cell_type": "code",
   "execution_count": null,
   "id": "7c2d791e",
   "metadata": {
    "scrolled": true
   },
   "outputs": [],
   "source": [
    "df = df.drop(columns=['RowNumber', 'CustomerId', 'Surname'])\n",
    "df"
   ]
  },
  {
   "cell_type": "code",
   "execution_count": null,
   "id": "f936575f",
   "metadata": {},
   "outputs": [],
   "source": [
    "import plotly.express as px\n",
    "fig = px.histogram(df, x='CreditScore', nbins=50, hover_name='CreditScore')\n",
    "fig"
   ]
  },
  {
   "cell_type": "code",
   "execution_count": null,
   "id": "8c1d18b9",
   "metadata": {},
   "outputs": [],
   "source": [
    "go.Figure(\n",
    "    data=[go.Histogram(x=df[\"Tenure\"], xbins={\"start\": 0, \"end\": 10.0, \"size\": 0.5})],\n",
    "    layout=go.Layout(title=\"Histogram of Tenure\", yaxis={\"title\": \"Count\"}, bargap=0.05),\n",
    "    )"
   ]
  },
  {
   "cell_type": "code",
   "execution_count": null,
   "id": "7507fc4a",
   "metadata": {},
   "outputs": [],
   "source": [
    "import plotly.express as px\n",
    "fig = px.histogram(df, x='Exited', color_discrete_sequence=px.colors.qualitative.Bold)\n",
    "fig"
   ]
  },
  {
   "cell_type": "code",
   "execution_count": null,
   "id": "07f49180",
   "metadata": {},
   "outputs": [],
   "source": [
    "bam.correlations(df)"
   ]
  },
  {
   "cell_type": "code",
   "execution_count": null,
   "id": "270bf59e",
   "metadata": {},
   "outputs": [],
   "source": [
    "test1 = df.groupby(['NumOfProducts']).agg(Exited_size=('Exited', 'size')).reset_index()\n",
    "test1"
   ]
  },
  {
   "cell_type": "code",
   "execution_count": null,
   "id": "5ac15a32",
   "metadata": {},
   "outputs": [],
   "source": [
    "df = pd.get_dummies(df, columns=['Gender', 'Geography'], drop_first=True, dummy_na=False)\n",
    "df = df.rename(columns={'Gender_Male': 'Gender'})\n",
    "df = df.rename(columns={'Exited': 'Churn'})\n",
    "df"
   ]
  },
  {
   "cell_type": "code",
   "execution_count": null,
   "id": "10f095a3",
   "metadata": {},
   "outputs": [],
   "source": [
    "df"
   ]
  },
  {
   "cell_type": "code",
   "execution_count": null,
   "id": "9a658145",
   "metadata": {},
   "outputs": [],
   "source": [
    "import plotly.express as px\n",
    "fig = px.violin(df, x='CreditScore', color='Churn', box=True)\n",
    "fig"
   ]
  },
  {
   "cell_type": "code",
   "execution_count": null,
   "id": "1eefd828",
   "metadata": {},
   "outputs": [],
   "source": [
    "df"
   ]
  },
  {
   "cell_type": "code",
   "execution_count": null,
   "id": "4b395f08",
   "metadata": {},
   "outputs": [],
   "source": [
    "import plotly.express as px\n",
    "fig = px.histogram(df, x='NumOfProducts', color='Churn', barmode='group')\n",
    "fig"
   ]
  },
  {
   "cell_type": "code",
   "execution_count": null,
   "id": "1c1c8e39",
   "metadata": {},
   "outputs": [],
   "source": [
    "df"
   ]
  },
  {
   "cell_type": "markdown",
   "id": "40307c0f",
   "metadata": {},
   "source": [
    "## Modelado"
   ]
  },
  {
   "cell_type": "code",
   "execution_count": null,
   "id": "f282e1d3",
   "metadata": {},
   "outputs": [],
   "source": [
    "from sklearn.linear_model import LogisticRegression\n",
    "from sklearn.ensemble import RandomForestClassifier\n",
    "from sklearn.model_selection import train_test_split\n",
    "from sklearn.tree import DecisionTreeClassifier\n",
    "from sklearn.model_selection import RandomizedSearchCV"
   ]
  },
  {
   "cell_type": "code",
   "execution_count": null,
   "id": "26d2268b",
   "metadata": {},
   "outputs": [],
   "source": [
    "X = df.drop(['Churn'], axis=1)\n",
    "y = df.Churn"
   ]
  },
  {
   "cell_type": "code",
   "execution_count": null,
   "id": "2f2c9a90",
   "metadata": {},
   "outputs": [],
   "source": [
    "X_train, X_test, y_train, y_test = train_test_split(X, y, test_size=0.30, random_state=42)"
   ]
  },
  {
   "cell_type": "code",
   "execution_count": null,
   "id": "9cb133f9",
   "metadata": {},
   "outputs": [],
   "source": [
    "logreg = LogisticRegression()\n",
    "logreg.fit(X_train, y_train)\n",
    "Y_pred = logreg.predict(X_test)\n",
    "acc_log = round(logreg.score(X_train, y_train) * 100, 2)\n",
    "acc_log"
   ]
  },
  {
   "cell_type": "code",
   "execution_count": null,
   "id": "e96e4074",
   "metadata": {},
   "outputs": [],
   "source": [
    "model_params = {\n",
    "    'random-forest' : {\n",
    "        'model' : RandomForestClassifier(),\n",
    "        'params' : {\n",
    "             \"n_estimators\": [5, 10, 15, 20, 25], \n",
    "             \"max_depth\": [3, 5, 7, 9, 11, 13],\n",
    "         }\n",
    "    },\n",
    "    'logisticregression': {\n",
    "        'model' : LogisticRegression(),\n",
    "        'params' : {\n",
    "            'C' : [0.001, 0.01,0.1,1,10,100,1000],\n",
    "           \n",
    "        }\n",
    "    },\n",
    "    'decision_tree' :{\n",
    "        'model' :  DecisionTreeClassifier(),\n",
    "        'params' : {\n",
    "             'max_depth': [3, 5, 7, 9, 11, 13],\n",
    "        }\n",
    "    }\n",
    "    \n",
    "}"
   ]
  },
  {
   "cell_type": "code",
   "execution_count": null,
   "id": "46b75b3e",
   "metadata": {},
   "outputs": [],
   "source": [
    "model_scores = []\n",
    "\n",
    "for model_name ,mp in model_params.items():\n",
    "    clf = RandomizedSearchCV(mp['model'],mp['params'], cv = 5,return_train_score = False,n_iter = 2)#for the computational purpose set n_ter = 2\n",
    "    clf.fit(X_train,y_train)\n",
    "    \n",
    "    model_scores.append({\n",
    "        'model' : model_name,\n",
    "        'score_train' : clf.score(X_train,y_train),\n",
    "        'score_test': clf.score(X_test,y_test),\n",
    "        'best_params' : clf.best_params_\n",
    "        \n",
    "    })"
   ]
  },
  {
   "cell_type": "code",
   "execution_count": null,
   "id": "524e12ed",
   "metadata": {},
   "outputs": [],
   "source": [
    "results = pd.DataFrame(model_scores)\n",
    "results"
   ]
  },
  {
   "cell_type": "markdown",
   "id": "1cb7187e",
   "metadata": {},
   "source": [
    "## Explicaciones"
   ]
  },
  {
   "cell_type": "code",
   "execution_count": null,
   "id": "07b571db",
   "metadata": {},
   "outputs": [],
   "source": [
    "from sklearn.ensemble import RandomForestClassifier\n",
    "\n",
    "\n",
    "model_rf = RandomForestClassifier(n_estimators= 5, max_depth= 9)\n",
    "model_rf.fit(X_train, y_train)"
   ]
  },
  {
   "cell_type": "code",
   "execution_count": null,
   "id": "e4b110b7",
   "metadata": {},
   "outputs": [],
   "source": [
    "model_rf.score(X_test,y_test)"
   ]
  },
  {
   "cell_type": "code",
   "execution_count": null,
   "id": "e06e14b6",
   "metadata": {},
   "outputs": [],
   "source": [
    "sample = pd.DataFrame(X_test.iloc[0]).T"
   ]
  },
  {
   "cell_type": "code",
   "execution_count": null,
   "id": "690cd065",
   "metadata": {},
   "outputs": [],
   "source": [
    "sample"
   ]
  },
  {
   "cell_type": "code",
   "execution_count": null,
   "id": "e0dcdc15",
   "metadata": {},
   "outputs": [],
   "source": [
    "y_test.iloc[0]"
   ]
  },
  {
   "cell_type": "code",
   "execution_count": null,
   "id": "dcf8dcf4",
   "metadata": {},
   "outputs": [],
   "source": [
    "import shap\n",
    "shap.initjs()\n",
    "explainer = shap.TreeExplainer(model_rf)"
   ]
  },
  {
   "cell_type": "code",
   "execution_count": null,
   "id": "94a4a71d",
   "metadata": {},
   "outputs": [],
   "source": [
    "prediction = model_rf.predict_proba(sample)\n",
    "print(\"Direct print:\", prediction)\n",
    "print(\n",
    "    \"Probability to be class 0:\",\n",
    "    prediction[0][0],\n",
    "    \"\\nProbability to be class 1:\",\n",
    "    prediction[0][1],\n",
    ")"
   ]
  },
  {
   "cell_type": "markdown",
   "id": "e1299118",
   "metadata": {},
   "source": [
    "`expected_value` devuelve nuestras líneas de base y desde allí vemos el impacto de nuestras funciones."
   ]
  },
  {
   "cell_type": "code",
   "execution_count": null,
   "id": "5ce482b9",
   "metadata": {},
   "outputs": [],
   "source": [
    "print(explainer.expected_value)"
   ]
  },
  {
   "cell_type": "code",
   "execution_count": null,
   "id": "d3483b63",
   "metadata": {},
   "outputs": [],
   "source": [
    "shap_values = explainer.shap_values(sample)\n",
    "shap_values"
   ]
  },
  {
   "cell_type": "code",
   "execution_count": null,
   "id": "302eeef7",
   "metadata": {},
   "outputs": [],
   "source": [
    "print(\"Direct prediction:\", prediction)\n",
    "aux = shap_values[0].sum() + explainer.expected_value[0]\n",
    "print(\"Sum of Baseline + Feature Contribuitions:\", aux)"
   ]
  },
  {
   "cell_type": "code",
   "execution_count": null,
   "id": "86e310bc",
   "metadata": {},
   "outputs": [],
   "source": [
    "shap.force_plot(explainer.expected_value[0], shap_values[0], sample)"
   ]
  },
  {
   "cell_type": "code",
   "execution_count": null,
   "id": "74143933",
   "metadata": {},
   "outputs": [],
   "source": [
    "shap_values = explainer.shap_values(X_test)"
   ]
  },
  {
   "cell_type": "code",
   "execution_count": null,
   "id": "70bf6f9b",
   "metadata": {},
   "outputs": [],
   "source": [
    "shap.summary_plot(shap_values[1], X_test)"
   ]
  }
 ],
 "metadata": {
  "kernelspec": {
   "display_name": "Python 3",
   "language": "python",
   "name": "python3"
  },
  "language_info": {
   "codemirror_mode": {
    "name": "ipython",
    "version": 3
   },
   "file_extension": ".py",
   "mimetype": "text/x-python",
   "name": "python",
   "nbconvert_exporter": "python",
   "pygments_lexer": "ipython3",
   "version": "3.8.8"
  },
  "nbTranslate": {
   "displayLangs": [
    "*"
   ],
   "hotkey": "alt-t",
   "langInMainMenu": true,
   "sourceLang": "en",
   "targetLang": "fr",
   "useGoogleTranslate": true
  }
 },
 "nbformat": 4,
 "nbformat_minor": 5
}
