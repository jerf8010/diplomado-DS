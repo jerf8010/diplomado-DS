{
 "cells": [
  {
   "cell_type": "markdown",
   "id": "4e69996e",
   "metadata": {},
   "source": [
    "# Predicción de Cargos de Seguros\n",
    "\n",
    "## M.Sc. Favio Vázquez (XXX Congreso nacional de actuarios)\n",
    "\n",
    "![](https://media.istockphoto.com/photos/insurance-protecting-family-health-live-house-and-car-concept-picture-id1199060494?k=20&m=1199060494&s=612x612&w=0&h=Jw_XYEFO42jcs4aBFdbiEnPPNODyYjvQCpcrmXnCazM=)"
   ]
  },
  {
   "cell_type": "markdown",
   "id": "ef7d777e",
   "metadata": {},
   "source": [
    "Exploraremos un conjunto de datos dedicado al costo de la prima de seguro dependiendo de algunas características de pacientes. El costo de la prima depende de muchos factores: diagnóstico, tipo de clínica, ciudad de residencia, edad, etc. No tenemos datos sobre el diagnóstico de los pacientes. Pero tenemos otra información que nos puede ayudar a sacar una conclusión sobre la salud de los pacientes y practicar el análisis de regresión.\n",
    "\n",
    "Significado de las columnas:\n",
    "\n",
    "- **age**: edad del beneficiario principal\n",
    "- **sex**: contratista de seguros género, femenino, masculino\n",
    "- **bmi**: índice de masa corporal, que proporciona una comprensión del cuerpo, pesos que son relativamente altos o bajos en relación con la altura,\n",
    "índice objetivo de peso corporal (kg/m^2) utilizando la relación altura-peso, idealmente 18,5 a 24,9\n",
    "- **children**: Número de niños cubiertos por el seguro de salud / Número de dependientes\n",
    "- **smoker**: fumador o no\n",
    "- **region**: el área residencial del beneficiario en los EE. UU., noreste, sureste, suroeste, noroeste.\n",
    "- **charges**: costos médicos individuales facturados por el seguro de salud"
   ]
  },
  {
   "cell_type": "code",
   "execution_count": null,
   "id": "5147879b",
   "metadata": {},
   "outputs": [],
   "source": [
    "!pip install plotly"
   ]
  },
  {
   "cell_type": "code",
   "execution_count": null,
   "id": "ef9d1327",
   "metadata": {},
   "outputs": [],
   "source": [
    "pip install --upgrade bamboolib --user"
   ]
  },
  {
   "cell_type": "code",
   "execution_count": null,
   "id": "8e38f2a3",
   "metadata": {},
   "outputs": [],
   "source": [
    "!python -m bamboolib install_nbextensions"
   ]
  },
  {
   "cell_type": "code",
   "execution_count": null,
   "id": "64995b19",
   "metadata": {},
   "outputs": [],
   "source": [
    "!pip install shap"
   ]
  },
  {
   "cell_type": "markdown",
   "id": "ef77ac1d",
   "metadata": {},
   "source": [
    "## Importar datos"
   ]
  },
  {
   "cell_type": "code",
   "execution_count": null,
   "id": "e0c3cabd",
   "metadata": {},
   "outputs": [],
   "source": [
    "import pandas as pd\n",
    "import bamboolib as bam\n",
    "import plotly.express as px\n",
    "import plotly.graph_objects as go"
   ]
  },
  {
   "cell_type": "code",
   "execution_count": null,
   "id": "d2d1cee6",
   "metadata": {},
   "outputs": [],
   "source": [
    "df = pd.read_csv(\"../data/insurance.csv\")"
   ]
  },
  {
   "cell_type": "markdown",
   "id": "d3bcdb02",
   "metadata": {},
   "source": [
    "## Exploración y preparación de datos"
   ]
  },
  {
   "cell_type": "code",
   "execution_count": null,
   "id": "2851f729",
   "metadata": {},
   "outputs": [],
   "source": [
    "df"
   ]
  },
  {
   "cell_type": "code",
   "execution_count": null,
   "id": "80d60a21",
   "metadata": {},
   "outputs": [],
   "source": [
    "# Cantidad de filas y columnas\n",
    "rows = df.shape[0]\n",
    "columns = df.shape[1]\n",
    "print(f'Número de filas : {rows}')\n",
    "print(f'Número de columnas : {columns}')"
   ]
  },
  {
   "cell_type": "code",
   "execution_count": null,
   "id": "382d6ab7",
   "metadata": {},
   "outputs": [],
   "source": [
    "# Datos faltantes\n",
    "df.isnull().sum()"
   ]
  },
  {
   "cell_type": "code",
   "execution_count": null,
   "id": "8da636b6",
   "metadata": {},
   "outputs": [],
   "source": [
    "# Tipos de datos\n",
    "df.dtypes"
   ]
  },
  {
   "cell_type": "code",
   "execution_count": null,
   "id": "9b80ad00",
   "metadata": {},
   "outputs": [],
   "source": [
    "# Descripción estadística de las variables numéricas\n",
    "df.describe()"
   ]
  },
  {
   "cell_type": "code",
   "execution_count": null,
   "id": "7c2d791e",
   "metadata": {
    "scrolled": true
   },
   "outputs": [],
   "source": [
    "df"
   ]
  },
  {
   "cell_type": "code",
   "execution_count": null,
   "id": "07f49180",
   "metadata": {},
   "outputs": [],
   "source": [
    "import plotly.graph_objs as go\n",
    "go.Figure(\n",
    "    data=[go.Histogram(x=df[\"age\"], xbins={\"start\": 18, \"end\": 66.0, \"size\": 3.0})],\n",
    "    layout=go.Layout(title=\"Histogram of age\", yaxis={\"title\": \"Count\"}, bargap=0.05),\n",
    "    )"
   ]
  },
  {
   "cell_type": "code",
   "execution_count": null,
   "id": "ca884c9d",
   "metadata": {},
   "outputs": [],
   "source": [
    "go.Figure(\n",
    "    data=[go.Histogram(x=df[\"charges\"], xbins={\"start\": 1000.0, \"end\": 65000.0, \"size\": 4000.0})],\n",
    "    layout=go.Layout(title=\"Histogram of charges\", yaxis={\"title\": \"Count\"}, bargap=0.05),\n",
    "    )"
   ]
  },
  {
   "cell_type": "code",
   "execution_count": null,
   "id": "5ee9f707",
   "metadata": {},
   "outputs": [],
   "source": [
    "import plotly.express as px\n",
    "fig = px.violin(df, x='charges', color='smoker', box=True)\n",
    "fig"
   ]
  },
  {
   "cell_type": "code",
   "execution_count": null,
   "id": "1f9d6124",
   "metadata": {},
   "outputs": [],
   "source": [
    "fig = px.violin(df[df.sex==\"female\"], x='charges', color='smoker', box=True, \n",
    "               title=\"Box plot para cargos of mujeres fumadoras\")\n",
    "fig"
   ]
  },
  {
   "cell_type": "code",
   "execution_count": null,
   "id": "7e2f48a1",
   "metadata": {},
   "outputs": [],
   "source": [
    "fig = px.violin(df[df.sex==\"male\"], x='charges', color='smoker', box=True, \n",
    "               title=\"Box plot para cargos of homres fumadores\")\n",
    "fig"
   ]
  },
  {
   "cell_type": "code",
   "execution_count": null,
   "id": "30f8b281",
   "metadata": {},
   "outputs": [],
   "source": [
    "fig = px.box(df[df.age==18], x='charges', color='smoker', \n",
    "               title=\"Box plot para cargos de jóvenes fumadores\")\n",
    "fig"
   ]
  },
  {
   "cell_type": "code",
   "execution_count": null,
   "id": "ea8de9cd",
   "metadata": {},
   "outputs": [],
   "source": [
    "fig = px.density_contour(df[df.smoker==\"no\"], x=\"age\", y=\"charges\",  marginal_x=\"histogram\", marginal_y=\"histogram\")\n",
    "fig.show()"
   ]
  },
  {
   "cell_type": "code",
   "execution_count": null,
   "id": "213cd8ba",
   "metadata": {},
   "outputs": [],
   "source": [
    "fig = px.density_contour(df[df.smoker==\"yes\"], x=\"age\", y=\"charges\",  marginal_x=\"histogram\", marginal_y=\"histogram\")\n",
    "fig.show()"
   ]
  },
  {
   "cell_type": "code",
   "execution_count": null,
   "id": "49b04697",
   "metadata": {},
   "outputs": [],
   "source": [
    "import plotly.express as px\n",
    "fig = px.histogram(df, x='bmi')\n",
    "fig"
   ]
  },
  {
   "cell_type": "code",
   "execution_count": null,
   "id": "b3b9105f",
   "metadata": {},
   "outputs": [],
   "source": [
    "import plotly.express as px\n",
    "fig = px.box(df[df.bmi>30], x='charges')\n",
    "fig"
   ]
  },
  {
   "cell_type": "code",
   "execution_count": null,
   "id": "1e54bb5f",
   "metadata": {},
   "outputs": [],
   "source": [
    "import plotly.express as px\n",
    "fig = px.box(df[df.bmi<30], x='charges')\n",
    "fig"
   ]
  },
  {
   "cell_type": "code",
   "execution_count": null,
   "id": "59050d0b",
   "metadata": {},
   "outputs": [],
   "source": [
    "df = pd.get_dummies(df, columns=['sex', 'region', 'smoker'], drop_first=True, dummy_na=False)\n",
    "df = df.rename(columns={'sex_male': 'sex', 'smoker_yes': 'smoker'})\n",
    "df"
   ]
  },
  {
   "cell_type": "markdown",
   "id": "40307c0f",
   "metadata": {},
   "source": [
    "## Modelado"
   ]
  },
  {
   "cell_type": "code",
   "execution_count": null,
   "id": "f282e1d3",
   "metadata": {},
   "outputs": [],
   "source": [
    "from sklearn.linear_model import LinearRegression\n",
    "from sklearn.linear_model import Ridge\n",
    "from sklearn.ensemble import RandomForestRegressor\n",
    "from sklearn.model_selection import train_test_split\n",
    "from sklearn.tree import DecisionTreeRegressor\n",
    "from sklearn.model_selection import RandomizedSearchCV"
   ]
  },
  {
   "cell_type": "code",
   "execution_count": null,
   "id": "26d2268b",
   "metadata": {},
   "outputs": [],
   "source": [
    "X = df.drop(['charges'], axis=1)\n",
    "y = df.charges"
   ]
  },
  {
   "cell_type": "code",
   "execution_count": null,
   "id": "2f2c9a90",
   "metadata": {},
   "outputs": [],
   "source": [
    "X_train, X_test, y_train, y_test = train_test_split(X, y, test_size=0.30, random_state=42)"
   ]
  },
  {
   "cell_type": "code",
   "execution_count": null,
   "id": "9cb133f9",
   "metadata": {},
   "outputs": [],
   "source": [
    "lr = LinearRegression()\n",
    "lr.fit(X_train, y_train)\n",
    "lr.score(X_test,y_test)"
   ]
  },
  {
   "cell_type": "code",
   "execution_count": null,
   "id": "1e39633d",
   "metadata": {},
   "outputs": [],
   "source": [
    "ridge = Ridge(alpha=1)\n",
    "ridge.fit(X_train, y_train)\n",
    "ridge.score(X_test,y_test)"
   ]
  },
  {
   "cell_type": "code",
   "execution_count": null,
   "id": "e96e4074",
   "metadata": {},
   "outputs": [],
   "source": [
    "model_params = {\n",
    "    'random-forest' : {\n",
    "        'model' : RandomForestRegressor(),\n",
    "        'params' : {\n",
    "             \"n_estimators\": [5, 10, 15, 20, 25], \n",
    "             \"max_depth\": [3, 5, 7, 9, 11, 13],\n",
    "         }\n",
    "    },\n",
    "    'ridge': {\n",
    "        'model' : Ridge(),\n",
    "        'params' : {\n",
    "            'alpha' : [0.001, 0.01,0.1,1,10,100,1000],\n",
    "           \n",
    "        }\n",
    "    },\n",
    "    'decision_tree' :{\n",
    "        'model' :  DecisionTreeRegressor(),\n",
    "        'params' : {\n",
    "             'max_depth': [3, 5, 7, 9, 11, 13],\n",
    "        }\n",
    "    }\n",
    "    \n",
    "}"
   ]
  },
  {
   "cell_type": "code",
   "execution_count": null,
   "id": "46b75b3e",
   "metadata": {},
   "outputs": [],
   "source": [
    "model_scores = []\n",
    "\n",
    "for model_name ,mp in model_params.items():\n",
    "    clf = RandomizedSearchCV(mp['model'],mp['params'], cv = 5,return_train_score = False,n_iter = 2)#for the computational purpose set n_ter = 2\n",
    "    clf.fit(X_train,y_train)\n",
    "    \n",
    "    model_scores.append({\n",
    "        'model' : model_name,\n",
    "        'score_train' : clf.score(X_train,y_train),\n",
    "        'score_test': clf.score(X_test,y_test),\n",
    "        'best_params' : clf.best_params_\n",
    "        \n",
    "    })"
   ]
  },
  {
   "cell_type": "code",
   "execution_count": null,
   "id": "524e12ed",
   "metadata": {},
   "outputs": [],
   "source": [
    "results = pd.DataFrame(model_scores)\n",
    "results"
   ]
  },
  {
   "cell_type": "markdown",
   "id": "1cb7187e",
   "metadata": {},
   "source": [
    "## Explicaciones"
   ]
  },
  {
   "cell_type": "code",
   "execution_count": null,
   "id": "07b571db",
   "metadata": {},
   "outputs": [],
   "source": [
    "from sklearn.ensemble import RandomForestRegressor\n",
    "\n",
    "\n",
    "model_rf = RandomForestRegressor(n_estimators= 20, max_depth= 3)\n",
    "model_rf.fit(X_train, y_train)"
   ]
  },
  {
   "cell_type": "code",
   "execution_count": null,
   "id": "e4b110b7",
   "metadata": {},
   "outputs": [],
   "source": [
    "model_rf.score(X_test,y_test)"
   ]
  },
  {
   "cell_type": "code",
   "execution_count": null,
   "id": "e06e14b6",
   "metadata": {},
   "outputs": [],
   "source": [
    "sample = pd.DataFrame(X_test.iloc[0]).T"
   ]
  },
  {
   "cell_type": "code",
   "execution_count": null,
   "id": "690cd065",
   "metadata": {},
   "outputs": [],
   "source": [
    "sample"
   ]
  },
  {
   "cell_type": "code",
   "execution_count": null,
   "id": "e0dcdc15",
   "metadata": {},
   "outputs": [],
   "source": [
    "y_test.iloc[0]"
   ]
  },
  {
   "cell_type": "code",
   "execution_count": null,
   "id": "dcf8dcf4",
   "metadata": {},
   "outputs": [],
   "source": [
    "import shap\n",
    "shap.initjs()"
   ]
  },
  {
   "cell_type": "code",
   "execution_count": null,
   "id": "24288697",
   "metadata": {},
   "outputs": [],
   "source": [
    "explainer = shap.TreeExplainer(model_rf)"
   ]
  },
  {
   "cell_type": "code",
   "execution_count": null,
   "id": "94a4a71d",
   "metadata": {},
   "outputs": [],
   "source": [
    "shap_values = explainer.shap_values(X_test)"
   ]
  },
  {
   "cell_type": "code",
   "execution_count": null,
   "id": "770e31be",
   "metadata": {},
   "outputs": [],
   "source": [
    "shap.summary_plot(shap_values, X_test)"
   ]
  },
  {
   "cell_type": "code",
   "execution_count": null,
   "id": "4f76fa92",
   "metadata": {},
   "outputs": [],
   "source": [
    "sample = pd.DataFrame(X_test.iloc[0]).T"
   ]
  },
  {
   "cell_type": "code",
   "execution_count": null,
   "id": "8c87e643",
   "metadata": {},
   "outputs": [],
   "source": [
    "sample"
   ]
  },
  {
   "cell_type": "code",
   "execution_count": null,
   "id": "91651a57",
   "metadata": {},
   "outputs": [],
   "source": [
    "y_test.iloc[0]"
   ]
  },
  {
   "cell_type": "code",
   "execution_count": null,
   "id": "3bb85111",
   "metadata": {
    "scrolled": true
   },
   "outputs": [],
   "source": [
    "sample = pd.DataFrame(X_test.iloc[0]).T\n",
    "shap_values = explainer.shap_values(sample)\n",
    "shap.force_plot(explainer.expected_value[0], shap_values[0], sample)"
   ]
  },
  {
   "cell_type": "code",
   "execution_count": null,
   "id": "a7fadfc0",
   "metadata": {},
   "outputs": [],
   "source": [
    "df_features = df.drop(columns='charges')"
   ]
  },
  {
   "cell_type": "code",
   "execution_count": null,
   "id": "07c6a71f",
   "metadata": {},
   "outputs": [],
   "source": [
    "shap.plots.partial_dependence(\n",
    "    'age', model_rf.predict, df_features, \n",
    "    ice=False, model_expected_value=True, feature_expected_value=True\n",
    ")"
   ]
  },
  {
   "cell_type": "code",
   "execution_count": null,
   "id": "99b24d44",
   "metadata": {},
   "outputs": [],
   "source": [
    "shap.plots.partial_dependence(\n",
    "    'smoker', model_rf.predict, df_features, \n",
    "    ice=False, model_expected_value=True, feature_expected_value=True\n",
    ")"
   ]
  },
  {
   "cell_type": "code",
   "execution_count": null,
   "id": "d9cb9a36",
   "metadata": {},
   "outputs": [],
   "source": [
    "shap.plots.partial_dependence(\n",
    "    'bmi', model_rf.predict, df_features, \n",
    "    ice=False, model_expected_value=True, feature_expected_value=True\n",
    ")"
   ]
  },
  {
   "cell_type": "code",
   "execution_count": null,
   "id": "7f764ddb",
   "metadata": {},
   "outputs": [],
   "source": [
    "shap.plots.partial_dependence(\n",
    "    'children', model_rf.predict, df_features, \n",
    "    ice=False, model_expected_value=True, feature_expected_value=True\n",
    ")"
   ]
  }
 ],
 "metadata": {
  "kernelspec": {
   "display_name": "Python 3",
   "language": "python",
   "name": "python3"
  },
  "language_info": {
   "codemirror_mode": {
    "name": "ipython",
    "version": 3
   },
   "file_extension": ".py",
   "mimetype": "text/x-python",
   "name": "python",
   "nbconvert_exporter": "python",
   "pygments_lexer": "ipython3",
   "version": "3.8.8"
  },
  "nbTranslate": {
   "displayLangs": [
    "*"
   ],
   "hotkey": "alt-t",
   "langInMainMenu": true,
   "sourceLang": "en",
   "targetLang": "fr",
   "useGoogleTranslate": true
  }
 },
 "nbformat": 4,
 "nbformat_minor": 5
}
