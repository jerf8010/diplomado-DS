{
  "nbformat": 4,
  "nbformat_minor": 0,
  "metadata": {
    "colab": {
      "name": "Reglas de asociacion-Market Basket.ipynb",
      "provenance": [],
      "collapsed_sections": []
    },
    "kernelspec": {
      "name": "python3",
      "display_name": "Python 3"
    },
    "language_info": {
      "name": "python"
    }
  },
  "cells": [
    {
      "cell_type": "markdown",
      "source": [
        "# Reglas de asociación, Market Basket"
      ],
      "metadata": {
        "id": "Pd2kzBVzAASa"
      }
    },
    {
      "cell_type": "code",
      "execution_count": null,
      "metadata": {
        "id": "5VqncbR3-ioR"
      },
      "outputs": [],
      "source": [
        "my_basket=[['bread','butter','wine','bananas','coffee','carrots'],\n",
        "           ['tomatoes','onions','cheese','milk','potatoes'],\n",
        "           ['beer','chips','asparagus','salsa','milk','apples'],\n",
        "           ['olive oil','bread','butter','tomatoes','steak','carrots'],\n",
        "           ['tomatoes','onions','chips','wine','ketchup','orange juice'],\n",
        "           ['bread','butter','beer','chips','milk'],\n",
        "           ['butter','tomatoes','carrots','coffee','sugar'],\n",
        "           ['tomatoes','onions','cheese','milk','potatoes'],\n",
        "           ['bread','butter','ketchup','coffee','chicken wings'],\n",
        "           ['butter','beer','chips','asparagus','apples'],\n",
        "           ['tomatoes','onion','beer','chips','milk','coffee']]\n"
      ]
    },
    {
      "cell_type": "code",
      "source": [
        "def frecuencias(x, y): # X - antecedente, y - consecuente\n",
        "  fx_ = sum([x in i for i in my_basket]) # Frecuencia del antecedente\n",
        "  fy_ = sum([y in i for i in my_basket]) # frecuencia del consecuente\n",
        "\n",
        "  fxy_ = sum( [ all( z in i for z in [x, y] ) for i in my_basket ] ) # Frecuencia de la unión\n",
        "\n",
        "  support = fxy_ / len(my_basket)\n",
        "  confidence = support/(fx_/len(my_basket))\n",
        "  lift = confidence/(fy_/len(my_basket))\n",
        "\n",
        "  print('Soporte = {}'.format(round(support, 2)))\n",
        "  print('Confianza = {}'.format(round(confidence, 2)))\n",
        "  print('Lift = {}'.format(round(lift, 2)))\n"
      ],
      "metadata": {
        "id": "v4gFyMrvKhge"
      },
      "execution_count": null,
      "outputs": []
    },
    {
      "cell_type": "code",
      "source": [
        "frecuencias('beer', 'chips')"
      ],
      "metadata": {
        "colab": {
          "base_uri": "https://localhost:8080/"
        },
        "id": "rB-Co57mKhng",
        "outputId": "76f6d9d2-1c86-4c3b-f7cd-da0a6d4c852c"
      },
      "execution_count": null,
      "outputs": [
        {
          "output_type": "stream",
          "name": "stdout",
          "text": [
            "Soporte = 0.36\n",
            "Confianza = 1.0\n",
            "Lift = 2.2\n"
          ]
        }
      ]
    },
    {
      "cell_type": "markdown",
      "source": [
        "* En el 36% aparece cerveza y papas\n",
        "* Siempre que aparece cerveza aparecen las papas\n",
        "* Es muy probable que cuando aparece papas aparezca cerveza"
      ],
      "metadata": {
        "id": "8a0_3ZZ2NvSq"
      }
    },
    {
      "cell_type": "code",
      "source": [
        "frecuencias('chips', 'beer')"
      ],
      "metadata": {
        "colab": {
          "base_uri": "https://localhost:8080/"
        },
        "id": "Dvxq6pdSKhoe",
        "outputId": "6e770665-f56d-4604-d43c-f24842c2f07b"
      },
      "execution_count": null,
      "outputs": [
        {
          "output_type": "stream",
          "name": "stdout",
          "text": [
            "Soporte = 0.36\n",
            "Confianza = 0.8\n",
            "Lift = 2.2\n"
          ]
        }
      ]
    },
    {
      "cell_type": "markdown",
      "source": [
        "* En el 80% que aparece papas, aparece cerveza"
      ],
      "metadata": {
        "id": "UUgQQkZJOnFW"
      }
    },
    {
      "cell_type": "code",
      "source": [
        "frecuencias('bread', 'butter')"
      ],
      "metadata": {
        "colab": {
          "base_uri": "https://localhost:8080/"
        },
        "id": "EAeW5m2CKhpx",
        "outputId": "89003e07-c918-4707-d24f-903a4eb4fe56"
      },
      "execution_count": null,
      "outputs": [
        {
          "output_type": "stream",
          "name": "stdout",
          "text": [
            "Soporte = 0.36\n",
            "Confianza = 1.0\n",
            "Lift = 1.83\n"
          ]
        }
      ]
    },
    {
      "cell_type": "code",
      "source": [
        "frecuencias('onion', 'cheese')"
      ],
      "metadata": {
        "colab": {
          "base_uri": "https://localhost:8080/"
        },
        "id": "ONjpbyj0Khq8",
        "outputId": "12c7f04c-ea60-4209-df99-533910cf5063"
      },
      "execution_count": null,
      "outputs": [
        {
          "output_type": "stream",
          "name": "stdout",
          "text": [
            "Soporte = 0.0\n",
            "Confianza = 0.0\n",
            "Lift = 0.0\n"
          ]
        }
      ]
    },
    {
      "cell_type": "code",
      "source": [
        "frecuencias('onions', 'cheese')"
      ],
      "metadata": {
        "colab": {
          "base_uri": "https://localhost:8080/"
        },
        "id": "xcxbY3-PKhs5",
        "outputId": "ed8b19eb-1955-41ad-dac9-a8c50ec6006c"
      },
      "execution_count": null,
      "outputs": [
        {
          "output_type": "stream",
          "name": "stdout",
          "text": [
            "Soporte = 0.18\n",
            "Confianza = 0.67\n",
            "Lift = 3.67\n"
          ]
        }
      ]
    },
    {
      "cell_type": "code",
      "source": [
        "frecuencias('cheese', 'onions')"
      ],
      "metadata": {
        "colab": {
          "base_uri": "https://localhost:8080/"
        },
        "id": "JmBBe4-4KhvF",
        "outputId": "c247d235-4592-4bad-c6c0-d3e37d5be62b"
      },
      "execution_count": null,
      "outputs": [
        {
          "output_type": "stream",
          "name": "stdout",
          "text": [
            "Soporte = 0.18\n",
            "Confianza = 1.0\n",
            "Lift = 3.67\n"
          ]
        }
      ]
    },
    {
      "cell_type": "markdown",
      "source": [
        "# Algoritmo Apriori"
      ],
      "metadata": {
        "id": "MH7DWxnKXndA"
      }
    },
    {
      "cell_type": "code",
      "source": [
        "import numpy as np\n",
        "import pandas as pd\n"
      ],
      "metadata": {
        "id": "s3IFjHvbKhxv"
      },
      "execution_count": null,
      "outputs": []
    },
    {
      "cell_type": "code",
      "source": [
        "groceries = pd.read_csv(\"http://dicyg.fi-c.unam.mx:8080/lalo/pypcd/presentaciones/groceries.csv\", sep=\";\")\n",
        "groceries"
      ],
      "metadata": {
        "colab": {
          "base_uri": "https://localhost:8080/",
          "height": 676
        },
        "id": "svjbWc1GKh0A",
        "outputId": "0c426c59-c940-44f6-9d69-2c1fa22deac2"
      },
      "execution_count": null,
      "outputs": [
        {
          "output_type": "execute_result",
          "data": {
            "text/plain": [
              "    ID                   Transaction\n",
              "0    0            milk,bread,biscuit\n",
              "1    1     bread,milk,biscuit,cereal\n",
              "2    2                     bread,tea\n",
              "3    3                jam,bread,milk\n",
              "4    4                   tea,biscuit\n",
              "5    5                     bread,tea\n",
              "6    6                    tea,cereal\n",
              "7    7             bread,tea,biscuit\n",
              "8    8                 jam,bread,tea\n",
              "9    9                    bread,milk\n",
              "10  10  coffee,orange,biscuit,cereal\n",
              "11  11  coffee,orange,biscuit,cereal\n",
              "12  12                  coffee,sugar\n",
              "13  13           bread,coffee,orange\n",
              "14  14           bread,sugar,biscuit\n",
              "15  15           coffee,sugar,cereal\n",
              "16  16           bread,sugar,biscuit\n",
              "17  17            bread,coffee,sugar\n",
              "18  18            bread,coffee,sugar\n",
              "19  19        tea,milk,coffee,cereal"
            ],
            "text/html": [
              "\n",
              "  <div id=\"df-b809feb6-76dc-494a-93b2-66743e66bbca\">\n",
              "    <div class=\"colab-df-container\">\n",
              "      <div>\n",
              "<style scoped>\n",
              "    .dataframe tbody tr th:only-of-type {\n",
              "        vertical-align: middle;\n",
              "    }\n",
              "\n",
              "    .dataframe tbody tr th {\n",
              "        vertical-align: top;\n",
              "    }\n",
              "\n",
              "    .dataframe thead th {\n",
              "        text-align: right;\n",
              "    }\n",
              "</style>\n",
              "<table border=\"1\" class=\"dataframe\">\n",
              "  <thead>\n",
              "    <tr style=\"text-align: right;\">\n",
              "      <th></th>\n",
              "      <th>ID</th>\n",
              "      <th>Transaction</th>\n",
              "    </tr>\n",
              "  </thead>\n",
              "  <tbody>\n",
              "    <tr>\n",
              "      <th>0</th>\n",
              "      <td>0</td>\n",
              "      <td>milk,bread,biscuit</td>\n",
              "    </tr>\n",
              "    <tr>\n",
              "      <th>1</th>\n",
              "      <td>1</td>\n",
              "      <td>bread,milk,biscuit,cereal</td>\n",
              "    </tr>\n",
              "    <tr>\n",
              "      <th>2</th>\n",
              "      <td>2</td>\n",
              "      <td>bread,tea</td>\n",
              "    </tr>\n",
              "    <tr>\n",
              "      <th>3</th>\n",
              "      <td>3</td>\n",
              "      <td>jam,bread,milk</td>\n",
              "    </tr>\n",
              "    <tr>\n",
              "      <th>4</th>\n",
              "      <td>4</td>\n",
              "      <td>tea,biscuit</td>\n",
              "    </tr>\n",
              "    <tr>\n",
              "      <th>5</th>\n",
              "      <td>5</td>\n",
              "      <td>bread,tea</td>\n",
              "    </tr>\n",
              "    <tr>\n",
              "      <th>6</th>\n",
              "      <td>6</td>\n",
              "      <td>tea,cereal</td>\n",
              "    </tr>\n",
              "    <tr>\n",
              "      <th>7</th>\n",
              "      <td>7</td>\n",
              "      <td>bread,tea,biscuit</td>\n",
              "    </tr>\n",
              "    <tr>\n",
              "      <th>8</th>\n",
              "      <td>8</td>\n",
              "      <td>jam,bread,tea</td>\n",
              "    </tr>\n",
              "    <tr>\n",
              "      <th>9</th>\n",
              "      <td>9</td>\n",
              "      <td>bread,milk</td>\n",
              "    </tr>\n",
              "    <tr>\n",
              "      <th>10</th>\n",
              "      <td>10</td>\n",
              "      <td>coffee,orange,biscuit,cereal</td>\n",
              "    </tr>\n",
              "    <tr>\n",
              "      <th>11</th>\n",
              "      <td>11</td>\n",
              "      <td>coffee,orange,biscuit,cereal</td>\n",
              "    </tr>\n",
              "    <tr>\n",
              "      <th>12</th>\n",
              "      <td>12</td>\n",
              "      <td>coffee,sugar</td>\n",
              "    </tr>\n",
              "    <tr>\n",
              "      <th>13</th>\n",
              "      <td>13</td>\n",
              "      <td>bread,coffee,orange</td>\n",
              "    </tr>\n",
              "    <tr>\n",
              "      <th>14</th>\n",
              "      <td>14</td>\n",
              "      <td>bread,sugar,biscuit</td>\n",
              "    </tr>\n",
              "    <tr>\n",
              "      <th>15</th>\n",
              "      <td>15</td>\n",
              "      <td>coffee,sugar,cereal</td>\n",
              "    </tr>\n",
              "    <tr>\n",
              "      <th>16</th>\n",
              "      <td>16</td>\n",
              "      <td>bread,sugar,biscuit</td>\n",
              "    </tr>\n",
              "    <tr>\n",
              "      <th>17</th>\n",
              "      <td>17</td>\n",
              "      <td>bread,coffee,sugar</td>\n",
              "    </tr>\n",
              "    <tr>\n",
              "      <th>18</th>\n",
              "      <td>18</td>\n",
              "      <td>bread,coffee,sugar</td>\n",
              "    </tr>\n",
              "    <tr>\n",
              "      <th>19</th>\n",
              "      <td>19</td>\n",
              "      <td>tea,milk,coffee,cereal</td>\n",
              "    </tr>\n",
              "  </tbody>\n",
              "</table>\n",
              "</div>\n",
              "      <button class=\"colab-df-convert\" onclick=\"convertToInteractive('df-b809feb6-76dc-494a-93b2-66743e66bbca')\"\n",
              "              title=\"Convert this dataframe to an interactive table.\"\n",
              "              style=\"display:none;\">\n",
              "        \n",
              "  <svg xmlns=\"http://www.w3.org/2000/svg\" height=\"24px\"viewBox=\"0 0 24 24\"\n",
              "       width=\"24px\">\n",
              "    <path d=\"M0 0h24v24H0V0z\" fill=\"none\"/>\n",
              "    <path d=\"M18.56 5.44l.94 2.06.94-2.06 2.06-.94-2.06-.94-.94-2.06-.94 2.06-2.06.94zm-11 1L8.5 8.5l.94-2.06 2.06-.94-2.06-.94L8.5 2.5l-.94 2.06-2.06.94zm10 10l.94 2.06.94-2.06 2.06-.94-2.06-.94-.94-2.06-.94 2.06-2.06.94z\"/><path d=\"M17.41 7.96l-1.37-1.37c-.4-.4-.92-.59-1.43-.59-.52 0-1.04.2-1.43.59L10.3 9.45l-7.72 7.72c-.78.78-.78 2.05 0 2.83L4 21.41c.39.39.9.59 1.41.59.51 0 1.02-.2 1.41-.59l7.78-7.78 2.81-2.81c.8-.78.8-2.07 0-2.86zM5.41 20L4 18.59l7.72-7.72 1.47 1.35L5.41 20z\"/>\n",
              "  </svg>\n",
              "      </button>\n",
              "      \n",
              "  <style>\n",
              "    .colab-df-container {\n",
              "      display:flex;\n",
              "      flex-wrap:wrap;\n",
              "      gap: 12px;\n",
              "    }\n",
              "\n",
              "    .colab-df-convert {\n",
              "      background-color: #E8F0FE;\n",
              "      border: none;\n",
              "      border-radius: 50%;\n",
              "      cursor: pointer;\n",
              "      display: none;\n",
              "      fill: #1967D2;\n",
              "      height: 32px;\n",
              "      padding: 0 0 0 0;\n",
              "      width: 32px;\n",
              "    }\n",
              "\n",
              "    .colab-df-convert:hover {\n",
              "      background-color: #E2EBFA;\n",
              "      box-shadow: 0px 1px 2px rgba(60, 64, 67, 0.3), 0px 1px 3px 1px rgba(60, 64, 67, 0.15);\n",
              "      fill: #174EA6;\n",
              "    }\n",
              "\n",
              "    [theme=dark] .colab-df-convert {\n",
              "      background-color: #3B4455;\n",
              "      fill: #D2E3FC;\n",
              "    }\n",
              "\n",
              "    [theme=dark] .colab-df-convert:hover {\n",
              "      background-color: #434B5C;\n",
              "      box-shadow: 0px 1px 3px 1px rgba(0, 0, 0, 0.15);\n",
              "      filter: drop-shadow(0px 1px 2px rgba(0, 0, 0, 0.3));\n",
              "      fill: #FFFFFF;\n",
              "    }\n",
              "  </style>\n",
              "\n",
              "      <script>\n",
              "        const buttonEl =\n",
              "          document.querySelector('#df-b809feb6-76dc-494a-93b2-66743e66bbca button.colab-df-convert');\n",
              "        buttonEl.style.display =\n",
              "          google.colab.kernel.accessAllowed ? 'block' : 'none';\n",
              "\n",
              "        async function convertToInteractive(key) {\n",
              "          const element = document.querySelector('#df-b809feb6-76dc-494a-93b2-66743e66bbca');\n",
              "          const dataTable =\n",
              "            await google.colab.kernel.invokeFunction('convertToInteractive',\n",
              "                                                     [key], {});\n",
              "          if (!dataTable) return;\n",
              "\n",
              "          const docLinkHtml = 'Like what you see? Visit the ' +\n",
              "            '<a target=\"_blank\" href=https://colab.research.google.com/notebooks/data_table.ipynb>data table notebook</a>'\n",
              "            + ' to learn more about interactive tables.';\n",
              "          element.innerHTML = '';\n",
              "          dataTable['output_type'] = 'display_data';\n",
              "          await google.colab.output.renderOutput(dataTable, element);\n",
              "          const docLink = document.createElement('div');\n",
              "          docLink.innerHTML = docLinkHtml;\n",
              "          element.appendChild(docLink);\n",
              "        }\n",
              "      </script>\n",
              "    </div>\n",
              "  </div>\n",
              "  "
            ]
          },
          "metadata": {},
          "execution_count": 19
        }
      ]
    },
    {
      "cell_type": "code",
      "source": [
        "from mlxtend.preprocessing import TransactionEncoder\n",
        "from mlxtend.frequent_patterns import apriori, association_rules"
      ],
      "metadata": {
        "id": "lo4EHIXIYQdP"
      },
      "execution_count": null,
      "outputs": []
    },
    {
      "cell_type": "code",
      "source": [
        "transactions = list(groceries.Transaction.apply(lambda x: sorted(x.split(','))))\n",
        "transactions"
      ],
      "metadata": {
        "colab": {
          "base_uri": "https://localhost:8080/"
        },
        "id": "m-rHYixRKh5G",
        "outputId": "81e21052-c6e7-4148-dcde-e63e5594a134"
      },
      "execution_count": null,
      "outputs": [
        {
          "output_type": "execute_result",
          "data": {
            "text/plain": [
              "[['biscuit', 'bread', 'milk'],\n",
              " ['biscuit', 'bread', 'cereal', 'milk'],\n",
              " ['bread', 'tea'],\n",
              " ['bread', 'jam', 'milk'],\n",
              " ['biscuit', 'tea'],\n",
              " ['bread', 'tea'],\n",
              " ['cereal', 'tea'],\n",
              " ['biscuit', 'bread', 'tea'],\n",
              " ['bread', 'jam', 'tea'],\n",
              " ['bread', 'milk'],\n",
              " ['biscuit', 'cereal', 'coffee', 'orange'],\n",
              " ['biscuit', 'cereal', 'coffee', 'orange'],\n",
              " ['coffee', 'sugar'],\n",
              " ['bread', 'coffee', 'orange'],\n",
              " ['biscuit', 'bread', 'sugar'],\n",
              " ['cereal', 'coffee', 'sugar'],\n",
              " ['biscuit', 'bread', 'sugar'],\n",
              " ['bread', 'coffee', 'sugar'],\n",
              " ['bread', 'coffee', 'sugar'],\n",
              " ['cereal', 'coffee', 'milk', 'tea']]"
            ]
          },
          "metadata": {},
          "execution_count": 21
        }
      ]
    },
    {
      "cell_type": "code",
      "source": [
        "encoder = TransactionEncoder().fit(transactions)\n",
        "onehot = encoder.transform(transactions)\n",
        "onehot"
      ],
      "metadata": {
        "colab": {
          "base_uri": "https://localhost:8080/"
        },
        "id": "QcEw9neGKh8n",
        "outputId": "5eb8467c-7ccd-4fdd-bbc5-d88bc44d2704"
      },
      "execution_count": null,
      "outputs": [
        {
          "output_type": "execute_result",
          "data": {
            "text/plain": [
              "array([[ True,  True, False, False, False,  True, False, False, False],\n",
              "       [ True,  True,  True, False, False,  True, False, False, False],\n",
              "       [False,  True, False, False, False, False, False, False,  True],\n",
              "       [False,  True, False, False,  True,  True, False, False, False],\n",
              "       [ True, False, False, False, False, False, False, False,  True],\n",
              "       [False,  True, False, False, False, False, False, False,  True],\n",
              "       [False, False,  True, False, False, False, False, False,  True],\n",
              "       [ True,  True, False, False, False, False, False, False,  True],\n",
              "       [False,  True, False, False,  True, False, False, False,  True],\n",
              "       [False,  True, False, False, False,  True, False, False, False],\n",
              "       [ True, False,  True,  True, False, False,  True, False, False],\n",
              "       [ True, False,  True,  True, False, False,  True, False, False],\n",
              "       [False, False, False,  True, False, False, False,  True, False],\n",
              "       [False,  True, False,  True, False, False,  True, False, False],\n",
              "       [ True,  True, False, False, False, False, False,  True, False],\n",
              "       [False, False,  True,  True, False, False, False,  True, False],\n",
              "       [ True,  True, False, False, False, False, False,  True, False],\n",
              "       [False,  True, False,  True, False, False, False,  True, False],\n",
              "       [False,  True, False,  True, False, False, False,  True, False],\n",
              "       [False, False,  True,  True, False,  True, False, False,  True]])"
            ]
          },
          "metadata": {},
          "execution_count": 22
        }
      ]
    },
    {
      "cell_type": "code",
      "source": [
        "onehot = pd.DataFrame(onehot, columns = encoder.columns_)\n",
        "\n",
        "frequent_itemsets = apriori(onehot, min_support = 0.001, max_len = 3, use_colnames = True)\n",
        "frequent_itemsets.head(10)"
      ],
      "metadata": {
        "colab": {
          "base_uri": "https://localhost:8080/",
          "height": 363
        },
        "id": "gIpRTXQtbWww",
        "outputId": "e5c2630f-eb1f-4b04-af5e-0211231fa74e"
      },
      "execution_count": null,
      "outputs": [
        {
          "output_type": "execute_result",
          "data": {
            "text/plain": [
              "   support          itemsets\n",
              "0     0.40         (biscuit)\n",
              "1     0.65           (bread)\n",
              "2     0.30          (cereal)\n",
              "3     0.40          (coffee)\n",
              "4     0.10             (jam)\n",
              "5     0.25            (milk)\n",
              "6     0.15          (orange)\n",
              "7     0.30           (sugar)\n",
              "8     0.35             (tea)\n",
              "9     0.25  (bread, biscuit)"
            ],
            "text/html": [
              "\n",
              "  <div id=\"df-e3d13e38-6426-4fdf-90e8-6c08d4b9cd6a\">\n",
              "    <div class=\"colab-df-container\">\n",
              "      <div>\n",
              "<style scoped>\n",
              "    .dataframe tbody tr th:only-of-type {\n",
              "        vertical-align: middle;\n",
              "    }\n",
              "\n",
              "    .dataframe tbody tr th {\n",
              "        vertical-align: top;\n",
              "    }\n",
              "\n",
              "    .dataframe thead th {\n",
              "        text-align: right;\n",
              "    }\n",
              "</style>\n",
              "<table border=\"1\" class=\"dataframe\">\n",
              "  <thead>\n",
              "    <tr style=\"text-align: right;\">\n",
              "      <th></th>\n",
              "      <th>support</th>\n",
              "      <th>itemsets</th>\n",
              "    </tr>\n",
              "  </thead>\n",
              "  <tbody>\n",
              "    <tr>\n",
              "      <th>0</th>\n",
              "      <td>0.40</td>\n",
              "      <td>(biscuit)</td>\n",
              "    </tr>\n",
              "    <tr>\n",
              "      <th>1</th>\n",
              "      <td>0.65</td>\n",
              "      <td>(bread)</td>\n",
              "    </tr>\n",
              "    <tr>\n",
              "      <th>2</th>\n",
              "      <td>0.30</td>\n",
              "      <td>(cereal)</td>\n",
              "    </tr>\n",
              "    <tr>\n",
              "      <th>3</th>\n",
              "      <td>0.40</td>\n",
              "      <td>(coffee)</td>\n",
              "    </tr>\n",
              "    <tr>\n",
              "      <th>4</th>\n",
              "      <td>0.10</td>\n",
              "      <td>(jam)</td>\n",
              "    </tr>\n",
              "    <tr>\n",
              "      <th>5</th>\n",
              "      <td>0.25</td>\n",
              "      <td>(milk)</td>\n",
              "    </tr>\n",
              "    <tr>\n",
              "      <th>6</th>\n",
              "      <td>0.15</td>\n",
              "      <td>(orange)</td>\n",
              "    </tr>\n",
              "    <tr>\n",
              "      <th>7</th>\n",
              "      <td>0.30</td>\n",
              "      <td>(sugar)</td>\n",
              "    </tr>\n",
              "    <tr>\n",
              "      <th>8</th>\n",
              "      <td>0.35</td>\n",
              "      <td>(tea)</td>\n",
              "    </tr>\n",
              "    <tr>\n",
              "      <th>9</th>\n",
              "      <td>0.25</td>\n",
              "      <td>(bread, biscuit)</td>\n",
              "    </tr>\n",
              "  </tbody>\n",
              "</table>\n",
              "</div>\n",
              "      <button class=\"colab-df-convert\" onclick=\"convertToInteractive('df-e3d13e38-6426-4fdf-90e8-6c08d4b9cd6a')\"\n",
              "              title=\"Convert this dataframe to an interactive table.\"\n",
              "              style=\"display:none;\">\n",
              "        \n",
              "  <svg xmlns=\"http://www.w3.org/2000/svg\" height=\"24px\"viewBox=\"0 0 24 24\"\n",
              "       width=\"24px\">\n",
              "    <path d=\"M0 0h24v24H0V0z\" fill=\"none\"/>\n",
              "    <path d=\"M18.56 5.44l.94 2.06.94-2.06 2.06-.94-2.06-.94-.94-2.06-.94 2.06-2.06.94zm-11 1L8.5 8.5l.94-2.06 2.06-.94-2.06-.94L8.5 2.5l-.94 2.06-2.06.94zm10 10l.94 2.06.94-2.06 2.06-.94-2.06-.94-.94-2.06-.94 2.06-2.06.94z\"/><path d=\"M17.41 7.96l-1.37-1.37c-.4-.4-.92-.59-1.43-.59-.52 0-1.04.2-1.43.59L10.3 9.45l-7.72 7.72c-.78.78-.78 2.05 0 2.83L4 21.41c.39.39.9.59 1.41.59.51 0 1.02-.2 1.41-.59l7.78-7.78 2.81-2.81c.8-.78.8-2.07 0-2.86zM5.41 20L4 18.59l7.72-7.72 1.47 1.35L5.41 20z\"/>\n",
              "  </svg>\n",
              "      </button>\n",
              "      \n",
              "  <style>\n",
              "    .colab-df-container {\n",
              "      display:flex;\n",
              "      flex-wrap:wrap;\n",
              "      gap: 12px;\n",
              "    }\n",
              "\n",
              "    .colab-df-convert {\n",
              "      background-color: #E8F0FE;\n",
              "      border: none;\n",
              "      border-radius: 50%;\n",
              "      cursor: pointer;\n",
              "      display: none;\n",
              "      fill: #1967D2;\n",
              "      height: 32px;\n",
              "      padding: 0 0 0 0;\n",
              "      width: 32px;\n",
              "    }\n",
              "\n",
              "    .colab-df-convert:hover {\n",
              "      background-color: #E2EBFA;\n",
              "      box-shadow: 0px 1px 2px rgba(60, 64, 67, 0.3), 0px 1px 3px 1px rgba(60, 64, 67, 0.15);\n",
              "      fill: #174EA6;\n",
              "    }\n",
              "\n",
              "    [theme=dark] .colab-df-convert {\n",
              "      background-color: #3B4455;\n",
              "      fill: #D2E3FC;\n",
              "    }\n",
              "\n",
              "    [theme=dark] .colab-df-convert:hover {\n",
              "      background-color: #434B5C;\n",
              "      box-shadow: 0px 1px 3px 1px rgba(0, 0, 0, 0.15);\n",
              "      filter: drop-shadow(0px 1px 2px rgba(0, 0, 0, 0.3));\n",
              "      fill: #FFFFFF;\n",
              "    }\n",
              "  </style>\n",
              "\n",
              "      <script>\n",
              "        const buttonEl =\n",
              "          document.querySelector('#df-e3d13e38-6426-4fdf-90e8-6c08d4b9cd6a button.colab-df-convert');\n",
              "        buttonEl.style.display =\n",
              "          google.colab.kernel.accessAllowed ? 'block' : 'none';\n",
              "\n",
              "        async function convertToInteractive(key) {\n",
              "          const element = document.querySelector('#df-e3d13e38-6426-4fdf-90e8-6c08d4b9cd6a');\n",
              "          const dataTable =\n",
              "            await google.colab.kernel.invokeFunction('convertToInteractive',\n",
              "                                                     [key], {});\n",
              "          if (!dataTable) return;\n",
              "\n",
              "          const docLinkHtml = 'Like what you see? Visit the ' +\n",
              "            '<a target=\"_blank\" href=https://colab.research.google.com/notebooks/data_table.ipynb>data table notebook</a>'\n",
              "            + ' to learn more about interactive tables.';\n",
              "          element.innerHTML = '';\n",
              "          dataTable['output_type'] = 'display_data';\n",
              "          await google.colab.output.renderOutput(dataTable, element);\n",
              "          const docLink = document.createElement('div');\n",
              "          docLink.innerHTML = docLinkHtml;\n",
              "          element.appendChild(docLink);\n",
              "        }\n",
              "      </script>\n",
              "    </div>\n",
              "  </div>\n",
              "  "
            ]
          },
          "metadata": {},
          "execution_count": 25
        }
      ]
    },
    {
      "cell_type": "code",
      "source": [
        "rules = association_rules(frequent_itemsets, metric = 'lift', min_threshold = 1)\n",
        "rules"
      ],
      "metadata": {
        "colab": {
          "base_uri": "https://localhost:8080/",
          "height": 505
        },
        "id": "pAkjpMUnbW5y",
        "outputId": "74e7fad7-541a-475d-fcc2-e586c03421a0"
      },
      "execution_count": null,
      "outputs": [
        {
          "output_type": "execute_result",
          "data": {
            "text/plain": [
              "        antecedents     consequents  antecedent support  consequent support  \\\n",
              "0          (cereal)       (biscuit)                0.30                0.40   \n",
              "1         (biscuit)        (cereal)                0.40                0.30   \n",
              "2            (milk)       (biscuit)                0.25                0.40   \n",
              "3         (biscuit)          (milk)                0.40                0.25   \n",
              "4          (orange)       (biscuit)                0.15                0.40   \n",
              "..              ...             ...                 ...                 ...   \n",
              "111   (tea, coffee)          (milk)                0.05                0.25   \n",
              "112  (coffee, milk)           (tea)                0.05                0.35   \n",
              "113           (tea)  (coffee, milk)                0.35                0.05   \n",
              "114          (milk)   (tea, coffee)                0.25                0.05   \n",
              "115        (coffee)     (tea, milk)                0.40                0.05   \n",
              "\n",
              "     support  confidence      lift  leverage  conviction  \n",
              "0       0.15    0.500000  1.250000    0.0300    1.200000  \n",
              "1       0.15    0.375000  1.250000    0.0300    1.120000  \n",
              "2       0.10    0.400000  1.000000    0.0000    1.000000  \n",
              "3       0.10    0.250000  1.000000    0.0000    1.000000  \n",
              "4       0.10    0.666667  1.666667    0.0400    1.800000  \n",
              "..       ...         ...       ...       ...         ...  \n",
              "111     0.05    1.000000  4.000000    0.0375         inf  \n",
              "112     0.05    1.000000  2.857143    0.0325         inf  \n",
              "113     0.05    0.142857  2.857143    0.0325    1.108333  \n",
              "114     0.05    0.200000  4.000000    0.0375    1.187500  \n",
              "115     0.05    0.125000  2.500000    0.0300    1.085714  \n",
              "\n",
              "[116 rows x 9 columns]"
            ],
            "text/html": [
              "\n",
              "  <div id=\"df-fcd5bfb5-1064-46d3-b4c0-d49992a218bc\">\n",
              "    <div class=\"colab-df-container\">\n",
              "      <div>\n",
              "<style scoped>\n",
              "    .dataframe tbody tr th:only-of-type {\n",
              "        vertical-align: middle;\n",
              "    }\n",
              "\n",
              "    .dataframe tbody tr th {\n",
              "        vertical-align: top;\n",
              "    }\n",
              "\n",
              "    .dataframe thead th {\n",
              "        text-align: right;\n",
              "    }\n",
              "</style>\n",
              "<table border=\"1\" class=\"dataframe\">\n",
              "  <thead>\n",
              "    <tr style=\"text-align: right;\">\n",
              "      <th></th>\n",
              "      <th>antecedents</th>\n",
              "      <th>consequents</th>\n",
              "      <th>antecedent support</th>\n",
              "      <th>consequent support</th>\n",
              "      <th>support</th>\n",
              "      <th>confidence</th>\n",
              "      <th>lift</th>\n",
              "      <th>leverage</th>\n",
              "      <th>conviction</th>\n",
              "    </tr>\n",
              "  </thead>\n",
              "  <tbody>\n",
              "    <tr>\n",
              "      <th>0</th>\n",
              "      <td>(cereal)</td>\n",
              "      <td>(biscuit)</td>\n",
              "      <td>0.30</td>\n",
              "      <td>0.40</td>\n",
              "      <td>0.15</td>\n",
              "      <td>0.500000</td>\n",
              "      <td>1.250000</td>\n",
              "      <td>0.0300</td>\n",
              "      <td>1.200000</td>\n",
              "    </tr>\n",
              "    <tr>\n",
              "      <th>1</th>\n",
              "      <td>(biscuit)</td>\n",
              "      <td>(cereal)</td>\n",
              "      <td>0.40</td>\n",
              "      <td>0.30</td>\n",
              "      <td>0.15</td>\n",
              "      <td>0.375000</td>\n",
              "      <td>1.250000</td>\n",
              "      <td>0.0300</td>\n",
              "      <td>1.120000</td>\n",
              "    </tr>\n",
              "    <tr>\n",
              "      <th>2</th>\n",
              "      <td>(milk)</td>\n",
              "      <td>(biscuit)</td>\n",
              "      <td>0.25</td>\n",
              "      <td>0.40</td>\n",
              "      <td>0.10</td>\n",
              "      <td>0.400000</td>\n",
              "      <td>1.000000</td>\n",
              "      <td>0.0000</td>\n",
              "      <td>1.000000</td>\n",
              "    </tr>\n",
              "    <tr>\n",
              "      <th>3</th>\n",
              "      <td>(biscuit)</td>\n",
              "      <td>(milk)</td>\n",
              "      <td>0.40</td>\n",
              "      <td>0.25</td>\n",
              "      <td>0.10</td>\n",
              "      <td>0.250000</td>\n",
              "      <td>1.000000</td>\n",
              "      <td>0.0000</td>\n",
              "      <td>1.000000</td>\n",
              "    </tr>\n",
              "    <tr>\n",
              "      <th>4</th>\n",
              "      <td>(orange)</td>\n",
              "      <td>(biscuit)</td>\n",
              "      <td>0.15</td>\n",
              "      <td>0.40</td>\n",
              "      <td>0.10</td>\n",
              "      <td>0.666667</td>\n",
              "      <td>1.666667</td>\n",
              "      <td>0.0400</td>\n",
              "      <td>1.800000</td>\n",
              "    </tr>\n",
              "    <tr>\n",
              "      <th>...</th>\n",
              "      <td>...</td>\n",
              "      <td>...</td>\n",
              "      <td>...</td>\n",
              "      <td>...</td>\n",
              "      <td>...</td>\n",
              "      <td>...</td>\n",
              "      <td>...</td>\n",
              "      <td>...</td>\n",
              "      <td>...</td>\n",
              "    </tr>\n",
              "    <tr>\n",
              "      <th>111</th>\n",
              "      <td>(tea, coffee)</td>\n",
              "      <td>(milk)</td>\n",
              "      <td>0.05</td>\n",
              "      <td>0.25</td>\n",
              "      <td>0.05</td>\n",
              "      <td>1.000000</td>\n",
              "      <td>4.000000</td>\n",
              "      <td>0.0375</td>\n",
              "      <td>inf</td>\n",
              "    </tr>\n",
              "    <tr>\n",
              "      <th>112</th>\n",
              "      <td>(coffee, milk)</td>\n",
              "      <td>(tea)</td>\n",
              "      <td>0.05</td>\n",
              "      <td>0.35</td>\n",
              "      <td>0.05</td>\n",
              "      <td>1.000000</td>\n",
              "      <td>2.857143</td>\n",
              "      <td>0.0325</td>\n",
              "      <td>inf</td>\n",
              "    </tr>\n",
              "    <tr>\n",
              "      <th>113</th>\n",
              "      <td>(tea)</td>\n",
              "      <td>(coffee, milk)</td>\n",
              "      <td>0.35</td>\n",
              "      <td>0.05</td>\n",
              "      <td>0.05</td>\n",
              "      <td>0.142857</td>\n",
              "      <td>2.857143</td>\n",
              "      <td>0.0325</td>\n",
              "      <td>1.108333</td>\n",
              "    </tr>\n",
              "    <tr>\n",
              "      <th>114</th>\n",
              "      <td>(milk)</td>\n",
              "      <td>(tea, coffee)</td>\n",
              "      <td>0.25</td>\n",
              "      <td>0.05</td>\n",
              "      <td>0.05</td>\n",
              "      <td>0.200000</td>\n",
              "      <td>4.000000</td>\n",
              "      <td>0.0375</td>\n",
              "      <td>1.187500</td>\n",
              "    </tr>\n",
              "    <tr>\n",
              "      <th>115</th>\n",
              "      <td>(coffee)</td>\n",
              "      <td>(tea, milk)</td>\n",
              "      <td>0.40</td>\n",
              "      <td>0.05</td>\n",
              "      <td>0.05</td>\n",
              "      <td>0.125000</td>\n",
              "      <td>2.500000</td>\n",
              "      <td>0.0300</td>\n",
              "      <td>1.085714</td>\n",
              "    </tr>\n",
              "  </tbody>\n",
              "</table>\n",
              "<p>116 rows × 9 columns</p>\n",
              "</div>\n",
              "      <button class=\"colab-df-convert\" onclick=\"convertToInteractive('df-fcd5bfb5-1064-46d3-b4c0-d49992a218bc')\"\n",
              "              title=\"Convert this dataframe to an interactive table.\"\n",
              "              style=\"display:none;\">\n",
              "        \n",
              "  <svg xmlns=\"http://www.w3.org/2000/svg\" height=\"24px\"viewBox=\"0 0 24 24\"\n",
              "       width=\"24px\">\n",
              "    <path d=\"M0 0h24v24H0V0z\" fill=\"none\"/>\n",
              "    <path d=\"M18.56 5.44l.94 2.06.94-2.06 2.06-.94-2.06-.94-.94-2.06-.94 2.06-2.06.94zm-11 1L8.5 8.5l.94-2.06 2.06-.94-2.06-.94L8.5 2.5l-.94 2.06-2.06.94zm10 10l.94 2.06.94-2.06 2.06-.94-2.06-.94-.94-2.06-.94 2.06-2.06.94z\"/><path d=\"M17.41 7.96l-1.37-1.37c-.4-.4-.92-.59-1.43-.59-.52 0-1.04.2-1.43.59L10.3 9.45l-7.72 7.72c-.78.78-.78 2.05 0 2.83L4 21.41c.39.39.9.59 1.41.59.51 0 1.02-.2 1.41-.59l7.78-7.78 2.81-2.81c.8-.78.8-2.07 0-2.86zM5.41 20L4 18.59l7.72-7.72 1.47 1.35L5.41 20z\"/>\n",
              "  </svg>\n",
              "      </button>\n",
              "      \n",
              "  <style>\n",
              "    .colab-df-container {\n",
              "      display:flex;\n",
              "      flex-wrap:wrap;\n",
              "      gap: 12px;\n",
              "    }\n",
              "\n",
              "    .colab-df-convert {\n",
              "      background-color: #E8F0FE;\n",
              "      border: none;\n",
              "      border-radius: 50%;\n",
              "      cursor: pointer;\n",
              "      display: none;\n",
              "      fill: #1967D2;\n",
              "      height: 32px;\n",
              "      padding: 0 0 0 0;\n",
              "      width: 32px;\n",
              "    }\n",
              "\n",
              "    .colab-df-convert:hover {\n",
              "      background-color: #E2EBFA;\n",
              "      box-shadow: 0px 1px 2px rgba(60, 64, 67, 0.3), 0px 1px 3px 1px rgba(60, 64, 67, 0.15);\n",
              "      fill: #174EA6;\n",
              "    }\n",
              "\n",
              "    [theme=dark] .colab-df-convert {\n",
              "      background-color: #3B4455;\n",
              "      fill: #D2E3FC;\n",
              "    }\n",
              "\n",
              "    [theme=dark] .colab-df-convert:hover {\n",
              "      background-color: #434B5C;\n",
              "      box-shadow: 0px 1px 3px 1px rgba(0, 0, 0, 0.15);\n",
              "      filter: drop-shadow(0px 1px 2px rgba(0, 0, 0, 0.3));\n",
              "      fill: #FFFFFF;\n",
              "    }\n",
              "  </style>\n",
              "\n",
              "      <script>\n",
              "        const buttonEl =\n",
              "          document.querySelector('#df-fcd5bfb5-1064-46d3-b4c0-d49992a218bc button.colab-df-convert');\n",
              "        buttonEl.style.display =\n",
              "          google.colab.kernel.accessAllowed ? 'block' : 'none';\n",
              "\n",
              "        async function convertToInteractive(key) {\n",
              "          const element = document.querySelector('#df-fcd5bfb5-1064-46d3-b4c0-d49992a218bc');\n",
              "          const dataTable =\n",
              "            await google.colab.kernel.invokeFunction('convertToInteractive',\n",
              "                                                     [key], {});\n",
              "          if (!dataTable) return;\n",
              "\n",
              "          const docLinkHtml = 'Like what you see? Visit the ' +\n",
              "            '<a target=\"_blank\" href=https://colab.research.google.com/notebooks/data_table.ipynb>data table notebook</a>'\n",
              "            + ' to learn more about interactive tables.';\n",
              "          element.innerHTML = '';\n",
              "          dataTable['output_type'] = 'display_data';\n",
              "          await google.colab.output.renderOutput(dataTable, element);\n",
              "          const docLink = document.createElement('div');\n",
              "          docLink.innerHTML = docLinkHtml;\n",
              "          element.appendChild(docLink);\n",
              "        }\n",
              "      </script>\n",
              "    </div>\n",
              "  </div>\n",
              "  "
            ]
          },
          "metadata": {},
          "execution_count": 27
        }
      ]
    },
    {
      "cell_type": "code",
      "source": [
        "rules['lhs items'] = rules['antecedents'].apply(lambda x: len(x))\n",
        "rules[rules['lhs items'] > 1].sort_values('lift', ascending = False).head()"
      ],
      "metadata": {
        "colab": {
          "base_uri": "https://localhost:8080/",
          "height": 339
        },
        "id": "nqPBT-bJbW-Y",
        "outputId": "ec8a4da5-ea57-4feb-8126-b74f63aa9c7e"
      },
      "execution_count": null,
      "outputs": [
        {
          "output_type": "execute_result",
          "data": {
            "text/plain": [
              "           antecedents consequents  antecedent support  consequent support  \\\n",
              "60   (coffee, biscuit)    (orange)                0.10                0.15   \n",
              "54   (cereal, biscuit)    (orange)                0.15                0.15   \n",
              "64     (cereal, bread)      (milk)                0.05                0.25   \n",
              "111      (tea, coffee)      (milk)                0.05                0.25   \n",
              "88      (coffee, milk)    (cereal)                0.05                0.30   \n",
              "\n",
              "     support  confidence      lift  leverage  conviction  lhs items  \n",
              "60      0.10    1.000000  6.666667    0.0850         inf          2  \n",
              "54      0.10    0.666667  4.444444    0.0775        2.55          2  \n",
              "64      0.05    1.000000  4.000000    0.0375         inf          2  \n",
              "111     0.05    1.000000  4.000000    0.0375         inf          2  \n",
              "88      0.05    1.000000  3.333333    0.0350         inf          2  "
            ],
            "text/html": [
              "\n",
              "  <div id=\"df-2f7f49ec-2a12-441b-a5d2-fa954ab25902\">\n",
              "    <div class=\"colab-df-container\">\n",
              "      <div>\n",
              "<style scoped>\n",
              "    .dataframe tbody tr th:only-of-type {\n",
              "        vertical-align: middle;\n",
              "    }\n",
              "\n",
              "    .dataframe tbody tr th {\n",
              "        vertical-align: top;\n",
              "    }\n",
              "\n",
              "    .dataframe thead th {\n",
              "        text-align: right;\n",
              "    }\n",
              "</style>\n",
              "<table border=\"1\" class=\"dataframe\">\n",
              "  <thead>\n",
              "    <tr style=\"text-align: right;\">\n",
              "      <th></th>\n",
              "      <th>antecedents</th>\n",
              "      <th>consequents</th>\n",
              "      <th>antecedent support</th>\n",
              "      <th>consequent support</th>\n",
              "      <th>support</th>\n",
              "      <th>confidence</th>\n",
              "      <th>lift</th>\n",
              "      <th>leverage</th>\n",
              "      <th>conviction</th>\n",
              "      <th>lhs items</th>\n",
              "    </tr>\n",
              "  </thead>\n",
              "  <tbody>\n",
              "    <tr>\n",
              "      <th>60</th>\n",
              "      <td>(coffee, biscuit)</td>\n",
              "      <td>(orange)</td>\n",
              "      <td>0.10</td>\n",
              "      <td>0.15</td>\n",
              "      <td>0.10</td>\n",
              "      <td>1.000000</td>\n",
              "      <td>6.666667</td>\n",
              "      <td>0.0850</td>\n",
              "      <td>inf</td>\n",
              "      <td>2</td>\n",
              "    </tr>\n",
              "    <tr>\n",
              "      <th>54</th>\n",
              "      <td>(cereal, biscuit)</td>\n",
              "      <td>(orange)</td>\n",
              "      <td>0.15</td>\n",
              "      <td>0.15</td>\n",
              "      <td>0.10</td>\n",
              "      <td>0.666667</td>\n",
              "      <td>4.444444</td>\n",
              "      <td>0.0775</td>\n",
              "      <td>2.55</td>\n",
              "      <td>2</td>\n",
              "    </tr>\n",
              "    <tr>\n",
              "      <th>64</th>\n",
              "      <td>(cereal, bread)</td>\n",
              "      <td>(milk)</td>\n",
              "      <td>0.05</td>\n",
              "      <td>0.25</td>\n",
              "      <td>0.05</td>\n",
              "      <td>1.000000</td>\n",
              "      <td>4.000000</td>\n",
              "      <td>0.0375</td>\n",
              "      <td>inf</td>\n",
              "      <td>2</td>\n",
              "    </tr>\n",
              "    <tr>\n",
              "      <th>111</th>\n",
              "      <td>(tea, coffee)</td>\n",
              "      <td>(milk)</td>\n",
              "      <td>0.05</td>\n",
              "      <td>0.25</td>\n",
              "      <td>0.05</td>\n",
              "      <td>1.000000</td>\n",
              "      <td>4.000000</td>\n",
              "      <td>0.0375</td>\n",
              "      <td>inf</td>\n",
              "      <td>2</td>\n",
              "    </tr>\n",
              "    <tr>\n",
              "      <th>88</th>\n",
              "      <td>(coffee, milk)</td>\n",
              "      <td>(cereal)</td>\n",
              "      <td>0.05</td>\n",
              "      <td>0.30</td>\n",
              "      <td>0.05</td>\n",
              "      <td>1.000000</td>\n",
              "      <td>3.333333</td>\n",
              "      <td>0.0350</td>\n",
              "      <td>inf</td>\n",
              "      <td>2</td>\n",
              "    </tr>\n",
              "  </tbody>\n",
              "</table>\n",
              "</div>\n",
              "      <button class=\"colab-df-convert\" onclick=\"convertToInteractive('df-2f7f49ec-2a12-441b-a5d2-fa954ab25902')\"\n",
              "              title=\"Convert this dataframe to an interactive table.\"\n",
              "              style=\"display:none;\">\n",
              "        \n",
              "  <svg xmlns=\"http://www.w3.org/2000/svg\" height=\"24px\"viewBox=\"0 0 24 24\"\n",
              "       width=\"24px\">\n",
              "    <path d=\"M0 0h24v24H0V0z\" fill=\"none\"/>\n",
              "    <path d=\"M18.56 5.44l.94 2.06.94-2.06 2.06-.94-2.06-.94-.94-2.06-.94 2.06-2.06.94zm-11 1L8.5 8.5l.94-2.06 2.06-.94-2.06-.94L8.5 2.5l-.94 2.06-2.06.94zm10 10l.94 2.06.94-2.06 2.06-.94-2.06-.94-.94-2.06-.94 2.06-2.06.94z\"/><path d=\"M17.41 7.96l-1.37-1.37c-.4-.4-.92-.59-1.43-.59-.52 0-1.04.2-1.43.59L10.3 9.45l-7.72 7.72c-.78.78-.78 2.05 0 2.83L4 21.41c.39.39.9.59 1.41.59.51 0 1.02-.2 1.41-.59l7.78-7.78 2.81-2.81c.8-.78.8-2.07 0-2.86zM5.41 20L4 18.59l7.72-7.72 1.47 1.35L5.41 20z\"/>\n",
              "  </svg>\n",
              "      </button>\n",
              "      \n",
              "  <style>\n",
              "    .colab-df-container {\n",
              "      display:flex;\n",
              "      flex-wrap:wrap;\n",
              "      gap: 12px;\n",
              "    }\n",
              "\n",
              "    .colab-df-convert {\n",
              "      background-color: #E8F0FE;\n",
              "      border: none;\n",
              "      border-radius: 50%;\n",
              "      cursor: pointer;\n",
              "      display: none;\n",
              "      fill: #1967D2;\n",
              "      height: 32px;\n",
              "      padding: 0 0 0 0;\n",
              "      width: 32px;\n",
              "    }\n",
              "\n",
              "    .colab-df-convert:hover {\n",
              "      background-color: #E2EBFA;\n",
              "      box-shadow: 0px 1px 2px rgba(60, 64, 67, 0.3), 0px 1px 3px 1px rgba(60, 64, 67, 0.15);\n",
              "      fill: #174EA6;\n",
              "    }\n",
              "\n",
              "    [theme=dark] .colab-df-convert {\n",
              "      background-color: #3B4455;\n",
              "      fill: #D2E3FC;\n",
              "    }\n",
              "\n",
              "    [theme=dark] .colab-df-convert:hover {\n",
              "      background-color: #434B5C;\n",
              "      box-shadow: 0px 1px 3px 1px rgba(0, 0, 0, 0.15);\n",
              "      filter: drop-shadow(0px 1px 2px rgba(0, 0, 0, 0.3));\n",
              "      fill: #FFFFFF;\n",
              "    }\n",
              "  </style>\n",
              "\n",
              "      <script>\n",
              "        const buttonEl =\n",
              "          document.querySelector('#df-2f7f49ec-2a12-441b-a5d2-fa954ab25902 button.colab-df-convert');\n",
              "        buttonEl.style.display =\n",
              "          google.colab.kernel.accessAllowed ? 'block' : 'none';\n",
              "\n",
              "        async function convertToInteractive(key) {\n",
              "          const element = document.querySelector('#df-2f7f49ec-2a12-441b-a5d2-fa954ab25902');\n",
              "          const dataTable =\n",
              "            await google.colab.kernel.invokeFunction('convertToInteractive',\n",
              "                                                     [key], {});\n",
              "          if (!dataTable) return;\n",
              "\n",
              "          const docLinkHtml = 'Like what you see? Visit the ' +\n",
              "            '<a target=\"_blank\" href=https://colab.research.google.com/notebooks/data_table.ipynb>data table notebook</a>'\n",
              "            + ' to learn more about interactive tables.';\n",
              "          element.innerHTML = '';\n",
              "          dataTable['output_type'] = 'display_data';\n",
              "          await google.colab.output.renderOutput(dataTable, element);\n",
              "          const docLink = document.createElement('div');\n",
              "          docLink.innerHTML = docLinkHtml;\n",
              "          element.appendChild(docLink);\n",
              "        }\n",
              "      </script>\n",
              "    </div>\n",
              "  </div>\n",
              "  "
            ]
          },
          "metadata": {},
          "execution_count": 28
        }
      ]
    },
    {
      "cell_type": "code",
      "source": [
        "import seaborn as sns\n",
        "import matplotlib.pyplot as plt\n",
        "rules['antecedents_'] = rules['antecedents'].apply(lambda a: ','.join(list(a)))\n",
        "rules['consequents_'] = rules['consequents'].apply(lambda a: ','.join(list(a)))\n",
        "pivot = rules[rules['lhs items'] > 1].pivot(index = 'antecedents_',\n",
        "                                            columns = 'consequents_',\n",
        "                                            values = 'lift')\n",
        "pivot"
      ],
      "metadata": {
        "colab": {
          "base_uri": "https://localhost:8080/",
          "height": 929
        },
        "id": "Uk2zCBPAbXA0",
        "outputId": "a63c8574-81bf-49cb-9414-c21c7a59a9fe"
      },
      "execution_count": null,
      "outputs": [
        {
          "output_type": "execute_result",
          "data": {
            "text/plain": [
              "consequents_     biscuit     bread    cereal    coffee  jam      milk  \\\n",
              "antecedents_                                                            \n",
              "bread,biscuit        NaN       NaN       NaN       NaN  NaN  1.600000   \n",
              "bread,milk           NaN       NaN       NaN       NaN  2.5       NaN   \n",
              "cereal,biscuit       NaN       NaN       NaN  1.666667  NaN  1.333333   \n",
              "cereal,bread    2.500000       NaN       NaN       NaN  NaN  4.000000   \n",
              "cereal,coffee   1.250000       NaN       NaN       NaN  NaN  1.000000   \n",
              "cereal,milk     1.250000       NaN       NaN  1.250000  NaN       NaN   \n",
              "coffee,biscuit       NaN       NaN  3.333333       NaN  NaN       NaN   \n",
              "coffee,bread         NaN       NaN       NaN       NaN  NaN       NaN   \n",
              "coffee,milk          NaN       NaN  3.333333       NaN  NaN       NaN   \n",
              "jam,bread            NaN       NaN       NaN       NaN  NaN  2.000000   \n",
              "jam,milk             NaN  1.538462       NaN       NaN  NaN       NaN   \n",
              "jam,tea              NaN  1.538462       NaN       NaN  NaN       NaN   \n",
              "milk,biscuit         NaN  1.538462  1.666667       NaN  NaN       NaN   \n",
              "milk,bread      1.250000       NaN       NaN       NaN  NaN       NaN   \n",
              "orange,biscuit       NaN       NaN  3.333333  2.500000  NaN       NaN   \n",
              "orange,bread         NaN       NaN       NaN  2.500000  NaN       NaN   \n",
              "orange,cereal   2.500000       NaN       NaN  2.500000  NaN       NaN   \n",
              "orange,coffee   1.666667       NaN  2.222222       NaN  NaN       NaN   \n",
              "sugar,biscuit        NaN  1.538462       NaN       NaN  NaN       NaN   \n",
              "sugar,bread     1.250000       NaN       NaN  1.250000  NaN       NaN   \n",
              "sugar,cereal         NaN       NaN       NaN  2.500000  NaN       NaN   \n",
              "tea,bread            NaN       NaN       NaN       NaN  2.5       NaN   \n",
              "tea,cereal           NaN       NaN       NaN  1.250000  NaN  2.000000   \n",
              "tea,coffee           NaN       NaN  3.333333       NaN  NaN  4.000000   \n",
              "tea,milk             NaN       NaN  3.333333  2.500000  NaN       NaN   \n",
              "\n",
              "consequents_      orange     sugar       tea  \n",
              "antecedents_                                  \n",
              "bread,biscuit        NaN  1.333333       NaN  \n",
              "bread,milk           NaN       NaN       NaN  \n",
              "cereal,biscuit  4.444444       NaN       NaN  \n",
              "cereal,bread         NaN       NaN       NaN  \n",
              "cereal,coffee   3.333333       NaN       NaN  \n",
              "cereal,milk          NaN       NaN  1.428571  \n",
              "coffee,biscuit  6.666667       NaN       NaN  \n",
              "coffee,bread    2.222222  2.222222       NaN  \n",
              "coffee,milk          NaN       NaN  2.857143  \n",
              "jam,bread            NaN       NaN  1.428571  \n",
              "jam,milk             NaN       NaN       NaN  \n",
              "jam,tea              NaN       NaN       NaN  \n",
              "milk,biscuit         NaN       NaN       NaN  \n",
              "milk,bread           NaN       NaN       NaN  \n",
              "orange,biscuit       NaN       NaN       NaN  \n",
              "orange,bread         NaN       NaN       NaN  \n",
              "orange,cereal        NaN       NaN       NaN  \n",
              "orange,coffee        NaN       NaN       NaN  \n",
              "sugar,biscuit        NaN       NaN       NaN  \n",
              "sugar,bread          NaN       NaN       NaN  \n",
              "sugar,cereal         NaN       NaN       NaN  \n",
              "tea,bread            NaN       NaN       NaN  \n",
              "tea,cereal           NaN       NaN       NaN  \n",
              "tea,coffee           NaN       NaN       NaN  \n",
              "tea,milk             NaN       NaN       NaN  "
            ],
            "text/html": [
              "\n",
              "  <div id=\"df-2cd1a510-1ffd-4c89-b1f8-d52cb869ad5d\">\n",
              "    <div class=\"colab-df-container\">\n",
              "      <div>\n",
              "<style scoped>\n",
              "    .dataframe tbody tr th:only-of-type {\n",
              "        vertical-align: middle;\n",
              "    }\n",
              "\n",
              "    .dataframe tbody tr th {\n",
              "        vertical-align: top;\n",
              "    }\n",
              "\n",
              "    .dataframe thead th {\n",
              "        text-align: right;\n",
              "    }\n",
              "</style>\n",
              "<table border=\"1\" class=\"dataframe\">\n",
              "  <thead>\n",
              "    <tr style=\"text-align: right;\">\n",
              "      <th>consequents_</th>\n",
              "      <th>biscuit</th>\n",
              "      <th>bread</th>\n",
              "      <th>cereal</th>\n",
              "      <th>coffee</th>\n",
              "      <th>jam</th>\n",
              "      <th>milk</th>\n",
              "      <th>orange</th>\n",
              "      <th>sugar</th>\n",
              "      <th>tea</th>\n",
              "    </tr>\n",
              "    <tr>\n",
              "      <th>antecedents_</th>\n",
              "      <th></th>\n",
              "      <th></th>\n",
              "      <th></th>\n",
              "      <th></th>\n",
              "      <th></th>\n",
              "      <th></th>\n",
              "      <th></th>\n",
              "      <th></th>\n",
              "      <th></th>\n",
              "    </tr>\n",
              "  </thead>\n",
              "  <tbody>\n",
              "    <tr>\n",
              "      <th>bread,biscuit</th>\n",
              "      <td>NaN</td>\n",
              "      <td>NaN</td>\n",
              "      <td>NaN</td>\n",
              "      <td>NaN</td>\n",
              "      <td>NaN</td>\n",
              "      <td>1.600000</td>\n",
              "      <td>NaN</td>\n",
              "      <td>1.333333</td>\n",
              "      <td>NaN</td>\n",
              "    </tr>\n",
              "    <tr>\n",
              "      <th>bread,milk</th>\n",
              "      <td>NaN</td>\n",
              "      <td>NaN</td>\n",
              "      <td>NaN</td>\n",
              "      <td>NaN</td>\n",
              "      <td>2.5</td>\n",
              "      <td>NaN</td>\n",
              "      <td>NaN</td>\n",
              "      <td>NaN</td>\n",
              "      <td>NaN</td>\n",
              "    </tr>\n",
              "    <tr>\n",
              "      <th>cereal,biscuit</th>\n",
              "      <td>NaN</td>\n",
              "      <td>NaN</td>\n",
              "      <td>NaN</td>\n",
              "      <td>1.666667</td>\n",
              "      <td>NaN</td>\n",
              "      <td>1.333333</td>\n",
              "      <td>4.444444</td>\n",
              "      <td>NaN</td>\n",
              "      <td>NaN</td>\n",
              "    </tr>\n",
              "    <tr>\n",
              "      <th>cereal,bread</th>\n",
              "      <td>2.500000</td>\n",
              "      <td>NaN</td>\n",
              "      <td>NaN</td>\n",
              "      <td>NaN</td>\n",
              "      <td>NaN</td>\n",
              "      <td>4.000000</td>\n",
              "      <td>NaN</td>\n",
              "      <td>NaN</td>\n",
              "      <td>NaN</td>\n",
              "    </tr>\n",
              "    <tr>\n",
              "      <th>cereal,coffee</th>\n",
              "      <td>1.250000</td>\n",
              "      <td>NaN</td>\n",
              "      <td>NaN</td>\n",
              "      <td>NaN</td>\n",
              "      <td>NaN</td>\n",
              "      <td>1.000000</td>\n",
              "      <td>3.333333</td>\n",
              "      <td>NaN</td>\n",
              "      <td>NaN</td>\n",
              "    </tr>\n",
              "    <tr>\n",
              "      <th>cereal,milk</th>\n",
              "      <td>1.250000</td>\n",
              "      <td>NaN</td>\n",
              "      <td>NaN</td>\n",
              "      <td>1.250000</td>\n",
              "      <td>NaN</td>\n",
              "      <td>NaN</td>\n",
              "      <td>NaN</td>\n",
              "      <td>NaN</td>\n",
              "      <td>1.428571</td>\n",
              "    </tr>\n",
              "    <tr>\n",
              "      <th>coffee,biscuit</th>\n",
              "      <td>NaN</td>\n",
              "      <td>NaN</td>\n",
              "      <td>3.333333</td>\n",
              "      <td>NaN</td>\n",
              "      <td>NaN</td>\n",
              "      <td>NaN</td>\n",
              "      <td>6.666667</td>\n",
              "      <td>NaN</td>\n",
              "      <td>NaN</td>\n",
              "    </tr>\n",
              "    <tr>\n",
              "      <th>coffee,bread</th>\n",
              "      <td>NaN</td>\n",
              "      <td>NaN</td>\n",
              "      <td>NaN</td>\n",
              "      <td>NaN</td>\n",
              "      <td>NaN</td>\n",
              "      <td>NaN</td>\n",
              "      <td>2.222222</td>\n",
              "      <td>2.222222</td>\n",
              "      <td>NaN</td>\n",
              "    </tr>\n",
              "    <tr>\n",
              "      <th>coffee,milk</th>\n",
              "      <td>NaN</td>\n",
              "      <td>NaN</td>\n",
              "      <td>3.333333</td>\n",
              "      <td>NaN</td>\n",
              "      <td>NaN</td>\n",
              "      <td>NaN</td>\n",
              "      <td>NaN</td>\n",
              "      <td>NaN</td>\n",
              "      <td>2.857143</td>\n",
              "    </tr>\n",
              "    <tr>\n",
              "      <th>jam,bread</th>\n",
              "      <td>NaN</td>\n",
              "      <td>NaN</td>\n",
              "      <td>NaN</td>\n",
              "      <td>NaN</td>\n",
              "      <td>NaN</td>\n",
              "      <td>2.000000</td>\n",
              "      <td>NaN</td>\n",
              "      <td>NaN</td>\n",
              "      <td>1.428571</td>\n",
              "    </tr>\n",
              "    <tr>\n",
              "      <th>jam,milk</th>\n",
              "      <td>NaN</td>\n",
              "      <td>1.538462</td>\n",
              "      <td>NaN</td>\n",
              "      <td>NaN</td>\n",
              "      <td>NaN</td>\n",
              "      <td>NaN</td>\n",
              "      <td>NaN</td>\n",
              "      <td>NaN</td>\n",
              "      <td>NaN</td>\n",
              "    </tr>\n",
              "    <tr>\n",
              "      <th>jam,tea</th>\n",
              "      <td>NaN</td>\n",
              "      <td>1.538462</td>\n",
              "      <td>NaN</td>\n",
              "      <td>NaN</td>\n",
              "      <td>NaN</td>\n",
              "      <td>NaN</td>\n",
              "      <td>NaN</td>\n",
              "      <td>NaN</td>\n",
              "      <td>NaN</td>\n",
              "    </tr>\n",
              "    <tr>\n",
              "      <th>milk,biscuit</th>\n",
              "      <td>NaN</td>\n",
              "      <td>1.538462</td>\n",
              "      <td>1.666667</td>\n",
              "      <td>NaN</td>\n",
              "      <td>NaN</td>\n",
              "      <td>NaN</td>\n",
              "      <td>NaN</td>\n",
              "      <td>NaN</td>\n",
              "      <td>NaN</td>\n",
              "    </tr>\n",
              "    <tr>\n",
              "      <th>milk,bread</th>\n",
              "      <td>1.250000</td>\n",
              "      <td>NaN</td>\n",
              "      <td>NaN</td>\n",
              "      <td>NaN</td>\n",
              "      <td>NaN</td>\n",
              "      <td>NaN</td>\n",
              "      <td>NaN</td>\n",
              "      <td>NaN</td>\n",
              "      <td>NaN</td>\n",
              "    </tr>\n",
              "    <tr>\n",
              "      <th>orange,biscuit</th>\n",
              "      <td>NaN</td>\n",
              "      <td>NaN</td>\n",
              "      <td>3.333333</td>\n",
              "      <td>2.500000</td>\n",
              "      <td>NaN</td>\n",
              "      <td>NaN</td>\n",
              "      <td>NaN</td>\n",
              "      <td>NaN</td>\n",
              "      <td>NaN</td>\n",
              "    </tr>\n",
              "    <tr>\n",
              "      <th>orange,bread</th>\n",
              "      <td>NaN</td>\n",
              "      <td>NaN</td>\n",
              "      <td>NaN</td>\n",
              "      <td>2.500000</td>\n",
              "      <td>NaN</td>\n",
              "      <td>NaN</td>\n",
              "      <td>NaN</td>\n",
              "      <td>NaN</td>\n",
              "      <td>NaN</td>\n",
              "    </tr>\n",
              "    <tr>\n",
              "      <th>orange,cereal</th>\n",
              "      <td>2.500000</td>\n",
              "      <td>NaN</td>\n",
              "      <td>NaN</td>\n",
              "      <td>2.500000</td>\n",
              "      <td>NaN</td>\n",
              "      <td>NaN</td>\n",
              "      <td>NaN</td>\n",
              "      <td>NaN</td>\n",
              "      <td>NaN</td>\n",
              "    </tr>\n",
              "    <tr>\n",
              "      <th>orange,coffee</th>\n",
              "      <td>1.666667</td>\n",
              "      <td>NaN</td>\n",
              "      <td>2.222222</td>\n",
              "      <td>NaN</td>\n",
              "      <td>NaN</td>\n",
              "      <td>NaN</td>\n",
              "      <td>NaN</td>\n",
              "      <td>NaN</td>\n",
              "      <td>NaN</td>\n",
              "    </tr>\n",
              "    <tr>\n",
              "      <th>sugar,biscuit</th>\n",
              "      <td>NaN</td>\n",
              "      <td>1.538462</td>\n",
              "      <td>NaN</td>\n",
              "      <td>NaN</td>\n",
              "      <td>NaN</td>\n",
              "      <td>NaN</td>\n",
              "      <td>NaN</td>\n",
              "      <td>NaN</td>\n",
              "      <td>NaN</td>\n",
              "    </tr>\n",
              "    <tr>\n",
              "      <th>sugar,bread</th>\n",
              "      <td>1.250000</td>\n",
              "      <td>NaN</td>\n",
              "      <td>NaN</td>\n",
              "      <td>1.250000</td>\n",
              "      <td>NaN</td>\n",
              "      <td>NaN</td>\n",
              "      <td>NaN</td>\n",
              "      <td>NaN</td>\n",
              "      <td>NaN</td>\n",
              "    </tr>\n",
              "    <tr>\n",
              "      <th>sugar,cereal</th>\n",
              "      <td>NaN</td>\n",
              "      <td>NaN</td>\n",
              "      <td>NaN</td>\n",
              "      <td>2.500000</td>\n",
              "      <td>NaN</td>\n",
              "      <td>NaN</td>\n",
              "      <td>NaN</td>\n",
              "      <td>NaN</td>\n",
              "      <td>NaN</td>\n",
              "    </tr>\n",
              "    <tr>\n",
              "      <th>tea,bread</th>\n",
              "      <td>NaN</td>\n",
              "      <td>NaN</td>\n",
              "      <td>NaN</td>\n",
              "      <td>NaN</td>\n",
              "      <td>2.5</td>\n",
              "      <td>NaN</td>\n",
              "      <td>NaN</td>\n",
              "      <td>NaN</td>\n",
              "      <td>NaN</td>\n",
              "    </tr>\n",
              "    <tr>\n",
              "      <th>tea,cereal</th>\n",
              "      <td>NaN</td>\n",
              "      <td>NaN</td>\n",
              "      <td>NaN</td>\n",
              "      <td>1.250000</td>\n",
              "      <td>NaN</td>\n",
              "      <td>2.000000</td>\n",
              "      <td>NaN</td>\n",
              "      <td>NaN</td>\n",
              "      <td>NaN</td>\n",
              "    </tr>\n",
              "    <tr>\n",
              "      <th>tea,coffee</th>\n",
              "      <td>NaN</td>\n",
              "      <td>NaN</td>\n",
              "      <td>3.333333</td>\n",
              "      <td>NaN</td>\n",
              "      <td>NaN</td>\n",
              "      <td>4.000000</td>\n",
              "      <td>NaN</td>\n",
              "      <td>NaN</td>\n",
              "      <td>NaN</td>\n",
              "    </tr>\n",
              "    <tr>\n",
              "      <th>tea,milk</th>\n",
              "      <td>NaN</td>\n",
              "      <td>NaN</td>\n",
              "      <td>3.333333</td>\n",
              "      <td>2.500000</td>\n",
              "      <td>NaN</td>\n",
              "      <td>NaN</td>\n",
              "      <td>NaN</td>\n",
              "      <td>NaN</td>\n",
              "      <td>NaN</td>\n",
              "    </tr>\n",
              "  </tbody>\n",
              "</table>\n",
              "</div>\n",
              "      <button class=\"colab-df-convert\" onclick=\"convertToInteractive('df-2cd1a510-1ffd-4c89-b1f8-d52cb869ad5d')\"\n",
              "              title=\"Convert this dataframe to an interactive table.\"\n",
              "              style=\"display:none;\">\n",
              "        \n",
              "  <svg xmlns=\"http://www.w3.org/2000/svg\" height=\"24px\"viewBox=\"0 0 24 24\"\n",
              "       width=\"24px\">\n",
              "    <path d=\"M0 0h24v24H0V0z\" fill=\"none\"/>\n",
              "    <path d=\"M18.56 5.44l.94 2.06.94-2.06 2.06-.94-2.06-.94-.94-2.06-.94 2.06-2.06.94zm-11 1L8.5 8.5l.94-2.06 2.06-.94-2.06-.94L8.5 2.5l-.94 2.06-2.06.94zm10 10l.94 2.06.94-2.06 2.06-.94-2.06-.94-.94-2.06-.94 2.06-2.06.94z\"/><path d=\"M17.41 7.96l-1.37-1.37c-.4-.4-.92-.59-1.43-.59-.52 0-1.04.2-1.43.59L10.3 9.45l-7.72 7.72c-.78.78-.78 2.05 0 2.83L4 21.41c.39.39.9.59 1.41.59.51 0 1.02-.2 1.41-.59l7.78-7.78 2.81-2.81c.8-.78.8-2.07 0-2.86zM5.41 20L4 18.59l7.72-7.72 1.47 1.35L5.41 20z\"/>\n",
              "  </svg>\n",
              "      </button>\n",
              "      \n",
              "  <style>\n",
              "    .colab-df-container {\n",
              "      display:flex;\n",
              "      flex-wrap:wrap;\n",
              "      gap: 12px;\n",
              "    }\n",
              "\n",
              "    .colab-df-convert {\n",
              "      background-color: #E8F0FE;\n",
              "      border: none;\n",
              "      border-radius: 50%;\n",
              "      cursor: pointer;\n",
              "      display: none;\n",
              "      fill: #1967D2;\n",
              "      height: 32px;\n",
              "      padding: 0 0 0 0;\n",
              "      width: 32px;\n",
              "    }\n",
              "\n",
              "    .colab-df-convert:hover {\n",
              "      background-color: #E2EBFA;\n",
              "      box-shadow: 0px 1px 2px rgba(60, 64, 67, 0.3), 0px 1px 3px 1px rgba(60, 64, 67, 0.15);\n",
              "      fill: #174EA6;\n",
              "    }\n",
              "\n",
              "    [theme=dark] .colab-df-convert {\n",
              "      background-color: #3B4455;\n",
              "      fill: #D2E3FC;\n",
              "    }\n",
              "\n",
              "    [theme=dark] .colab-df-convert:hover {\n",
              "      background-color: #434B5C;\n",
              "      box-shadow: 0px 1px 3px 1px rgba(0, 0, 0, 0.15);\n",
              "      filter: drop-shadow(0px 1px 2px rgba(0, 0, 0, 0.3));\n",
              "      fill: #FFFFFF;\n",
              "    }\n",
              "  </style>\n",
              "\n",
              "      <script>\n",
              "        const buttonEl =\n",
              "          document.querySelector('#df-2cd1a510-1ffd-4c89-b1f8-d52cb869ad5d button.colab-df-convert');\n",
              "        buttonEl.style.display =\n",
              "          google.colab.kernel.accessAllowed ? 'block' : 'none';\n",
              "\n",
              "        async function convertToInteractive(key) {\n",
              "          const element = document.querySelector('#df-2cd1a510-1ffd-4c89-b1f8-d52cb869ad5d');\n",
              "          const dataTable =\n",
              "            await google.colab.kernel.invokeFunction('convertToInteractive',\n",
              "                                                     [key], {});\n",
              "          if (!dataTable) return;\n",
              "\n",
              "          const docLinkHtml = 'Like what you see? Visit the ' +\n",
              "            '<a target=\"_blank\" href=https://colab.research.google.com/notebooks/data_table.ipynb>data table notebook</a>'\n",
              "            + ' to learn more about interactive tables.';\n",
              "          element.innerHTML = '';\n",
              "          dataTable['output_type'] = 'display_data';\n",
              "          await google.colab.output.renderOutput(dataTable, element);\n",
              "          const docLink = document.createElement('div');\n",
              "          docLink.innerHTML = docLinkHtml;\n",
              "          element.appendChild(docLink);\n",
              "        }\n",
              "      </script>\n",
              "    </div>\n",
              "  </div>\n",
              "  "
            ]
          },
          "metadata": {},
          "execution_count": 33
        }
      ]
    },
    {
      "cell_type": "code",
      "source": [
        "sns.heatmap(pivot, annot = True)\n",
        "plt.yticks(rotation = 0)\n",
        "plt.xticks(rotation = 45)\n",
        "plt.title('Lift')\n",
        "plt.show()"
      ],
      "metadata": {
        "colab": {
          "base_uri": "https://localhost:8080/",
          "height": 318
        },
        "id": "E2wLDf5jbXDX",
        "outputId": "f92a97ae-edfd-434f-9a7e-715c4927865c"
      },
      "execution_count": null,
      "outputs": [
        {
          "output_type": "display_data",
          "data": {
            "text/plain": [
              "<Figure size 432x288 with 2 Axes>"
            ],
            "image/png": "[encoded data removed]"
          },
          "metadata": {
            "needs_background": "light"
          }
        }
      ]
    },
    {
      "cell_type": "markdown",
      "source": [
        "# PCA"
      ],
      "metadata": {
        "id": "-TVaStInvOAX"
      }
    },
    {
      "cell_type": "code",
      "source": [
        "import numpy as np\n",
        "import pandas as pd"
      ],
      "metadata": {
        "id": "rNpl7SHKbXMQ"
      },
      "execution_count": null,
      "outputs": []
    },
    {
      "cell_type": "code",
      "source": [
        "df_wine=pd.read_csv(\n",
        "'https://archive.ics.uci.edu/ml/machine-learning-databases/wine/wine.data'\n",
        "    , header=None)"
      ],
      "metadata": {
        "id": "LNt9t76vw5j-"
      },
      "execution_count": null,
      "outputs": []
    },
    {
      "cell_type": "code",
      "source": [
        "from sklearn.model_selection import train_test_split"
      ],
      "metadata": {
        "id": "fBiefb1Tw5mz"
      },
      "execution_count": null,
      "outputs": []
    },
    {
      "cell_type": "code",
      "source": [
        "X, y = df_wine.iloc[:, 1:], df_wine.iloc[:, 0]"
      ],
      "metadata": {
        "id": "WeB7VEjRw5pt"
      },
      "execution_count": null,
      "outputs": []
    },
    {
      "cell_type": "code",
      "source": [
        "X_train, X_test, y_train, y_test = train_test_split(X, y, test_size = 0.3, random_state = 42)"
      ],
      "metadata": {
        "id": "tGg-GDLZw5sT"
      },
      "execution_count": null,
      "outputs": []
    },
    {
      "cell_type": "code",
      "source": [
        "# En PCA siempre se estandariza\n",
        "from sklearn.preprocessing import StandardScaler"
      ],
      "metadata": {
        "id": "3LQkzx59w5us"
      },
      "execution_count": null,
      "outputs": []
    },
    {
      "cell_type": "code",
      "source": [
        "sc = StandardScaler()\n",
        "X_train_std = sc.fit_transform(X_train)\n",
        "X_test_std = sc.transform(X_test)"
      ],
      "metadata": {
        "id": "MTRJJ-YWw5xD"
      },
      "execution_count": null,
      "outputs": []
    },
    {
      "cell_type": "code",
      "source": [
        "cov_mat = np.cov(X_train_std.T)\n",
        "eigen_vals, eigen_vecs = np.linalg.eig(cov_mat)\n",
        "print('Eigenvals: ', eigen_vals)"
      ],
      "metadata": {
        "colab": {
          "base_uri": "https://localhost:8080/"
        },
        "id": "VGQqoNaVw5zi",
        "outputId": "d188a426-b864-4394-91bf-f2c3edd183a9"
      },
      "execution_count": null,
      "outputs": [
        {
          "output_type": "stream",
          "name": "stdout",
          "text": [
            "Eigenvals:  [4.74376552 2.45913372 1.5276711  0.99327678 0.92313257 0.59663887\n",
            " 0.46974164 0.09935613 0.17349645 0.34681782 0.23096439 0.25665489\n",
            " 0.28504118]\n"
          ]
        }
      ]
    },
    {
      "cell_type": "code",
      "source": [
        "import matplotlib.pyplot as plt\n",
        "tot = sum(eigen_vals)\n",
        "var_exp = [ev / tot for ev in sorted(eigen_vals, reverse = True)]\n",
        "cum_var_exp = np.cumsum(var_exp)\n",
        "plt.bar(range(1, 14), var_exp, label = 'varianza individual', align = 'center')\n",
        "plt.step(range(1, 14), cum_var_exp, where = 'mid', label = 'varianza acumulativa')\n",
        "plt.xlabel('Índice')\n",
        "plt.ylabel('Varianza')\n",
        "plt.legend(loc = 'best')\n",
        "plt.show()"
      ],
      "metadata": {
        "colab": {
          "base_uri": "https://localhost:8080/",
          "height": 279
        },
        "id": "pR_uN-pxw52A",
        "outputId": "66dc7275-ec0f-433d-df96-a88940706b36"
      },
      "execution_count": null,
      "outputs": [
        {
          "output_type": "display_data",
          "data": {
            "text/plain": [
              "<Figure size 432x288 with 1 Axes>"
            ],
            "image/png": "[encoded data removed]"
          },
          "metadata": {
            "needs_background": "light"
          }
        }
      ]
    },
    {
      "cell_type": "markdown",
      "source": [
        "Nos dice cuando aporta cada una de las componentes, estas no corresponden con las variables."
      ],
      "metadata": {
        "id": "fAO3fhgn1N9h"
      }
    },
    {
      "cell_type": "code",
      "source": [
        "# Lista de eigen-pares\n",
        "eigen_par = [(np.abs(eigen_vals[i]), eigen_vecs[i])\n",
        "              for i in range(len(eigen_vals))]\n",
        "\n",
        "# Ordenados de mayor a menor\n",
        "eigen_par.sort(key = lambda k: k[0], reverse = True)\n"
      ],
      "metadata": {
        "id": "gwX4hXoTw54i"
      },
      "execution_count": null,
      "outputs": []
    },
    {
      "cell_type": "code",
      "source": [
        "eigen_par[0]"
      ],
      "metadata": {
        "colab": {
          "base_uri": "https://localhost:8080/"
        },
        "id": "kpLy2Bag4AwR",
        "outputId": "53cea895-1b98-47cf-dee2-58066b35e8e5"
      },
      "execution_count": null,
      "outputs": [
        {
          "output_type": "execute_result",
          "data": {
            "text/plain": [
              "(4.611183213378482,\n",
              " array([-0.09843843,  0.48675647,  0.21263166, -0.04771955,  0.33127699,\n",
              "         0.16976249,  0.16797121, -0.44103376, -0.4829698 ,  0.17221439,\n",
              "        -0.20413652,  0.18328897, -0.08009738]))"
            ]
          },
          "metadata": {},
          "execution_count": 55
        }
      ]
    },
    {
      "cell_type": "code",
      "source": [
        "w = np.hstack((eigen_par[0][1][:, np.newaxis],\n",
        "               eigen_par[1][1][:, np.newaxis]))\n",
        "print('Matriz W \\n', w)"
      ],
      "metadata": {
        "colab": {
          "base_uri": "https://localhost:8080/"
        },
        "id": "hi82Cv-l1Lcb",
        "outputId": "03775ee0-af1e-40b6-b6d4-8d47539765e8"
      },
      "execution_count": null,
      "outputs": [
        {
          "output_type": "stream",
          "name": "stdout",
          "text": [
            "Matriz W \n",
            " [[-0.09843843  0.25760131]\n",
            " [ 0.48675647  0.13422534]\n",
            " [ 0.21263166 -0.26832132]\n",
            " [-0.04771955  0.3596052 ]\n",
            " [ 0.33127699  0.24997914]\n",
            " [ 0.16976249  0.63634319]\n",
            " [ 0.16797121 -0.32885303]\n",
            " [-0.44103376  0.09393503]\n",
            " [-0.4829698  -0.06671678]\n",
            " [ 0.17221439 -0.04372196]\n",
            " [-0.20413652  0.17334304]\n",
            " [ 0.18328897 -0.29822355]\n",
            " [-0.08009738 -0.06763682]]\n"
          ]
        }
      ]
    },
    {
      "cell_type": "code",
      "source": [
        "print('Original : ', X_train_std[0])\n",
        "print('Proyectada : ', X_train_std[0].dot(w))"
      ],
      "metadata": {
        "colab": {
          "base_uri": "https://localhost:8080/"
        },
        "id": "kfzNg_DB1LfZ",
        "outputId": "3cf17275-db76-4a6e-e241-2ed10305c2a1"
      },
      "execution_count": null,
      "outputs": [
        {
          "output_type": "stream",
          "name": "stdout",
          "text": [
            "Original :  [-1.72718287 -0.29604362 -0.26538608 -0.48683614 -0.10106739  1.23032632\n",
            "  0.28664193 -1.59939014 -0.39584935 -0.74683204  0.96457859  0.52008268\n",
            " -1.23477905]\n",
            "Proyectada :  [0.98152707 0.07930338]\n"
          ]
        }
      ]
    },
    {
      "cell_type": "code",
      "source": [
        "X_train_pca = X_train_std.dot(w)\n",
        "X_train_pca.shape"
      ],
      "metadata": {
        "colab": {
          "base_uri": "https://localhost:8080/"
        },
        "id": "ppcq1I_T1Liv",
        "outputId": "b930e68e-b264-4f19-fc18-c6fe0f28b1c6"
      },
      "execution_count": null,
      "outputs": [
        {
          "output_type": "execute_result",
          "data": {
            "text/plain": [
              "(124, 2)"
            ]
          },
          "metadata": {},
          "execution_count": 58
        }
      ]
    },
    {
      "cell_type": "markdown",
      "source": [
        "# Scikit-learn"
      ],
      "metadata": {
        "id": "wqnVmufY5e40"
      }
    },
    {
      "cell_type": "code",
      "source": [
        "import numpy as np\n",
        "import pandas as pd\n",
        "import matplotlib.pyplot as plt"
      ],
      "metadata": {
        "id": "1LK6yH5n6L1V"
      },
      "execution_count": null,
      "outputs": []
    },
    {
      "cell_type": "code",
      "source": [
        "df_wine=pd.read_csv(\n",
        "'https://archive.ics.uci.edu/ml/machine-learning-databases/wine/wine.data'\n",
        "    , header=None)"
      ],
      "metadata": {
        "id": "xrqPOoJ86L1V"
      },
      "execution_count": null,
      "outputs": []
    },
    {
      "cell_type": "code",
      "source": [
        "from sklearn.model_selection import train_test_split"
      ],
      "metadata": {
        "id": "BFI2XeXd6L1W"
      },
      "execution_count": null,
      "outputs": []
    },
    {
      "cell_type": "code",
      "source": [
        "X, y = df_wine.iloc[:, 1:], df_wine.iloc[:, 0]"
      ],
      "metadata": {
        "id": "_nOrOX116L1W"
      },
      "execution_count": null,
      "outputs": []
    },
    {
      "cell_type": "code",
      "source": [
        "X_train, X_test, y_train, y_test = train_test_split(X, y, test_size = 0.3, random_state = 42)"
      ],
      "metadata": {
        "id": "_0dAeqZH6L1X"
      },
      "execution_count": null,
      "outputs": []
    },
    {
      "cell_type": "code",
      "source": [
        "from sklearn.preprocessing import StandardScaler\n",
        "\n",
        "sc = StandardScaler()\n",
        "X_train_std = sc.fit_transform(X_train)\n",
        "X_test_std = sc.transform(X_test)"
      ],
      "metadata": {
        "id": "ZqlHAxeVw57W"
      },
      "execution_count": null,
      "outputs": []
    },
    {
      "cell_type": "markdown",
      "source": [
        "¡¡¡ES RECOMENDABLE ESTANDARIZAR DESPUÉS DEL SPLITTING!!!"
      ],
      "metadata": {
        "id": "XqiCC3xH6yhj"
      }
    },
    {
      "cell_type": "code",
      "source": [
        "# Ayuda con regresión logistica\n",
        "from sklearn.linear_model import LogisticRegression\n",
        "from sklearn.decomposition import PCA"
      ],
      "metadata": {
        "id": "RS66NtMo7CB9"
      },
      "execution_count": null,
      "outputs": []
    },
    {
      "cell_type": "code",
      "source": [
        "pca = PCA(n_components = 2)\n",
        "lr = LogisticRegression(multi_class = 'auto', solver = 'liblinear')\n",
        "\n",
        "X_train_pca = pca.fit_transform(X_train_std)\n",
        "X_test_pca = pca.transform(X_test_std)\n",
        "\n",
        "lr.fit(X_train_pca, y_train)\n"
      ],
      "metadata": {
        "colab": {
          "base_uri": "https://localhost:8080/"
        },
        "id": "Lhnp9II07CEd",
        "outputId": "0bedf2e3-248c-41bf-e070-e95d4bb1539e"
      },
      "execution_count": null,
      "outputs": [
        {
          "output_type": "execute_result",
          "data": {
            "text/plain": [
              "LogisticRegression(solver='liblinear')"
            ]
          },
          "metadata": {},
          "execution_count": 96
        }
      ]
    },
    {
      "cell_type": "code",
      "source": [
        "from mlxtend.plotting import plot_decision_regions\n",
        "plot_decision_regions(X_train_pca, np.array(y_train), clf = lr, legend = 2)\n",
        "plt.xlabel('PC 1')\n",
        "plt.ylabel('PC 2')\n",
        "plt.show()"
      ],
      "metadata": {
        "colab": {
          "base_uri": "https://localhost:8080/",
          "height": 334
        },
        "id": "gIRVwPAM7CHR",
        "outputId": "b3938f07-54c2-4e8c-e213-d2b59c9c9bcd"
      },
      "execution_count": null,
      "outputs": [
        {
          "output_type": "stream",
          "name": "stderr",
          "text": [
            "/usr/local/lib/python3.7/dist-packages/mlxtend/plotting/decision_regions.py:244: MatplotlibDeprecationWarning: Passing unsupported keyword arguments to axis() will raise a TypeError in 3.3.\n",
            "  ax.axis(xmin=xx.min(), xmax=xx.max(), y_min=yy.min(), y_max=yy.max())\n"
          ]
        },
        {
          "output_type": "display_data",
          "data": {
            "text/plain": [
              "<Figure size 432x288 with 1 Axes>"
            ],
            "image/png": "[encoded data removed]"
          },
          "metadata": {
            "needs_background": "light"
          }
        }
      ]
    },
    {
      "cell_type": "code",
      "source": [
        "plot_decision_regions(X_test_pca, np.array(y_test), clf = lr, legend = 1)\n",
        "plt.xlabel('PC 1')\n",
        "plt.ylabel('PC 2')\n",
        "plt.show()"
      ],
      "metadata": {
        "colab": {
          "base_uri": "https://localhost:8080/",
          "height": 334
        },
        "id": "OZ0QNnJX7CJ-",
        "outputId": "c0ec4cd8-0e98-4cbf-8263-a39c04514910"
      },
      "execution_count": null,
      "outputs": [
        {
          "output_type": "stream",
          "name": "stderr",
          "text": [
            "/usr/local/lib/python3.7/dist-packages/mlxtend/plotting/decision_regions.py:244: MatplotlibDeprecationWarning: Passing unsupported keyword arguments to axis() will raise a TypeError in 3.3.\n",
            "  ax.axis(xmin=xx.min(), xmax=xx.max(), y_min=yy.min(), y_max=yy.max())\n"
          ]
        },
        {
          "output_type": "display_data",
          "data": {
            "text/plain": [
              "<Figure size 432x288 with 1 Axes>"
            ],
            "image/png": "[encoded data removed]"
          },
          "metadata": {
            "needs_background": "light"
          }
        }
      ]
    },
    {
      "cell_type": "markdown",
      "source": [
        "# LDA con python"
      ],
      "metadata": {
        "id": "G6U5em4TA-Uu"
      }
    },
    {
      "cell_type": "code",
      "source": [
        "from sklearn.linear_model import LogisticRegression\n",
        "from sklearn.discriminant_analysis import LinearDiscriminantAnalysis as LDA"
      ],
      "metadata": {
        "id": "_uhO3Bkw7CXS"
      },
      "execution_count": null,
      "outputs": []
    },
    {
      "cell_type": "code",
      "source": [
        "lda = LDA(n_components = 2)\n",
        "X_train_lda = lda.fit_transform(X_train_std, y_train)\n",
        "X_test_lda = lda.transform(X_test_std)"
      ],
      "metadata": {
        "id": "EtN_4GTrBL5A"
      },
      "execution_count": null,
      "outputs": []
    },
    {
      "cell_type": "code",
      "source": [
        "lr = LogisticRegression()\n",
        "lr.fit(X_train_lda, y_train)"
      ],
      "metadata": {
        "colab": {
          "base_uri": "https://localhost:8080/"
        },
        "id": "EDhfM-fSBL7n",
        "outputId": "024bbb47-bbda-4705-939a-d7cb2d96a073"
      },
      "execution_count": null,
      "outputs": [
        {
          "output_type": "execute_result",
          "data": {
            "text/plain": [
              "LogisticRegression()"
            ]
          },
          "metadata": {},
          "execution_count": 111
        }
      ]
    },
    {
      "cell_type": "code",
      "source": [
        "from mlxtend.plotting import plot_decision_regions\n",
        "plot_decision_regions(X_train_lda, np.array(y_train), clf = lr, legend = 2)\n",
        "plt.xlabel('PC 1')\n",
        "plt.ylabel('PC 2')\n",
        "plt.show()"
      ],
      "metadata": {
        "colab": {
          "base_uri": "https://localhost:8080/",
          "height": 334
        },
        "id": "-LfEziagBL_D",
        "outputId": "55105b3e-f5b8-41f9-a349-a56829020d63"
      },
      "execution_count": null,
      "outputs": [
        {
          "output_type": "stream",
          "name": "stderr",
          "text": [
            "/usr/local/lib/python3.7/dist-packages/mlxtend/plotting/decision_regions.py:244: MatplotlibDeprecationWarning: Passing unsupported keyword arguments to axis() will raise a TypeError in 3.3.\n",
            "  ax.axis(xmin=xx.min(), xmax=xx.max(), y_min=yy.min(), y_max=yy.max())\n"
          ]
        },
        {
          "output_type": "display_data",
          "data": {
            "text/plain": [
              "<Figure size 432x288 with 1 Axes>"
            ],
            "image/png": "[encoded data removed]"
          },
          "metadata": {
            "needs_background": "light"
          }
        }
      ]
    },
    {
      "cell_type": "code",
      "source": [
        "plot_decision_regions(X_test_lda, np.array(y_test), clf = lr, legend = 1)\n",
        "plt.xlabel('PC 1')\n",
        "plt.ylabel('PC 2')\n",
        "plt.show()"
      ],
      "metadata": {
        "colab": {
          "base_uri": "https://localhost:8080/",
          "height": 334
        },
        "id": "Sf_EyKtaB_l0",
        "outputId": "fa2e90c9-b820-4b81-884e-7f80ad7aefa8"
      },
      "execution_count": null,
      "outputs": [
        {
          "output_type": "stream",
          "name": "stderr",
          "text": [
            "/usr/local/lib/python3.7/dist-packages/mlxtend/plotting/decision_regions.py:244: MatplotlibDeprecationWarning: Passing unsupported keyword arguments to axis() will raise a TypeError in 3.3.\n",
            "  ax.axis(xmin=xx.min(), xmax=xx.max(), y_min=yy.min(), y_max=yy.max())\n"
          ]
        },
        {
          "output_type": "display_data",
          "data": {
            "text/plain": [
              "<Figure size 432x288 with 1 Axes>"
            ],
            "image/png": "[encoded data removed]"
          },
          "metadata": {
            "needs_background": "light"
          }
        }
      ]
    },
    {
      "cell_type": "markdown",
      "source": [
        "En lo personal me parece muy interesante la idea detrás de las reglas de asociación. Sobre todo en las posibles aplicaciones que tiene, más alla de lo comercial, pues pareciera que estamos hablando de detección de patrones en el comportamiento humano. Pienso en alguna posible aplicación como entender las reglas de asociación que pueden llevar a los crimiales a cometer algún delito, supongo algo similar a la detección de fraudes. Por otro lado y hablando del PCA pienso que es una implementación del álgebra lineal, como matemático es algo que llama particularmente mi atención, pues esta es sin duda una de las ramas de las matemáticas puras que tiene más aplicaciones. Y es que la creación de un subespacio vectorial que contenga la información del espacio de datos completos resulta bastante interesante."
      ],
      "metadata": {
        "id": "Z0a3FFZnsB_j"
      }
    }
  ]
}