{
  "nbformat": 4,
  "nbformat_minor": 0,
  "metadata": {
    "colab": {
      "name": "Practica 3 Valores atípicos y Manifold learning.ipynb",
      "provenance": [],
      "collapsed_sections": []
    },
    "kernelspec": {
      "name": "python3",
      "display_name": "Python 3"
    },
    "language_info": {
      "name": "python"
    }
  },
  "cells": [
    {
      "cell_type": "markdown",
      "source": [
        "# Práctica 3. Valores atípicos y Manifold learning"
      ],
      "metadata": {
        "id": "92xwKORRBoIJ"
      }
    },
    {
      "cell_type": "markdown",
      "source": [
        "## Ejercicio 1a. \n",
        "Existen muchos métodos más para encontrar valores atípicos en conjuntos de datos, la tarea consiste\n",
        "en buscar al menos otros dos y presentarlos con la idea intuitiva básica y un ejemplo en un\n",
        "documento que se entregará en Moodle. "
      ],
      "metadata": {
        "id": "7plRYUuABwDo"
      }
    },
    {
      "cell_type": "markdown",
      "source": [
        "Para este ejercicio, se usará el dataset de https://raw.githubusercontent.com/jbrownlee/Datasets/master/housing.csv"
      ],
      "metadata": {
        "id": "2c-kfV-9FAko"
      }
    },
    {
      "cell_type": "code",
      "source": [
        "# Importación de librerias\n",
        "import pandas as pd\n",
        "import numpy as np\n",
        "import matplotlib.pyplot as plt\n",
        "import seaborn as sns\n",
        "import random \n",
        "\n",
        "from sklearn.model_selection import train_test_split\n",
        "from sklearn.linear_model import LinearRegression\n",
        "from sklearn.metrics import mean_squared_error as mse\n",
        "from sklearn.preprocessing import LabelEncoder\n",
        "from sklearn.preprocessing import StandardScaler\n",
        "from sklearn.decomposition import PCA\n",
        "from sklearn.model_selection import GridSearchCV\n",
        "from sklearn.linear_model import LogisticRegression\n",
        "from sklearn.svm import SVC\n",
        "from sklearn.metrics import accuracy_score\n",
        "from sklearn.pipeline import Pipeline\n",
        "from sklearn.model_selection import StratifiedKFold\n",
        "from sklearn.model_selection import cross_val_score\n",
        "from sklearn.datasets import load_digits\n",
        "from pylab import scatter, text, show, cm, figure\n",
        "from pylab import subplot, imshow, NullLocator\n",
        "\n",
        "\n",
        "import warnings\n",
        "warnings.filterwarnings('ignore')"
      ],
      "metadata": {
        "id": "BloQ2zdwFmc3"
      },
      "execution_count": 1,
      "outputs": []
    },
    {
      "cell_type": "code",
      "source": [
        "# Lectura de los datos donde se pondrán a prueba los algoritmos de detección de outliers\n",
        "df = pd.read_csv('https://raw.githubusercontent.com/jbrownlee/Datasets/master/housing.csv', header = None)\n",
        "df.head(3)"
      ],
      "metadata": {
        "colab": {
          "base_uri": "https://localhost:8080/",
          "height": 143
        },
        "id": "ySUl7qujFsh5",
        "outputId": "d4be5c7f-2263-46d0-85f5-98c29ee99af7"
      },
      "execution_count": 2,
      "outputs": [
        {
          "output_type": "execute_result",
          "data": {
            "text/plain": [
              "        0     1     2   3      4      5     6       7   8      9     10  \\\n",
              "0  0.00632  18.0  2.31   0  0.538  6.575  65.2  4.0900   1  296.0  15.3   \n",
              "1  0.02731   0.0  7.07   0  0.469  6.421  78.9  4.9671   2  242.0  17.8   \n",
              "2  0.02729   0.0  7.07   0  0.469  7.185  61.1  4.9671   2  242.0  17.8   \n",
              "\n",
              "       11    12    13  \n",
              "0  396.90  4.98  24.0  \n",
              "1  396.90  9.14  21.6  \n",
              "2  392.83  4.03  34.7  "
            ],
            "text/html": [
              "\n",
              "  <div id=\"df-41a63e63-f261-4782-951d-e143b661364a\">\n",
              "    <div class=\"colab-df-container\">\n",
              "      <div>\n",
              "<style scoped>\n",
              "    .dataframe tbody tr th:only-of-type {\n",
              "        vertical-align: middle;\n",
              "    }\n",
              "\n",
              "    .dataframe tbody tr th {\n",
              "        vertical-align: top;\n",
              "    }\n",
              "\n",
              "    .dataframe thead th {\n",
              "        text-align: right;\n",
              "    }\n",
              "</style>\n",
              "<table border=\"1\" class=\"dataframe\">\n",
              "  <thead>\n",
              "    <tr style=\"text-align: right;\">\n",
              "      <th></th>\n",
              "      <th>0</th>\n",
              "      <th>1</th>\n",
              "      <th>2</th>\n",
              "      <th>3</th>\n",
              "      <th>4</th>\n",
              "      <th>5</th>\n",
              "      <th>6</th>\n",
              "      <th>7</th>\n",
              "      <th>8</th>\n",
              "      <th>9</th>\n",
              "      <th>10</th>\n",
              "      <th>11</th>\n",
              "      <th>12</th>\n",
              "      <th>13</th>\n",
              "    </tr>\n",
              "  </thead>\n",
              "  <tbody>\n",
              "    <tr>\n",
              "      <th>0</th>\n",
              "      <td>0.00632</td>\n",
              "      <td>18.0</td>\n",
              "      <td>2.31</td>\n",
              "      <td>0</td>\n",
              "      <td>0.538</td>\n",
              "      <td>6.575</td>\n",
              "      <td>65.2</td>\n",
              "      <td>4.0900</td>\n",
              "      <td>1</td>\n",
              "      <td>296.0</td>\n",
              "      <td>15.3</td>\n",
              "      <td>396.90</td>\n",
              "      <td>4.98</td>\n",
              "      <td>24.0</td>\n",
              "    </tr>\n",
              "    <tr>\n",
              "      <th>1</th>\n",
              "      <td>0.02731</td>\n",
              "      <td>0.0</td>\n",
              "      <td>7.07</td>\n",
              "      <td>0</td>\n",
              "      <td>0.469</td>\n",
              "      <td>6.421</td>\n",
              "      <td>78.9</td>\n",
              "      <td>4.9671</td>\n",
              "      <td>2</td>\n",
              "      <td>242.0</td>\n",
              "      <td>17.8</td>\n",
              "      <td>396.90</td>\n",
              "      <td>9.14</td>\n",
              "      <td>21.6</td>\n",
              "    </tr>\n",
              "    <tr>\n",
              "      <th>2</th>\n",
              "      <td>0.02729</td>\n",
              "      <td>0.0</td>\n",
              "      <td>7.07</td>\n",
              "      <td>0</td>\n",
              "      <td>0.469</td>\n",
              "      <td>7.185</td>\n",
              "      <td>61.1</td>\n",
              "      <td>4.9671</td>\n",
              "      <td>2</td>\n",
              "      <td>242.0</td>\n",
              "      <td>17.8</td>\n",
              "      <td>392.83</td>\n",
              "      <td>4.03</td>\n",
              "      <td>34.7</td>\n",
              "    </tr>\n",
              "  </tbody>\n",
              "</table>\n",
              "</div>\n",
              "      <button class=\"colab-df-convert\" onclick=\"convertToInteractive('df-41a63e63-f261-4782-951d-e143b661364a')\"\n",
              "              title=\"Convert this dataframe to an interactive table.\"\n",
              "              style=\"display:none;\">\n",
              "        \n",
              "  <svg xmlns=\"http://www.w3.org/2000/svg\" height=\"24px\"viewBox=\"0 0 24 24\"\n",
              "       width=\"24px\">\n",
              "    <path d=\"M0 0h24v24H0V0z\" fill=\"none\"/>\n",
              "    <path d=\"M18.56 5.44l.94 2.06.94-2.06 2.06-.94-2.06-.94-.94-2.06-.94 2.06-2.06.94zm-11 1L8.5 8.5l.94-2.06 2.06-.94-2.06-.94L8.5 2.5l-.94 2.06-2.06.94zm10 10l.94 2.06.94-2.06 2.06-.94-2.06-.94-.94-2.06-.94 2.06-2.06.94z\"/><path d=\"M17.41 7.96l-1.37-1.37c-.4-.4-.92-.59-1.43-.59-.52 0-1.04.2-1.43.59L10.3 9.45l-7.72 7.72c-.78.78-.78 2.05 0 2.83L4 21.41c.39.39.9.59 1.41.59.51 0 1.02-.2 1.41-.59l7.78-7.78 2.81-2.81c.8-.78.8-2.07 0-2.86zM5.41 20L4 18.59l7.72-7.72 1.47 1.35L5.41 20z\"/>\n",
              "  </svg>\n",
              "      </button>\n",
              "      \n",
              "  <style>\n",
              "    .colab-df-container {\n",
              "      display:flex;\n",
              "      flex-wrap:wrap;\n",
              "      gap: 12px;\n",
              "    }\n",
              "\n",
              "    .colab-df-convert {\n",
              "      background-color: #E8F0FE;\n",
              "      border: none;\n",
              "      border-radius: 50%;\n",
              "      cursor: pointer;\n",
              "      display: none;\n",
              "      fill: #1967D2;\n",
              "      height: 32px;\n",
              "      padding: 0 0 0 0;\n",
              "      width: 32px;\n",
              "    }\n",
              "\n",
              "    .colab-df-convert:hover {\n",
              "      background-color: #E2EBFA;\n",
              "      box-shadow: 0px 1px 2px rgba(60, 64, 67, 0.3), 0px 1px 3px 1px rgba(60, 64, 67, 0.15);\n",
              "      fill: #174EA6;\n",
              "    }\n",
              "\n",
              "    [theme=dark] .colab-df-convert {\n",
              "      background-color: #3B4455;\n",
              "      fill: #D2E3FC;\n",
              "    }\n",
              "\n",
              "    [theme=dark] .colab-df-convert:hover {\n",
              "      background-color: #434B5C;\n",
              "      box-shadow: 0px 1px 3px 1px rgba(0, 0, 0, 0.15);\n",
              "      filter: drop-shadow(0px 1px 2px rgba(0, 0, 0, 0.3));\n",
              "      fill: #FFFFFF;\n",
              "    }\n",
              "  </style>\n",
              "\n",
              "      <script>\n",
              "        const buttonEl =\n",
              "          document.querySelector('#df-41a63e63-f261-4782-951d-e143b661364a button.colab-df-convert');\n",
              "        buttonEl.style.display =\n",
              "          google.colab.kernel.accessAllowed ? 'block' : 'none';\n",
              "\n",
              "        async function convertToInteractive(key) {\n",
              "          const element = document.querySelector('#df-41a63e63-f261-4782-951d-e143b661364a');\n",
              "          const dataTable =\n",
              "            await google.colab.kernel.invokeFunction('convertToInteractive',\n",
              "                                                     [key], {});\n",
              "          if (!dataTable) return;\n",
              "\n",
              "          const docLinkHtml = 'Like what you see? Visit the ' +\n",
              "            '<a target=\"_blank\" href=https://colab.research.google.com/notebooks/data_table.ipynb>data table notebook</a>'\n",
              "            + ' to learn more about interactive tables.';\n",
              "          element.innerHTML = '';\n",
              "          dataTable['output_type'] = 'display_data';\n",
              "          await google.colab.output.renderOutput(dataTable, element);\n",
              "          const docLink = document.createElement('div');\n",
              "          docLink.innerHTML = docLinkHtml;\n",
              "          element.appendChild(docLink);\n",
              "        }\n",
              "      </script>\n",
              "    </div>\n",
              "  </div>\n",
              "  "
            ]
          },
          "metadata": {},
          "execution_count": 2
        }
      ]
    },
    {
      "cell_type": "code",
      "source": [
        "# Este es un problema de regresión cuya variable target es la última columna\n",
        "X, y = df.loc[:, :12].values, df.loc[:, 13]\n",
        "X.shape, y.shape"
      ],
      "metadata": {
        "colab": {
          "base_uri": "https://localhost:8080/"
        },
        "id": "SYcENushF-h3",
        "outputId": "439b7cb2-2c09-46d7-ff31-81fac923f980"
      },
      "execution_count": 3,
      "outputs": [
        {
          "output_type": "execute_result",
          "data": {
            "text/plain": [
              "((506, 13), (506,))"
            ]
          },
          "metadata": {},
          "execution_count": 3
        }
      ]
    },
    {
      "cell_type": "code",
      "source": [
        "# Obtenemos los conjuntos de entreamiento y pruebas\n",
        "X_train, X_test, y_train, y_test = train_test_split(X, y, test_size = 0.3, random_state = 42)"
      ],
      "metadata": {
        "id": "M5P5_iTHGauA"
      },
      "execution_count": 4,
      "outputs": []
    },
    {
      "cell_type": "markdown",
      "source": [
        "Probaremos una regresión lineal para comparar los resultados al eliminar los valores atíicos."
      ],
      "metadata": {
        "id": "aWjy5vEDGmI6"
      }
    },
    {
      "cell_type": "code",
      "source": [
        "# Modelo sin algoritmo de detección de outliers\n",
        "lr = LinearRegression() # Usaremos linear regression para probar cada uno de los modelos\n",
        "lr.fit(X_train, y_train)\n",
        "y_pred = lr.predict(X_test)\n",
        "\n",
        "# Y consideraremos las métricas de regresión r2 y mean squared error mse\n",
        "mse_sin = mse(y_test, y_pred)\n",
        "r2_sin = lr.score(X_test, y_test)\n",
        "\n",
        "print('MSE: ', mse_sin)\n",
        "print('R2: ', r2_sin)"
      ],
      "metadata": {
        "colab": {
          "base_uri": "https://localhost:8080/"
        },
        "id": "uYThdLMHGsiN",
        "outputId": "10e41753-8220-4fad-b0fa-ef5def91a3ff"
      },
      "execution_count": 5,
      "outputs": [
        {
          "output_type": "stream",
          "name": "stdout",
          "text": [
            "MSE:  21.517444231176903\n",
            "R2:  0.7112260057484974\n"
          ]
        }
      ]
    },
    {
      "cell_type": "markdown",
      "source": [
        "Función para detectar outliers y eliminarlos"
      ],
      "metadata": {
        "id": "XHbfad-Heirc"
      }
    },
    {
      "cell_type": "code",
      "source": [
        "def outlier_detection(modelo):\n",
        "  '''\n",
        "  Esta función servirá para detectar outliers con cada modelo, y después eliminar\n",
        "  dichos outliers para posteriormete volver a entrenar el modelo liear regression y calcular las métricas\n",
        "  r2 y mse\n",
        "  '''\n",
        "  y_pred = modelo.fit_predict(X) # Detectamos los outliers con el modelo ingresado\n",
        "  print('Cantidad de outliers: \\n', pd.DataFrame( y_pred ).value_counts() ) # Imprimimos la cantidad de outliers (label = -1)\n",
        "  mask = y_pred != -1\n",
        "\n",
        "  X_mask, y_mask = X[mask, :], y[mask] # Eliminamos los outliers\n",
        "\n",
        "  X_train_mask, X_test_mask, y_train_mask, y_test_mask = train_test_split(X_mask, y_mask, test_size = 0.3, random_state = 42)\n",
        "  # Entrenamos el modelo de regresión lineal\n",
        "  lr = LinearRegression()\n",
        "  lr.fit(X_train_mask, y_train_mask)\n",
        "  y_pred = lr.predict(X_test_mask)\n",
        "\n",
        "  # Calculamos las metricas r2 y mse\n",
        "  mse_ = mse(y_test_mask, y_pred)\n",
        "  r2 = lr.score(X_test_mask, y_test_mask)\n",
        "\n",
        "  print('MSE: ', mse_)\n",
        "  print('R2: ', r2)  \n",
        "\n",
        "  return mse_, r2"
      ],
      "metadata": {
        "id": "ZcOcJbYVd_rp"
      },
      "execution_count": 6,
      "outputs": []
    },
    {
      "cell_type": "markdown",
      "source": [
        "En los algoritmos siguietes aquellos valores con $-1$ son los outliers que el algoritmo detectó. Eliminaremos los outliers."
      ],
      "metadata": {
        "id": "fYI-NC9me19R"
      }
    },
    {
      "cell_type": "markdown",
      "source": [
        "* Isolation Forest.\n",
        "\n",
        "La base de los bosques de aislamiento es que los valores atípicos son fáciles de separar del resto de los datos. El algoritmo consiste en generar particiones de manera recursiva del conjunto de entrenamiento creando las ramas del árbol. Este algoritmo es muy similar al algoritmo de árboles de clasificación, excepto que en este caso las divisiones se hacen de forma aleatoria lo que lo convierte en un algoritmo de Machine Learning no supervisado. Cuando se aplica este algoritmo, los outliers al tener características distintas al resto quedan aisladas, por lo que el número de nodos para llegar a ellos es menor que para el resto.\n",
        "\n",
        "Luego, al igual que en Random Forest se combinan múltiples árboles de aislamiento, donde cada uno de estos se entrena con una muestra diferente generada mediante bootstrapping. El valor predicho para cada observacion es el número de divisiones promedio que se han necesitado para aislar dicha observacion en el conjunto de árboles. Cuanto menor es este valor, mayor es la probabilidad de que se trate de una **anomalía**.\n"
      ],
      "metadata": {
        "id": "Ge77CcV8CPGl"
      }
    },
    {
      "cell_type": "code",
      "execution_count": 7,
      "metadata": {
        "id": "uEZjqLRZBkki"
      },
      "outputs": [],
      "source": [
        "from sklearn.ensemble import IsolationForest"
      ]
    },
    {
      "cell_type": "markdown",
      "source": [
        "El argumento **contamination** es usado para estimar el\n",
        "número de outliers. Entre más pequeño, menos outliers "
      ],
      "metadata": {
        "id": "3ZxaLvyFIg-7"
      }
    },
    {
      "cell_type": "code",
      "source": [
        "mse_iso, r2_iso = outlier_detection(IsolationForest(contamination = 0.01, random_state = 42))"
      ],
      "metadata": {
        "colab": {
          "base_uri": "https://localhost:8080/"
        },
        "id": "WYteGBKMIbwA",
        "outputId": "ea6c619f-9743-4d75-b806-9df66a5086e3"
      },
      "execution_count": 8,
      "outputs": [
        {
          "output_type": "stream",
          "name": "stdout",
          "text": [
            "Cantidad de outliers: \n",
            "  1    500\n",
            "-1      6\n",
            "dtype: int64\n",
            "MSE:  13.614015145694184\n",
            "R2:  0.7915080429908085\n"
          ]
        }
      ]
    },
    {
      "cell_type": "markdown",
      "source": [
        "* Minimum Covariance Determinant\n",
        "\n",
        "Este algoritmo consiste en estimar la matriz de covarianzas e intentar minimizar el efecto delas anomalías. El algoritmo toma todos los posibles subconjuntos del dataset de un tamaño dado y calcula la matriz de covarianzas de cada subconjunto y mantiene el estimado de aqul subconjunto con el determinante más pequeño para su respectiva matriz de covarianzas. Y es que el determinante de esta matriz mide que tan amplia es la distribución, por lo cual minimizar esta cantidad asegura excluir las anomalías de este conjunto.\n",
        "\n",
        "Es importante destacar que el algoritmo se aplica cuando los datos presentan una distribución Gaussiana.\n",
        "\n",
        "Geometricamente se define una elipsoide que cubre los datos normales y los datos fuera de ella son outliers."
      ],
      "metadata": {
        "id": "2XzcNgzmMOhK"
      }
    },
    {
      "cell_type": "code",
      "source": [
        "from sklearn.covariance import EllipticEnvelope"
      ],
      "metadata": {
        "id": "RC-t_jOiNnMR"
      },
      "execution_count": 9,
      "outputs": []
    },
    {
      "cell_type": "markdown",
      "source": [
        "El argumento **contamination** es usado para estimar el número de outliers."
      ],
      "metadata": {
        "id": "BbE7CqsqO6yC"
      }
    },
    {
      "cell_type": "code",
      "source": [
        "mse_mcd, r2_mcd = outlier_detection( EllipticEnvelope(contamination = 0.01, random_state = 42))"
      ],
      "metadata": {
        "colab": {
          "base_uri": "https://localhost:8080/"
        },
        "id": "uBo7r7Z_O8Oi",
        "outputId": "ca209669-57b3-41db-dcd3-3bf60588b405"
      },
      "execution_count": 10,
      "outputs": [
        {
          "output_type": "stream",
          "name": "stdout",
          "text": [
            "Cantidad de outliers: \n",
            "  1    500\n",
            "-1      6\n",
            "dtype: int64\n",
            "MSE:  19.527494056871163\n",
            "R2:  0.7333618688395753\n"
          ]
        }
      ]
    },
    {
      "cell_type": "markdown",
      "source": [
        "* Local Outlier Factor\n",
        "\n",
        "Este algoritmo consiste en detectar aquellos puntos en el espacio de todas los datos que se encuentren lejos del resto. Este algoritmo funciona mejor cuando el conjunto de datos no tiene demasiadas variables. En el fondo, este algoritmo utiliza el algoritmo de Machine Learning K Nearest Neighbors para la detección de outliers. "
      ],
      "metadata": {
        "id": "Cp656k4yQ2DN"
      }
    },
    {
      "cell_type": "code",
      "source": [
        "from sklearn.neighbors import LocalOutlierFactor"
      ],
      "metadata": {
        "id": "qiLVhNxWRmXU"
      },
      "execution_count": 11,
      "outputs": []
    },
    {
      "cell_type": "markdown",
      "source": [
        "El argumento contamination es usado para estimar el número de outliers. Entre más pequeño, menos outliers."
      ],
      "metadata": {
        "id": "YdL4vWaNS4gL"
      }
    },
    {
      "cell_type": "code",
      "source": [
        "mse_lof, r2_lof = outlier_detection( LocalOutlierFactor(contamination = 0.01))"
      ],
      "metadata": {
        "colab": {
          "base_uri": "https://localhost:8080/"
        },
        "id": "Epn9QJCRRwHr",
        "outputId": "83fdb60c-eb4d-487c-bcdb-42f2a4660cec"
      },
      "execution_count": 12,
      "outputs": [
        {
          "output_type": "stream",
          "name": "stdout",
          "text": [
            "Cantidad de outliers: \n",
            "  1    500\n",
            "-1      6\n",
            "dtype: int64\n",
            "MSE:  21.500166373117512\n",
            "R2:  0.7214354548283235\n"
          ]
        }
      ]
    },
    {
      "cell_type": "markdown",
      "source": [
        "* One-Class SVM\n",
        "\n",
        "La idea de este algoritmo es utilizar los support vector machines como clasificador de una sola clase, los datos normales (no-outliers)."
      ],
      "metadata": {
        "id": "hjdL_koKTBsT"
      }
    },
    {
      "cell_type": "code",
      "source": [
        "from sklearn.svm import OneClassSVM"
      ],
      "metadata": {
        "id": "jI4pnCn0TXNa"
      },
      "execution_count": 13,
      "outputs": []
    },
    {
      "cell_type": "markdown",
      "source": [
        "En este caso el algoritmo que nos permite dar un estimado del ratio de outliers a detectar es **nu**."
      ],
      "metadata": {
        "id": "A7ZHnEsvTnWl"
      }
    },
    {
      "cell_type": "code",
      "source": [
        "mse_svm, r2_svm = outlier_detection( OneClassSVM(nu = 0.01) )"
      ],
      "metadata": {
        "colab": {
          "base_uri": "https://localhost:8080/"
        },
        "id": "wIPvLp6bTe0z",
        "outputId": "dadd3bb3-9af7-4b9f-c894-0474f2ef40e9"
      },
      "execution_count": 14,
      "outputs": [
        {
          "output_type": "stream",
          "name": "stdout",
          "text": [
            "Cantidad de outliers: \n",
            "  1    500\n",
            "-1      6\n",
            "dtype: int64\n",
            "MSE:  22.135053383816466\n",
            "R2:  0.7099391509319114\n"
          ]
        }
      ]
    },
    {
      "cell_type": "markdown",
      "source": [
        "* Summary"
      ],
      "metadata": {
        "id": "LOMgF7P-VQlV"
      }
    },
    {
      "cell_type": "code",
      "source": [
        "# Crearemos un dataframe que contenga para cada modelo las métricas r2 y mse\n",
        "models = ['Sin modelo de deteccion', 'Isolation Forest', 'Minimum Covariance Determinant', 'Local Outlier Factor', 'One-Class SVM'] \n",
        "mse_list = [mse_sin, mse_iso, mse_mcd, mse_lof, mse_svm]\n",
        "r2 = [r2_sin, r2_mcd, r2_mcd, r2_lof, r2_svm]\n",
        "\n",
        "summary = pd.DataFrame(list(zip(models, mse_list, r2)), columns = ['models', 'MSE', 'r2'])\n",
        "summary"
      ],
      "metadata": {
        "colab": {
          "base_uri": "https://localhost:8080/",
          "height": 206
        },
        "id": "Nn9mw5KUVSIv",
        "outputId": "d3a9c683-ab18-41f8-c823-575093c50166"
      },
      "execution_count": 15,
      "outputs": [
        {
          "output_type": "execute_result",
          "data": {
            "text/plain": [
              "                           models        MSE        r2\n",
              "0         Sin modelo de deteccion  21.517444  0.711226\n",
              "1                Isolation Forest  13.614015  0.733362\n",
              "2  Minimum Covariance Determinant  19.527494  0.733362\n",
              "3            Local Outlier Factor  21.500166  0.721435\n",
              "4                   One-Class SVM  22.135053  0.709939"
            ],
            "text/html": [
              "\n",
              "  <div id=\"df-93d6d844-e624-4e6f-b6cd-108a8b16a40b\">\n",
              "    <div class=\"colab-df-container\">\n",
              "      <div>\n",
              "<style scoped>\n",
              "    .dataframe tbody tr th:only-of-type {\n",
              "        vertical-align: middle;\n",
              "    }\n",
              "\n",
              "    .dataframe tbody tr th {\n",
              "        vertical-align: top;\n",
              "    }\n",
              "\n",
              "    .dataframe thead th {\n",
              "        text-align: right;\n",
              "    }\n",
              "</style>\n",
              "<table border=\"1\" class=\"dataframe\">\n",
              "  <thead>\n",
              "    <tr style=\"text-align: right;\">\n",
              "      <th></th>\n",
              "      <th>models</th>\n",
              "      <th>MSE</th>\n",
              "      <th>r2</th>\n",
              "    </tr>\n",
              "  </thead>\n",
              "  <tbody>\n",
              "    <tr>\n",
              "      <th>0</th>\n",
              "      <td>Sin modelo de deteccion</td>\n",
              "      <td>21.517444</td>\n",
              "      <td>0.711226</td>\n",
              "    </tr>\n",
              "    <tr>\n",
              "      <th>1</th>\n",
              "      <td>Isolation Forest</td>\n",
              "      <td>13.614015</td>\n",
              "      <td>0.733362</td>\n",
              "    </tr>\n",
              "    <tr>\n",
              "      <th>2</th>\n",
              "      <td>Minimum Covariance Determinant</td>\n",
              "      <td>19.527494</td>\n",
              "      <td>0.733362</td>\n",
              "    </tr>\n",
              "    <tr>\n",
              "      <th>3</th>\n",
              "      <td>Local Outlier Factor</td>\n",
              "      <td>21.500166</td>\n",
              "      <td>0.721435</td>\n",
              "    </tr>\n",
              "    <tr>\n",
              "      <th>4</th>\n",
              "      <td>One-Class SVM</td>\n",
              "      <td>22.135053</td>\n",
              "      <td>0.709939</td>\n",
              "    </tr>\n",
              "  </tbody>\n",
              "</table>\n",
              "</div>\n",
              "      <button class=\"colab-df-convert\" onclick=\"convertToInteractive('df-93d6d844-e624-4e6f-b6cd-108a8b16a40b')\"\n",
              "              title=\"Convert this dataframe to an interactive table.\"\n",
              "              style=\"display:none;\">\n",
              "        \n",
              "  <svg xmlns=\"http://www.w3.org/2000/svg\" height=\"24px\"viewBox=\"0 0 24 24\"\n",
              "       width=\"24px\">\n",
              "    <path d=\"M0 0h24v24H0V0z\" fill=\"none\"/>\n",
              "    <path d=\"M18.56 5.44l.94 2.06.94-2.06 2.06-.94-2.06-.94-.94-2.06-.94 2.06-2.06.94zm-11 1L8.5 8.5l.94-2.06 2.06-.94-2.06-.94L8.5 2.5l-.94 2.06-2.06.94zm10 10l.94 2.06.94-2.06 2.06-.94-2.06-.94-.94-2.06-.94 2.06-2.06.94z\"/><path d=\"M17.41 7.96l-1.37-1.37c-.4-.4-.92-.59-1.43-.59-.52 0-1.04.2-1.43.59L10.3 9.45l-7.72 7.72c-.78.78-.78 2.05 0 2.83L4 21.41c.39.39.9.59 1.41.59.51 0 1.02-.2 1.41-.59l7.78-7.78 2.81-2.81c.8-.78.8-2.07 0-2.86zM5.41 20L4 18.59l7.72-7.72 1.47 1.35L5.41 20z\"/>\n",
              "  </svg>\n",
              "      </button>\n",
              "      \n",
              "  <style>\n",
              "    .colab-df-container {\n",
              "      display:flex;\n",
              "      flex-wrap:wrap;\n",
              "      gap: 12px;\n",
              "    }\n",
              "\n",
              "    .colab-df-convert {\n",
              "      background-color: #E8F0FE;\n",
              "      border: none;\n",
              "      border-radius: 50%;\n",
              "      cursor: pointer;\n",
              "      display: none;\n",
              "      fill: #1967D2;\n",
              "      height: 32px;\n",
              "      padding: 0 0 0 0;\n",
              "      width: 32px;\n",
              "    }\n",
              "\n",
              "    .colab-df-convert:hover {\n",
              "      background-color: #E2EBFA;\n",
              "      box-shadow: 0px 1px 2px rgba(60, 64, 67, 0.3), 0px 1px 3px 1px rgba(60, 64, 67, 0.15);\n",
              "      fill: #174EA6;\n",
              "    }\n",
              "\n",
              "    [theme=dark] .colab-df-convert {\n",
              "      background-color: #3B4455;\n",
              "      fill: #D2E3FC;\n",
              "    }\n",
              "\n",
              "    [theme=dark] .colab-df-convert:hover {\n",
              "      background-color: #434B5C;\n",
              "      box-shadow: 0px 1px 3px 1px rgba(0, 0, 0, 0.15);\n",
              "      filter: drop-shadow(0px 1px 2px rgba(0, 0, 0, 0.3));\n",
              "      fill: #FFFFFF;\n",
              "    }\n",
              "  </style>\n",
              "\n",
              "      <script>\n",
              "        const buttonEl =\n",
              "          document.querySelector('#df-93d6d844-e624-4e6f-b6cd-108a8b16a40b button.colab-df-convert');\n",
              "        buttonEl.style.display =\n",
              "          google.colab.kernel.accessAllowed ? 'block' : 'none';\n",
              "\n",
              "        async function convertToInteractive(key) {\n",
              "          const element = document.querySelector('#df-93d6d844-e624-4e6f-b6cd-108a8b16a40b');\n",
              "          const dataTable =\n",
              "            await google.colab.kernel.invokeFunction('convertToInteractive',\n",
              "                                                     [key], {});\n",
              "          if (!dataTable) return;\n",
              "\n",
              "          const docLinkHtml = 'Like what you see? Visit the ' +\n",
              "            '<a target=\"_blank\" href=https://colab.research.google.com/notebooks/data_table.ipynb>data table notebook</a>'\n",
              "            + ' to learn more about interactive tables.';\n",
              "          element.innerHTML = '';\n",
              "          dataTable['output_type'] = 'display_data';\n",
              "          await google.colab.output.renderOutput(dataTable, element);\n",
              "          const docLink = document.createElement('div');\n",
              "          docLink.innerHTML = docLinkHtml;\n",
              "          element.appendChild(docLink);\n",
              "        }\n",
              "      </script>\n",
              "    </div>\n",
              "  </div>\n",
              "  "
            ]
          },
          "metadata": {},
          "execution_count": 15
        }
      ]
    },
    {
      "cell_type": "markdown",
      "source": [
        "En general podemos ver una mejora en MSE y en el $R^2$ excepto por el algoritmo One-Class SVM."
      ],
      "metadata": {
        "id": "Z9uho4OGl3Ld"
      }
    },
    {
      "cell_type": "markdown",
      "source": [
        "## Ejercicio 1b.\n",
        "\n",
        "Aplique al menos tres de los métodos vistos en la sesión o de los provistos por usted a alguno de los\n",
        "conjuntos de datos de las prácticas anteriores."
      ],
      "metadata": {
        "id": "4FIpb0ASmYet"
      }
    },
    {
      "cell_type": "code",
      "source": [
        "# Lectura de datos\n",
        "df_pizza = pd.read_csv('/content/Pizza.csv')\n",
        "df_pizza.head(3)"
      ],
      "metadata": {
        "colab": {
          "base_uri": "https://localhost:8080/",
          "height": 143
        },
        "id": "i6tOc__rm0MN",
        "outputId": "36f61034-5b69-4d7f-ccea-0a300eb00a5e"
      },
      "execution_count": 16,
      "outputs": [
        {
          "output_type": "execute_result",
          "data": {
            "text/plain": [
              "  brand     id   mois   prot    fat   ash  sodium  carb   cal\n",
              "0     A  14069  27.82  21.43  44.87  5.11    1.77  0.77  4.93\n",
              "1     A  14053  28.49  21.26  43.89  5.34    1.79  1.02  4.84\n",
              "2     A  14025  28.35  19.99  45.78  5.08    1.63  0.80  4.95"
            ],
            "text/html": [
              "\n",
              "  <div id=\"df-a65cd815-952e-46b8-b444-fd89ba80252d\">\n",
              "    <div class=\"colab-df-container\">\n",
              "      <div>\n",
              "<style scoped>\n",
              "    .dataframe tbody tr th:only-of-type {\n",
              "        vertical-align: middle;\n",
              "    }\n",
              "\n",
              "    .dataframe tbody tr th {\n",
              "        vertical-align: top;\n",
              "    }\n",
              "\n",
              "    .dataframe thead th {\n",
              "        text-align: right;\n",
              "    }\n",
              "</style>\n",
              "<table border=\"1\" class=\"dataframe\">\n",
              "  <thead>\n",
              "    <tr style=\"text-align: right;\">\n",
              "      <th></th>\n",
              "      <th>brand</th>\n",
              "      <th>id</th>\n",
              "      <th>mois</th>\n",
              "      <th>prot</th>\n",
              "      <th>fat</th>\n",
              "      <th>ash</th>\n",
              "      <th>sodium</th>\n",
              "      <th>carb</th>\n",
              "      <th>cal</th>\n",
              "    </tr>\n",
              "  </thead>\n",
              "  <tbody>\n",
              "    <tr>\n",
              "      <th>0</th>\n",
              "      <td>A</td>\n",
              "      <td>14069</td>\n",
              "      <td>27.82</td>\n",
              "      <td>21.43</td>\n",
              "      <td>44.87</td>\n",
              "      <td>5.11</td>\n",
              "      <td>1.77</td>\n",
              "      <td>0.77</td>\n",
              "      <td>4.93</td>\n",
              "    </tr>\n",
              "    <tr>\n",
              "      <th>1</th>\n",
              "      <td>A</td>\n",
              "      <td>14053</td>\n",
              "      <td>28.49</td>\n",
              "      <td>21.26</td>\n",
              "      <td>43.89</td>\n",
              "      <td>5.34</td>\n",
              "      <td>1.79</td>\n",
              "      <td>1.02</td>\n",
              "      <td>4.84</td>\n",
              "    </tr>\n",
              "    <tr>\n",
              "      <th>2</th>\n",
              "      <td>A</td>\n",
              "      <td>14025</td>\n",
              "      <td>28.35</td>\n",
              "      <td>19.99</td>\n",
              "      <td>45.78</td>\n",
              "      <td>5.08</td>\n",
              "      <td>1.63</td>\n",
              "      <td>0.80</td>\n",
              "      <td>4.95</td>\n",
              "    </tr>\n",
              "  </tbody>\n",
              "</table>\n",
              "</div>\n",
              "      <button class=\"colab-df-convert\" onclick=\"convertToInteractive('df-a65cd815-952e-46b8-b444-fd89ba80252d')\"\n",
              "              title=\"Convert this dataframe to an interactive table.\"\n",
              "              style=\"display:none;\">\n",
              "        \n",
              "  <svg xmlns=\"http://www.w3.org/2000/svg\" height=\"24px\"viewBox=\"0 0 24 24\"\n",
              "       width=\"24px\">\n",
              "    <path d=\"M0 0h24v24H0V0z\" fill=\"none\"/>\n",
              "    <path d=\"M18.56 5.44l.94 2.06.94-2.06 2.06-.94-2.06-.94-.94-2.06-.94 2.06-2.06.94zm-11 1L8.5 8.5l.94-2.06 2.06-.94-2.06-.94L8.5 2.5l-.94 2.06-2.06.94zm10 10l.94 2.06.94-2.06 2.06-.94-2.06-.94-.94-2.06-.94 2.06-2.06.94z\"/><path d=\"M17.41 7.96l-1.37-1.37c-.4-.4-.92-.59-1.43-.59-.52 0-1.04.2-1.43.59L10.3 9.45l-7.72 7.72c-.78.78-.78 2.05 0 2.83L4 21.41c.39.39.9.59 1.41.59.51 0 1.02-.2 1.41-.59l7.78-7.78 2.81-2.81c.8-.78.8-2.07 0-2.86zM5.41 20L4 18.59l7.72-7.72 1.47 1.35L5.41 20z\"/>\n",
              "  </svg>\n",
              "      </button>\n",
              "      \n",
              "  <style>\n",
              "    .colab-df-container {\n",
              "      display:flex;\n",
              "      flex-wrap:wrap;\n",
              "      gap: 12px;\n",
              "    }\n",
              "\n",
              "    .colab-df-convert {\n",
              "      background-color: #E8F0FE;\n",
              "      border: none;\n",
              "      border-radius: 50%;\n",
              "      cursor: pointer;\n",
              "      display: none;\n",
              "      fill: #1967D2;\n",
              "      height: 32px;\n",
              "      padding: 0 0 0 0;\n",
              "      width: 32px;\n",
              "    }\n",
              "\n",
              "    .colab-df-convert:hover {\n",
              "      background-color: #E2EBFA;\n",
              "      box-shadow: 0px 1px 2px rgba(60, 64, 67, 0.3), 0px 1px 3px 1px rgba(60, 64, 67, 0.15);\n",
              "      fill: #174EA6;\n",
              "    }\n",
              "\n",
              "    [theme=dark] .colab-df-convert {\n",
              "      background-color: #3B4455;\n",
              "      fill: #D2E3FC;\n",
              "    }\n",
              "\n",
              "    [theme=dark] .colab-df-convert:hover {\n",
              "      background-color: #434B5C;\n",
              "      box-shadow: 0px 1px 3px 1px rgba(0, 0, 0, 0.15);\n",
              "      filter: drop-shadow(0px 1px 2px rgba(0, 0, 0, 0.3));\n",
              "      fill: #FFFFFF;\n",
              "    }\n",
              "  </style>\n",
              "\n",
              "      <script>\n",
              "        const buttonEl =\n",
              "          document.querySelector('#df-a65cd815-952e-46b8-b444-fd89ba80252d button.colab-df-convert');\n",
              "        buttonEl.style.display =\n",
              "          google.colab.kernel.accessAllowed ? 'block' : 'none';\n",
              "\n",
              "        async function convertToInteractive(key) {\n",
              "          const element = document.querySelector('#df-a65cd815-952e-46b8-b444-fd89ba80252d');\n",
              "          const dataTable =\n",
              "            await google.colab.kernel.invokeFunction('convertToInteractive',\n",
              "                                                     [key], {});\n",
              "          if (!dataTable) return;\n",
              "\n",
              "          const docLinkHtml = 'Like what you see? Visit the ' +\n",
              "            '<a target=\"_blank\" href=https://colab.research.google.com/notebooks/data_table.ipynb>data table notebook</a>'\n",
              "            + ' to learn more about interactive tables.';\n",
              "          element.innerHTML = '';\n",
              "          dataTable['output_type'] = 'display_data';\n",
              "          await google.colab.output.renderOutput(dataTable, element);\n",
              "          const docLink = document.createElement('div');\n",
              "          docLink.innerHTML = docLinkHtml;\n",
              "          element.appendChild(docLink);\n",
              "        }\n",
              "      </script>\n",
              "    </div>\n",
              "  </div>\n",
              "  "
            ]
          },
          "metadata": {},
          "execution_count": 16
        }
      ]
    },
    {
      "cell_type": "code",
      "source": [
        "# Eliminamos la columna id\n",
        "df_pizza.drop('id', axis = 1, inplace = True)"
      ],
      "metadata": {
        "id": "LLqdvE3dm0PC"
      },
      "execution_count": 17,
      "outputs": []
    },
    {
      "cell_type": "code",
      "source": [
        "# La variable target es \"brand\", esta será la variable a predecir\n",
        "X = df_pizza.drop('brand', axis = 1).values\n",
        "y = df_pizza['brand']\n",
        "# Hay que recordar que el accuracy obtenido en la práctica anterior para este mismo conjunto de datos fué de 0.9166666"
      ],
      "metadata": {
        "id": "B09v9GYbm0UY"
      },
      "execution_count": 18,
      "outputs": []
    },
    {
      "cell_type": "code",
      "source": [
        "def fit_score(method):\n",
        "  '''\n",
        "  Esta función nos ayudará a detectar los outliers, eliminarlos\n",
        "  y posteriormente  crear el mismo modelo de lapráctica pasada\n",
        "  estandarizando, reduciendo componentes con PCA a 5 componenres y usando\n",
        "  SVC\n",
        "  '''\n",
        "  # Detección y eliminación de outliers\n",
        "  y_pred = method.fit_predict(X)\n",
        "  mask = y_pred != -1\n",
        "  X_mask, y_mask = X[mask, :], y[mask]\n",
        "  print('Número de outliers: \\n', pd.DataFrame( y_pred ).value_counts() )\n",
        "\n",
        "  # Dividimos el conjunto en entrenamiento y pruebas\n",
        "  X_train_mask, X_test_mask, y_train_mask, y_test_mask = train_test_split(X_mask, y_mask, test_size = 0.3, random_state = 42)\n",
        "\n",
        "\n",
        "  # Creación y entrenamiento del modelo\n",
        "  pipeline = Pipeline([\n",
        "                       ('scaler', StandardScaler()),\n",
        "                       ('pca', PCA(n_components = 5)),\n",
        "                       ('clf', SVC(C = 20, kernel = 'linear'))\n",
        "  ])\n",
        "\n",
        "  pipeline.fit(X_train_mask, y_train_mask)\n",
        "  print('Accuracy Score: ', pipeline.score(X_test_mask, y_test_mask))"
      ],
      "metadata": {
        "id": "XsKZJ7zGq_24"
      },
      "execution_count": 21,
      "outputs": []
    },
    {
      "cell_type": "markdown",
      "source": [
        "* Minimum Covariance Determinant"
      ],
      "metadata": {
        "id": "E4PSyQuhnEyo"
      }
    },
    {
      "cell_type": "code",
      "source": [
        "from sklearn.covariance import EllipticEnvelope\n",
        "fit_score(EllipticEnvelope(contamination = 0.01) )"
      ],
      "metadata": {
        "colab": {
          "base_uri": "https://localhost:8080/"
        },
        "id": "kV1pN7ggm0Za",
        "outputId": "0f8657dd-c02b-44d7-ecaf-c6a8b129307a"
      },
      "execution_count": 22,
      "outputs": [
        {
          "output_type": "stream",
          "name": "stdout",
          "text": [
            "Número de outliers: \n",
            "  1    297\n",
            "-1      3\n",
            "dtype: int64\n",
            "Accuracy Score:  0.9111111111111111\n"
          ]
        }
      ]
    },
    {
      "cell_type": "markdown",
      "source": [
        "* Isolation Forest"
      ],
      "metadata": {
        "id": "3T-OqbqnqK5s"
      }
    },
    {
      "cell_type": "code",
      "source": [
        "from sklearn.ensemble import IsolationForest\n",
        "fit_score(IsolationForest(contamination = 0.01))"
      ],
      "metadata": {
        "colab": {
          "base_uri": "https://localhost:8080/"
        },
        "id": "flqZ6yXFm0b3",
        "outputId": "16ee2958-2487-4c52-854c-66b624e96975"
      },
      "execution_count": 23,
      "outputs": [
        {
          "output_type": "stream",
          "name": "stdout",
          "text": [
            "Número de outliers: \n",
            "  1    297\n",
            "-1      3\n",
            "dtype: int64\n",
            "Accuracy Score:  0.9222222222222223\n"
          ]
        }
      ]
    },
    {
      "cell_type": "markdown",
      "source": [
        "* Local outlier Factor"
      ],
      "metadata": {
        "id": "rBEeGSCZsBB0"
      }
    },
    {
      "cell_type": "code",
      "source": [
        "from sklearn.neighbors import LocalOutlierFactor\n",
        "fit_score(LocalOutlierFactor(contamination = 0.01))"
      ],
      "metadata": {
        "colab": {
          "base_uri": "https://localhost:8080/"
        },
        "id": "PQKyhr43m0eD",
        "outputId": "dfde4e9b-e9a6-4b3a-db64-9d57b03a7de2"
      },
      "execution_count": 24,
      "outputs": [
        {
          "output_type": "stream",
          "name": "stdout",
          "text": [
            "Número de outliers: \n",
            "  1    297\n",
            "-1      3\n",
            "dtype: int64\n",
            "Accuracy Score:  0.9222222222222223\n"
          ]
        }
      ]
    },
    {
      "cell_type": "markdown",
      "source": [
        "* One Class SVM"
      ],
      "metadata": {
        "id": "G2cbkt8lsLGl"
      }
    },
    {
      "cell_type": "code",
      "source": [
        "from sklearn.svm import OneClassSVM\n",
        "fit_score(OneClassSVM(nu = 0.01))"
      ],
      "metadata": {
        "colab": {
          "base_uri": "https://localhost:8080/"
        },
        "id": "qP_tqFyXm0gY",
        "outputId": "2ec313ae-1dd4-476e-bfe8-fa542ce877c7"
      },
      "execution_count": 25,
      "outputs": [
        {
          "output_type": "stream",
          "name": "stdout",
          "text": [
            "Número de outliers: \n",
            "  1    296\n",
            "-1      4\n",
            "dtype: int64\n",
            "Accuracy Score:  0.9213483146067416\n"
          ]
        }
      ]
    },
    {
      "cell_type": "code",
      "source": [
        "# Uno de los modelos que arrojó mejor accuracy fué One Class SVM, lo usaremos para obtener el accuracy final\n",
        "# mediante cross vaidation\n",
        "\n",
        "# Detección y eliminación de outliers mediante OneClassSVM\n",
        "y_pred = IsolationForest(contamination = 0.001).fit_predict(X)\n",
        "mask = y_pred != -1\n",
        "X_mask, y_mask = X[mask, :], y[mask]\n",
        "print('Número de outliers: \\n', pd.DataFrame( y_pred ).value_counts() )\n",
        "\n",
        "X_train_mask, X_test_mask, y_train_mask, y_test_mask = train_test_split(X_mask, y_mask, test_size = 0.3, random_state = 42)\n",
        "\n",
        "\n",
        "# Definición del modelo\n",
        "pipe = Pipeline([\n",
        "                 ('scaler', StandardScaler()),\n",
        "                 ('pca', PCA(n_components = 5)),\n",
        "                 ('clf', SVC(C = 20, kernel = 'linear'))\n",
        "])\n",
        "\n",
        "# Cross-validation\n",
        "kfold = StratifiedKFold(n_splits = 10, shuffle = True, random_state = 42).split(X_train_mask, y_train_mask)\n",
        "scores = []\n",
        "\n",
        "for k, (train, test) in enumerate(kfold):\n",
        "  pipe.fit(X_train_mask[train], np.array( y_train_mask)[train] )\n",
        "  score = accuracy_score( np.array( y_train_mask)[test], pipe.predict( X_train_mask[test]))\n",
        "  scores.append(score)\n",
        "\n",
        "  print('Fold #{}, Acc: {}'.format(k + 1, score))\n",
        "  \n",
        "print('Mean Acc CV: {} +/- {}'.format(np.mean(scores), np.std(scores)))\n"
      ],
      "metadata": {
        "colab": {
          "base_uri": "https://localhost:8080/"
        },
        "id": "ydTE2ikQm0lX",
        "outputId": "2e3944a4-a53c-4059-8c08-fef0388fccb8"
      },
      "execution_count": 38,
      "outputs": [
        {
          "output_type": "stream",
          "name": "stdout",
          "text": [
            "Número de outliers: \n",
            "  1    299\n",
            "-1      1\n",
            "dtype: int64\n",
            "Fold #1, Acc: 0.9047619047619048\n",
            "Fold #2, Acc: 0.8571428571428571\n",
            "Fold #3, Acc: 1.0\n",
            "Fold #4, Acc: 0.9523809523809523\n",
            "Fold #5, Acc: 0.9523809523809523\n",
            "Fold #6, Acc: 1.0\n",
            "Fold #7, Acc: 1.0\n",
            "Fold #8, Acc: 0.8095238095238095\n",
            "Fold #9, Acc: 0.8095238095238095\n",
            "Fold #10, Acc: 0.85\n",
            "Mean Acc CV: 0.9135714285714286 +/- 0.07374075137058486\n"
          ]
        }
      ]
    },
    {
      "cell_type": "markdown",
      "source": [
        "Podemos observar que en general, se pueda apreciar una mejora, tal vez pequeña en algunos casos, pero parece que el eliminar los outliers mediantes estos métodos, resulta beneficiso para encontrar un mejor modelo predictor. Esto es más fácil de notar en el ejemplo de las Pizzas, puesto que se hizo exactamente lo mismo que en la práctica pasada, excepto que aquí se aplicaron algoritmos de detección de outliers y al accuracy aumentó. Por otro lado vemos que el algoritmo funciona mejor con un parametro de contaminación de 0.001 que de 0.01 esto significa que si, existen outliers, pero en realidad no son tantos, es decir, los outliers detectados con el parametro igual a 0.01 contienen información importante para las predicciones."
      ],
      "metadata": {
        "id": "CBWnSf7Vis8x"
      }
    },
    {
      "cell_type": "markdown",
      "source": [
        "## Ejercicio 2.\n",
        "\n",
        "Utiliza el conjunto de datos load_digits que consta de 1797 muestras que representan números con 64\n",
        "características de brillo en cada pixel."
      ],
      "metadata": {
        "id": "WxPhas_Vg6R2"
      }
    },
    {
      "cell_type": "code",
      "source": [
        "# Carga de datos\n",
        "digits = load_digits()\n",
        "digits.data.shape"
      ],
      "metadata": {
        "colab": {
          "base_uri": "https://localhost:8080/"
        },
        "id": "YMGiwxA5g_pT",
        "outputId": "f30d461e-af7f-4e96-d07e-9cfe2f215d1b"
      },
      "execution_count": 333,
      "outputs": [
        {
          "output_type": "execute_result",
          "data": {
            "text/plain": [
              "(1797, 64)"
            ]
          },
          "metadata": {},
          "execution_count": 333
        }
      ]
    },
    {
      "cell_type": "code",
      "source": [
        "X = digits.data # predictores\n",
        "y = digits.target # Variable raget"
      ],
      "metadata": {
        "id": "_1fkSqVuiBTE"
      },
      "execution_count": 334,
      "outputs": []
    },
    {
      "cell_type": "code",
      "source": [
        "# Se tienen 64 variables predictoras\n",
        "X.shape"
      ],
      "metadata": {
        "colab": {
          "base_uri": "https://localhost:8080/"
        },
        "id": "EJkGXTofwEh7",
        "outputId": "aa07606f-a538-4389-879a-753ed268b6fe"
      },
      "execution_count": 283,
      "outputs": [
        {
          "output_type": "execute_result",
          "data": {
            "text/plain": [
              "(1797, 64)"
            ]
          },
          "metadata": {},
          "execution_count": 283
        }
      ]
    },
    {
      "cell_type": "code",
      "source": [
        "# Visualización de las imagenes\n",
        "figure(1)\n",
        "for i in range(1, 36):\n",
        "  ax = subplot(6,6,i)\n",
        "  ax.xaxis.set_major_locator(NullLocator()) \n",
        "  ax.yaxis.set_major_locator(NullLocator())\n",
        "  imshow(digits.images[i], cmap = cm.gray_r) "
      ],
      "metadata": {
        "colab": {
          "base_uri": "https://localhost:8080/",
          "height": 252
        },
        "id": "hBq90coiiBXV",
        "outputId": "dca37acd-e366-4ecf-c1ec-d3e8c4a79434"
      },
      "execution_count": 284,
      "outputs": [
        {
          "output_type": "display_data",
          "data": {
            "text/plain": [
              "<Figure size 432x288 with 35 Axes>"
            ],
            "image/png": "[encoded data removed]"
          },
          "metadata": {}
        }
      ]
    },
    {
      "cell_type": "markdown",
      "source": [
        "Utilizaremos el modelo logistic regression para obtener una métrica sin utilizas la reducción de componentes mediante manifold learning."
      ],
      "metadata": {
        "id": "vKjG4TxYm1qx"
      }
    },
    {
      "cell_type": "code",
      "source": [
        "# División de los datos en entrenamiento y pruebas\n",
        "X_train, X_test, y_train, y_test = train_test_split(X, y, test_size = 0.3, random_state = 42)\n",
        "\n",
        "# Escalando los datos\n",
        "sc = StandardScaler()\n",
        "x_train = sc.fit_transform(X_train)\n",
        "x_test = sc.transform(X_test)\n",
        "\n",
        "# modelo logistic regresion\n",
        "clf = LogisticRegression(random_state = 42)\n",
        "clf.fit(X_train, y_train)\n",
        "accuracy_score(y_test, clf.predict(X_test))"
      ],
      "metadata": {
        "colab": {
          "base_uri": "https://localhost:8080/"
        },
        "id": "1gWfolwTk_VL",
        "outputId": "6bed56e5-8454-4cea-a644-f0ff1e3633c8"
      },
      "execution_count": 335,
      "outputs": [
        {
          "output_type": "execute_result",
          "data": {
            "text/plain": [
              "0.9648148148148148"
            ]
          },
          "metadata": {},
          "execution_count": 335
        }
      ]
    },
    {
      "cell_type": "markdown",
      "source": [
        "Vemos que el modelo ya sin hacer reducción de componentes es bastante bueno, veremos que sucede al reducir componentes vía manifold learning."
      ],
      "metadata": {
        "id": "6iOxIv6hnLMy"
      }
    },
    {
      "cell_type": "markdown",
      "source": [
        "* Manifold Learning, IsoMap"
      ],
      "metadata": {
        "id": "xOae9OCIi8nF"
      }
    },
    {
      "cell_type": "code",
      "source": [
        "from sklearn.manifold import Isomap"
      ],
      "metadata": {
        "id": "Qtn7oqDajYqi"
      },
      "execution_count": 286,
      "outputs": []
    },
    {
      "cell_type": "code",
      "source": [
        "# Usaremos Grid search con cross validation para obtener el número de vecinos y el número de componentes óptimo\n",
        "best_score = 0\n",
        "for n in range(1, 65): # componentes\n",
        "  for i in [2, 3, 5, 7]: # vecinos\n",
        "    # Entrenamos el algoritmo de manifold learning\n",
        "    manifold = Isomap(n_neighbors = i, n_components = n)\n",
        "    X_train_transform = manifold.fit_transform(X_train)\n",
        "\n",
        "    # Entrenamos logistic regression\n",
        "    clf = LogisticRegression(random_state = 42)\n",
        "    # Obtenemos scores mediante cross validations\n",
        "    scores = cross_val_score(clf, X_train_transform, y_train, cv = 5, scoring = 'accuracy')\n",
        "    score = np.mean(scores)\n",
        "\n",
        "    if score > best_score:\n",
        "            best_score = score\n",
        "            best_parameters = {'n_components': n, 'n_neighbors': i}\n",
        "\n",
        "print(\"Mejor score {:.2f}\".format(best_score))\n",
        "print(\"Mejores parámetros {}\".format(best_parameters))"
      ],
      "metadata": {
        "colab": {
          "base_uri": "https://localhost:8080/"
        },
        "id": "8qTxxpoXlqX9",
        "outputId": "3090935a-95df-4a54-af18-fa2b9ec9322b"
      },
      "execution_count": 287,
      "outputs": [
        {
          "output_type": "stream",
          "name": "stdout",
          "text": [
            "Mejor score 0.98\n",
            "Mejores parámetros {'n_components': 62, 'n_neighbors': 7}\n"
          ]
        }
      ]
    },
    {
      "cell_type": "code",
      "source": [
        "# Reducimos la dimensionalidad mediante el algoritmo con los mejores parametros\n",
        "manifold = Isomap(**best_parameters)\n",
        "X_train_transform = manifold.fit_transform(X_train)\n",
        "X_test_transform = manifold.transform(X_test)\n",
        "\n",
        "# Creamos el modelo de clasificación con componentes reducidas\n",
        "clf = LogisticRegression(random_state = 42)\n",
        "clf.fit(X_train_transform, y_train)\n",
        "accuracy_score(y_test, clf.predict(X_test_transform))"
      ],
      "metadata": {
        "colab": {
          "base_uri": "https://localhost:8080/"
        },
        "id": "uJt8qdcuiBrE",
        "outputId": "157cedc8-ad18-4d35-bfc6-b11d8ff818ae"
      },
      "execution_count": 288,
      "outputs": [
        {
          "output_type": "execute_result",
          "data": {
            "text/plain": [
              "0.9740740740740741"
            ]
          },
          "metadata": {},
          "execution_count": 288
        }
      ]
    },
    {
      "cell_type": "markdown",
      "source": [
        "* Manifold Learning, Locally Linear Embeding\n"
      ],
      "metadata": {
        "id": "n86CnYsnvRK-"
      }
    },
    {
      "cell_type": "code",
      "source": [
        "from sklearn.manifold import LocallyLinearEmbedding"
      ],
      "metadata": {
        "id": "63mHhF_eiBuC"
      },
      "execution_count": 289,
      "outputs": []
    },
    {
      "cell_type": "code",
      "source": [
        "# Usaremos Grid search con cross validation para obtener el número de vecinos y el número de componentes óptimo\n",
        "best_score = 0\n",
        "\n",
        "for n in range(1, 65): # componentes\n",
        "  for i in [2, 3, 5, 7]: # vecinos\n",
        "    # Entrenamos el algoritmo de manifold learning\n",
        "    manifold = LocallyLinearEmbedding(n_neighbors = i, n_components = n, eigen_solver = 'dense')\n",
        "    X_train_transform = manifold.fit_transform(X_train)\n",
        "\n",
        "    # Entrenamos logistic regression\n",
        "    clf = LogisticRegression(random_state = 42)\n",
        "    # Obtenemos scores mediante cross validations\n",
        "    scores = cross_val_score(clf, X_train_transform, y_train, cv = 5, scoring = 'accuracy')\n",
        "    score = np.mean(scores)\n",
        "\n",
        "    if score > best_score:\n",
        "            best_score = score\n",
        "            best_parameters = {'n_components': n, 'n_neighbors': i}\n",
        "\n",
        "print(\"Mejor score {:.2f}\".format(best_score))\n",
        "print(\"Mejores parámetros {}\".format(best_parameters))\n",
        "\n"
      ],
      "metadata": {
        "colab": {
          "base_uri": "https://localhost:8080/"
        },
        "id": "0aoyMJmJiBw8",
        "outputId": "89f5bb83-f902-4544-99d5-8fc147fd300d"
      },
      "execution_count": 290,
      "outputs": [
        {
          "output_type": "stream",
          "name": "stdout",
          "text": [
            "Mejor score 0.98\n",
            "Mejores parámetros {'n_components': 56, 'n_neighbors': 5}\n"
          ]
        }
      ]
    },
    {
      "cell_type": "code",
      "source": [
        "# Reducimos la dimensionalidad mediante el algoritmo con los mejores parametros\n",
        "manifold = LocallyLinearEmbedding(**best_parameters)\n",
        "X_train_transform = manifold.fit_transform(X_train)\n",
        "X_test_transform = manifold.transform(X_test)\n",
        "# Creamos el modelo de clasificación con componentes reducidas\n",
        "clf = LogisticRegression(random_state = 42)\n",
        "clf.fit(X_train_transform, y_train)\n",
        "accuracy_score(y_test, clf.predict(X_test_transform))"
      ],
      "metadata": {
        "colab": {
          "base_uri": "https://localhost:8080/"
        },
        "id": "I4ZF8s2pvgKY",
        "outputId": "2cc0dc7d-ce53-415c-8fe3-c332d4400e46"
      },
      "execution_count": 291,
      "outputs": [
        {
          "output_type": "execute_result",
          "data": {
            "text/plain": [
              "0.9740740740740741"
            ]
          },
          "metadata": {},
          "execution_count": 291
        }
      ]
    },
    {
      "cell_type": "markdown",
      "source": [
        "En este caso vemos un desempeño similar en ambos modelos, sin embargo el algoritmo Locally Linear Embedding redujo la dimensión mucho más que Isomap. Usaremos este para dar algunas predicciones."
      ],
      "metadata": {
        "id": "BUr-2kaEohwH"
      }
    },
    {
      "cell_type": "code",
      "source": [
        "# Visualización de una muestra delconjunto de pruebas y las predicciones hechas\n",
        "figure(1)\n",
        "plt.figure(figsize = (20, 20))\n",
        "for i in range(1, 36):\n",
        "  ax = subplot(6, 6, i)\n",
        "  indice_aleatorio = random.randint(1, len(y_test))\n",
        "  ax.xaxis.set_major_locator(NullLocator()) \n",
        "  ax.yaxis.set_major_locator(NullLocator())\n",
        "  imshow(X_test.reshape(540, 8, 8)[indice_aleatorio], cmap = cm.gray_r) \n",
        "  plt.title('Real: {}, Predicho: {}'.format( y_test[indice_aleatorio], clf.predict(X_test_transform)[:len(y_test)][indice_aleatorio]) )"
      ],
      "metadata": {
        "id": "mKy57MeTGI6s",
        "colab": {
          "base_uri": "https://localhost:8080/",
          "height": 1000
        },
        "outputId": "bb816742-79a9-4af7-c611-1e056a114150"
      },
      "execution_count": 329,
      "outputs": [
        {
          "output_type": "display_data",
          "data": {
            "text/plain": [
              "<Figure size 432x288 with 0 Axes>"
            ]
          },
          "metadata": {}
        },
        {
          "output_type": "display_data",
          "data": {
            "text/plain": [
              "<Figure size 1440x1440 with 35 Axes>"
            ],
            "image/png": "[encoded data removed]"
          },
          "metadata": {}
        }
      ]
    },
    {
      "cell_type": "markdown",
      "source": [
        "EStos algoritmos resultan bastate interesantes, sin embargo vemos que para ambos algoritmos la información importante para las predicciones se encuentra en un gran número de componentes. Si embargo si se puede observar una diferencia entre ambos algoritmos. El primero requirió de practicamente todas las variables, mientras que el segundo redujo el número de variables, considerablemente. Además las predicciones fueron con un gran accuracy, ambos aumentaron esta métrica respecto a la obtenida sin hacer la reducción de componentes."
      ],
      "metadata": {
        "id": "NegARYFdogxp"
      }
    }
  ]
}