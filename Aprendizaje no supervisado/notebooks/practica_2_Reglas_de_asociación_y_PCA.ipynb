{
  "nbformat": 4,
  "nbformat_minor": 0,
  "metadata": {
    "colab": {
      "name": "practica 2 Reglas de asociación y PCA.ipynb",
      "provenance": []
    },
    "kernelspec": {
      "name": "python3",
      "display_name": "Python 3"
    },
    "language_info": {
      "name": "python"
    }
  },
  "cells": [
    {
      "cell_type": "markdown",
      "source": [
        "# Práctica 2. Reglas de asociación y análisis de componentes principales\n",
        "\n",
        "* Rodríguez Fitta José Emanuel"
      ],
      "metadata": {
        "id": "VJRmsPu3EQEi"
      }
    },
    {
      "cell_type": "markdown",
      "source": [
        "## Ejercicio 1\n",
        "\n",
        "* Utilizando el conjunto de datos Online Retail :\n",
        "https://archive.ics.uci.edu/ml/datasets/online+retail\n",
        "Obtener el conjunto de artículos frecuentes así como reglas de asociación que se puedan extraer del\n",
        "mismo.\n"
      ],
      "metadata": {
        "id": "wiC0uCmNETi3"
      }
    },
    {
      "cell_type": "code",
      "execution_count": 286,
      "metadata": {
        "id": "qSsPyJuduL8F"
      },
      "outputs": [],
      "source": [
        "# importación de las librerias\n",
        "import pandas as pd\n",
        "import numpy as np\n",
        "import matplotlib.pyplot as plt\n",
        "import seaborn as sns\n",
        "import warnings\n",
        "from matplotlib import rcParams\n",
        "\n",
        "from mlxtend.frequent_patterns import association_rules, apriori\n",
        "\n",
        "rcParams['figure.figsize'] = 10, 5\n",
        "warnings.filterwarnings('ignore')"
      ]
    },
    {
      "cell_type": "code",
      "source": [
        "# Carga de datos\n",
        "df_retail = pd.read_csv('/content/Online Retail.csv')\n",
        "df_retail.head(3)"
      ],
      "metadata": {
        "colab": {
          "base_uri": "https://localhost:8080/",
          "height": 239
        },
        "id": "GTkovUklued2",
        "outputId": "a1659032-9b7f-42de-f201-1bae8bd20d17"
      },
      "execution_count": 295,
      "outputs": [
        {
          "output_type": "execute_result",
          "data": {
            "text/plain": [
              "  InvoiceNo StockCode                         Description  Quantity  \\\n",
              "0    536365    85123A  WHITE HANGING HEART T-LIGHT HOLDER         6   \n",
              "1    536365     71053                 WHITE METAL LANTERN         6   \n",
              "2    536365    84406B      CREAM CUPID HEARTS COAT HANGER         8   \n",
              "\n",
              "        InvoiceDate  UnitPrice  CustomerID         Country  \n",
              "0  01/12/2010 08:26       2.55     17850.0  United Kingdom  \n",
              "1  01/12/2010 08:26       3.39     17850.0  United Kingdom  \n",
              "2  01/12/2010 08:26       2.75     17850.0  United Kingdom  "
            ],
            "text/html": [
              "\n",
              "  <div id=\"df-6f9c3899-c11f-4e91-b1ef-d68412b75b70\">\n",
              "    <div class=\"colab-df-container\">\n",
              "      <div>\n",
              "<style scoped>\n",
              "    .dataframe tbody tr th:only-of-type {\n",
              "        vertical-align: middle;\n",
              "    }\n",
              "\n",
              "    .dataframe tbody tr th {\n",
              "        vertical-align: top;\n",
              "    }\n",
              "\n",
              "    .dataframe thead th {\n",
              "        text-align: right;\n",
              "    }\n",
              "</style>\n",
              "<table border=\"1\" class=\"dataframe\">\n",
              "  <thead>\n",
              "    <tr style=\"text-align: right;\">\n",
              "      <th></th>\n",
              "      <th>InvoiceNo</th>\n",
              "      <th>StockCode</th>\n",
              "      <th>Description</th>\n",
              "      <th>Quantity</th>\n",
              "      <th>InvoiceDate</th>\n",
              "      <th>UnitPrice</th>\n",
              "      <th>CustomerID</th>\n",
              "      <th>Country</th>\n",
              "    </tr>\n",
              "  </thead>\n",
              "  <tbody>\n",
              "    <tr>\n",
              "      <th>0</th>\n",
              "      <td>536365</td>\n",
              "      <td>85123A</td>\n",
              "      <td>WHITE HANGING HEART T-LIGHT HOLDER</td>\n",
              "      <td>6</td>\n",
              "      <td>01/12/2010 08:26</td>\n",
              "      <td>2.55</td>\n",
              "      <td>17850.0</td>\n",
              "      <td>United Kingdom</td>\n",
              "    </tr>\n",
              "    <tr>\n",
              "      <th>1</th>\n",
              "      <td>536365</td>\n",
              "      <td>71053</td>\n",
              "      <td>WHITE METAL LANTERN</td>\n",
              "      <td>6</td>\n",
              "      <td>01/12/2010 08:26</td>\n",
              "      <td>3.39</td>\n",
              "      <td>17850.0</td>\n",
              "      <td>United Kingdom</td>\n",
              "    </tr>\n",
              "    <tr>\n",
              "      <th>2</th>\n",
              "      <td>536365</td>\n",
              "      <td>84406B</td>\n",
              "      <td>CREAM CUPID HEARTS COAT HANGER</td>\n",
              "      <td>8</td>\n",
              "      <td>01/12/2010 08:26</td>\n",
              "      <td>2.75</td>\n",
              "      <td>17850.0</td>\n",
              "      <td>United Kingdom</td>\n",
              "    </tr>\n",
              "  </tbody>\n",
              "</table>\n",
              "</div>\n",
              "      <button class=\"colab-df-convert\" onclick=\"convertToInteractive('df-6f9c3899-c11f-4e91-b1ef-d68412b75b70')\"\n",
              "              title=\"Convert this dataframe to an interactive table.\"\n",
              "              style=\"display:none;\">\n",
              "        \n",
              "  <svg xmlns=\"http://www.w3.org/2000/svg\" height=\"24px\"viewBox=\"0 0 24 24\"\n",
              "       width=\"24px\">\n",
              "    <path d=\"M0 0h24v24H0V0z\" fill=\"none\"/>\n",
              "    <path d=\"M18.56 5.44l.94 2.06.94-2.06 2.06-.94-2.06-.94-.94-2.06-.94 2.06-2.06.94zm-11 1L8.5 8.5l.94-2.06 2.06-.94-2.06-.94L8.5 2.5l-.94 2.06-2.06.94zm10 10l.94 2.06.94-2.06 2.06-.94-2.06-.94-.94-2.06-.94 2.06-2.06.94z\"/><path d=\"M17.41 7.96l-1.37-1.37c-.4-.4-.92-.59-1.43-.59-.52 0-1.04.2-1.43.59L10.3 9.45l-7.72 7.72c-.78.78-.78 2.05 0 2.83L4 21.41c.39.39.9.59 1.41.59.51 0 1.02-.2 1.41-.59l7.78-7.78 2.81-2.81c.8-.78.8-2.07 0-2.86zM5.41 20L4 18.59l7.72-7.72 1.47 1.35L5.41 20z\"/>\n",
              "  </svg>\n",
              "      </button>\n",
              "      \n",
              "  <style>\n",
              "    .colab-df-container {\n",
              "      display:flex;\n",
              "      flex-wrap:wrap;\n",
              "      gap: 12px;\n",
              "    }\n",
              "\n",
              "    .colab-df-convert {\n",
              "      background-color: #E8F0FE;\n",
              "      border: none;\n",
              "      border-radius: 50%;\n",
              "      cursor: pointer;\n",
              "      display: none;\n",
              "      fill: #1967D2;\n",
              "      height: 32px;\n",
              "      padding: 0 0 0 0;\n",
              "      width: 32px;\n",
              "    }\n",
              "\n",
              "    .colab-df-convert:hover {\n",
              "      background-color: #E2EBFA;\n",
              "      box-shadow: 0px 1px 2px rgba(60, 64, 67, 0.3), 0px 1px 3px 1px rgba(60, 64, 67, 0.15);\n",
              "      fill: #174EA6;\n",
              "    }\n",
              "\n",
              "    [theme=dark] .colab-df-convert {\n",
              "      background-color: #3B4455;\n",
              "      fill: #D2E3FC;\n",
              "    }\n",
              "\n",
              "    [theme=dark] .colab-df-convert:hover {\n",
              "      background-color: #434B5C;\n",
              "      box-shadow: 0px 1px 3px 1px rgba(0, 0, 0, 0.15);\n",
              "      filter: drop-shadow(0px 1px 2px rgba(0, 0, 0, 0.3));\n",
              "      fill: #FFFFFF;\n",
              "    }\n",
              "  </style>\n",
              "\n",
              "      <script>\n",
              "        const buttonEl =\n",
              "          document.querySelector('#df-6f9c3899-c11f-4e91-b1ef-d68412b75b70 button.colab-df-convert');\n",
              "        buttonEl.style.display =\n",
              "          google.colab.kernel.accessAllowed ? 'block' : 'none';\n",
              "\n",
              "        async function convertToInteractive(key) {\n",
              "          const element = document.querySelector('#df-6f9c3899-c11f-4e91-b1ef-d68412b75b70');\n",
              "          const dataTable =\n",
              "            await google.colab.kernel.invokeFunction('convertToInteractive',\n",
              "                                                     [key], {});\n",
              "          if (!dataTable) return;\n",
              "\n",
              "          const docLinkHtml = 'Like what you see? Visit the ' +\n",
              "            '<a target=\"_blank\" href=https://colab.research.google.com/notebooks/data_table.ipynb>data table notebook</a>'\n",
              "            + ' to learn more about interactive tables.';\n",
              "          element.innerHTML = '';\n",
              "          dataTable['output_type'] = 'display_data';\n",
              "          await google.colab.output.renderOutput(dataTable, element);\n",
              "          const docLink = document.createElement('div');\n",
              "          docLink.innerHTML = docLinkHtml;\n",
              "          element.appendChild(docLink);\n",
              "        }\n",
              "      </script>\n",
              "    </div>\n",
              "  </div>\n",
              "  "
            ]
          },
          "metadata": {},
          "execution_count": 295
        }
      ]
    },
    {
      "cell_type": "markdown",
      "source": [
        "Seguiremos como guía el código en R desarrollado en: https://datascienceplus.com/a-gentle-introduction-on-market-basket-analysis/"
      ],
      "metadata": {
        "id": "6HzAPdiAvDXa"
      }
    },
    {
      "cell_type": "markdown",
      "source": [
        "### Preprocesamiento y exploración de datos "
      ],
      "metadata": {
        "id": "xU-1b2novQrv"
      }
    },
    {
      "cell_type": "code",
      "source": [
        "# Transformamos la columna \"InvoiceDate\" a datetime 64\n",
        "df_retail['InvoiceDate'] = df_retail['InvoiceDate'].astype('datetime64')"
      ],
      "metadata": {
        "id": "9vJfwHEnvr_x"
      },
      "execution_count": 296,
      "outputs": []
    },
    {
      "cell_type": "code",
      "source": [
        "# Extraemos la fecha y la hora de la columna \"InvoiceDate\"\n",
        "df_retail['Date'] = df_retail['InvoiceDate'].dt.date\n",
        "df_retail['Time'] = df_retail['InvoiceDate'].dt.hour"
      ],
      "metadata": {
        "id": "SKj75Jplxhkg"
      },
      "execution_count": 298,
      "outputs": []
    },
    {
      "cell_type": "code",
      "source": [
        "df_retail.info()"
      ],
      "metadata": {
        "colab": {
          "base_uri": "https://localhost:8080/"
        },
        "id": "DoeTKkshvsFW",
        "outputId": "825f6036-8384-4c84-c05a-660e059a8819"
      },
      "execution_count": 299,
      "outputs": [
        {
          "output_type": "stream",
          "name": "stdout",
          "text": [
            "<class 'pandas.core.frame.DataFrame'>\n",
            "RangeIndex: 541909 entries, 0 to 541908\n",
            "Data columns (total 10 columns):\n",
            " #   Column       Non-Null Count   Dtype         \n",
            "---  ------       --------------   -----         \n",
            " 0   InvoiceNo    541909 non-null  object        \n",
            " 1   StockCode    541909 non-null  object        \n",
            " 2   Description  540455 non-null  object        \n",
            " 3   Quantity     541909 non-null  int64         \n",
            " 4   InvoiceDate  541909 non-null  datetime64[ns]\n",
            " 5   UnitPrice    541909 non-null  float64       \n",
            " 6   CustomerID   406829 non-null  float64       \n",
            " 7   Country      541909 non-null  object        \n",
            " 8   Date         541909 non-null  object        \n",
            " 9   Time         541909 non-null  int64         \n",
            "dtypes: datetime64[ns](1), float64(2), int64(2), object(5)\n",
            "memory usage: 41.3+ MB\n"
          ]
        }
      ]
    },
    {
      "cell_type": "code",
      "source": [
        "df_retail.isna().sum()"
      ],
      "metadata": {
        "colab": {
          "base_uri": "https://localhost:8080/"
        },
        "id": "T_rfU13WlgUS",
        "outputId": "4ef76089-88aa-4d83-b59d-7003c4936e01"
      },
      "execution_count": 300,
      "outputs": [
        {
          "output_type": "execute_result",
          "data": {
            "text/plain": [
              "InvoiceNo           0\n",
              "StockCode           0\n",
              "Description      1454\n",
              "Quantity            0\n",
              "InvoiceDate         0\n",
              "UnitPrice           0\n",
              "CustomerID     135080\n",
              "Country             0\n",
              "Date                0\n",
              "Time                0\n",
              "dtype: int64"
            ]
          },
          "metadata": {},
          "execution_count": 300
        }
      ]
    },
    {
      "cell_type": "markdown",
      "source": [
        "Podemos observar que existe una gran cantidad de valores nulos. Por lo cual eliminaremos estas filas."
      ],
      "metadata": {
        "id": "k9jlKhrbQQJt"
      }
    },
    {
      "cell_type": "code",
      "source": [
        "# Eliminamos las filas con valores nulos\n",
        "df_retail.dropna(axis = 0, inplace = True)"
      ],
      "metadata": {
        "id": "5gTjYCzAAIlC"
      },
      "execution_count": 301,
      "outputs": []
    },
    {
      "cell_type": "code",
      "source": [
        "df_retail.shape"
      ],
      "metadata": {
        "colab": {
          "base_uri": "https://localhost:8080/"
        },
        "id": "yxh3jusaw6AN",
        "outputId": "f37020f5-c694-4c3e-8834-b84a4a5d9f69"
      },
      "execution_count": 302,
      "outputs": [
        {
          "output_type": "execute_result",
          "data": {
            "text/plain": [
              "(406829, 10)"
            ]
          },
          "metadata": {},
          "execution_count": 302
        }
      ]
    },
    {
      "cell_type": "markdown",
      "source": [
        "El conjunto de datos contiene $406829$ filas y $10$ columnas:\n",
        "\n",
        "\n"
      ],
      "metadata": {
        "id": "r6PB4Y-sw02H"
      }
    },
    {
      "cell_type": "code",
      "source": [
        "df_retail.columns"
      ],
      "metadata": {
        "colab": {
          "base_uri": "https://localhost:8080/"
        },
        "id": "j7Fbb1mCvsHe",
        "outputId": "985923bd-6ae2-4116-ae01-74ae56202f34"
      },
      "execution_count": 303,
      "outputs": [
        {
          "output_type": "execute_result",
          "data": {
            "text/plain": [
              "Index(['InvoiceNo', 'StockCode', 'Description', 'Quantity', 'InvoiceDate',\n",
              "       'UnitPrice', 'CustomerID', 'Country', 'Date', 'Time'],\n",
              "      dtype='object')"
            ]
          },
          "metadata": {},
          "execution_count": 303
        }
      ]
    },
    {
      "cell_type": "markdown",
      "source": [
        "### ¿A qué hora suelen hacerse órdenes online?"
      ],
      "metadata": {
        "id": "pj34QYx9-RJK"
      }
    },
    {
      "cell_type": "code",
      "source": [
        "sns.boxplot(x = 'Time', data = df_retail, color = 'indianred')\n",
        "plt.show()"
      ],
      "metadata": {
        "colab": {
          "base_uri": "https://localhost:8080/",
          "height": 334
        },
        "id": "jgqmRHZ1JsGs",
        "outputId": "fb1f2cef-43e2-4da1-8cdd-ce30d0224c0f"
      },
      "execution_count": 304,
      "outputs": [
        {
          "output_type": "display_data",
          "data": {
            "text/plain": [
              "<Figure size 720x360 with 1 Axes>"
            ],
            "image/png": "[encoded data removed]"
          },
          "metadata": {
            "needs_background": "light"
          }
        }
      ]
    },
    {
      "cell_type": "code",
      "source": [
        "sns.countplot(x = 'Time', data = df_retail, color = 'indianred')\n",
        "plt.show()"
      ],
      "metadata": {
        "colab": {
          "base_uri": "https://localhost:8080/",
          "height": 334
        },
        "id": "k_dJnjLqvsPY",
        "outputId": "e1675f64-4ab2-438b-fcf3-a81d0ac7d5e7"
      },
      "execution_count": 305,
      "outputs": [
        {
          "output_type": "display_data",
          "data": {
            "text/plain": [
              "<Figure size 720x360 with 1 Axes>"
            ],
            "image/png": "[encoded data removed]"
          },
          "metadata": {
            "needs_background": "light"
          }
        }
      ]
    },
    {
      "cell_type": "markdown",
      "source": [
        "La mayor cantidad de ordenes sucede entre las 11:00 y las 14:00."
      ],
      "metadata": {
        "id": "r-E6mzcR-Gsf"
      }
    },
    {
      "cell_type": "markdown",
      "source": [
        "### ¿Cuántos objetos compra cada cliente?"
      ],
      "metadata": {
        "id": "hpoAhQjd-dJx"
      }
    },
    {
      "cell_type": "code",
      "source": [
        "sns.boxplot(df_retail['Quantity'])\n",
        "plt.show()"
      ],
      "metadata": {
        "colab": {
          "base_uri": "https://localhost:8080/",
          "height": 334
        },
        "id": "m_EeOcRfJCg2",
        "outputId": "3b469b90-f918-412e-cbf1-1df39758621d"
      },
      "execution_count": 306,
      "outputs": [
        {
          "output_type": "display_data",
          "data": {
            "text/plain": [
              "<Figure size 720x360 with 1 Axes>"
            ],
            "image/png": "[encoded data removed]"
          },
          "metadata": {
            "needs_background": "light"
          }
        }
      ]
    },
    {
      "cell_type": "markdown",
      "source": [
        "Existe una gran cantidad de valores atípicos"
      ],
      "metadata": {
        "id": "QLGp5YBYQdyw"
      }
    },
    {
      "cell_type": "code",
      "source": [
        "quantity = df_retail.groupby('InvoiceNo')['Quantity'].mean() \n"
      ],
      "metadata": {
        "id": "5y7mshJXHBjk"
      },
      "execution_count": 312,
      "outputs": []
    },
    {
      "cell_type": "code",
      "source": [
        "sns.histplot(quantity, color = 'indianred', bins = 100000)\n",
        "plt.xlim(0, 80)\n",
        "plt.ylim(0, 2000)\n",
        "plt.xlabel('n_items')\n",
        "plt.ylabel('count')\n",
        "plt.show()"
      ],
      "metadata": {
        "colab": {
          "base_uri": "https://localhost:8080/",
          "height": 339
        },
        "id": "3pZVkQJ5vsS1",
        "outputId": "5492ebf0-505e-4e31-d285-d37dbadeed17"
      },
      "execution_count": 315,
      "outputs": [
        {
          "output_type": "display_data",
          "data": {
            "text/plain": [
              "<Figure size 720x360 with 1 Axes>"
            ],
            "image/png": "[encoded data removed]"
          },
          "metadata": {
            "needs_background": "light"
          }
        }
      ]
    },
    {
      "cell_type": "markdown",
      "source": [
        "\n",
        "\n",
        "Las personas suelen comprar menos de $10$ objetos.\n",
        "\n"
      ],
      "metadata": {
        "id": "xOpnA6OVLlyP"
      }
    },
    {
      "cell_type": "markdown",
      "source": [
        "### Top $10$ best sellers"
      ],
      "metadata": {
        "id": "-bJPzZNbNPtg"
      }
    },
    {
      "cell_type": "code",
      "source": [
        "# Obtenemos 10 los objetos más comprados\n",
        "description = df_retail.groupby(['StockCode', 'Description'])['StockCode'].count().sort_values(ascending = False)[:10]"
      ],
      "metadata": {
        "id": "moX_WOBGNPNa"
      },
      "execution_count": 316,
      "outputs": []
    },
    {
      "cell_type": "code",
      "source": [
        "description = pd.DataFrame(description).reset_index(level = 0, drop = True).reset_index()\n",
        "description"
      ],
      "metadata": {
        "colab": {
          "base_uri": "https://localhost:8080/",
          "height": 363
        },
        "id": "3dd0pTtxPKPZ",
        "outputId": "04da6fbb-e989-41b2-980d-0afe85a58de1"
      },
      "execution_count": 317,
      "outputs": [
        {
          "output_type": "execute_result",
          "data": {
            "text/plain": [
              "                          Description  StockCode\n",
              "0  WHITE HANGING HEART T-LIGHT HOLDER       2070\n",
              "1            REGENCY CAKESTAND 3 TIER       1905\n",
              "2             JUMBO BAG RED RETROSPOT       1662\n",
              "3       ASSORTED COLOUR BIRD ORNAMENT       1418\n",
              "4                       PARTY BUNTING       1416\n",
              "5             LUNCH BAG RED RETROSPOT       1358\n",
              "6   SET OF 3 CAKE TINS PANTRY DESIGN        1232\n",
              "7                             POSTAGE       1196\n",
              "8             LUNCH BAG  BLACK SKULL.       1126\n",
              "9     PACK OF 72 RETROSPOT CAKE CASES       1080"
            ],
            "text/html": [
              "\n",
              "  <div id=\"df-f68c2d64-bf10-460a-9714-4c51d302f494\">\n",
              "    <div class=\"colab-df-container\">\n",
              "      <div>\n",
              "<style scoped>\n",
              "    .dataframe tbody tr th:only-of-type {\n",
              "        vertical-align: middle;\n",
              "    }\n",
              "\n",
              "    .dataframe tbody tr th {\n",
              "        vertical-align: top;\n",
              "    }\n",
              "\n",
              "    .dataframe thead th {\n",
              "        text-align: right;\n",
              "    }\n",
              "</style>\n",
              "<table border=\"1\" class=\"dataframe\">\n",
              "  <thead>\n",
              "    <tr style=\"text-align: right;\">\n",
              "      <th></th>\n",
              "      <th>Description</th>\n",
              "      <th>StockCode</th>\n",
              "    </tr>\n",
              "  </thead>\n",
              "  <tbody>\n",
              "    <tr>\n",
              "      <th>0</th>\n",
              "      <td>WHITE HANGING HEART T-LIGHT HOLDER</td>\n",
              "      <td>2070</td>\n",
              "    </tr>\n",
              "    <tr>\n",
              "      <th>1</th>\n",
              "      <td>REGENCY CAKESTAND 3 TIER</td>\n",
              "      <td>1905</td>\n",
              "    </tr>\n",
              "    <tr>\n",
              "      <th>2</th>\n",
              "      <td>JUMBO BAG RED RETROSPOT</td>\n",
              "      <td>1662</td>\n",
              "    </tr>\n",
              "    <tr>\n",
              "      <th>3</th>\n",
              "      <td>ASSORTED COLOUR BIRD ORNAMENT</td>\n",
              "      <td>1418</td>\n",
              "    </tr>\n",
              "    <tr>\n",
              "      <th>4</th>\n",
              "      <td>PARTY BUNTING</td>\n",
              "      <td>1416</td>\n",
              "    </tr>\n",
              "    <tr>\n",
              "      <th>5</th>\n",
              "      <td>LUNCH BAG RED RETROSPOT</td>\n",
              "      <td>1358</td>\n",
              "    </tr>\n",
              "    <tr>\n",
              "      <th>6</th>\n",
              "      <td>SET OF 3 CAKE TINS PANTRY DESIGN</td>\n",
              "      <td>1232</td>\n",
              "    </tr>\n",
              "    <tr>\n",
              "      <th>7</th>\n",
              "      <td>POSTAGE</td>\n",
              "      <td>1196</td>\n",
              "    </tr>\n",
              "    <tr>\n",
              "      <th>8</th>\n",
              "      <td>LUNCH BAG  BLACK SKULL.</td>\n",
              "      <td>1126</td>\n",
              "    </tr>\n",
              "    <tr>\n",
              "      <th>9</th>\n",
              "      <td>PACK OF 72 RETROSPOT CAKE CASES</td>\n",
              "      <td>1080</td>\n",
              "    </tr>\n",
              "  </tbody>\n",
              "</table>\n",
              "</div>\n",
              "      <button class=\"colab-df-convert\" onclick=\"convertToInteractive('df-f68c2d64-bf10-460a-9714-4c51d302f494')\"\n",
              "              title=\"Convert this dataframe to an interactive table.\"\n",
              "              style=\"display:none;\">\n",
              "        \n",
              "  <svg xmlns=\"http://www.w3.org/2000/svg\" height=\"24px\"viewBox=\"0 0 24 24\"\n",
              "       width=\"24px\">\n",
              "    <path d=\"M0 0h24v24H0V0z\" fill=\"none\"/>\n",
              "    <path d=\"M18.56 5.44l.94 2.06.94-2.06 2.06-.94-2.06-.94-.94-2.06-.94 2.06-2.06.94zm-11 1L8.5 8.5l.94-2.06 2.06-.94-2.06-.94L8.5 2.5l-.94 2.06-2.06.94zm10 10l.94 2.06.94-2.06 2.06-.94-2.06-.94-.94-2.06-.94 2.06-2.06.94z\"/><path d=\"M17.41 7.96l-1.37-1.37c-.4-.4-.92-.59-1.43-.59-.52 0-1.04.2-1.43.59L10.3 9.45l-7.72 7.72c-.78.78-.78 2.05 0 2.83L4 21.41c.39.39.9.59 1.41.59.51 0 1.02-.2 1.41-.59l7.78-7.78 2.81-2.81c.8-.78.8-2.07 0-2.86zM5.41 20L4 18.59l7.72-7.72 1.47 1.35L5.41 20z\"/>\n",
              "  </svg>\n",
              "      </button>\n",
              "      \n",
              "  <style>\n",
              "    .colab-df-container {\n",
              "      display:flex;\n",
              "      flex-wrap:wrap;\n",
              "      gap: 12px;\n",
              "    }\n",
              "\n",
              "    .colab-df-convert {\n",
              "      background-color: #E8F0FE;\n",
              "      border: none;\n",
              "      border-radius: 50%;\n",
              "      cursor: pointer;\n",
              "      display: none;\n",
              "      fill: #1967D2;\n",
              "      height: 32px;\n",
              "      padding: 0 0 0 0;\n",
              "      width: 32px;\n",
              "    }\n",
              "\n",
              "    .colab-df-convert:hover {\n",
              "      background-color: #E2EBFA;\n",
              "      box-shadow: 0px 1px 2px rgba(60, 64, 67, 0.3), 0px 1px 3px 1px rgba(60, 64, 67, 0.15);\n",
              "      fill: #174EA6;\n",
              "    }\n",
              "\n",
              "    [theme=dark] .colab-df-convert {\n",
              "      background-color: #3B4455;\n",
              "      fill: #D2E3FC;\n",
              "    }\n",
              "\n",
              "    [theme=dark] .colab-df-convert:hover {\n",
              "      background-color: #434B5C;\n",
              "      box-shadow: 0px 1px 3px 1px rgba(0, 0, 0, 0.15);\n",
              "      filter: drop-shadow(0px 1px 2px rgba(0, 0, 0, 0.3));\n",
              "      fill: #FFFFFF;\n",
              "    }\n",
              "  </style>\n",
              "\n",
              "      <script>\n",
              "        const buttonEl =\n",
              "          document.querySelector('#df-f68c2d64-bf10-460a-9714-4c51d302f494 button.colab-df-convert');\n",
              "        buttonEl.style.display =\n",
              "          google.colab.kernel.accessAllowed ? 'block' : 'none';\n",
              "\n",
              "        async function convertToInteractive(key) {\n",
              "          const element = document.querySelector('#df-f68c2d64-bf10-460a-9714-4c51d302f494');\n",
              "          const dataTable =\n",
              "            await google.colab.kernel.invokeFunction('convertToInteractive',\n",
              "                                                     [key], {});\n",
              "          if (!dataTable) return;\n",
              "\n",
              "          const docLinkHtml = 'Like what you see? Visit the ' +\n",
              "            '<a target=\"_blank\" href=https://colab.research.google.com/notebooks/data_table.ipynb>data table notebook</a>'\n",
              "            + ' to learn more about interactive tables.';\n",
              "          element.innerHTML = '';\n",
              "          dataTable['output_type'] = 'display_data';\n",
              "          await google.colab.output.renderOutput(dataTable, element);\n",
              "          const docLink = document.createElement('div');\n",
              "          docLink.innerHTML = docLinkHtml;\n",
              "          element.appendChild(docLink);\n",
              "        }\n",
              "      </script>\n",
              "    </div>\n",
              "  </div>\n",
              "  "
            ]
          },
          "metadata": {},
          "execution_count": 317
        }
      ]
    },
    {
      "cell_type": "code",
      "source": [
        "# Gráfica de los 10 objetos más vendidos\n",
        "sns.barplot(x = 'StockCode', y = 'Description', data = description, color = 'indianred')\n",
        "plt.xlabel('count')\n",
        "plt.ylabel('Description')\n",
        "plt.show()"
      ],
      "metadata": {
        "colab": {
          "base_uri": "https://localhost:8080/",
          "height": 334
        },
        "id": "hxN7pgbJNfQG",
        "outputId": "ac051a0d-0d28-4955-ad1b-8df6154c90ce"
      },
      "execution_count": 318,
      "outputs": [
        {
          "output_type": "display_data",
          "data": {
            "text/plain": [
              "<Figure size 720x360 with 1 Axes>"
            ],
            "image/png": "[encoded data removed]"
          },
          "metadata": {
            "needs_background": "light"
          }
        }
      ]
    },
    {
      "cell_type": "markdown",
      "source": [
        "### Reglas de Asociación"
      ],
      "metadata": {
        "id": "xJMJDOKMQckC"
      }
    },
    {
      "cell_type": "markdown",
      "source": [
        "Deseamos obtener una lista de compras para cada cliente en cada fecha, es decir, los objetos comprados en cada transacción, para ello requerimos de las columnas CustomerID, Date y Description."
      ],
      "metadata": {
        "id": "ur1UYNw1Qs2v"
      }
    },
    {
      "cell_type": "code",
      "source": [
        "# extraemos un dataset con las columnas de interes\n",
        "df_new = df_retail[['CustomerID', 'Date', 'Description']]"
      ],
      "metadata": {
        "id": "UG__gOqsQa5J"
      },
      "execution_count": 319,
      "outputs": []
    },
    {
      "cell_type": "code",
      "source": [
        "# Creamos una tabla pivot \n",
        "df_new_pivot = df_new.pivot_table(index = ['CustomerID', 'Date'], columns = 'Description', fill_value = 0, aggfunc = len)"
      ],
      "metadata": {
        "id": "vuoxUs4SNfal"
      },
      "execution_count": 320,
      "outputs": []
    },
    {
      "cell_type": "code",
      "source": [
        "# Si el valor es mayor a cero, significa que existe un objeto comprado de esa columna\n",
        "df_new_pivot = df_new_pivot.reset_index(drop = True)\n",
        "df_new_pivot = df_new_pivot > 0\n",
        "df_new_pivot"
      ],
      "metadata": {
        "colab": {
          "base_uri": "https://localhost:8080/",
          "height": 574
        },
        "id": "ktfq9lBEjPHY",
        "outputId": "54df31c1-1799-468f-d3f3-46cd44579536"
      },
      "execution_count": 321,
      "outputs": [
        {
          "output_type": "execute_result",
          "data": {
            "text/plain": [
              "Description   4 PURPLE FLOCK DINNER CANDLES   50'S CHRISTMAS GIFT BAG LARGE  \\\n",
              "0                                     False                           False   \n",
              "1                                     False                           False   \n",
              "2                                     False                           False   \n",
              "3                                     False                           False   \n",
              "4                                     False                           False   \n",
              "...                                     ...                             ...   \n",
              "19291                                 False                           False   \n",
              "19292                                 False                           False   \n",
              "19293                                 False                           False   \n",
              "19294                                 False                           False   \n",
              "19295                                 False                           False   \n",
              "\n",
              "Description   DOLLY GIRL BEAKER   I LOVE LONDON MINI BACKPACK  \\\n",
              "0                         False                         False   \n",
              "1                         False                         False   \n",
              "2                         False                         False   \n",
              "3                         False                         False   \n",
              "4                         False                         False   \n",
              "...                         ...                           ...   \n",
              "19291                     False                         False   \n",
              "19292                     False                         False   \n",
              "19293                     False                         False   \n",
              "19294                     False                         False   \n",
              "19295                     False                         False   \n",
              "\n",
              "Description   I LOVE LONDON MINI RUCKSACK   NINE DRAWER OFFICE TIDY  \\\n",
              "0                                   False                     False   \n",
              "1                                   False                     False   \n",
              "2                                   False                     False   \n",
              "3                                   False                     False   \n",
              "4                                   False                     False   \n",
              "...                                   ...                       ...   \n",
              "19291                               False                     False   \n",
              "19292                               False                     False   \n",
              "19293                               False                     False   \n",
              "19294                               False                     False   \n",
              "19295                               False                     False   \n",
              "\n",
              "Description   OVAL WALL MIRROR DIAMANTE    RED SPOT GIFT BAG LARGE  \\\n",
              "0                                  False                     False   \n",
              "1                                  False                     False   \n",
              "2                                  False                     False   \n",
              "3                                  False                     False   \n",
              "4                                  False                     False   \n",
              "...                                  ...                       ...   \n",
              "19291                              False                     False   \n",
              "19292                              False                     False   \n",
              "19293                              False                     False   \n",
              "19294                              False                     False   \n",
              "19295                              False                     False   \n",
              "\n",
              "Description   SET 2 TEA TOWELS I LOVE LONDON    SPACEBOY BABY GIFT SET  ...  \\\n",
              "0                                       False                    False  ...   \n",
              "1                                       False                    False  ...   \n",
              "2                                       False                    False  ...   \n",
              "3                                       False                    False  ...   \n",
              "4                                       False                    False  ...   \n",
              "...                                       ...                      ...  ...   \n",
              "19291                                   False                    False  ...   \n",
              "19292                                   False                    False  ...   \n",
              "19293                                   False                    False  ...   \n",
              "19294                                   False                    False  ...   \n",
              "19295                                   False                    False  ...   \n",
              "\n",
              "Description  ZINC STAR T-LIGHT HOLDER   ZINC SWEETHEART SOAP DISH  \\\n",
              "0                                False                      False   \n",
              "1                                False                      False   \n",
              "2                                False                      False   \n",
              "3                                False                      False   \n",
              "4                                False                      False   \n",
              "...                                ...                        ...   \n",
              "19291                            False                      False   \n",
              "19292                            False                      False   \n",
              "19293                            False                      False   \n",
              "19294                            False                      False   \n",
              "19295                            False                      False   \n",
              "\n",
              "Description  ZINC SWEETHEART WIRE LETTER RACK  ZINC T-LIGHT HOLDER STAR LARGE  \\\n",
              "0                                       False                           False   \n",
              "1                                       False                           False   \n",
              "2                                       False                           False   \n",
              "3                                       False                           False   \n",
              "4                                       False                           False   \n",
              "...                                       ...                             ...   \n",
              "19291                                   False                           False   \n",
              "19292                                   False                           False   \n",
              "19293                                   False                           False   \n",
              "19294                                   False                           False   \n",
              "19295                                   False                           False   \n",
              "\n",
              "Description  ZINC T-LIGHT HOLDER STARS LARGE  ZINC T-LIGHT HOLDER STARS SMALL  \\\n",
              "0                                      False                            False   \n",
              "1                                      False                            False   \n",
              "2                                      False                            False   \n",
              "3                                      False                            False   \n",
              "4                                      False                            False   \n",
              "...                                      ...                              ...   \n",
              "19291                                  False                            False   \n",
              "19292                                  False                            False   \n",
              "19293                                  False                            False   \n",
              "19294                                  False                            False   \n",
              "19295                                  False                            False   \n",
              "\n",
              "Description  ZINC TOP  2 DOOR WOODEN SHELF   ZINC WILLIE WINKIE  CANDLE STICK  \\\n",
              "0                                     False                             False   \n",
              "1                                     False                             False   \n",
              "2                                     False                             False   \n",
              "3                                     False                             False   \n",
              "4                                     False                             False   \n",
              "...                                     ...                               ...   \n",
              "19291                                 False                             False   \n",
              "19292                                 False                             False   \n",
              "19293                                 False                             False   \n",
              "19294                                 False                             False   \n",
              "19295                                 False                             False   \n",
              "\n",
              "Description  ZINC WIRE KITCHEN ORGANISER  ZINC WIRE SWEETHEART LETTER TRAY  \n",
              "0                                  False                             False  \n",
              "1                                  False                             False  \n",
              "2                                  False                             False  \n",
              "3                                  False                             False  \n",
              "4                                  False                             False  \n",
              "...                                  ...                               ...  \n",
              "19291                              False                             False  \n",
              "19292                              False                             False  \n",
              "19293                              False                             False  \n",
              "19294                              False                             False  \n",
              "19295                              False                             False  \n",
              "\n",
              "[19296 rows x 3896 columns]"
            ],
            "text/html": [
              "\n",
              "  <div id=\"df-7b5f40b5-47f1-457c-9ccd-6f4b8fe16c93\">\n",
              "    <div class=\"colab-df-container\">\n",
              "      <div>\n",
              "<style scoped>\n",
              "    .dataframe tbody tr th:only-of-type {\n",
              "        vertical-align: middle;\n",
              "    }\n",
              "\n",
              "    .dataframe tbody tr th {\n",
              "        vertical-align: top;\n",
              "    }\n",
              "\n",
              "    .dataframe thead th {\n",
              "        text-align: right;\n",
              "    }\n",
              "</style>\n",
              "<table border=\"1\" class=\"dataframe\">\n",
              "  <thead>\n",
              "    <tr style=\"text-align: right;\">\n",
              "      <th>Description</th>\n",
              "      <th>4 PURPLE FLOCK DINNER CANDLES</th>\n",
              "      <th>50'S CHRISTMAS GIFT BAG LARGE</th>\n",
              "      <th>DOLLY GIRL BEAKER</th>\n",
              "      <th>I LOVE LONDON MINI BACKPACK</th>\n",
              "      <th>I LOVE LONDON MINI RUCKSACK</th>\n",
              "      <th>NINE DRAWER OFFICE TIDY</th>\n",
              "      <th>OVAL WALL MIRROR DIAMANTE</th>\n",
              "      <th>RED SPOT GIFT BAG LARGE</th>\n",
              "      <th>SET 2 TEA TOWELS I LOVE LONDON</th>\n",
              "      <th>SPACEBOY BABY GIFT SET</th>\n",
              "      <th>...</th>\n",
              "      <th>ZINC STAR T-LIGHT HOLDER</th>\n",
              "      <th>ZINC SWEETHEART SOAP DISH</th>\n",
              "      <th>ZINC SWEETHEART WIRE LETTER RACK</th>\n",
              "      <th>ZINC T-LIGHT HOLDER STAR LARGE</th>\n",
              "      <th>ZINC T-LIGHT HOLDER STARS LARGE</th>\n",
              "      <th>ZINC T-LIGHT HOLDER STARS SMALL</th>\n",
              "      <th>ZINC TOP  2 DOOR WOODEN SHELF</th>\n",
              "      <th>ZINC WILLIE WINKIE  CANDLE STICK</th>\n",
              "      <th>ZINC WIRE KITCHEN ORGANISER</th>\n",
              "      <th>ZINC WIRE SWEETHEART LETTER TRAY</th>\n",
              "    </tr>\n",
              "  </thead>\n",
              "  <tbody>\n",
              "    <tr>\n",
              "      <th>0</th>\n",
              "      <td>False</td>\n",
              "      <td>False</td>\n",
              "      <td>False</td>\n",
              "      <td>False</td>\n",
              "      <td>False</td>\n",
              "      <td>False</td>\n",
              "      <td>False</td>\n",
              "      <td>False</td>\n",
              "      <td>False</td>\n",
              "      <td>False</td>\n",
              "      <td>...</td>\n",
              "      <td>False</td>\n",
              "      <td>False</td>\n",
              "      <td>False</td>\n",
              "      <td>False</td>\n",
              "      <td>False</td>\n",
              "      <td>False</td>\n",
              "      <td>False</td>\n",
              "      <td>False</td>\n",
              "      <td>False</td>\n",
              "      <td>False</td>\n",
              "    </tr>\n",
              "    <tr>\n",
              "      <th>1</th>\n",
              "      <td>False</td>\n",
              "      <td>False</td>\n",
              "      <td>False</td>\n",
              "      <td>False</td>\n",
              "      <td>False</td>\n",
              "      <td>False</td>\n",
              "      <td>False</td>\n",
              "      <td>False</td>\n",
              "      <td>False</td>\n",
              "      <td>False</td>\n",
              "      <td>...</td>\n",
              "      <td>False</td>\n",
              "      <td>False</td>\n",
              "      <td>False</td>\n",
              "      <td>False</td>\n",
              "      <td>False</td>\n",
              "      <td>False</td>\n",
              "      <td>False</td>\n",
              "      <td>False</td>\n",
              "      <td>False</td>\n",
              "      <td>False</td>\n",
              "    </tr>\n",
              "    <tr>\n",
              "      <th>2</th>\n",
              "      <td>False</td>\n",
              "      <td>False</td>\n",
              "      <td>False</td>\n",
              "      <td>False</td>\n",
              "      <td>False</td>\n",
              "      <td>False</td>\n",
              "      <td>False</td>\n",
              "      <td>False</td>\n",
              "      <td>False</td>\n",
              "      <td>False</td>\n",
              "      <td>...</td>\n",
              "      <td>False</td>\n",
              "      <td>False</td>\n",
              "      <td>False</td>\n",
              "      <td>False</td>\n",
              "      <td>False</td>\n",
              "      <td>False</td>\n",
              "      <td>False</td>\n",
              "      <td>False</td>\n",
              "      <td>False</td>\n",
              "      <td>False</td>\n",
              "    </tr>\n",
              "    <tr>\n",
              "      <th>3</th>\n",
              "      <td>False</td>\n",
              "      <td>False</td>\n",
              "      <td>False</td>\n",
              "      <td>False</td>\n",
              "      <td>False</td>\n",
              "      <td>False</td>\n",
              "      <td>False</td>\n",
              "      <td>False</td>\n",
              "      <td>False</td>\n",
              "      <td>False</td>\n",
              "      <td>...</td>\n",
              "      <td>False</td>\n",
              "      <td>False</td>\n",
              "      <td>False</td>\n",
              "      <td>False</td>\n",
              "      <td>False</td>\n",
              "      <td>False</td>\n",
              "      <td>False</td>\n",
              "      <td>False</td>\n",
              "      <td>False</td>\n",
              "      <td>False</td>\n",
              "    </tr>\n",
              "    <tr>\n",
              "      <th>4</th>\n",
              "      <td>False</td>\n",
              "      <td>False</td>\n",
              "      <td>False</td>\n",
              "      <td>False</td>\n",
              "      <td>False</td>\n",
              "      <td>False</td>\n",
              "      <td>False</td>\n",
              "      <td>False</td>\n",
              "      <td>False</td>\n",
              "      <td>False</td>\n",
              "      <td>...</td>\n",
              "      <td>False</td>\n",
              "      <td>False</td>\n",
              "      <td>False</td>\n",
              "      <td>False</td>\n",
              "      <td>False</td>\n",
              "      <td>False</td>\n",
              "      <td>False</td>\n",
              "      <td>False</td>\n",
              "      <td>False</td>\n",
              "      <td>False</td>\n",
              "    </tr>\n",
              "    <tr>\n",
              "      <th>...</th>\n",
              "      <td>...</td>\n",
              "      <td>...</td>\n",
              "      <td>...</td>\n",
              "      <td>...</td>\n",
              "      <td>...</td>\n",
              "      <td>...</td>\n",
              "      <td>...</td>\n",
              "      <td>...</td>\n",
              "      <td>...</td>\n",
              "      <td>...</td>\n",
              "      <td>...</td>\n",
              "      <td>...</td>\n",
              "      <td>...</td>\n",
              "      <td>...</td>\n",
              "      <td>...</td>\n",
              "      <td>...</td>\n",
              "      <td>...</td>\n",
              "      <td>...</td>\n",
              "      <td>...</td>\n",
              "      <td>...</td>\n",
              "      <td>...</td>\n",
              "    </tr>\n",
              "    <tr>\n",
              "      <th>19291</th>\n",
              "      <td>False</td>\n",
              "      <td>False</td>\n",
              "      <td>False</td>\n",
              "      <td>False</td>\n",
              "      <td>False</td>\n",
              "      <td>False</td>\n",
              "      <td>False</td>\n",
              "      <td>False</td>\n",
              "      <td>False</td>\n",
              "      <td>False</td>\n",
              "      <td>...</td>\n",
              "      <td>False</td>\n",
              "      <td>False</td>\n",
              "      <td>False</td>\n",
              "      <td>False</td>\n",
              "      <td>False</td>\n",
              "      <td>False</td>\n",
              "      <td>False</td>\n",
              "      <td>False</td>\n",
              "      <td>False</td>\n",
              "      <td>False</td>\n",
              "    </tr>\n",
              "    <tr>\n",
              "      <th>19292</th>\n",
              "      <td>False</td>\n",
              "      <td>False</td>\n",
              "      <td>False</td>\n",
              "      <td>False</td>\n",
              "      <td>False</td>\n",
              "      <td>False</td>\n",
              "      <td>False</td>\n",
              "      <td>False</td>\n",
              "      <td>False</td>\n",
              "      <td>False</td>\n",
              "      <td>...</td>\n",
              "      <td>False</td>\n",
              "      <td>False</td>\n",
              "      <td>False</td>\n",
              "      <td>False</td>\n",
              "      <td>False</td>\n",
              "      <td>False</td>\n",
              "      <td>False</td>\n",
              "      <td>False</td>\n",
              "      <td>False</td>\n",
              "      <td>False</td>\n",
              "    </tr>\n",
              "    <tr>\n",
              "      <th>19293</th>\n",
              "      <td>False</td>\n",
              "      <td>False</td>\n",
              "      <td>False</td>\n",
              "      <td>False</td>\n",
              "      <td>False</td>\n",
              "      <td>False</td>\n",
              "      <td>False</td>\n",
              "      <td>False</td>\n",
              "      <td>False</td>\n",
              "      <td>False</td>\n",
              "      <td>...</td>\n",
              "      <td>False</td>\n",
              "      <td>False</td>\n",
              "      <td>False</td>\n",
              "      <td>False</td>\n",
              "      <td>False</td>\n",
              "      <td>False</td>\n",
              "      <td>False</td>\n",
              "      <td>False</td>\n",
              "      <td>False</td>\n",
              "      <td>False</td>\n",
              "    </tr>\n",
              "    <tr>\n",
              "      <th>19294</th>\n",
              "      <td>False</td>\n",
              "      <td>False</td>\n",
              "      <td>False</td>\n",
              "      <td>False</td>\n",
              "      <td>False</td>\n",
              "      <td>False</td>\n",
              "      <td>False</td>\n",
              "      <td>False</td>\n",
              "      <td>False</td>\n",
              "      <td>False</td>\n",
              "      <td>...</td>\n",
              "      <td>False</td>\n",
              "      <td>False</td>\n",
              "      <td>False</td>\n",
              "      <td>False</td>\n",
              "      <td>False</td>\n",
              "      <td>False</td>\n",
              "      <td>False</td>\n",
              "      <td>False</td>\n",
              "      <td>False</td>\n",
              "      <td>False</td>\n",
              "    </tr>\n",
              "    <tr>\n",
              "      <th>19295</th>\n",
              "      <td>False</td>\n",
              "      <td>False</td>\n",
              "      <td>False</td>\n",
              "      <td>False</td>\n",
              "      <td>False</td>\n",
              "      <td>False</td>\n",
              "      <td>False</td>\n",
              "      <td>False</td>\n",
              "      <td>False</td>\n",
              "      <td>False</td>\n",
              "      <td>...</td>\n",
              "      <td>False</td>\n",
              "      <td>False</td>\n",
              "      <td>False</td>\n",
              "      <td>False</td>\n",
              "      <td>False</td>\n",
              "      <td>False</td>\n",
              "      <td>False</td>\n",
              "      <td>False</td>\n",
              "      <td>False</td>\n",
              "      <td>False</td>\n",
              "    </tr>\n",
              "  </tbody>\n",
              "</table>\n",
              "<p>19296 rows × 3896 columns</p>\n",
              "</div>\n",
              "      <button class=\"colab-df-convert\" onclick=\"convertToInteractive('df-7b5f40b5-47f1-457c-9ccd-6f4b8fe16c93')\"\n",
              "              title=\"Convert this dataframe to an interactive table.\"\n",
              "              style=\"display:none;\">\n",
              "        \n",
              "  <svg xmlns=\"http://www.w3.org/2000/svg\" height=\"24px\"viewBox=\"0 0 24 24\"\n",
              "       width=\"24px\">\n",
              "    <path d=\"M0 0h24v24H0V0z\" fill=\"none\"/>\n",
              "    <path d=\"M18.56 5.44l.94 2.06.94-2.06 2.06-.94-2.06-.94-.94-2.06-.94 2.06-2.06.94zm-11 1L8.5 8.5l.94-2.06 2.06-.94-2.06-.94L8.5 2.5l-.94 2.06-2.06.94zm10 10l.94 2.06.94-2.06 2.06-.94-2.06-.94-.94-2.06-.94 2.06-2.06.94z\"/><path d=\"M17.41 7.96l-1.37-1.37c-.4-.4-.92-.59-1.43-.59-.52 0-1.04.2-1.43.59L10.3 9.45l-7.72 7.72c-.78.78-.78 2.05 0 2.83L4 21.41c.39.39.9.59 1.41.59.51 0 1.02-.2 1.41-.59l7.78-7.78 2.81-2.81c.8-.78.8-2.07 0-2.86zM5.41 20L4 18.59l7.72-7.72 1.47 1.35L5.41 20z\"/>\n",
              "  </svg>\n",
              "      </button>\n",
              "      \n",
              "  <style>\n",
              "    .colab-df-container {\n",
              "      display:flex;\n",
              "      flex-wrap:wrap;\n",
              "      gap: 12px;\n",
              "    }\n",
              "\n",
              "    .colab-df-convert {\n",
              "      background-color: #E8F0FE;\n",
              "      border: none;\n",
              "      border-radius: 50%;\n",
              "      cursor: pointer;\n",
              "      display: none;\n",
              "      fill: #1967D2;\n",
              "      height: 32px;\n",
              "      padding: 0 0 0 0;\n",
              "      width: 32px;\n",
              "    }\n",
              "\n",
              "    .colab-df-convert:hover {\n",
              "      background-color: #E2EBFA;\n",
              "      box-shadow: 0px 1px 2px rgba(60, 64, 67, 0.3), 0px 1px 3px 1px rgba(60, 64, 67, 0.15);\n",
              "      fill: #174EA6;\n",
              "    }\n",
              "\n",
              "    [theme=dark] .colab-df-convert {\n",
              "      background-color: #3B4455;\n",
              "      fill: #D2E3FC;\n",
              "    }\n",
              "\n",
              "    [theme=dark] .colab-df-convert:hover {\n",
              "      background-color: #434B5C;\n",
              "      box-shadow: 0px 1px 3px 1px rgba(0, 0, 0, 0.15);\n",
              "      filter: drop-shadow(0px 1px 2px rgba(0, 0, 0, 0.3));\n",
              "      fill: #FFFFFF;\n",
              "    }\n",
              "  </style>\n",
              "\n",
              "      <script>\n",
              "        const buttonEl =\n",
              "          document.querySelector('#df-7b5f40b5-47f1-457c-9ccd-6f4b8fe16c93 button.colab-df-convert');\n",
              "        buttonEl.style.display =\n",
              "          google.colab.kernel.accessAllowed ? 'block' : 'none';\n",
              "\n",
              "        async function convertToInteractive(key) {\n",
              "          const element = document.querySelector('#df-7b5f40b5-47f1-457c-9ccd-6f4b8fe16c93');\n",
              "          const dataTable =\n",
              "            await google.colab.kernel.invokeFunction('convertToInteractive',\n",
              "                                                     [key], {});\n",
              "          if (!dataTable) return;\n",
              "\n",
              "          const docLinkHtml = 'Like what you see? Visit the ' +\n",
              "            '<a target=\"_blank\" href=https://colab.research.google.com/notebooks/data_table.ipynb>data table notebook</a>'\n",
              "            + ' to learn more about interactive tables.';\n",
              "          element.innerHTML = '';\n",
              "          dataTable['output_type'] = 'display_data';\n",
              "          await google.colab.output.renderOutput(dataTable, element);\n",
              "          const docLink = document.createElement('div');\n",
              "          docLink.innerHTML = docLinkHtml;\n",
              "          element.appendChild(docLink);\n",
              "        }\n",
              "      </script>\n",
              "    </div>\n",
              "  </div>\n",
              "  "
            ]
          },
          "metadata": {},
          "execution_count": 321
        }
      ]
    },
    {
      "cell_type": "code",
      "source": [
        "# Obtenemos los totales de cada columna\n",
        "freq = {}\n",
        "for column in df_new_pivot.columns:\n",
        "  freq[column] = df_new_pivot[column].sum()\n",
        "  "
      ],
      "metadata": {
        "id": "syfwZ8X1mhL-"
      },
      "execution_count": 322,
      "outputs": []
    },
    {
      "cell_type": "code",
      "source": [
        "# Creamos un dataframe con la información sobre los totales de cada columna\n",
        "freq = pd.DataFrame(list(freq.items()), columns = ['Object', 'Frequency'])"
      ],
      "metadata": {
        "id": "71QbbEREoQr3"
      },
      "execution_count": 323,
      "outputs": []
    },
    {
      "cell_type": "code",
      "source": [
        "# Ordenamos los valores de mayor a menor y obtenemos los primeros 20\n",
        "freq = freq.sort_values('Frequency', ascending = False).iloc[:20, :]"
      ],
      "metadata": {
        "id": "7eRaBYPXo8QW"
      },
      "execution_count": 324,
      "outputs": []
    },
    {
      "cell_type": "code",
      "source": [
        "sns.barplot(x = 'Object', y = 'Frequency', data = freq, color = 'gray')\n",
        "plt.xticks(rotation = 90)\n",
        "plt.show()"
      ],
      "metadata": {
        "colab": {
          "base_uri": "https://localhost:8080/",
          "height": 529
        },
        "id": "zrTgLYlzpTTx",
        "outputId": "ddcf72a0-d407-42c8-e0c4-de3995b58274"
      },
      "execution_count": 325,
      "outputs": [
        {
          "output_type": "display_data",
          "data": {
            "text/plain": [
              "<Figure size 720x360 with 1 Axes>"
            ],
            "image/png": "[encoded data removed]"
          },
          "metadata": {
            "needs_background": "light"
          }
        }
      ]
    },
    {
      "cell_type": "markdown",
      "source": [
        "### Algortimo Apriori"
      ],
      "metadata": {
        "id": "ug6wfqQjRhDp"
      }
    },
    {
      "cell_type": "code",
      "source": [
        "# Algoritmo Apriori con soporte minimo de 0.01 y longitud maxima de 3\n",
        "frequent_itemset = apriori(df_new_pivot, min_support = 0.01, max_len = 3, use_colnames = True, n_jobs = -1)\n",
        "frequent_itemset.sort_values(by = 'support', ascending = False).head(5)"
      ],
      "metadata": {
        "colab": {
          "base_uri": "https://localhost:8080/",
          "height": 206
        },
        "id": "zEP3p3Xqlg2h",
        "outputId": "d3204ef0-9a6b-4add-f775-00b696679148"
      },
      "execution_count": 332,
      "outputs": [
        {
          "output_type": "execute_result",
          "data": {
            "text/plain": [
              "      support                              itemsets\n",
              "566  0.102249  (WHITE HANGING HEART T-LIGHT HOLDER)\n",
              "400  0.095460            (REGENCY CAKESTAND 3 TIER)\n",
              "236  0.083903             (JUMBO BAG RED RETROSPOT)\n",
              "325  0.071984                       (PARTY BUNTING)\n",
              "36   0.071362       (ASSORTED COLOUR BIRD ORNAMENT)"
            ],
            "text/html": [
              "\n",
              "  <div id=\"df-13678d81-4352-465d-bf32-9a0c44bbe1b9\">\n",
              "    <div class=\"colab-df-container\">\n",
              "      <div>\n",
              "<style scoped>\n",
              "    .dataframe tbody tr th:only-of-type {\n",
              "        vertical-align: middle;\n",
              "    }\n",
              "\n",
              "    .dataframe tbody tr th {\n",
              "        vertical-align: top;\n",
              "    }\n",
              "\n",
              "    .dataframe thead th {\n",
              "        text-align: right;\n",
              "    }\n",
              "</style>\n",
              "<table border=\"1\" class=\"dataframe\">\n",
              "  <thead>\n",
              "    <tr style=\"text-align: right;\">\n",
              "      <th></th>\n",
              "      <th>support</th>\n",
              "      <th>itemsets</th>\n",
              "    </tr>\n",
              "  </thead>\n",
              "  <tbody>\n",
              "    <tr>\n",
              "      <th>566</th>\n",
              "      <td>0.102249</td>\n",
              "      <td>(WHITE HANGING HEART T-LIGHT HOLDER)</td>\n",
              "    </tr>\n",
              "    <tr>\n",
              "      <th>400</th>\n",
              "      <td>0.095460</td>\n",
              "      <td>(REGENCY CAKESTAND 3 TIER)</td>\n",
              "    </tr>\n",
              "    <tr>\n",
              "      <th>236</th>\n",
              "      <td>0.083903</td>\n",
              "      <td>(JUMBO BAG RED RETROSPOT)</td>\n",
              "    </tr>\n",
              "    <tr>\n",
              "      <th>325</th>\n",
              "      <td>0.071984</td>\n",
              "      <td>(PARTY BUNTING)</td>\n",
              "    </tr>\n",
              "    <tr>\n",
              "      <th>36</th>\n",
              "      <td>0.071362</td>\n",
              "      <td>(ASSORTED COLOUR BIRD ORNAMENT)</td>\n",
              "    </tr>\n",
              "  </tbody>\n",
              "</table>\n",
              "</div>\n",
              "      <button class=\"colab-df-convert\" onclick=\"convertToInteractive('df-13678d81-4352-465d-bf32-9a0c44bbe1b9')\"\n",
              "              title=\"Convert this dataframe to an interactive table.\"\n",
              "              style=\"display:none;\">\n",
              "        \n",
              "  <svg xmlns=\"http://www.w3.org/2000/svg\" height=\"24px\"viewBox=\"0 0 24 24\"\n",
              "       width=\"24px\">\n",
              "    <path d=\"M0 0h24v24H0V0z\" fill=\"none\"/>\n",
              "    <path d=\"M18.56 5.44l.94 2.06.94-2.06 2.06-.94-2.06-.94-.94-2.06-.94 2.06-2.06.94zm-11 1L8.5 8.5l.94-2.06 2.06-.94-2.06-.94L8.5 2.5l-.94 2.06-2.06.94zm10 10l.94 2.06.94-2.06 2.06-.94-2.06-.94-.94-2.06-.94 2.06-2.06.94z\"/><path d=\"M17.41 7.96l-1.37-1.37c-.4-.4-.92-.59-1.43-.59-.52 0-1.04.2-1.43.59L10.3 9.45l-7.72 7.72c-.78.78-.78 2.05 0 2.83L4 21.41c.39.39.9.59 1.41.59.51 0 1.02-.2 1.41-.59l7.78-7.78 2.81-2.81c.8-.78.8-2.07 0-2.86zM5.41 20L4 18.59l7.72-7.72 1.47 1.35L5.41 20z\"/>\n",
              "  </svg>\n",
              "      </button>\n",
              "      \n",
              "  <style>\n",
              "    .colab-df-container {\n",
              "      display:flex;\n",
              "      flex-wrap:wrap;\n",
              "      gap: 12px;\n",
              "    }\n",
              "\n",
              "    .colab-df-convert {\n",
              "      background-color: #E8F0FE;\n",
              "      border: none;\n",
              "      border-radius: 50%;\n",
              "      cursor: pointer;\n",
              "      display: none;\n",
              "      fill: #1967D2;\n",
              "      height: 32px;\n",
              "      padding: 0 0 0 0;\n",
              "      width: 32px;\n",
              "    }\n",
              "\n",
              "    .colab-df-convert:hover {\n",
              "      background-color: #E2EBFA;\n",
              "      box-shadow: 0px 1px 2px rgba(60, 64, 67, 0.3), 0px 1px 3px 1px rgba(60, 64, 67, 0.15);\n",
              "      fill: #174EA6;\n",
              "    }\n",
              "\n",
              "    [theme=dark] .colab-df-convert {\n",
              "      background-color: #3B4455;\n",
              "      fill: #D2E3FC;\n",
              "    }\n",
              "\n",
              "    [theme=dark] .colab-df-convert:hover {\n",
              "      background-color: #434B5C;\n",
              "      box-shadow: 0px 1px 3px 1px rgba(0, 0, 0, 0.15);\n",
              "      filter: drop-shadow(0px 1px 2px rgba(0, 0, 0, 0.3));\n",
              "      fill: #FFFFFF;\n",
              "    }\n",
              "  </style>\n",
              "\n",
              "      <script>\n",
              "        const buttonEl =\n",
              "          document.querySelector('#df-13678d81-4352-465d-bf32-9a0c44bbe1b9 button.colab-df-convert');\n",
              "        buttonEl.style.display =\n",
              "          google.colab.kernel.accessAllowed ? 'block' : 'none';\n",
              "\n",
              "        async function convertToInteractive(key) {\n",
              "          const element = document.querySelector('#df-13678d81-4352-465d-bf32-9a0c44bbe1b9');\n",
              "          const dataTable =\n",
              "            await google.colab.kernel.invokeFunction('convertToInteractive',\n",
              "                                                     [key], {});\n",
              "          if (!dataTable) return;\n",
              "\n",
              "          const docLinkHtml = 'Like what you see? Visit the ' +\n",
              "            '<a target=\"_blank\" href=https://colab.research.google.com/notebooks/data_table.ipynb>data table notebook</a>'\n",
              "            + ' to learn more about interactive tables.';\n",
              "          element.innerHTML = '';\n",
              "          dataTable['output_type'] = 'display_data';\n",
              "          await google.colab.output.renderOutput(dataTable, element);\n",
              "          const docLink = document.createElement('div');\n",
              "          docLink.innerHTML = docLinkHtml;\n",
              "          element.appendChild(docLink);\n",
              "        }\n",
              "      </script>\n",
              "    </div>\n",
              "  </div>\n",
              "  "
            ]
          },
          "metadata": {},
          "execution_count": 332
        }
      ]
    },
    {
      "cell_type": "markdown",
      "source": [
        "Aquí podemos observar  que los conjuntos de artículos comprados más frecuentemente están compuestos por un único objeto. "
      ],
      "metadata": {
        "id": "upiBiwY4pDtX"
      }
    },
    {
      "cell_type": "code",
      "source": [
        " # Reglas deasociación\n",
        "rules = association_rules(frequent_itemset, metric = 'lift', min_threshold = 1)\n",
        "rules.sort_values(by = 'confidence', ascending = False).head(5)"
      ],
      "metadata": {
        "colab": {
          "base_uri": "https://localhost:8080/",
          "height": 528
        },
        "id": "n5eDW0svlg5l",
        "outputId": "3cb624c4-2afd-46a0-896d-9f4a029c0b6f"
      },
      "execution_count": 336,
      "outputs": [
        {
          "output_type": "execute_result",
          "data": {
            "text/plain": [
              "                                           antecedents  \\\n",
              "505                           (REGENCY TEA PLATE PINK)   \n",
              "584  (ROSES REGENCY TEACUP AND SAUCER , PINK REGENC...   \n",
              "578  (PINK REGENCY TEACUP AND SAUCER, REGENCY CAKES...   \n",
              "508                           (REGENCY TEA PLATE PINK)   \n",
              "474                    (POPPY'S PLAYHOUSE LIVINGROOM )   \n",
              "\n",
              "                           consequents  antecedent support  \\\n",
              "505         (REGENCY TEA PLATE GREEN )            0.011868   \n",
              "584  (GREEN REGENCY TEACUP AND SAUCER)            0.023062   \n",
              "578  (GREEN REGENCY TEACUP AND SAUCER)            0.016584   \n",
              "508         (REGENCY TEA PLATE ROSES )            0.011868   \n",
              "474        (POPPY'S PLAYHOUSE KITCHEN)            0.012956   \n",
              "\n",
              "     consequent support   support  confidence       lift  leverage  conviction  \n",
              "505            0.013993  0.010468    0.882096  63.040466  0.010302    8.362804  \n",
              "584            0.037573  0.020263    0.878652  23.385466  0.019397    7.931115  \n",
              "578            0.037573  0.014200    0.856250  22.789241  0.013577    6.695147  \n",
              "508            0.017206  0.010158    0.855895  49.745041  0.009953    6.819997  \n",
              "474            0.017828  0.010987    0.848000  47.566884  0.010756    6.461661  "
            ],
            "text/html": [
              "\n",
              "  <div id=\"df-a328c9c3-bfd8-44a7-9fa0-2109c9598518\">\n",
              "    <div class=\"colab-df-container\">\n",
              "      <div>\n",
              "<style scoped>\n",
              "    .dataframe tbody tr th:only-of-type {\n",
              "        vertical-align: middle;\n",
              "    }\n",
              "\n",
              "    .dataframe tbody tr th {\n",
              "        vertical-align: top;\n",
              "    }\n",
              "\n",
              "    .dataframe thead th {\n",
              "        text-align: right;\n",
              "    }\n",
              "</style>\n",
              "<table border=\"1\" class=\"dataframe\">\n",
              "  <thead>\n",
              "    <tr style=\"text-align: right;\">\n",
              "      <th></th>\n",
              "      <th>antecedents</th>\n",
              "      <th>consequents</th>\n",
              "      <th>antecedent support</th>\n",
              "      <th>consequent support</th>\n",
              "      <th>support</th>\n",
              "      <th>confidence</th>\n",
              "      <th>lift</th>\n",
              "      <th>leverage</th>\n",
              "      <th>conviction</th>\n",
              "    </tr>\n",
              "  </thead>\n",
              "  <tbody>\n",
              "    <tr>\n",
              "      <th>505</th>\n",
              "      <td>(REGENCY TEA PLATE PINK)</td>\n",
              "      <td>(REGENCY TEA PLATE GREEN )</td>\n",
              "      <td>0.011868</td>\n",
              "      <td>0.013993</td>\n",
              "      <td>0.010468</td>\n",
              "      <td>0.882096</td>\n",
              "      <td>63.040466</td>\n",
              "      <td>0.010302</td>\n",
              "      <td>8.362804</td>\n",
              "    </tr>\n",
              "    <tr>\n",
              "      <th>584</th>\n",
              "      <td>(ROSES REGENCY TEACUP AND SAUCER , PINK REGENC...</td>\n",
              "      <td>(GREEN REGENCY TEACUP AND SAUCER)</td>\n",
              "      <td>0.023062</td>\n",
              "      <td>0.037573</td>\n",
              "      <td>0.020263</td>\n",
              "      <td>0.878652</td>\n",
              "      <td>23.385466</td>\n",
              "      <td>0.019397</td>\n",
              "      <td>7.931115</td>\n",
              "    </tr>\n",
              "    <tr>\n",
              "      <th>578</th>\n",
              "      <td>(PINK REGENCY TEACUP AND SAUCER, REGENCY CAKES...</td>\n",
              "      <td>(GREEN REGENCY TEACUP AND SAUCER)</td>\n",
              "      <td>0.016584</td>\n",
              "      <td>0.037573</td>\n",
              "      <td>0.014200</td>\n",
              "      <td>0.856250</td>\n",
              "      <td>22.789241</td>\n",
              "      <td>0.013577</td>\n",
              "      <td>6.695147</td>\n",
              "    </tr>\n",
              "    <tr>\n",
              "      <th>508</th>\n",
              "      <td>(REGENCY TEA PLATE PINK)</td>\n",
              "      <td>(REGENCY TEA PLATE ROSES )</td>\n",
              "      <td>0.011868</td>\n",
              "      <td>0.017206</td>\n",
              "      <td>0.010158</td>\n",
              "      <td>0.855895</td>\n",
              "      <td>49.745041</td>\n",
              "      <td>0.009953</td>\n",
              "      <td>6.819997</td>\n",
              "    </tr>\n",
              "    <tr>\n",
              "      <th>474</th>\n",
              "      <td>(POPPY'S PLAYHOUSE LIVINGROOM )</td>\n",
              "      <td>(POPPY'S PLAYHOUSE KITCHEN)</td>\n",
              "      <td>0.012956</td>\n",
              "      <td>0.017828</td>\n",
              "      <td>0.010987</td>\n",
              "      <td>0.848000</td>\n",
              "      <td>47.566884</td>\n",
              "      <td>0.010756</td>\n",
              "      <td>6.461661</td>\n",
              "    </tr>\n",
              "  </tbody>\n",
              "</table>\n",
              "</div>\n",
              "      <button class=\"colab-df-convert\" onclick=\"convertToInteractive('df-a328c9c3-bfd8-44a7-9fa0-2109c9598518')\"\n",
              "              title=\"Convert this dataframe to an interactive table.\"\n",
              "              style=\"display:none;\">\n",
              "        \n",
              "  <svg xmlns=\"http://www.w3.org/2000/svg\" height=\"24px\"viewBox=\"0 0 24 24\"\n",
              "       width=\"24px\">\n",
              "    <path d=\"M0 0h24v24H0V0z\" fill=\"none\"/>\n",
              "    <path d=\"M18.56 5.44l.94 2.06.94-2.06 2.06-.94-2.06-.94-.94-2.06-.94 2.06-2.06.94zm-11 1L8.5 8.5l.94-2.06 2.06-.94-2.06-.94L8.5 2.5l-.94 2.06-2.06.94zm10 10l.94 2.06.94-2.06 2.06-.94-2.06-.94-.94-2.06-.94 2.06-2.06.94z\"/><path d=\"M17.41 7.96l-1.37-1.37c-.4-.4-.92-.59-1.43-.59-.52 0-1.04.2-1.43.59L10.3 9.45l-7.72 7.72c-.78.78-.78 2.05 0 2.83L4 21.41c.39.39.9.59 1.41.59.51 0 1.02-.2 1.41-.59l7.78-7.78 2.81-2.81c.8-.78.8-2.07 0-2.86zM5.41 20L4 18.59l7.72-7.72 1.47 1.35L5.41 20z\"/>\n",
              "  </svg>\n",
              "      </button>\n",
              "      \n",
              "  <style>\n",
              "    .colab-df-container {\n",
              "      display:flex;\n",
              "      flex-wrap:wrap;\n",
              "      gap: 12px;\n",
              "    }\n",
              "\n",
              "    .colab-df-convert {\n",
              "      background-color: #E8F0FE;\n",
              "      border: none;\n",
              "      border-radius: 50%;\n",
              "      cursor: pointer;\n",
              "      display: none;\n",
              "      fill: #1967D2;\n",
              "      height: 32px;\n",
              "      padding: 0 0 0 0;\n",
              "      width: 32px;\n",
              "    }\n",
              "\n",
              "    .colab-df-convert:hover {\n",
              "      background-color: #E2EBFA;\n",
              "      box-shadow: 0px 1px 2px rgba(60, 64, 67, 0.3), 0px 1px 3px 1px rgba(60, 64, 67, 0.15);\n",
              "      fill: #174EA6;\n",
              "    }\n",
              "\n",
              "    [theme=dark] .colab-df-convert {\n",
              "      background-color: #3B4455;\n",
              "      fill: #D2E3FC;\n",
              "    }\n",
              "\n",
              "    [theme=dark] .colab-df-convert:hover {\n",
              "      background-color: #434B5C;\n",
              "      box-shadow: 0px 1px 3px 1px rgba(0, 0, 0, 0.15);\n",
              "      filter: drop-shadow(0px 1px 2px rgba(0, 0, 0, 0.3));\n",
              "      fill: #FFFFFF;\n",
              "    }\n",
              "  </style>\n",
              "\n",
              "      <script>\n",
              "        const buttonEl =\n",
              "          document.querySelector('#df-a328c9c3-bfd8-44a7-9fa0-2109c9598518 button.colab-df-convert');\n",
              "        buttonEl.style.display =\n",
              "          google.colab.kernel.accessAllowed ? 'block' : 'none';\n",
              "\n",
              "        async function convertToInteractive(key) {\n",
              "          const element = document.querySelector('#df-a328c9c3-bfd8-44a7-9fa0-2109c9598518');\n",
              "          const dataTable =\n",
              "            await google.colab.kernel.invokeFunction('convertToInteractive',\n",
              "                                                     [key], {});\n",
              "          if (!dataTable) return;\n",
              "\n",
              "          const docLinkHtml = 'Like what you see? Visit the ' +\n",
              "            '<a target=\"_blank\" href=https://colab.research.google.com/notebooks/data_table.ipynb>data table notebook</a>'\n",
              "            + ' to learn more about interactive tables.';\n",
              "          element.innerHTML = '';\n",
              "          dataTable['output_type'] = 'display_data';\n",
              "          await google.colab.output.renderOutput(dataTable, element);\n",
              "          const docLink = document.createElement('div');\n",
              "          docLink.innerHTML = docLinkHtml;\n",
              "          element.appendChild(docLink);\n",
              "        }\n",
              "      </script>\n",
              "    </div>\n",
              "  </div>\n",
              "  "
            ]
          },
          "metadata": {},
          "execution_count": 336
        }
      ]
    },
    {
      "cell_type": "markdown",
      "source": [
        "El $88\\%$ de las personas que compran REGENCY TEA PLATE PINK también incluyen en su compra REGENCY TEA PLATE GREEN. Mientras que el $87\\%$ de quienes ordenan OSES REGENCY TEACUP AND SAUCER  también incluyen GREEN REGENCY TEACUP AND SAUCER. De hecho podemos concluir que las personas que incluyen un plato de té, incluirán en su compra otro plato de té. Esto puede resultar interesante a la hora de generar recomendaciones en la página."
      ],
      "metadata": {
        "id": "nyhTH915q1hH"
      }
    },
    {
      "cell_type": "markdown",
      "source": [
        "* Los códigos obtenidos se entregarán vía el Moodle del diplomado junto con una reflexión sobre los\n",
        "resultados obtenidos."
      ],
      "metadata": {
        "id": "qDaJafFkE9ts"
      }
    },
    {
      "cell_type": "markdown",
      "source": [
        "Reflexión:\n",
        "\n",
        "En lo personal, este tipo de análisis me resultó bastante interesante, sin embargo, pienso que de querer obtener resultados más precisos, el costo computacional debe sumamente alto sobre todo en empresas que manejan una gran cantidad de artículos por compra. Sin embargo, es interesante el hecho de que existan relaciones entre nuestras acciones que se pueden detectar mediante un algoritmo. Pienso que es un algoritmo que tendría algunas aplicaciones bastante lucrativas, pero también es un algoritmo que puede aplicarse en cuestiones un tanto más sociales, por ejemplo, la detección de patrones de la delincuencia o los patrones que siguen personas que sufren ciertas enfermedades."
      ],
      "metadata": {
        "id": "rZCotA2ErkIk"
      }
    },
    {
      "cell_type": "markdown",
      "source": [
        "## Ejercicio 2\n",
        "\n",
        "* Elegir un conjunto de datos del listado:\n",
        "https://data.world/datasets/pca\n",
        "Y aplicar PCA sobre el mismo para obtener las componentes más importantes"
      ],
      "metadata": {
        "id": "we2UqbW_FLAf"
      }
    },
    {
      "cell_type": "markdown",
      "source": [
        "Se eligió el dataset: Principal Component Analysis - Pizza Dataset"
      ],
      "metadata": {
        "id": "pt2b0-i2FSqN"
      }
    },
    {
      "cell_type": "code",
      "source": [
        "# importando librerias\n",
        "import pandas as pd\n",
        "import numpy as np\n",
        "import matplotlib.pyplot as plt\n",
        "import seaborn as sns\n",
        "\n",
        "from sklearn.preprocessing import LabelEncoder\n",
        "from sklearn.model_selection import train_test_split\n",
        "from sklearn.preprocessing import StandardScaler\n",
        "from sklearn.decomposition import PCA\n",
        "from sklearn.model_selection import GridSearchCV\n",
        "from sklearn.linear_model import LogisticRegression\n",
        "from sklearn.svm import SVC\n",
        "from sklearn.neighbors import KNeighborsClassifier\n",
        "from sklearn.ensemble import GradientBoostingClassifier, RandomForestClassifier\n",
        "from sklearn.metrics import accuracy_score\n",
        "\n",
        "from mlxtend.plotting import plot_decision_regions"
      ],
      "metadata": {
        "id": "XW-z_VDnFci3"
      },
      "execution_count": 132,
      "outputs": []
    },
    {
      "cell_type": "code",
      "source": [
        "# Lectura de datos\n",
        "df_pizza = pd.read_csv('/content/Pizza.csv')\n",
        "df_pizza.head(3)"
      ],
      "metadata": {
        "colab": {
          "base_uri": "https://localhost:8080/",
          "height": 143
        },
        "id": "F3dmYZzqFd9W",
        "outputId": "f731b8c3-2532-4969-8baf-5602fcfcd397"
      },
      "execution_count": 32,
      "outputs": [
        {
          "output_type": "execute_result",
          "data": {
            "text/plain": [
              "  brand     id   mois   prot    fat   ash  sodium  carb   cal\n",
              "0     A  14069  27.82  21.43  44.87  5.11    1.77  0.77  4.93\n",
              "1     A  14053  28.49  21.26  43.89  5.34    1.79  1.02  4.84\n",
              "2     A  14025  28.35  19.99  45.78  5.08    1.63  0.80  4.95"
            ],
            "text/html": [
              "\n",
              "  <div id=\"df-180573e8-773c-4059-ab9c-85245f695253\">\n",
              "    <div class=\"colab-df-container\">\n",
              "      <div>\n",
              "<style scoped>\n",
              "    .dataframe tbody tr th:only-of-type {\n",
              "        vertical-align: middle;\n",
              "    }\n",
              "\n",
              "    .dataframe tbody tr th {\n",
              "        vertical-align: top;\n",
              "    }\n",
              "\n",
              "    .dataframe thead th {\n",
              "        text-align: right;\n",
              "    }\n",
              "</style>\n",
              "<table border=\"1\" class=\"dataframe\">\n",
              "  <thead>\n",
              "    <tr style=\"text-align: right;\">\n",
              "      <th></th>\n",
              "      <th>brand</th>\n",
              "      <th>id</th>\n",
              "      <th>mois</th>\n",
              "      <th>prot</th>\n",
              "      <th>fat</th>\n",
              "      <th>ash</th>\n",
              "      <th>sodium</th>\n",
              "      <th>carb</th>\n",
              "      <th>cal</th>\n",
              "    </tr>\n",
              "  </thead>\n",
              "  <tbody>\n",
              "    <tr>\n",
              "      <th>0</th>\n",
              "      <td>A</td>\n",
              "      <td>14069</td>\n",
              "      <td>27.82</td>\n",
              "      <td>21.43</td>\n",
              "      <td>44.87</td>\n",
              "      <td>5.11</td>\n",
              "      <td>1.77</td>\n",
              "      <td>0.77</td>\n",
              "      <td>4.93</td>\n",
              "    </tr>\n",
              "    <tr>\n",
              "      <th>1</th>\n",
              "      <td>A</td>\n",
              "      <td>14053</td>\n",
              "      <td>28.49</td>\n",
              "      <td>21.26</td>\n",
              "      <td>43.89</td>\n",
              "      <td>5.34</td>\n",
              "      <td>1.79</td>\n",
              "      <td>1.02</td>\n",
              "      <td>4.84</td>\n",
              "    </tr>\n",
              "    <tr>\n",
              "      <th>2</th>\n",
              "      <td>A</td>\n",
              "      <td>14025</td>\n",
              "      <td>28.35</td>\n",
              "      <td>19.99</td>\n",
              "      <td>45.78</td>\n",
              "      <td>5.08</td>\n",
              "      <td>1.63</td>\n",
              "      <td>0.80</td>\n",
              "      <td>4.95</td>\n",
              "    </tr>\n",
              "  </tbody>\n",
              "</table>\n",
              "</div>\n",
              "      <button class=\"colab-df-convert\" onclick=\"convertToInteractive('df-180573e8-773c-4059-ab9c-85245f695253')\"\n",
              "              title=\"Convert this dataframe to an interactive table.\"\n",
              "              style=\"display:none;\">\n",
              "        \n",
              "  <svg xmlns=\"http://www.w3.org/2000/svg\" height=\"24px\"viewBox=\"0 0 24 24\"\n",
              "       width=\"24px\">\n",
              "    <path d=\"M0 0h24v24H0V0z\" fill=\"none\"/>\n",
              "    <path d=\"M18.56 5.44l.94 2.06.94-2.06 2.06-.94-2.06-.94-.94-2.06-.94 2.06-2.06.94zm-11 1L8.5 8.5l.94-2.06 2.06-.94-2.06-.94L8.5 2.5l-.94 2.06-2.06.94zm10 10l.94 2.06.94-2.06 2.06-.94-2.06-.94-.94-2.06-.94 2.06-2.06.94z\"/><path d=\"M17.41 7.96l-1.37-1.37c-.4-.4-.92-.59-1.43-.59-.52 0-1.04.2-1.43.59L10.3 9.45l-7.72 7.72c-.78.78-.78 2.05 0 2.83L4 21.41c.39.39.9.59 1.41.59.51 0 1.02-.2 1.41-.59l7.78-7.78 2.81-2.81c.8-.78.8-2.07 0-2.86zM5.41 20L4 18.59l7.72-7.72 1.47 1.35L5.41 20z\"/>\n",
              "  </svg>\n",
              "      </button>\n",
              "      \n",
              "  <style>\n",
              "    .colab-df-container {\n",
              "      display:flex;\n",
              "      flex-wrap:wrap;\n",
              "      gap: 12px;\n",
              "    }\n",
              "\n",
              "    .colab-df-convert {\n",
              "      background-color: #E8F0FE;\n",
              "      border: none;\n",
              "      border-radius: 50%;\n",
              "      cursor: pointer;\n",
              "      display: none;\n",
              "      fill: #1967D2;\n",
              "      height: 32px;\n",
              "      padding: 0 0 0 0;\n",
              "      width: 32px;\n",
              "    }\n",
              "\n",
              "    .colab-df-convert:hover {\n",
              "      background-color: #E2EBFA;\n",
              "      box-shadow: 0px 1px 2px rgba(60, 64, 67, 0.3), 0px 1px 3px 1px rgba(60, 64, 67, 0.15);\n",
              "      fill: #174EA6;\n",
              "    }\n",
              "\n",
              "    [theme=dark] .colab-df-convert {\n",
              "      background-color: #3B4455;\n",
              "      fill: #D2E3FC;\n",
              "    }\n",
              "\n",
              "    [theme=dark] .colab-df-convert:hover {\n",
              "      background-color: #434B5C;\n",
              "      box-shadow: 0px 1px 3px 1px rgba(0, 0, 0, 0.15);\n",
              "      filter: drop-shadow(0px 1px 2px rgba(0, 0, 0, 0.3));\n",
              "      fill: #FFFFFF;\n",
              "    }\n",
              "  </style>\n",
              "\n",
              "      <script>\n",
              "        const buttonEl =\n",
              "          document.querySelector('#df-180573e8-773c-4059-ab9c-85245f695253 button.colab-df-convert');\n",
              "        buttonEl.style.display =\n",
              "          google.colab.kernel.accessAllowed ? 'block' : 'none';\n",
              "\n",
              "        async function convertToInteractive(key) {\n",
              "          const element = document.querySelector('#df-180573e8-773c-4059-ab9c-85245f695253');\n",
              "          const dataTable =\n",
              "            await google.colab.kernel.invokeFunction('convertToInteractive',\n",
              "                                                     [key], {});\n",
              "          if (!dataTable) return;\n",
              "\n",
              "          const docLinkHtml = 'Like what you see? Visit the ' +\n",
              "            '<a target=\"_blank\" href=https://colab.research.google.com/notebooks/data_table.ipynb>data table notebook</a>'\n",
              "            + ' to learn more about interactive tables.';\n",
              "          element.innerHTML = '';\n",
              "          dataTable['output_type'] = 'display_data';\n",
              "          await google.colab.output.renderOutput(dataTable, element);\n",
              "          const docLink = document.createElement('div');\n",
              "          docLink.innerHTML = docLinkHtml;\n",
              "          element.appendChild(docLink);\n",
              "        }\n",
              "      </script>\n",
              "    </div>\n",
              "  </div>\n",
              "  "
            ]
          },
          "metadata": {},
          "execution_count": 32
        }
      ]
    },
    {
      "cell_type": "code",
      "source": [
        "df_pizza.shape"
      ],
      "metadata": {
        "colab": {
          "base_uri": "https://localhost:8080/"
        },
        "id": "mEAZIPE1M6Av",
        "outputId": "1e8aa094-bd8b-4d48-b6b3-6db787fd1b33"
      },
      "execution_count": 59,
      "outputs": [
        {
          "output_type": "execute_result",
          "data": {
            "text/plain": [
              "(300, 8)"
            ]
          },
          "metadata": {},
          "execution_count": 59
        }
      ]
    },
    {
      "cell_type": "markdown",
      "source": [
        "Tenemos un dataset de $300$ filas y $8$ columnas."
      ],
      "metadata": {
        "id": "r-3wcHBxN17e"
      }
    },
    {
      "cell_type": "code",
      "source": [
        "df_pizza.isna().sum()"
      ],
      "metadata": {
        "colab": {
          "base_uri": "https://localhost:8080/"
        },
        "id": "-evn3pMPFd6C",
        "outputId": "d5755376-3e2a-4b3b-b192-d73ed4c91bdd"
      },
      "execution_count": 33,
      "outputs": [
        {
          "output_type": "execute_result",
          "data": {
            "text/plain": [
              "brand     0\n",
              "id        0\n",
              "mois      0\n",
              "prot      0\n",
              "fat       0\n",
              "ash       0\n",
              "sodium    0\n",
              "carb      0\n",
              "cal       0\n",
              "dtype: int64"
            ]
          },
          "metadata": {},
          "execution_count": 33
        }
      ]
    },
    {
      "cell_type": "markdown",
      "source": [
        "El dataset no cuenta con valores nulos"
      ],
      "metadata": {
        "id": "Wx3_meUoN5_r"
      }
    },
    {
      "cell_type": "code",
      "source": [
        "# Eliminamos la columna id, debido a que no aporta información y podría sobreajustar el modelo\n",
        "df_pizza.drop('id', axis = 1, inplace = True)"
      ],
      "metadata": {
        "id": "tr9UU8DAFd1q"
      },
      "execution_count": 35,
      "outputs": []
    },
    {
      "cell_type": "code",
      "source": [
        "# Obteniendo las diferentes marcas de pizza\n",
        "df_pizza['brand'].unique()"
      ],
      "metadata": {
        "colab": {
          "base_uri": "https://localhost:8080/"
        },
        "id": "odY6tE3fFd3y",
        "outputId": "d2f6b5d1-8117-4302-d73a-9232e7bd47d1"
      },
      "execution_count": 34,
      "outputs": [
        {
          "output_type": "execute_result",
          "data": {
            "text/plain": [
              "array(['A', 'B', 'C', 'D', 'E', 'F', 'G', 'H', 'I', 'J'], dtype=object)"
            ]
          },
          "metadata": {},
          "execution_count": 34
        }
      ]
    },
    {
      "cell_type": "code",
      "source": [
        "sns.countplot(x = 'brand', data = df_pizza, color = 'indianred')\n",
        "plt.show()"
      ],
      "metadata": {
        "colab": {
          "base_uri": "https://localhost:8080/",
          "height": 334
        },
        "id": "Z7ZIgFzuJrsG",
        "outputId": "1c39992c-5772-4890-c837-bf2559f2497c"
      },
      "execution_count": 222,
      "outputs": [
        {
          "output_type": "display_data",
          "data": {
            "text/plain": [
              "<Figure size 720x360 with 1 Axes>"
            ],
            "image/png": "[encoded data removed]"
          },
          "metadata": {
            "needs_background": "light"
          }
        }
      ]
    },
    {
      "cell_type": "code",
      "source": [
        "# La variable target será \"brand\"\n",
        "X = df_pizza.drop('brand', axis = 1).values\n",
        "y = df_pizza['brand']"
      ],
      "metadata": {
        "id": "oj8Z2UIuKIGM"
      },
      "execution_count": 90,
      "outputs": []
    },
    {
      "cell_type": "code",
      "source": [
        "# Transformamos las diferentes categorias de \"brand\"  a valores númericos\n",
        "y = LabelEncoder().fit_transform(y)"
      ],
      "metadata": {
        "id": "dUmwlh3fJJHJ"
      },
      "execution_count": 91,
      "outputs": []
    },
    {
      "cell_type": "code",
      "source": [
        "# Se divide el dataset en los conjuntos de entrenamiento y test\n",
        "X_train, X_test, y_train, y_test = train_test_split(X, y, test_size = 0.2, random_state = 42)"
      ],
      "metadata": {
        "id": "lwzakY7wKiNe"
      },
      "execution_count": 243,
      "outputs": []
    },
    {
      "cell_type": "code",
      "source": [
        "# Estandarización de datos\n",
        "sc = StandardScaler()\n",
        "X_train_sc = sc.fit_transform(X_train)\n",
        "X_test_sc = sc.transform(X_test)"
      ],
      "metadata": {
        "id": "yDuwX7boFduY"
      },
      "execution_count": 244,
      "outputs": []
    },
    {
      "cell_type": "code",
      "source": [
        "cov_mat = np.cov(X_train_sc.T) # Matriz de covarianzas\n",
        "eigen_vals, eigen_vecs = np.linalg.eig(cov_mat) # Eigenvalores y Eigenvectores de lamatriz de covarianzas\n",
        "print('Eigenvalores: ', eigen_vals)"
      ],
      "metadata": {
        "colab": {
          "base_uri": "https://localhost:8080/"
        },
        "id": "SosNb3x-HRrv",
        "outputId": "ee565a66-ae62-4917-d505-29671234a6b0"
      },
      "execution_count": 245,
      "outputs": [
        {
          "output_type": "stream",
          "name": "stdout",
          "text": [
            "Eigenvalores:  [4.19709328e+00 2.27871928e+00 4.22496145e-01 1.00570464e-01\n",
            " 3.03809540e-02 2.57634332e-05 2.81625411e-06]\n"
          ]
        }
      ]
    },
    {
      "cell_type": "code",
      "source": [
        "tot = sum(eigen_vals) # Suma de los eigenvalores\n",
        "var_exp = [ev / tot for ev in sorted(eigen_vals, reverse  =True)] # Varianzas\n",
        "cum_var_exp = np.cumsum(var_exp) # Suma acumulativa de la lista anterior\n",
        "plt.bar(range(1, 8), var_exp, label = 'varianza individual', align = 'center') # Gráfica de la varianza\n",
        "plt.step(range(1, 8), cum_var_exp, where = 'mid', label = 'varianza acumulativa') # Gráfica de la varianza acumlativa\n",
        "plt.xlabel('Índice')\n",
        "plt.xticks(list(range(1, 8)))\n",
        "plt.yticks([0., 0.1, 0.2, 0.3, 0.4, 0.5, 0.6, 0.7, 0.8, 0.9, 1.])\n",
        "plt.ylabel('Varianza')\n",
        "plt.legend(loc = 5)\n",
        "plt.show()"
      ],
      "metadata": {
        "colab": {
          "base_uri": "https://localhost:8080/",
          "height": 334
        },
        "id": "2Ob6_b3OHkk3",
        "outputId": "81a8929a-76ca-4680-ba43-5a50d22d4915"
      },
      "execution_count": 275,
      "outputs": [
        {
          "output_type": "display_data",
          "data": {
            "text/plain": [
              "<Figure size 720x360 with 1 Axes>"
            ],
            "image/png": "[encoded data removed]"
          },
          "metadata": {
            "needs_background": "light"
          }
        }
      ]
    },
    {
      "cell_type": "markdown",
      "source": [
        "Podemos observar que dos componentes tienen $90\\%$ de la información mientras que cinco componentes, tienen cerca del $100\\%$ de la información, por lo que usaremos cinco componentes en PCA."
      ],
      "metadata": {
        "id": "FP03h4bzPIfF"
      }
    },
    {
      "cell_type": "code",
      "source": [
        "# Con base en lo observado entrenamos PCA con cinco componentes\n",
        "pca = PCA(n_components = 5)\n",
        "\n",
        "X_train_pca = pca.fit_transform(X_train_sc)\n",
        "X_test_pca = pca.transform(X_test_sc)"
      ],
      "metadata": {
        "id": "j4eFTD68LkJz"
      },
      "execution_count": 270,
      "outputs": []
    },
    {
      "cell_type": "code",
      "source": [
        "# Entrenaremos un modelo de SVC con un GridSearchCV para obtener los parámetros óptimos\n",
        "grid_params = {\n",
        "    'C': [0.001, 0.01, 0.1, 1, 10, 20, 50 ],\n",
        "    'kernel': ['linear', 'poly', 'rbf', 'sigmoid'],\n",
        "    'gamma': ['scale', 'auto']\n",
        "} # Definimos los parámetros que se probaran\n",
        "\n",
        "grid = GridSearchCV(estimator = SVC(),\n",
        "                    param_grid = grid_params,\n",
        "                    cv = 5\n",
        "                    ) # Preparación de GridSearchCV\n",
        "\n",
        "grid.fit(X_train_pca, y_train) # Entrenamiento de GridSearchCV\n",
        "clf = grid.best_estimator_ # Mejor estimador\n",
        "print('Accuracy Score: ', clf.score(X_test_pca, y_test))\n",
        "clf"
      ],
      "metadata": {
        "colab": {
          "base_uri": "https://localhost:8080/"
        },
        "id": "oZj48MueLkQG",
        "outputId": "99a0620f-55c3-4a1d-f670-6aaf140c1b73"
      },
      "execution_count": 271,
      "outputs": [
        {
          "output_type": "stream",
          "name": "stdout",
          "text": [
            "Accuracy Score:  0.9166666666666666\n"
          ]
        },
        {
          "output_type": "execute_result",
          "data": {
            "text/plain": [
              "SVC(C=20, kernel='linear')"
            ]
          },
          "metadata": {},
          "execution_count": 271
        }
      ]
    },
    {
      "cell_type": "code",
      "source": [
        "value = 0\n",
        "width = 10\n",
        "plot_decision_regions(X_train_pca, np.array(y_train), clf = clf, legend = 2,\n",
        "                      filler_feature_values={2: value, 3: value, 4: value},\n",
        "                      filler_feature_ranges={2: width, 3:width, 4: width}\n",
        "                      )\n",
        "plt.title('Regiones de Decisión (Entrenamiento)')\n",
        "plt.xlabel('PC 1')\n",
        "plt.ylabel('PC 2')\n",
        "plt.show()"
      ],
      "metadata": {
        "colab": {
          "base_uri": "https://localhost:8080/",
          "height": 350
        },
        "id": "hO3t1V1HLkSv",
        "outputId": "8388c56f-b09c-44b0-a99a-1c7b487f197a"
      },
      "execution_count": 284,
      "outputs": [
        {
          "output_type": "display_data",
          "data": {
            "text/plain": [
              "<Figure size 720x360 with 1 Axes>"
            ],
            "image/png": "[encoded data removed]"
          },
          "metadata": {
            "needs_background": "light"
          }
        }
      ]
    },
    {
      "cell_type": "markdown",
      "source": [
        "Se puede ver que algunos puntos no caen dentro de su categoría, dado el score, esto puede deberse a que esta gráfica es una proyección de un espacio de $5$ dimensiones. \n",
        "\n"
      ],
      "metadata": {
        "id": "CXtoAoPmifaW"
      }
    },
    {
      "cell_type": "code",
      "source": [
        "plot_decision_regions(X_test_pca, np.array(y_test), clf = clf, legend = 2,\n",
        "                      filler_feature_values={2: value, 3: value, 4: value},\n",
        "                      filler_feature_ranges={2: width, 3:width, 4: width})\n",
        "\n",
        "plt.title('Regiones de Decisión (Pruebas)')\n",
        "plt.xlabel('PC 1')\n",
        "plt.ylabel('PC 2')\n",
        "plt.show()"
      ],
      "metadata": {
        "colab": {
          "base_uri": "https://localhost:8080/",
          "height": 350
        },
        "id": "gNGoG9jZLkV6",
        "outputId": "f4cdadec-c8c9-45bb-f916-b65ff3135f64"
      },
      "execution_count": 285,
      "outputs": [
        {
          "output_type": "display_data",
          "data": {
            "text/plain": [
              "<Figure size 720x360 with 1 Axes>"
            ],
            "image/png": "[encoded data removed]"
          },
          "metadata": {
            "needs_background": "light"
          }
        }
      ]
    },
    {
      "cell_type": "code",
      "source": [
        "from sklearn.model_selection import StratifiedKFold\n",
        "from sklearn.pipeline import Pipeline"
      ],
      "metadata": {
        "id": "aG0X5LElLkY5"
      },
      "execution_count": 188,
      "outputs": []
    },
    {
      "cell_type": "code",
      "source": [
        "# Definimos un pipeline \n",
        "pipe = Pipeline([\n",
        "                 ('scaler', StandardScaler()),\n",
        "                 ('pca', PCA(n_components = 5)),\n",
        "                 ('clf', clf)\n",
        "])"
      ],
      "metadata": {
        "id": "zQKvremHcrpG"
      },
      "execution_count": 272,
      "outputs": []
    },
    {
      "cell_type": "code",
      "source": [
        "# Cross-validation\n",
        "kfold = StratifiedKFold(n_splits = 10, shuffle = True, random_state = 42).split(X_train, y_train)\n",
        "scores = []\n",
        "\n",
        "for k, (train, test) in enumerate(kfold):\n",
        "  pipe.fit(X_train[train], y_train[train])\n",
        "  score = pipe.score(X_train[test], y_train[test])\n",
        "  scores.append(score)\n",
        "\n",
        "  print('Fold #{}, Tamaño: {}, Acc: {}'.format(k + 1,\n",
        "                                               np.bincount(y_train[train]),\n",
        "                                               score))"
      ],
      "metadata": {
        "colab": {
          "base_uri": "https://localhost:8080/"
        },
        "id": "zVuKQXNpLkb7",
        "outputId": "a424ad98-3d88-40e0-815f-0369733b97c3"
      },
      "execution_count": 273,
      "outputs": [
        {
          "output_type": "stream",
          "name": "stdout",
          "text": [
            "Fold #1, Tamaño: [20 24 18 22 23 22 22 19 22 24], Acc: 0.875\n",
            "Fold #2, Tamaño: [21 24 18 22 23 22 21 19 22 24], Acc: 0.9166666666666666\n",
            "Fold #3, Tamaño: [21 23 18 22 23 22 21 20 22 24], Acc: 1.0\n",
            "Fold #4, Tamaño: [21 23 18 22 23 22 21 20 22 24], Acc: 1.0\n",
            "Fold #5, Tamaño: [21 23 18 21 24 22 21 20 23 23], Acc: 0.9166666666666666\n",
            "Fold #6, Tamaño: [21 23 18 21 24 21 22 20 23 23], Acc: 0.8333333333333334\n",
            "Fold #7, Tamaño: [21 23 18 21 24 21 22 20 23 23], Acc: 0.9583333333333334\n",
            "Fold #8, Tamaño: [21 23 18 21 24 21 22 20 23 23], Acc: 0.875\n",
            "Fold #9, Tamaño: [20 24 18 22 23 21 22 20 23 23], Acc: 0.875\n",
            "Fold #10, Tamaño: [20 24 18 22 23 22 22 20 22 23], Acc: 0.9166666666666666\n"
          ]
        }
      ]
    },
    {
      "cell_type": "code",
      "source": [
        "print('Mean Acc CV: {} +/- {}'.format(np.mean(scores), np.std(scores)))"
      ],
      "metadata": {
        "colab": {
          "base_uri": "https://localhost:8080/"
        },
        "id": "FdG2hcX2Lkdg",
        "outputId": "493097dc-4a22-43c3-d1fb-0cdf7e300516"
      },
      "execution_count": 274,
      "outputs": [
        {
          "output_type": "stream",
          "name": "stdout",
          "text": [
            "Mean Acc CV: 0.9166666666666666 +/- 0.05270462766947299\n"
          ]
        }
      ]
    },
    {
      "cell_type": "markdown",
      "source": [
        "El accuracy del modelo es de $91\\%$. "
      ],
      "metadata": {
        "id": "IAK4z14rjyNk"
      }
    },
    {
      "cell_type": "markdown",
      "source": [
        "* Los códigos obtenidos se entregarán vía el Moodle del diplomado junto con una reflexión sobre los\n",
        "resultados obtenidos."
      ],
      "metadata": {
        "id": "OUnVGyjmkKhf"
      }
    },
    {
      "cell_type": "markdown",
      "source": [
        "Reflexión:\n",
        "\n",
        "En princio se aplicó PCA con dos componentes, las cuales tienen un $90\\%$ de la información, sin embargo el accuracy obtenido fué de $0.81$. Por lo cual se puede concluir que hay información valiosa para las predicciones en el resto de componentes. Sin embargo al usar más de $5$ componentes el accuracy converge. Por lo cual, usar $5$ componentes resultó lo más óptimo. Si embargo, en este caso la gráfica de las regiones de decisión no resulta una manera óptima de comprobar la efectividad del modelo, debido a que lo que se obtiene es una gráfica que es la proyección de un espacio de mayor dimensión, por lo cual se recurrió a cross-validation, donde se obtuvó un accuracy de $91\\%$, por lo cual podemos decir que es bueno modelo."
      ],
      "metadata": {
        "id": "Fo-bBUqvkMbq"
      }
    }
  ]
}